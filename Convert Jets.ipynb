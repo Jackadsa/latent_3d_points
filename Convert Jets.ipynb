{
 "cells": [
  {
   "cell_type": "code",
   "execution_count": 112,
   "metadata": {},
   "outputs": [],
   "source": [
    "import pandas\n",
    "import numpy as np\n",
    "from sklearn.decomposition import PCA\n",
    "import matplotlib.pyplot as plt\n",
    "import pandas as pd\n",
    "\n",
    "from scipy import linalg as LA\n"
   ]
  },
  {
   "cell_type": "code",
   "execution_count": 120,
   "metadata": {},
   "outputs": [],
   "source": [
    "def assign_and_preprocess_jets(jets,numpointstot = 1000,unflatten=True,flattenpoints=True):\n",
    "    if flattenpoints:\n",
    "        pointslist = np.empty((len(jets),numpointstot*2))\n",
    "    else:\n",
    "        pointslist = np.empty((len(jets),numpointstot,2))\n",
    "    for i, jet in enumerate(jets):\n",
    "        if unflatten:\n",
    "            jet = jet[:800].reshape(200,4)\n",
    "            jet = jet[np.all(jet != 0, axis=1)]\n",
    "        jet = preprocess_jet(jet)\n",
    "\n",
    "        if flattenpoints:\n",
    "            pointslist[i] = assignpoints(jet,numpointstot).flatten()\n",
    "        else:\n",
    "            pointslist[i] = assignpoints(jet,numpointstot)\n",
    "        \n",
    "    return pointslist\n",
    "\n",
    "def center_rotate_jet(jet):\n",
    "\n",
    "    jetsum = np.sum(jet,axis=0)\n",
    "\n",
    "    beta = jetsum[3]/jetsum[0]\n",
    "    gamma = 1/(1 - beta**2)**0.5\n",
    "    longboostmat = np.array([[gamma, 0, 0, -gamma*beta],\n",
    "                             [0,1,0,0],\n",
    "                             [0,0,1,0],\n",
    "                             [-gamma*beta,0,0,gamma]])\n",
    "    pt = np.linalg.norm(jetsum[1:3])\n",
    "    stheta = jetsum[2]/pt\n",
    "    ctheta = jetsum[1]/pt\n",
    "    rotmat = np.array([[1,0,0,0],\n",
    "                       [0,ctheta,stheta,0],\n",
    "                       [0,-stheta,ctheta,0],\n",
    "                       [0,0,0,1]])\n",
    "\n",
    "    jet = np.matmul(rotmat,np.matmul(longboostmat,jet.T)).T\n",
    "\n",
    "    return jet\n",
    "\n",
    "def preprocess_jet(jet):\n",
    "\n",
    "    jetsum = np.sum(jet,axis=0)\n",
    "\n",
    "    beta = jetsum[3]/jetsum[0]\n",
    "    gamma = 1/(1 - beta**2)**0.5\n",
    "    longboostmat = np.array([[gamma, 0, 0, -gamma*beta],\n",
    "                             [0,1,0,0],\n",
    "                             [0,0,1,0],\n",
    "                             [-gamma*beta,0,0,gamma]])\n",
    "    pt = np.linalg.norm(jetsum[1:3])\n",
    "    stheta = jetsum[2]/pt\n",
    "    ctheta = jetsum[1]/pt\n",
    "    rotmat = np.array([[1,0,0,0],\n",
    "                       [0,ctheta,stheta,0],\n",
    "                       [0,-stheta,ctheta,0],\n",
    "                       [0,0,0,1]])\n",
    "\n",
    "    jet = np.matmul(rotmat,np.matmul(longboostmat,jet.T)).T\n",
    "\n",
    "    phi = np.arctan2(jet[:,2],jet[:,1])\n",
    "    eta = 0.5*np.log((jet[:,0]+jet[:,3])/(jet[:,0]-jet[:,3]))\n",
    "    jet[:,2] = phi\n",
    "    jet[:,3] = eta\n",
    "    \n",
    "    if len(jet) == 1:\n",
    "        return jet\n",
    "\n",
    "#     pca = PCA()\n",
    "#     myfit = pca.fit(jet[:,2:])\n",
    "#     extrarotate = np.matrix([[0, -1], [1, 0]])\n",
    "\n",
    "#     principal_rotate = np.diag(np.ones(4))\n",
    "#     principal_rotate[2:,2:] = np.dot(extrarotate,pca.components_)\n",
    "#    jet = np.matmul(principal_rotate,jet.T).T\n",
    "\n",
    "\n",
    "    cov = np.cov(jet[:,2:].T,aweights=jet[:,0])\n",
    "    evals , evecs = LA.eigh(cov)\n",
    "    idx = np.argsort(evals)[::-1]\n",
    "    evecs = evecs[:,idx]\n",
    "    evals = evals[idx]\n",
    "    extrarotate = np.matrix([[0, -1], [1, 0]])\n",
    "\n",
    "    jet[:,2:]=np.dot(np.dot(jet[:,2:], evecs),extrarotate)\n",
    "\n",
    "\n",
    "\n",
    "\n",
    "    quadrants = np.array([(jet[:,3]>0)*(jet[:,2]>0),\n",
    "                          (jet[:,3]>0)*(jet[:,2]<0),\n",
    "                          (jet[:,3]<0)*(jet[:,2]<0),\n",
    "                          (jet[:,3]<0)*(jet[:,2]>0)])\n",
    "    \n",
    "    maxquadrant = np.argmax([np.sum(jet[quadrant,0]) for quadrant in quadrants])\n",
    "    \n",
    "    if maxquadrant >= 2:\n",
    "        jet[:,3] = - jet[:,3]\n",
    "    if maxquadrant > 0 and maxquadrant < 3:\n",
    "        jet[:,2] = - jet[:,2]\n",
    "        \n",
    "    return jet\n",
    "\n",
    "def assignpoints(jet,numpointstot = 1000):\n",
    "    Ejet = np.sum(jet[:,0])\n",
    "    numpointslist = np.floor_divide(jet[:,0],Ejet/numpointstot)\n",
    "    numassigned = int(np.sum(numpointslist))\n",
    "    \n",
    "    if numassigned < numpointstot:\n",
    "        remainders = np.remainder(jet[:,0],Ejet/numpointstot)\n",
    "\n",
    "        extra_args = np.argsort(remainders)[-(numpointstot-numassigned):]\n",
    "        numpointslist[extra_args] = numpointslist[extra_args]+1\n",
    "\n",
    "    pointsarray = np.zeros((0,2))\n",
    "    for i, particle in enumerate(jet):\n",
    "        newpoints = np.ones((int(numpointslist[i]),2))\n",
    "        newpoints[:,0] = newpoints[:,0]*particle[2]\n",
    "        newpoints[:,1] = newpoints[:,1]*particle[3]\n",
    "        pointsarray = np.append(pointsarray,newpoints,axis=0)\n",
    "        \n",
    "    return pointsarray"
   ]
  },
  {
   "cell_type": "code",
   "execution_count": 114,
   "metadata": {},
   "outputs": [],
   "source": [
    "numpointstot = 1000\n",
    "columns = np.array([])\n",
    "for i in range(numpointstot):\n",
    "    columns = np.append(columns,str(i) + 'x')\n",
    "    columns = np.append(columns,str(i) + 'y')"
   ]
  },
  {
   "cell_type": "code",
   "execution_count": 115,
   "metadata": {
    "scrolled": true
   },
   "outputs": [],
   "source": [
    "import time\n",
    "\n",
    "input_filename = \"/data1/users/jcollins/Heidelberg_sample/train.h5\"\n",
    "store = pandas.HDFStore(input_filename,mode='r')\n",
    "\n",
    "numpointstot = 1000\n",
    "columns = np.array([])\n",
    "for i in range(numpointstot):\n",
    "    columns = np.append(columns,str(i) + 'x')\n",
    "    columns = np.append(columns,str(i) + 'y')\n",
    "\n",
    "#outstore = pandas.HDFStore(\"/data1/users/jcollins/Heidelberg_sample/train_points.h5\")"
   ]
  },
  {
   "cell_type": "code",
   "execution_count": 116,
   "metadata": {},
   "outputs": [],
   "source": [
    "chunk = store.select(\"table\",iterator=False,start=0,stop=1000)\n",
    "chunk = chunk.loc[chunk['is_signal_new'] == 0]"
   ]
  },
  {
   "cell_type": "code",
   "execution_count": 117,
   "metadata": {},
   "outputs": [
    {
     "data": {
      "text/plain": [
       "(array([108., 228., 122.,  56.,  21.,   5.,   0.,   0.,   0.]),\n",
       " array([  0,  50, 100, 150, 200, 250, 300, 350, 400, 450]),\n",
       " <a list of 9 Patch objects>)"
      ]
     },
     "execution_count": 117,
     "metadata": {},
     "output_type": "execute_result"
    },
    {
     "data": {
      "image/png": "[encoded data removed]",
      "text/plain": [
       "<Figure size 432x288 with 1 Axes>"
      ]
     },
     "metadata": {},
     "output_type": "display_data"
    }
   ],
   "source": [
    "def getmass_jets(jets,numpointstot = 1000,unflatten=True,flattenpoints=True):\n",
    "\n",
    "    jetsums = np.zeros([0,4])\n",
    "    for i, jet in enumerate(jets):\n",
    "        if unflatten:\n",
    "            jet = jet[:800].reshape(200,4)\n",
    "            jet = jet[np.all(jet != 0, axis=1)]\n",
    "        jet = center_rotate_jet(jet)\n",
    "        jetsums = np.append(jetsums, np.array([np.sum(jet,axis=0)]),axis=0)\n",
    "\n",
    "    jet_ms = np.sqrt(np.power(jetsums[:,0],2)-np.power(jetsums[:,1],2)-np.power(jetsums[:,2],2)-np.power(jetsums[:,3],2))\n",
    "        \n",
    "    return jet_ms\n",
    "import matplotlib.pyplot as plt\n",
    "plt.hist(getmass_jets(chunk.values),bins=np.arange(0,500,50))    "
   ]
  },
  {
   "cell_type": "code",
   "execution_count": 110,
   "metadata": {
    "scrolled": true
   },
   "outputs": [
    {
     "data": {
      "text/plain": [
       "(array([104., 228., 123.,  55.,  24.,   6.,   0.,   0.,   0.]),\n",
       " array([  0,  50, 100, 150, 200, 250, 300, 350, 400, 450]),\n",
       " <a list of 9 Patch objects>)"
      ]
     },
     "execution_count": 110,
     "metadata": {},
     "output_type": "execute_result"
    },
    {
     "data": {
      "image/png": "[encoded data removed]",
      "text/plain": [
       "<Figure size 432x288 with 1 Axes>"
      ]
     },
     "metadata": {},
     "output_type": "display_data"
    }
   ],
   "source": [
    "def getmass_jets(jets,numpointstot = 1000,unflatten=True,flattenpoints=True):\n",
    "\n",
    "    jetmasses = np.zeros([0])\n",
    "    for i, jet in enumerate(jets):\n",
    "        if unflatten:\n",
    "            jet = jet[:800].reshape(200,4)\n",
    "            jet = jet[np.all(jet != 0, axis=1)]\n",
    "        jet = center_rotate_jet(jet)\n",
    "        \n",
    "        phi = np.arctan2(jet[:,2],jet[:,1])\n",
    "        eta = 0.5*np.log((jet[:,0]+jet[:,3])/(jet[:,0]-jet[:,3]))\n",
    "        jet[:,2] = phi\n",
    "        jet[:,3] = eta\n",
    "        \n",
    "        p_parr = np.sum(jet[:,0]*np.cos(jet[:,2])*np.cos(jet[:,3]))\n",
    "        mass = np.sqrt(np.power(np.sum(jet[:,0]),2) - np.power(p_parr,2))\n",
    "        jetmasses = np.append(jetmasses, mass)\n",
    "        \n",
    "        \n",
    "    return jetmasses\n",
    "import matplotlib.pyplot as plt\n",
    "plt.hist(getmass_jets(chunk.values),bins=np.arange(0,500,50))        "
   ]
  },
  {
   "cell_type": "code",
   "execution_count": 82,
   "metadata": {},
   "outputs": [
    {
     "data": {
      "text/plain": [
       "array([[ 6.18209088e+02,  6.17077017e+02, -3.27377014e-14,\n",
       "         5.59725877e-14],\n",
       "       [ 5.58253270e+02,  5.56271305e+02,  6.63358257e-15,\n",
       "         2.08166817e-14],\n",
       "       [ 5.54983600e+02,  5.51548764e+02, -2.22044605e-16,\n",
       "        -1.44481649e-13],\n",
       "       ...,\n",
       "       [ 5.72069015e+02,  5.52744357e+02, -8.60422844e-15,\n",
       "        -2.92821323e-14],\n",
       "       [ 5.72348558e+02,  5.68947402e+02, -4.57966998e-15,\n",
       "         3.83020005e-13],\n",
       "       [ 6.35982849e+02,  6.06127035e+02,  9.38138456e-15,\n",
       "         2.83106871e-15]])"
      ]
     },
     "execution_count": 82,
     "metadata": {},
     "output_type": "execute_result"
    }
   ],
   "source": [
    "njetsums"
   ]
  },
  {
   "cell_type": "code",
   "execution_count": 78,
   "metadata": {},
   "outputs": [
    {
     "data": {
      "text/plain": [
       "array([], shape=(0, 4), dtype=float64)"
      ]
     },
     "execution_count": 78,
     "metadata": {},
     "output_type": "execute_result"
    }
   ],
   "source": [
    "jetsums"
   ]
  },
  {
   "cell_type": "code",
   "execution_count": 75,
   "metadata": {
    "scrolled": true
   },
   "outputs": [
    {
     "data": {
      "text/plain": [
       "(1, 4)"
      ]
     },
     "execution_count": 75,
     "metadata": {},
     "output_type": "execute_result"
    }
   ],
   "source": [
    "np.shape(np.array([np.sum(jet,axis=0)]))"
   ]
  },
  {
   "cell_type": "code",
   "execution_count": 16,
   "metadata": {},
   "outputs": [
    {
     "data": {
      "text/plain": [
       "array([-6.13673327e+02,  1.15984299e+03,  1.31371420e+03,  2.25790734e+02,\n",
       "       -6.10384429e+02,  3.71452085e+03,  2.65142756e+02,  2.37392423e+03,\n",
       "        7.90984205e+02,  5.98042167e+02, -6.07887816e+02,  1.84816697e+03,\n",
       "        4.67287860e+01, -3.66008330e+02,  5.27924041e+02,  2.08096162e+03,\n",
       "       -6.21837663e+02,  1.30836257e+03, -1.98637470e+02,  1.26814072e+01,\n",
       "        7.44300275e+02, -1.36185878e+02,  6.42018205e+02,  1.04869481e+02,\n",
       "        4.82108636e+02,  2.08086638e+02,  2.39679311e+02,  9.52522055e+02,\n",
       "        2.24504460e+03,  7.18051329e+02,  9.04192639e+02, -9.09667102e+01,\n",
       "        8.56867567e+02,  2.09782211e+03,  1.48649154e+03,  2.46396818e+03,\n",
       "        1.82255286e+03,  1.57552552e+02,  1.71867591e+03,  1.15572990e+03,\n",
       "        1.04733709e+03,  1.52997179e+03,  1.77594742e+02, -1.80371791e+02,\n",
       "        1.20722752e+03, -5.11239194e+02, -5.35723867e+01,  2.19835908e+03,\n",
       "        1.61158819e+03,  4.54733732e+02, -3.69090392e+02,  1.09383202e+02,\n",
       "        6.16482707e+02,  9.31066249e+02,  9.47799339e+02,  8.77052731e+02,\n",
       "        2.81942100e+02,  4.65372957e+02, -7.01942184e+02,  7.81166708e+02,\n",
       "       -2.93127318e+02,  7.28833926e+02,  3.05668973e+03,  1.59335943e+03,\n",
       "        9.05609051e+02,  1.82236412e+03,  7.47491174e+02, -1.07088638e+02,\n",
       "        2.72534925e+03,  1.60178021e+03,  1.33694970e+03,  9.54605886e+02,\n",
       "        1.06165888e+03,  6.07906887e+02,  3.44028486e+02, -4.08962403e+02,\n",
       "        5.56409175e+02, -3.77304579e+02,  4.45093841e+02,  1.04466046e+03,\n",
       "        7.28051390e+02, -2.87723510e+02,  2.56513172e+03, -2.26417824e+02,\n",
       "        1.44112223e+03,  7.04892351e+02,  1.85846963e+03,  1.91606500e+02,\n",
       "        1.60943808e+03,  1.41099117e+03,  1.58109522e+03,  2.79586971e+03,\n",
       "        1.42662444e+03, -5.65478754e+02,  3.74748997e+03, -3.49835382e+02,\n",
       "        1.39208940e+03,  1.80671802e+03,  1.46136485e+03,  3.27838192e+03,\n",
       "       -1.98801581e+02,  1.90392698e+03,  2.34059788e+03,  1.90526205e+03,\n",
       "        6.85764188e+01, -4.10477602e+02,  5.43141893e+02,  2.30687057e+03,\n",
       "        9.40239309e+02,  6.37355546e+02, -3.91366105e+02, -4.47270603e+02,\n",
       "        2.71015256e+03, -4.58042193e+02,  3.63655703e+03,  1.51673217e+03,\n",
       "        7.75774963e+02,  1.38496969e+03,  1.97237707e+03, -3.79443453e+02,\n",
       "        9.40118079e+02,  1.01954900e+03,  8.55716972e+02, -1.10645519e+02,\n",
       "        3.93036243e+02,  9.97141026e+02,  9.76881239e+02, -7.02635586e+01,\n",
       "        1.02718173e+03,  1.18776220e+03,  6.49327849e+02,  4.15766761e+02,\n",
       "        1.54945906e+03,  3.56715317e+00,  1.37868014e+03,  6.22570974e+01,\n",
       "        5.06550234e+02,  4.94538570e+02,  7.42574506e+02,  9.06950568e+02,\n",
       "        2.71086083e+03, -5.30013657e+01,  2.64917935e+03,  8.96354262e+02,\n",
       "       -5.68232293e+01, -1.58052022e+02,  3.37238608e+03, -1.72785151e+02,\n",
       "        5.02786258e+03,  1.64440706e+03, -6.78801748e+00, -8.01048223e+01,\n",
       "        3.44956547e+03,  3.00094715e+00,  3.85560045e+01,  7.53733153e+02,\n",
       "       -4.76253825e+01,  1.88485559e+03, -1.70071115e+02,  7.36125242e+02,\n",
       "       -5.36213011e+02,  2.30117078e+02,  8.03170925e+02,  4.02579810e+01,\n",
       "        1.66355693e+03,  1.60125892e+02, -2.22855336e+02,  5.81221313e+02,\n",
       "        7.74675929e+02,  2.29420749e+03,  9.33624131e+02,  4.60373662e+02,\n",
       "        1.65436169e+03,  1.59210522e+03, -7.06361790e+02,  2.31498968e+03,\n",
       "        1.01585920e+02,  1.42439853e+03, -3.31315148e+02,  5.18687827e+02,\n",
       "       -1.09890662e+02, -4.58832440e+01,  1.42459883e+03,  3.14241795e+02,\n",
       "        2.44377473e+03, -4.00417670e+02,  5.80738067e+02,  4.45303931e+02,\n",
       "        2.34467690e+03,  1.27387458e+03, -8.61065839e+01, -1.53959107e+02,\n",
       "        3.82976399e+03, -5.29247731e+02,  1.58648838e+03,  4.88509442e+02,\n",
       "       -5.98698159e+02,  9.96577087e+02,  1.21662395e+03,  3.15322569e+03,\n",
       "        2.07071617e+03,  2.22462163e+02,  1.04152352e+03,  8.47518413e+02,\n",
       "        1.97787293e+03,  2.75219362e+01, -2.94525486e+02,  4.25199650e+02,\n",
       "        8.21449807e+02, -7.73271646e+00,  1.57684532e+02, -6.23130945e+02,\n",
       "        5.66239346e+02,  1.89275230e+03,  6.30689619e+02,  2.88322671e+01,\n",
       "        5.62972658e+02,  2.83253627e+03,  2.50770337e+02,  1.36723980e+03,\n",
       "        9.31054324e+02,  6.51437206e+02, -4.39829586e+01,  4.00091766e+02,\n",
       "        1.52889160e+02,  1.25713933e+03,  9.68442643e+02,  2.74306470e+03,\n",
       "        1.38820426e+03,  2.94664231e+03,  4.02559615e+02,  1.11005548e+02,\n",
       "        2.59801318e+03,  1.04649025e+02,  2.15748352e+03,  6.86176799e+02,\n",
       "        2.36744117e+02, -5.75153897e+02,  3.88048824e+03,  3.42181335e+03,\n",
       "        6.43602677e+02,  8.52624188e+02,  7.74907497e+02, -4.26913245e+02,\n",
       "       -1.59494083e+02,  1.27740211e+03,  1.20892289e+03, -1.19015305e+02,\n",
       "        2.99990626e+02,  1.84331836e+03,  1.44578551e+03,  1.31836553e+02,\n",
       "        2.26523901e+03,  8.14671941e+02,  2.50010126e+03,  4.51335526e+02,\n",
       "       -2.26096468e+02, -4.01265373e+00,  4.17509948e+02,  1.68020941e+03,\n",
       "       -5.41314283e+02,  8.46290226e+02, -2.31919035e+01, -4.02339432e+02,\n",
       "        3.83540058e+01,  2.28219629e+03, -1.77293780e+02, -9.02802001e+01,\n",
       "       -4.02816893e+02,  1.12292999e+02,  2.23551761e+03,  2.05561172e+02,\n",
       "        6.91222371e+02,  2.23981656e+03,  1.83594588e+03,  2.14923280e+03,\n",
       "        6.95182090e+02,  1.74707387e+03,  1.14478123e+03, -6.55605366e+02,\n",
       "        3.99912102e+03,  2.18817628e+03, -4.55826672e+02,  2.38713445e+03,\n",
       "        1.45202918e+03,  6.52303109e+02,  1.72802627e+01,  2.88013704e+03,\n",
       "        1.05212380e+03, -4.13084339e+02,  1.10782583e+03,  2.07281377e+02,\n",
       "        5.46908430e+02,  2.55649081e+02, -2.98266379e+02,  1.61098936e+03,\n",
       "       -4.64730380e+02,  4.47780054e+02,  9.56762220e+02,  2.34427501e+03,\n",
       "        7.33405338e+02,  5.84218137e+02, -5.48688610e+01,  1.90396162e+02,\n",
       "       -2.41536577e+02,  2.69690957e+02, -4.06316957e+02,  8.84210408e+02,\n",
       "        1.85716322e+03,  9.39096897e+02,  2.93505077e+02,  2.80443090e+02,\n",
       "        3.11503771e+03,  1.30810304e+03,  5.47056678e+02,  1.00199351e+03,\n",
       "       -3.83747853e+02, -8.65354107e+01, -6.26186787e+02,  3.93524756e+02,\n",
       "       -1.52615997e+02,  1.51205785e+03, -3.72250026e+02,  1.86709541e+03,\n",
       "       -6.71303438e+02,  8.73159273e+02,  8.09695106e+02,  2.54437536e+02,\n",
       "        1.35770996e+03,  2.86817320e+01,  1.62894549e+03,  1.64428877e+03,\n",
       "        1.40115604e+03,  6.63755714e+02,  8.01852096e+02,  1.03754621e+03,\n",
       "       -6.26384397e+01,  1.06099599e+03,  1.86568829e+03,  3.34959371e+03,\n",
       "        9.39638111e+02, -3.50081456e+02, -5.25131762e+02,  1.55975766e+03,\n",
       "        4.49656821e+02,  2.25837566e+03,  7.34427375e+01,  2.43333096e+03,\n",
       "       -4.27272606e+02,  1.73951440e+03, -2.52645700e+02,  1.74578733e+03,\n",
       "        9.25991409e+02,  3.98568862e+03,  1.19721538e+03,  6.70752200e+02,\n",
       "        8.40532388e+02,  2.13669171e+03,  8.08720217e+02,  6.47661445e+02,\n",
       "        1.20333624e+03,  1.20622812e+03,  1.74913647e+02,  1.55040303e+03,\n",
       "        4.61735710e+02,  2.24706145e+03,  1.07525786e+03,  1.59316063e+03,\n",
       "        2.70487368e+03, -1.73613862e+02,  7.34788886e+02,  6.21412375e+02,\n",
       "        3.10936765e+03,  4.33135370e+03,  6.16910574e+02,  6.53741651e+02,\n",
       "       -1.11545056e+01,  1.44039918e+03,  9.66181600e+02,  2.78126394e+03,\n",
       "        8.19333314e+02,  7.77833900e+02, -1.53062008e+02,  1.57129688e+03,\n",
       "        9.59373327e+02,  1.42793241e+03, -2.62109263e+02,  1.24783953e+03,\n",
       "        7.85138586e+00,  1.93911034e+02, -6.84799271e+02,  2.08207616e+03,\n",
       "       -2.57588497e+02,  3.48507659e+03,  8.77800155e+02,  1.16016868e+03,\n",
       "        5.63642771e+02,  1.16587477e+03, -4.44698191e+02,  2.32222492e+03,\n",
       "       -4.50990183e+02, -4.68159511e+02,  3.54850436e+03,  1.12298098e+03,\n",
       "        1.14213684e+03,  3.01411319e+03, -1.61914946e+02,  4.54804215e+02,\n",
       "        9.31437635e+02,  8.56565812e+02, -2.14275387e+02,  3.64105228e+02,\n",
       "        1.32067199e+02,  1.10528461e+03,  7.00175618e+02,  1.43242802e+03,\n",
       "        1.17658125e+03,  5.47203916e+02,  1.37377835e+03, -3.90915466e+02,\n",
       "       -2.58728316e+02,  2.25006649e+03, -4.91827909e+02,  1.37489159e+03,\n",
       "        1.06929006e+03,  2.28856623e+03,  1.24991667e+03,  8.62376884e+02,\n",
       "        9.70711855e+02,  2.97530438e+03,  2.57325131e+00,  1.59266634e+03,\n",
       "        1.09603726e+03,  1.35937035e+03,  5.32195335e+02,  5.52742273e+02,\n",
       "        1.82662434e+02, -3.25609731e+02, -6.50808079e+02,  1.02973457e+03,\n",
       "        8.78527963e+02,  6.84140385e+01,  4.38079332e+03, -2.24888863e+02,\n",
       "        2.52414122e+03,  1.21644791e+03,  6.21040721e+02,  1.87706879e+03,\n",
       "        3.30193073e+03,  6.86397026e+02,  1.07653827e+03,  9.35015777e+02,\n",
       "        1.43494476e+02,  1.66620530e+03, -4.26516652e+02,  1.19301906e+03,\n",
       "        8.55519095e+02,  9.44959220e+02, -4.62412778e+02,  9.65652985e+02,\n",
       "        7.37082235e+02,  2.30601248e+03,  3.40842457e+02,  2.31511140e+03,\n",
       "       -4.33975899e+02,  1.72190351e+03,  2.52813159e+03,  3.08124594e+01,\n",
       "        1.31909393e+03, -5.57263496e+02, -3.68016473e+02,  2.92685608e+02,\n",
       "        9.73028034e+02,  1.20026232e+03,  4.82098624e+03,  2.78805693e+03,\n",
       "        2.14717745e+03,  3.48625536e+03,  1.23926795e+03,  7.63445531e+02,\n",
       "        9.42956866e+01,  2.00531705e+03,  2.69721632e+02,  2.91600136e+03,\n",
       "        1.30502117e+02,  3.43760958e+02,  2.25679400e+02,  7.07427289e+02,\n",
       "        5.86625975e+02,  1.25903410e+03,  1.81128488e+03,  1.70233363e+03,\n",
       "        2.80214585e+03,  3.37051085e+02,  1.86666625e+02,  1.84429691e+01,\n",
       "        9.32583450e+02,  1.56832983e+02,  8.04801801e+02, -5.39277990e+02,\n",
       "        3.34828848e+02,  7.42225956e+02,  1.35666220e+03,  4.24655731e+02,\n",
       "        4.89194330e+02,  1.36146930e+01,  1.59045521e+03,  1.79291008e+03,\n",
       "        9.63427922e+02,  1.73993739e+03,  7.24562634e+02, -3.65159259e+02,\n",
       "        1.65999415e+03,  4.58156002e+02,  2.72438578e+03,  1.04665140e+01,\n",
       "        1.26989637e+03,  1.28215134e+03,  2.92812115e+03,  3.93134142e+02,\n",
       "       -6.07643826e+02,  1.63442870e+03,  1.64643544e+03,  8.47963839e+02,\n",
       "        6.76565164e+02,  7.41346213e+02, -2.11756515e+02,  1.90347477e+03,\n",
       "        2.19602071e+03,  3.88687969e+02,  2.33516764e+03, -4.31187888e+02,\n",
       "        3.30688510e+03,  1.18715045e+03,  1.04064988e+03,  1.33632965e+03,\n",
       "        3.23354943e+02,  1.55538129e+03,  3.42245125e+03,  1.26937585e+03])"
      ]
     },
     "execution_count": 16,
     "metadata": {},
     "output_type": "execute_result"
    }
   ],
   "source": [
    "np.sum(jets,axis=1)"
   ]
  },
  {
   "cell_type": "code",
   "execution_count": 9,
   "metadata": {},
   "outputs": [
    {
     "ename": "IndexError",
     "evalue": "too many indices for array",
     "output_type": "error",
     "traceback": [
      "\u001b[0;31m\u001b[0m",
      "\u001b[0;31mIndexError\u001b[0mTraceback (most recent call last)",
      "\u001b[0;32m<ipython-input-9-85c3c9b80a70>\u001b[0m in \u001b[0;36m<module>\u001b[0;34m()\u001b[0m\n\u001b[0;32m----> 1\u001b[0;31m \u001b[0mgetmass_jets\u001b[0m\u001b[0;34m(\u001b[0m\u001b[0mjets\u001b[0m\u001b[0;34m.\u001b[0m\u001b[0mvalues\u001b[0m\u001b[0;34m)\u001b[0m\u001b[0;34m\u001b[0m\u001b[0m\n\u001b[0m",
      "\u001b[0;32m<ipython-input-7-ddce0bd278f7>\u001b[0m in \u001b[0;36mgetmass_jets\u001b[0;34m(jets, numpointstot, unflatten, flattenpoints)\u001b[0m\n\u001b[1;32m     11\u001b[0m \u001b[0;34m\u001b[0m\u001b[0m\n\u001b[1;32m     12\u001b[0m     \u001b[0mjetsums\u001b[0m \u001b[0;34m=\u001b[0m \u001b[0mnp\u001b[0m\u001b[0;34m.\u001b[0m\u001b[0msum\u001b[0m\u001b[0;34m(\u001b[0m\u001b[0mjets\u001b[0m\u001b[0;34m,\u001b[0m\u001b[0maxis\u001b[0m\u001b[0;34m=\u001b[0m\u001b[0;36m1\u001b[0m\u001b[0;34m)\u001b[0m\u001b[0;34m\u001b[0m\u001b[0m\n\u001b[0;32m---> 13\u001b[0;31m     \u001b[0mjet_ms\u001b[0m \u001b[0;34m=\u001b[0m \u001b[0mnp\u001b[0m\u001b[0;34m.\u001b[0m\u001b[0msqrt\u001b[0m\u001b[0;34m(\u001b[0m\u001b[0mnp\u001b[0m\u001b[0;34m.\u001b[0m\u001b[0mpower\u001b[0m\u001b[0;34m(\u001b[0m\u001b[0mjetsums\u001b[0m\u001b[0;34m[\u001b[0m\u001b[0;34m:\u001b[0m\u001b[0;34m,\u001b[0m\u001b[0;36m0\u001b[0m\u001b[0;34m]\u001b[0m\u001b[0;34m,\u001b[0m\u001b[0;36m2\u001b[0m\u001b[0;34m)\u001b[0m\u001b[0;34m-\u001b[0m\u001b[0mnp\u001b[0m\u001b[0;34m.\u001b[0m\u001b[0mpower\u001b[0m\u001b[0;34m(\u001b[0m\u001b[0mjetsums\u001b[0m\u001b[0;34m[\u001b[0m\u001b[0;34m:\u001b[0m\u001b[0;34m,\u001b[0m\u001b[0;36m1\u001b[0m\u001b[0;34m]\u001b[0m\u001b[0;34m,\u001b[0m\u001b[0;36m2\u001b[0m\u001b[0;34m)\u001b[0m\u001b[0;34m-\u001b[0m\u001b[0mnp\u001b[0m\u001b[0;34m.\u001b[0m\u001b[0mpower\u001b[0m\u001b[0;34m(\u001b[0m\u001b[0mjetsums\u001b[0m\u001b[0;34m[\u001b[0m\u001b[0;34m:\u001b[0m\u001b[0;34m,\u001b[0m\u001b[0;36m2\u001b[0m\u001b[0;34m]\u001b[0m\u001b[0;34m,\u001b[0m\u001b[0;36m2\u001b[0m\u001b[0;34m)\u001b[0m\u001b[0;34m-\u001b[0m\u001b[0mnp\u001b[0m\u001b[0;34m.\u001b[0m\u001b[0mpower\u001b[0m\u001b[0;34m(\u001b[0m\u001b[0mjetsums\u001b[0m\u001b[0;34m[\u001b[0m\u001b[0;34m:\u001b[0m\u001b[0;34m,\u001b[0m\u001b[0;36m0\u001b[0m\u001b[0;34m]\u001b[0m\u001b[0;34m,\u001b[0m\u001b[0;36m3\u001b[0m\u001b[0;34m)\u001b[0m\u001b[0;34m)\u001b[0m\u001b[0;34m\u001b[0m\u001b[0m\n\u001b[0m\u001b[1;32m     14\u001b[0m \u001b[0;34m\u001b[0m\u001b[0m\n\u001b[1;32m     15\u001b[0m     \u001b[0;32mreturn\u001b[0m \u001b[0mjet_ms\u001b[0m\u001b[0;34m\u001b[0m\u001b[0m\n",
      "\u001b[0;31mIndexError\u001b[0m: too many indices for array"
     ]
    }
   ],
   "source": [
    "getmass_jets(jets.values)"
   ]
  },
  {
   "cell_type": "code",
   "execution_count": 121,
   "metadata": {
    "scrolled": true
   },
   "outputs": [
    {
     "name": "stdout",
     "output_type": "stream",
     "text": [
      "0 0.0118918418884\n",
      "10 5.41461491585\n",
      "20 5.59828591347\n",
      "30 5.80253505707\n",
      "40 5.87553715706\n",
      "50 6.74379682541\n",
      "60 6.34522414207\n",
      "70 6.33168506622\n",
      "80 6.98518586159\n",
      "90 6.90566897392\n",
      "100 7.68366408348\n",
      "110 7.45886492729\n",
      "120 7.80288887024\n",
      "130 7.64149785042\n",
      "140 8.47290205956\n",
      "150 8.33231306076\n",
      "160 8.38294291496\n",
      "170 8.9263651371\n",
      "180 9.05717301369\n",
      "190 9.13206601143\n",
      "200 9.54305481911\n",
      "210 10.0786929131\n",
      "220 9.66776204109\n",
      "230 10.2391560078\n",
      "240 10.6723978519\n",
      "250 10.674478054\n",
      "260 10.9161190987\n",
      "270 6.02455711365\n",
      "280 5.90914392471\n",
      "290 5.73664712906\n",
      "300 5.86969089508\n",
      "310 6.12363100052\n",
      "320 6.57347798347\n",
      "330 6.75506997108\n",
      "340 6.71751189232\n",
      "350 6.87487411499\n",
      "360 7.09265804291\n",
      "370 7.90681505203\n",
      "380 7.83888506889\n",
      "390 7.60338592529\n",
      "400 8.29473900795\n",
      "410 8.41940903664\n",
      "420 8.59331202507\n",
      "430 8.36072301865\n",
      "440 9.01712393761\n",
      "450 9.30025005341\n",
      "460 9.65452003479\n",
      "470 9.46544885635\n",
      "480 10.0407068729\n",
      "490 10.3890190125\n",
      "500 10.0774819851\n",
      "510 10.6663200855\n",
      "520 10.7179899216\n",
      "530 6.81037402153\n",
      "540 5.46102595329\n",
      "550 5.54463291168\n",
      "560 6.52086997032\n",
      "570 6.26460599899\n",
      "580 6.69960594177\n",
      "590 6.86739397049\n",
      "600 6.78589510918\n",
      "610 6.84937691689\n",
      "620 7.41626620293\n",
      "630 7.60944199562\n",
      "640 7.68831801414\n",
      "650 8.01687598228\n",
      "660 8.07674217224\n",
      "670 8.28300595284\n",
      "680 8.41300201416\n",
      "690 9.13636207581\n",
      "700 8.71521615982\n",
      "710 8.98626804352\n",
      "720 9.86310315132\n",
      "730 9.50898814201\n",
      "740 9.85166501999\n",
      "750 10.1797418594\n",
      "760 10.5385990143\n",
      "770 10.420030117\n",
      "780 10.7213099003\n",
      "790 8.12236714363\n",
      "800 5.35875606537\n",
      "810 5.5486869812\n",
      "820 5.74816393852\n",
      "830 6.1226580143\n",
      "840 6.64745616913\n",
      "850 6.35386514664\n",
      "860 7.19935512543\n",
      "870 6.71781206131\n",
      "880 7.26763701439\n",
      "890 7.64428901672\n",
      "900 7.51778697968\n",
      "910 7.70237207413\n",
      "920 7.85048103333\n",
      "930 8.59243798256\n",
      "940 8.53109192848\n",
      "950 8.4172141552\n",
      "960 8.78433203697\n",
      "970 8.82359099388\n",
      "980 8.99944496155\n",
      "990 9.0501639843\n",
      "1000 9.53525400162\n",
      "1010 9.66836810112\n",
      "1020 10.2300190926\n",
      "1030 10.569519043\n",
      "1040 10.5688700676\n",
      "1050 10.8070099354\n",
      "1060 5.68257498741\n",
      "1070 5.29993486404\n",
      "1080 5.9688270092\n",
      "1090 6.36379289627\n",
      "1100 6.4325709343\n",
      "1110 6.39866304398\n",
      "1120 7.33229112625\n",
      "1130 7.18595504761\n",
      "1140 7.11892986298\n",
      "1150 7.24539399147\n",
      "1160 7.68681406975\n",
      "1170 7.65177607536\n",
      "1180 7.81680107117\n",
      "1190 7.91946792603\n",
      "1200 9.05206608772\n",
      "1210 8.76731491089\n",
      "965.096568823\n"
     ]
    }
   ],
   "source": [
    "start = time.time()\n",
    "int_time= start\n",
    "#nmax = 500000\n",
    "nmax = 10**6\n",
    "chunksize = 1000\n",
    "outstore = pandas.HDFStore(\"/data1/users/jcollins/Heidelberg_sample/train_points.h5\")\n",
    "\n",
    "jet_iter = store.select(\"table\",iterator=True,chunksize=chunksize)\n",
    "\n",
    "for i, chunk in enumerate(jet_iter):\n",
    "    \n",
    "    if (i*chunksize)%(nmax/100) == 0:\n",
    "        print i, time.time() - int_time\n",
    "        int_time= time.time()\n",
    "#     if i > numchunks:\n",
    "#         break\n",
    "\n",
    "    chunk = chunk.loc[chunk['is_signal_new'] == 0]\n",
    "    if len(chunk.index) == 0:\n",
    "        continue\n",
    "    \n",
    "    pointsarrays = assign_and_preprocess_jets(chunk.values,numpointstot = 1000)\n",
    "    dictionary = dict(zip(columns, pointsarrays.T))\n",
    "    out_df = pd.DataFrame(dictionary,columns=columns)\n",
    "    outstore.append('points',out_df)\n",
    "    \n",
    "print time.time()-start"
   ]
  },
  {
   "cell_type": "code",
   "execution_count": 122,
   "metadata": {
    "scrolled": true
   },
   "outputs": [
    {
     "name": "stdout",
     "output_type": "stream",
     "text": [
      "0 0.0117290019989\n",
      "10 6.14870405197\n",
      "20 6.25513100624\n",
      "30 6.3726439476\n",
      "40 6.62044906616\n",
      "50 6.65490007401\n",
      "60 7.07121896744\n",
      "70 7.46272778511\n",
      "80 7.20552492142\n",
      "90 7.63542795181\n",
      "100 7.84765195847\n",
      "110 7.90503382683\n",
      "120 7.98541998863\n",
      "130 8.69226408005\n",
      "140 8.58846783638\n",
      "150 8.80101084709\n",
      "160 9.08066701889\n",
      "170 9.050096035\n",
      "180 9.59905290604\n",
      "190 9.55990505219\n",
      "200 9.7061419487\n",
      "210 10.0676119328\n",
      "220 10.4682190418\n",
      "230 10.3207240105\n",
      "240 10.5914230347\n",
      "250 10.5232491493\n",
      "260 10.8143599033\n",
      "270 7.93916702271\n",
      "280 6.36685204506\n",
      "290 6.55795884132\n",
      "300 6.85033011436\n",
      "310 7.03611898422\n",
      "320 6.98574995995\n",
      "330 7.04491400719\n",
      "340 7.62572598457\n",
      "350 7.88732719421\n",
      "360 7.96064209938\n",
      "370 7.79247879982\n",
      "380 8.37631082535\n",
      "390 8.87872600555\n",
      "400 8.53007102013\n",
      "410 8.67815184593\n",
      "420 9.0158059597\n",
      "430 9.69621491432\n",
      "440 9.42775797844\n",
      "450 10.0582680702\n",
      "460 9.64025902748\n",
      "470 10.311631918\n",
      "480 11.4135949612\n",
      "490 11.9519879818\n",
      "500 11.8647170067\n",
      "510 12.4390289783\n",
      "520 13.3396639824\n",
      "530 11.089648962\n",
      "540 7.93043613434\n",
      "550 8.01241087914\n",
      "560 8.3059720993\n",
      "570 8.56120896339\n",
      "580 8.43064904213\n",
      "590 9.00253891945\n",
      "600 9.65830612183\n",
      "610 9.96769690514\n",
      "620 9.73299694061\n",
      "630 10.179115057\n",
      "640 10.6433739662\n",
      "650 10.5246670246\n",
      "660 11.0921211243\n",
      "670 11.1197910309\n",
      "680 11.818611145\n",
      "690 11.3921730518\n",
      "700 12.0747659206\n",
      "710 12.256857872\n",
      "720 12.1834168434\n",
      "730 12.7617490292\n",
      "740 12.7804589272\n",
      "750 13.2650771141\n",
      "760 13.1143298149\n",
      "770 13.582075119\n",
      "780 13.6784148216\n",
      "790 12.8488681316\n",
      "800 7.94651913643\n",
      "810 8.30526685715\n",
      "820 8.58143615723\n",
      "830 8.39010691643\n",
      "840 8.90235090256\n",
      "850 9.2398879528\n",
      "860 8.9036450386\n",
      "870 9.81285405159\n",
      "880 9.52995896339\n",
      "890 9.69891691208\n",
      "900 10.2601671219\n",
      "910 10.6389360428\n",
      "920 10.9702329636\n",
      "930 11.0500481129\n",
      "940 11.0137999058\n",
      "950 11.702614069\n",
      "960 12.0896508694\n",
      "970 12.2555029392\n",
      "980 12.3200008869\n",
      "990 12.8010289669\n",
      "1000 12.9603099823\n",
      "1010 13.0251801014\n",
      "1020 13.2633459568\n",
      "1030 13.7659599781\n",
      "1040 14.1442670822\n",
      "1050 13.2203171253\n",
      "1060 7.40500712395\n",
      "1070 8.40999102592\n",
      "1080 8.41358089447\n",
      "1090 8.40043187141\n",
      "1100 8.80251002312\n",
      "1110 9.06669688225\n",
      "1120 8.84909105301\n",
      "1130 9.06132602692\n",
      "1140 9.65569400787\n",
      "1150 10.0965919495\n",
      "1160 10.020004034\n",
      "1170 10.6781868935\n",
      "1180 11.2040779591\n",
      "1190 11.4150710106\n",
      "1200 11.0849220753\n",
      "1210 11.6777598858\n",
      "1190.93534708\n"
     ]
    }
   ],
   "source": [
    "start = time.time()\n",
    "int_time= start\n",
    "#nmax = 500000\n",
    "nmax = 10**6\n",
    "chunksize = 1000\n",
    "outstore = pandas.HDFStore(\"/data1/users/jcollins/Heidelberg_sample/train_points_top.h5\")\n",
    "\n",
    "jet_iter = store.select(\"table\",iterator=True,chunksize=chunksize)\n",
    "\n",
    "for i, chunk in enumerate(jet_iter):\n",
    "    \n",
    "    if (i*chunksize)%(nmax/100) == 0:\n",
    "        print i, time.time() - int_time\n",
    "        int_time= time.time()\n",
    "#     if i > numchunks:\n",
    "#         break\n",
    "\n",
    "    chunk = chunk.loc[chunk['is_signal_new'] == 1]\n",
    "    if len(chunk.index) == 0:\n",
    "        continue\n",
    "    \n",
    "    pointsarrays = assign_and_preprocess_jets(chunk.values,numpointstot = 1000)\n",
    "    dictionary = dict(zip(columns, pointsarrays.T))\n",
    "    out_df = pd.DataFrame(dictionary,columns=columns)\n",
    "    outstore.append('points',out_df)\n",
    "    \n",
    "print time.time()-start"
   ]
  },
  {
   "cell_type": "code",
   "execution_count": 6,
   "metadata": {
    "scrolled": true
   },
   "outputs": [
    {
     "data": {
      "text/plain": [
       "605477"
      ]
     },
     "execution_count": 6,
     "metadata": {},
     "output_type": "execute_result"
    }
   ],
   "source": [
    "len(outstore.select(\"points\"))"
   ]
  },
  {
   "cell_type": "code",
   "execution_count": null,
   "metadata": {},
   "outputs": [],
   "source": [
    "for index, row in df.iterrows():\n",
    "    jet = jets_df.sample().values[0,:800].reshape(200,4)"
   ]
  },
  {
   "cell_type": "code",
   "execution_count": 311,
   "metadata": {},
   "outputs": [
    {
     "data": {
      "image/png": "[encoded data removed]",
      "text/plain": [
       "<Figure size 360x360 with 1 Axes>"
      ]
     },
     "metadata": {},
     "output_type": "display_data"
    },
    {
     "data": {
      "image/png": "[encoded data removed]",
      "text/plain": [
       "<Figure size 360x360 with 1 Axes>"
      ]
     },
     "metadata": {},
     "output_type": "display_data"
    },
    {
     "data": {
      "image/png": "[encoded data removed]",
      "text/plain": [
       "<Figure size 360x360 with 1 Axes>"
      ]
     },
     "metadata": {},
     "output_type": "display_data"
    },
    {
     "data": {
      "image/png": "[encoded data removed]",
      "text/plain": [
       "<Figure size 360x360 with 1 Axes>"
      ]
     },
     "metadata": {},
     "output_type": "display_data"
    },
    {
     "data": {
      "image/png": "[encoded data removed]",
      "text/plain": [
       "<Figure size 360x360 with 1 Axes>"
      ]
     },
     "metadata": {},
     "output_type": "display_data"
    },
    {
     "data": {
      "image/png": "[encoded data removed]",
      "text/plain": [
       "<Figure size 360x360 with 1 Axes>"
      ]
     },
     "metadata": {},
     "output_type": "display_data"
    },
    {
     "data": {
      "image/png": "[encoded data removed]",
      "text/plain": [
       "<Figure size 360x360 with 1 Axes>"
      ]
     },
     "metadata": {},
     "output_type": "display_data"
    },
    {
     "data": {
      "image/png": "[encoded data removed]",
      "text/plain": [
       "<Figure size 360x360 with 1 Axes>"
      ]
     },
     "metadata": {},
     "output_type": "display_data"
    },
    {
     "data": {
      "image/png": "[encoded data removed]",
      "text/plain": [
       "<Figure size 360x360 with 1 Axes>"
      ]
     },
     "metadata": {},
     "output_type": "display_data"
    },
    {
     "data": {
      "image/png": "[encoded data removed]",
      "text/plain": [
       "<Figure size 360x360 with 1 Axes>"
      ]
     },
     "metadata": {},
     "output_type": "display_data"
    }
   ],
   "source": [
    "for i in range(10):\n",
    "    jet = this.sample().values[0,:800].reshape(200,4)\n",
    "    jet = jet[np.all(jet != 0, axis=1)]\n",
    "    pointsarray = assignpoints(preprocess_jet(jet))\n",
    "    lim=1\n",
    "    plt.figure(figsize=[5,5])\n",
    "    plt.hist2d(pointsarray[:,0],pointsarray[:,1],range=[[-lim,lim],[-lim,lim]],bins=30)\n",
    "    plt.show()"
   ]
  },
  {
   "cell_type": "code",
   "execution_count": 298,
   "metadata": {},
   "outputs": [],
   "source": [
    "pointsarray = assignpoints(jet)"
   ]
  },
  {
   "cell_type": "code",
   "execution_count": null,
   "metadata": {},
   "outputs": [],
   "source": [
    "pointsarray"
   ]
  },
  {
   "cell_type": "code",
   "execution_count": 304,
   "metadata": {},
   "outputs": [
    {
     "data": {
      "image/png": "[encoded data removed]",
      "text/plain": [
       "<Figure size 360x360 with 1 Axes>"
      ]
     },
     "metadata": {},
     "output_type": "display_data"
    },
    {
     "data": {
      "image/png": "[encoded data removed]",
      "text/plain": [
       "<Figure size 360x360 with 1 Axes>"
      ]
     },
     "metadata": {},
     "output_type": "display_data"
    },
    {
     "data": {
      "image/png": "[encoded data removed]",
      "text/plain": [
       "<Figure size 360x360 with 1 Axes>"
      ]
     },
     "metadata": {},
     "output_type": "display_data"
    },
    {
     "data": {
      "image/png": "[encoded data removed]",
      "text/plain": [
       "<Figure size 360x360 with 1 Axes>"
      ]
     },
     "metadata": {},
     "output_type": "display_data"
    },
    {
     "data": {
      "image/png": "[encoded data removed]",
      "text/plain": [
       "<Figure size 360x360 with 1 Axes>"
      ]
     },
     "metadata": {},
     "output_type": "display_data"
    },
    {
     "data": {
      "image/png": "[encoded data removed]",
      "text/plain": [
       "<Figure size 360x360 with 1 Axes>"
      ]
     },
     "metadata": {},
     "output_type": "display_data"
    },
    {
     "data": {
      "image/png": "[encoded data removed]",
      "text/plain": [
       "<Figure size 360x360 with 1 Axes>"
      ]
     },
     "metadata": {},
     "output_type": "display_data"
    },
    {
     "data": {
      "image/png": "[encoded data removed]",
      "text/plain": [
       "<Figure size 360x360 with 1 Axes>"
      ]
     },
     "metadata": {},
     "output_type": "display_data"
    },
    {
     "data": {
      "image/png": "[encoded data removed]",
      "text/plain": [
       "<Figure size 360x360 with 1 Axes>"
      ]
     },
     "metadata": {},
     "output_type": "display_data"
    },
    {
     "data": {
      "image/png": "[encoded data removed]",
      "text/plain": [
       "<Figure size 360x360 with 1 Axes>"
      ]
     },
     "metadata": {},
     "output_type": "display_data"
    }
   ],
   "source": [
    "for i in range(10):\n",
    "    jet = this.sample().values[0,:800].reshape(200,4)\n",
    "    jet = jet[np.all(jet != 0, axis=1)]\n",
    "    jet = preprocess_jet(jet)\n",
    "    lim=1\n",
    "    plt.figure(figsize=[5,5])\n",
    "    plt.hist2d(jet[:,2],jet[:,3],weights = jet[:,0],range=[[-lim,lim],[-lim,lim]],bins=30)\n",
    "    plt.show()"
   ]
  },
  {
   "cell_type": "code",
   "execution_count": 96,
   "metadata": {},
   "outputs": [
    {
     "data": {
      "text/plain": [
       "136.4436579925801"
      ]
     },
     "execution_count": 96,
     "metadata": {},
     "output_type": "execute_result"
    }
   ],
   "source": [
    "np.sqrt(jetsum[0]**2-np.linalg.norm(jetsum[1:])**2)"
   ]
  },
  {
   "cell_type": "code",
   "execution_count": 97,
   "metadata": {},
   "outputs": [
    {
     "data": {
      "text/plain": [
       "136.44365799257884"
      ]
     },
     "execution_count": 97,
     "metadata": {},
     "output_type": "execute_result"
    }
   ],
   "source": [
    "newjetsum=np.dot(longboostmat,jetsum)\n",
    "np.sqrt(newjetsum[0]**2-np.linalg.norm(newjetsum[1:])**2)"
   ]
  },
  {
   "cell_type": "code",
   "execution_count": 98,
   "metadata": {},
   "outputs": [
    {
     "ename": "IndexError",
     "evalue": "too many indices for array",
     "output_type": "error",
     "traceback": [
      "\u001b[0;31m\u001b[0m",
      "\u001b[0;31mIndexError\u001b[0mTraceback (most recent call last)",
      "\u001b[0;32m<ipython-input-98-7ddb0684cd10>\u001b[0m in \u001b[0;36m<module>\u001b[0;34m()\u001b[0m\n\u001b[1;32m      1\u001b[0m \u001b[0mpt\u001b[0m \u001b[0;34m=\u001b[0m \u001b[0mnp\u001b[0m\u001b[0;34m.\u001b[0m\u001b[0mlinalg\u001b[0m\u001b[0;34m.\u001b[0m\u001b[0mnorm\u001b[0m\u001b[0;34m(\u001b[0m\u001b[0mrow\u001b[0m\u001b[0;34m[\u001b[0m\u001b[0;34m:\u001b[0m\u001b[0;34m,\u001b[0m\u001b[0;36m1\u001b[0m\u001b[0;34m:\u001b[0m\u001b[0;36m3\u001b[0m\u001b[0;34m]\u001b[0m\u001b[0;34m,\u001b[0m\u001b[0maxis\u001b[0m\u001b[0;34m=\u001b[0m\u001b[0;36m1\u001b[0m\u001b[0;34m)\u001b[0m\u001b[0;34m\u001b[0m\u001b[0m\n\u001b[0;32m----> 2\u001b[0;31m \u001b[0mpabs\u001b[0m \u001b[0;34m=\u001b[0m \u001b[0mnp\u001b[0m\u001b[0;34m.\u001b[0m\u001b[0mlinalg\u001b[0m\u001b[0;34m.\u001b[0m\u001b[0mnorm\u001b[0m\u001b[0;34m(\u001b[0m\u001b[0mrow\u001b[0m\u001b[0;34m[\u001b[0m\u001b[0;34m:\u001b[0m\u001b[0;34m,\u001b[0m\u001b[0;36m0\u001b[0m\u001b[0;34m,\u001b[0m\u001b[0;36m1\u001b[0m\u001b[0;34m:\u001b[0m\u001b[0;34m]\u001b[0m\u001b[0;34m,\u001b[0m\u001b[0maxis\u001b[0m\u001b[0;34m=\u001b[0m\u001b[0;36m1\u001b[0m\u001b[0;34m)\u001b[0m\u001b[0;34m\u001b[0m\u001b[0m\n\u001b[0m\u001b[1;32m      3\u001b[0m \u001b[0mpL\u001b[0m \u001b[0;34m=\u001b[0m \u001b[0mrow\u001b[0m\u001b[0;34m[\u001b[0m\u001b[0;34m:\u001b[0m\u001b[0;34m,\u001b[0m\u001b[0;36m3\u001b[0m\u001b[0;34m]\u001b[0m\u001b[0;34m\u001b[0m\u001b[0m\n\u001b[1;32m      4\u001b[0m \u001b[0meta\u001b[0m \u001b[0;34m=\u001b[0m \u001b[0;36m0.5\u001b[0m\u001b[0;34m*\u001b[0m\u001b[0mnp\u001b[0m\u001b[0;34m.\u001b[0m\u001b[0mlog\u001b[0m\u001b[0;34m(\u001b[0m\u001b[0;34m(\u001b[0m\u001b[0mpabs\u001b[0m\u001b[0;34m+\u001b[0m\u001b[0mpL\u001b[0m\u001b[0;34m)\u001b[0m\u001b[0;34m/\u001b[0m\u001b[0;34m(\u001b[0m\u001b[0mpabs\u001b[0m\u001b[0;34m-\u001b[0m\u001b[0mpL\u001b[0m\u001b[0;34m)\u001b[0m\u001b[0;34m)\u001b[0m\u001b[0;34m\u001b[0m\u001b[0m\n",
      "\u001b[0;31mIndexError\u001b[0m: too many indices for array"
     ]
    }
   ],
   "source": [
    "ptlist = np.linalg.norm(row[:,1:3],axis=1)\n",
    "pabslist = np.linalg.norm(row[:,0,1:],axis=1)\n",
    "pL = row[:,3]\n",
    "eta = 0.5*np.log((pabs+pL)/(pabs-pL))"
   ]
  },
  {
   "cell_type": "code",
   "execution_count": 34,
   "metadata": {},
   "outputs": [
    {
     "data": {
      "text/plain": [
       "145.50405883789062"
      ]
     },
     "execution_count": 34,
     "metadata": {},
     "output_type": "execute_result"
    }
   ],
   "source": [
    "row[0,0]"
   ]
  },
  {
   "cell_type": "code",
   "execution_count": 77,
   "metadata": {},
   "outputs": [
    {
     "data": {
      "text/plain": [
       "2.356194490192345"
      ]
     },
     "execution_count": 77,
     "metadata": {},
     "output_type": "execute_result"
    }
   ],
   "source": [
    "np.arctan2(1.,-1)"
   ]
  },
  {
   "cell_type": "code",
   "execution_count": null,
   "metadata": {},
   "outputs": [],
   "source": []
  }
 ],
 "metadata": {
  "kernelspec": {
   "display_name": "Python 2",
   "language": "python",
   "name": "python2"
  },
  "language_info": {
   "codemirror_mode": {
    "name": "ipython",
    "version": 2
   },
   "file_extension": ".py",
   "mimetype": "text/x-python",
   "name": "python",
   "nbconvert_exporter": "python",
   "pygments_lexer": "ipython2",
   "version": "2.7.12"
  }
 },
 "nbformat": 4,
 "nbformat_minor": 2
}
