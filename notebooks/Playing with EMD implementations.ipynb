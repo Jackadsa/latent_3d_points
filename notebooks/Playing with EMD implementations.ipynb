{
 "cells": [
  {
   "cell_type": "code",
   "execution_count": 1,
   "metadata": {},
   "outputs": [],
   "source": [
    "import ot\n",
    "import numpy as np\n",
    "import tensorflow as tf\n",
    "config = tf.ConfigProto()\n",
    "config.gpu_options.allow_growth = True\n",
    "sess = tf.Session(config=config)"
   ]
  },
  {
   "cell_type": "code",
   "execution_count": 63,
   "metadata": {},
   "outputs": [],
   "source": [
    "numpoints = 3\n",
    "a=[[1.,1.,1.]]\n",
    "b=[[1.,1.,1.]]\n",
    "a_positions = np.array([[[0.,0.],[1.,1.],[1.,2.]]])\n",
    "b_positions = np.array([[[1.,1.1],[3.,0.23],[0.,4.1]]])\n",
    "M=np.array([[np.linalg.norm(a-b) for a in a_positions[0]] for b in b_positions[0]])\n",
    "result=ot.emd(a[0],b[0],M,log=True)\n",
    "plan = result[0]\n",
    "cost = result[1]['cost']"
   ]
  },
  {
   "cell_type": "code",
   "execution_count": 77,
   "metadata": {},
   "outputs": [],
   "source": [
    "def plan_wrapper(Ms):\n",
    "    result=[ot.emd(np.ones(len(M[0])),np.ones(len(M[1])),M) for M in Ms]\n",
    "    return np.array(result)"
   ]
  },
  {
   "cell_type": "code",
   "execution_count": 78,
   "metadata": {},
   "outputs": [
    {
     "data": {
      "text/plain": [
       "array([[[0., 1., 0.],\n",
       "        [1., 0., 0.],\n",
       "        [0., 0., 1.]]])"
      ]
     },
     "execution_count": 78,
     "metadata": {},
     "output_type": "execute_result"
    }
   ],
   "source": [
    "plan_wrapper([M])"
   ]
  },
  {
   "cell_type": "code",
   "execution_count": null,
   "metadata": {},
   "outputs": [],
   "source": [
    "def jacobian(y, x):\n",
    "  y_flat = tf.reshape(y, (-1,))\n",
    "  jacobian_flat = tf.stack(\n",
    "      [tf.gradients(y_i, x)[0] for y_i in tf.unstack(y_flat)])\n",
    "  return tf.reshape(jacobian_flat, y.shape.concatenate(x.shape))"
   ]
  },
  {
   "cell_type": "code",
   "execution_count": 1,
   "metadata": {},
   "outputs": [
    {
     "name": "stdout",
     "output_type": "stream",
     "text": [
      "Transport plan: \n",
      " [[[0. 1. 0.]\n",
      "  [1. 0. 0.]\n",
      "  [0. 0. 1.]]]\n",
      "\n",
      "EMD:\n",
      " [5.43474442]\n",
      "\n",
      "Gradient:\n",
      " [array([[[ 0.        ,  1.        ],\n",
      "        [ 0.997074  ,  0.07644234],\n",
      "        [-0.42993358,  0.90286052]]])]\n"
     ]
    }
   ],
   "source": [
    "import ot\n",
    "import numpy as np\n",
    "import tensorflow as tf\n",
    "config = tf.ConfigProto()\n",
    "config.gpu_options.allow_growth = True\n",
    "sess = tf.Session(config=config)\n",
    "\n",
    "def plan_python(Ms):\n",
    "    result=[ot.emd(np.ones(len(M[0])),np.ones(len(M[1])),M) for M in Ms]\n",
    "    return np.array(result)\n",
    "\n",
    "def myground_dist_func(a_positions, b_positions, numpoints=3):\n",
    "    tiled_b = tf.tile(b_positions,[1,numpoints,1])\n",
    "    repeated_a = tf.reshape(a_positions, [1,-1,1,2])    # Convert to a len(yp) x 1 matrix.\n",
    "    repeated_a = tf.tile(repeated_a, [1,1,numpoints,1])  # Create multiple columns.\n",
    "    repeated_a = tf.reshape(repeated_a, [1,-1,2])  \n",
    "\n",
    "    ground_dist = tf.norm(repeated_a-tiled_b,axis=-1)\n",
    "    ground_dist = tf.reshape(ground_dist,[1,numpoints,numpoints])\n",
    "    \n",
    "    return ground_dist\n",
    "\n",
    "\n",
    "\n",
    "a_positions = np.array([[[0.,0.],[1.,1.],[1.,2.]]])\n",
    "b_positions = np.array([[[1.,1.1],[3.,0.23],[0.,4.1]]])\n",
    "tensor_a_positions = tf.Variable(a_positions)\n",
    "tensor_b_positions = tf.Variable(b_positions)\n",
    "\n",
    "with tf.Session() as sess:\n",
    "    sess.run(tensor_a_positions.initializer)\n",
    "    sess.run(tensor_b_positions.initializer)\n",
    "    ground_dist_tensor = myground_dist_func(tensor_a_positions, tensor_b_positions)\n",
    "    plan_tensor = tf.py_func(func=plan_python, inp=[ground_dist_tensor],Tout=tf.float64)\n",
    "    print(\"Transport plan: \\n\",sess.run(plan_tensor))\n",
    "    \n",
    "    my_calc_loss_tensor = tf.linalg.trace(tf.matmul(ground_dist_tensor,tf.transpose(plan_tensor, perm=[0,2,1])))\n",
    "    print(\"\\nEMD:\\n\",my_calc_loss_tensor.eval())\n",
    "    \n",
    "    gradient_tensor = tf.gradients(my_calc_loss_tensor,tensor_b_positions)\n",
    "    print(\"\\nGradient:\\n\",sess.run(gradient_tensor))"
   ]
  },
  {
   "cell_type": "code",
   "execution_count": 1,
   "metadata": {},
   "outputs": [
    {
     "name": "stdout",
     "output_type": "stream",
     "text": [
      "[5.43474442]\n",
      "[array([[[ 0.        ,  1.        ],\n",
      "        [ 0.997074  ,  0.07644234],\n",
      "        [-0.42993358,  0.90286052]]])]\n"
     ]
    }
   ],
   "source": [
    "import ot\n",
    "import numpy as np\n",
    "import tensorflow as tf\n",
    "config = tf.ConfigProto()\n",
    "config.gpu_options.allow_growth = True\n",
    "sess = tf.Session(config=config)\n",
    "\n",
    "def plan_python(Ms):\n",
    "    result=[ot.emd(np.ones(len(M[0])),np.ones(len(M[1])),M) for M in Ms]\n",
    "    return np.array(result)\n",
    "\n",
    "def myground_dist_func(a_positions, b_positions,numpoints=3):\n",
    "    tiled_b = tf.tile(b_positions,[1,numpoints,1])\n",
    "    repeated_a = tf.reshape(a_positions, [1,-1,1,2])    # Convert to a len(yp) x 1 matrix.\n",
    "    repeated_a = tf.tile(repeated_a, [1,1,numpoints,1])  # Create multiple columns.\n",
    "    repeated_a = tf.reshape(repeated_a, [1,-1,2])  \n",
    "\n",
    "    ground_dist = tf.norm(repeated_a-tiled_b,axis=-1)\n",
    "    ground_dist = tf.reshape(ground_dist,[1,numpoints,numpoints])\n",
    "    \n",
    "    return ground_dist\n",
    "\n",
    "def emd_loss(y_true, y_pred):\n",
    "    ground_dist_tensor = myground_dist_func(y_true, y_pred)\n",
    "    plan_tensor = tf.py_func(func=plan_python, inp=[ground_dist_tensor],Tout=tf.float64)\n",
    "    \n",
    "    my_calc_loss_tensor = tf.linalg.trace(tf.matmul(ground_dist_tensor,tf.transpose(plan_tensor, perm=[0,2,1])))\n",
    "    return my_calc_loss_tensor\n",
    "\n",
    "\n",
    "y_true_nparr = np.array([[[0.,0.],[1.,1.],[1.,2.]]])\n",
    "y_pred_nparr = np.array([[[1.,1.1],[3.,0.23],[0.,4.1]]])\n",
    "y_true = tf.Variable(y_true_nparr)\n",
    "y_pred = tf.Variable(y_pred_nparr)\n",
    "\n",
    "with tf.Session() as sess:\n",
    "    sess.run(y_true.initializer)\n",
    "    sess.run(y_pred.initializer)\n",
    "    loss = emd_loss(y_true,y_pred)\n",
    "    gradients = tf.gradients(loss,y_pred)\n",
    "    print(sess.run(emd_loss(y_true,y_pred)))\n",
    "    print(sess.run(gradients))"
   ]
  },
  {
   "cell_type": "code",
   "execution_count": 89,
   "metadata": {
    "scrolled": true
   },
   "outputs": [
    {
     "name": "stdout",
     "output_type": "stream",
     "text": [
      "[[[0. 1. 0.]\n",
      "  [1. 0. 0.]\n",
      "  [0. 0. 1.]]]\n",
      "[5.43474442]\n",
      "[[[1.48660687 3.00880375 4.1       ]\n",
      "  [0.1        2.14310522 3.25729949]\n",
      "  [0.9        2.67074896 2.32594067]]]\n",
      "(1, 3, 2, 1, 3, 3)\n",
      "[[[[[ 0.        ]]\n",
      "\n",
      "   [[ 1.        ]]]\n",
      "\n",
      "\n",
      "  [[[ 0.997074  ]]\n",
      "\n",
      "   [[ 0.07644234]]]\n",
      "\n",
      "\n",
      "  [[[-0.42993358]]\n",
      "\n",
      "   [[ 0.90286052]]]]]\n",
      "[array([[[ 0.        ,  1.        ],\n",
      "        [ 0.997074  ,  0.07644234],\n",
      "        [-0.42993358,  0.90286052]]])]\n"
     ]
    }
   ],
   "source": [
    "myloss = tf.Variable(np.array([cost]))\n",
    "#myplan = tf.Variable(np.array([plan]))\n",
    "tensor_a_positions = tf.Variable(a_positions)\n",
    "tensor_b_positions = tf.Variable(b_positions)\n",
    "\n",
    "\n",
    "\n",
    "with tf.Session() as sess:\n",
    "    sess.run(myloss.initializer)\n",
    "    #sess.run(myplan.initializer)\n",
    "    sess.run(tensor_a_positions.initializer)\n",
    "    sess.run(tensor_b_positions.initializer)\n",
    "    #sess.run(myotherthing.initializer)\n",
    "    #sess.run(myprod.initializer)\n",
    "    ground_dist_tensor = myground_dist_func(tensor_a_positions, tensor_b_positions)\n",
    "    myplan = tf.py_func(func=plan_wrapper, inp=[ground_dist_tensor],Tout=tf.float64)\n",
    "    print(sess.run(myplan))\n",
    "    #my_calc_loss_tensor = tf.linalg.trace(tf.matmul(ground_dist_tensor,tf.transpose(myplan)))\n",
    "    my_calc_loss_tensor = tf.linalg.trace(tf.matmul(ground_dist_tensor,tf.transpose(myplan, perm=[0,2,1])))\n",
    "    print(my_calc_loss_tensor.eval())\n",
    "    print(sess.run(ground_dist_tensor))\n",
    "    jac_grounddist = jacobian(ground_dist_tensor,tensor_b_positions)\n",
    "    jac_grounddist = tf.transpose(jac_grounddist, perm=[3,4,5,0,1,2])\n",
    "    print(jac_grounddist.shape)\n",
    "#     #my_calc_derivative = tf.linalg.trace(tf.matmul(tf.transpose(jac_grounddist, perm=[3,4,5,0,1,2]),tf.reshape(tf.transpose(myplan, perm=[0,2,1]),[1,1,1,1,3,3])))\n",
    "    my_tensordot = tf.transpose(tf.tensordot(jac_grounddist,myplan,[[5],[1]]),perm=[0,1,2,3,5,4,6])\n",
    "    my_tensordot = tf.trace(my_tensordot)\n",
    "    print(sess.run(my_tensordot))\n",
    "#     #print(sess.run( tf.linalg.trace(tf.matmul(tf.gradients(ground_dist_tensor,tensor_b_positions)[0],tf.transpose(myplan)))))\n",
    "    print(sess.run(tf.gradients(my_calc_loss_tensor,tensor_b_positions)))\n",
    "    #print(my_calc_loss_tensor.eval())\n",
    "    #print(tf.gradients(myprod,myotherthing)[0][0].eval())"
   ]
  },
  {
   "cell_type": "code",
   "execution_count": 45,
   "metadata": {},
   "outputs": [
    {
     "ename": "ImportError",
     "evalue": "No module named 'tensorflow.python.ops.parallel_for'",
     "output_type": "error",
     "traceback": [
      "\u001b[0;31m---------------------------------------------------------------------------\u001b[0m",
      "\u001b[0;31mImportError\u001b[0m                               Traceback (most recent call last)",
      "\u001b[0;32m<ipython-input-45-43ed867dd0b9>\u001b[0m in \u001b[0;36m<module>\u001b[0;34m\u001b[0m\n\u001b[0;32m----> 1\u001b[0;31m \u001b[0;32mfrom\u001b[0m \u001b[0mtensorflow\u001b[0m\u001b[0;34m.\u001b[0m\u001b[0mpython\u001b[0m\u001b[0;34m.\u001b[0m\u001b[0mops\u001b[0m\u001b[0;34m.\u001b[0m\u001b[0mparallel_for\u001b[0m\u001b[0;34m.\u001b[0m\u001b[0mgradients\u001b[0m \u001b[0;32mimport\u001b[0m \u001b[0mjacobian\u001b[0m\u001b[0;34m\u001b[0m\u001b[0m\n\u001b[0m",
      "\u001b[0;31mImportError\u001b[0m: No module named 'tensorflow.python.ops.parallel_for'"
     ]
    }
   ],
   "source": [
    "from tensorflow.python.ops.parallel_for.gradients import jacobian"
   ]
  },
  {
   "cell_type": "code",
   "execution_count": 40,
   "metadata": {},
   "outputs": [
    {
     "name": "stdout",
     "output_type": "stream",
     "text": [
      "[1 2]\n",
      "[1 2]\n"
     ]
    }
   ],
   "source": [
    "v = tf.Variable([1, 2])\n",
    "init = tf.global_variables_initializer()\n",
    "\n",
    "with tf.Session() as sess:\n",
    "    sess.run(v.initializer)\n",
    "    #sess.run(init)\n",
    "    # Usage passing the session explicitly.\n",
    "    print(v.eval(sess))\n",
    "    # Usage with the default session.  The 'with' block\n",
    "    # above makes 'sess' the default session.\n",
    "    print(v.eval())"
   ]
  },
  {
   "cell_type": "code",
   "execution_count": null,
   "metadata": {},
   "outputs": [],
   "source": []
  }
 ],
 "metadata": {
  "kernelspec": {
   "display_name": "EMD-VAE_python3",
   "language": "python",
   "name": "emd-vae_python3"
  },
  "language_info": {
   "codemirror_mode": {
    "name": "ipython",
    "version": 3
   },
   "file_extension": ".py",
   "mimetype": "text/x-python",
   "name": "python",
   "nbconvert_exporter": "python",
   "pygments_lexer": "ipython3",
   "version": "3.5.2"
  }
 },
 "nbformat": 4,
 "nbformat_minor": 2
}
