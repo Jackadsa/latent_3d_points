{
 "cells": [
  {
   "cell_type": "code",
   "execution_count": 1,
   "metadata": {},
   "outputs": [],
   "source": [
    "import ot\n",
    "import numpy as np\n",
    "import tensorflow as tf\n",
    "config = tf.ConfigProto()\n",
    "config.gpu_options.allow_growth = True\n",
    "sess = tf.Session(config=config)\n",
    "\n",
    "import sys\n",
    "sys.path.append('/home/jcollins')\n",
    "\n",
    "from latent_3d_points.src.tf_sinkhorn import ground_distance_tf, sinkhorn_knopp_tf"
   ]
  },
  {
   "cell_type": "code",
   "execution_count": 2,
   "metadata": {},
   "outputs": [],
   "source": [
    "numpoints = 3\n",
    "a=[[1.,1.,1.]]\n",
    "b=[[1.,1.,1.]]\n",
    "a_positions = np.array([[[0.,0.],[1.,1.],[1.,2.]]])\n",
    "b_positions = np.array([[[1.,1.1],[3.,0.23],[0.,4.1]]])\n",
    "M=np.array([[np.linalg.norm(a-b) for a in a_positions[0]] for b in b_positions[0]])\n",
    "result=ot.emd(a[0],b[0],M,log=True)\n",
    "plan = result[0]\n",
    "cost = result[1]['cost']"
   ]
  },
  {
   "cell_type": "code",
   "execution_count": 3,
   "metadata": {},
   "outputs": [],
   "source": [
    "def plan_wrapper(Ms):\n",
    "    result=[ot.emd(np.ones(len(M[0])),np.ones(len(M[1])),M) for M in Ms]\n",
    "    return np.array(result)"
   ]
  },
  {
   "cell_type": "code",
   "execution_count": 4,
   "metadata": {},
   "outputs": [
    {
     "data": {
      "text/plain": [
       "array([[[0., 1., 0.],\n",
       "        [1., 0., 0.],\n",
       "        [0., 0., 1.]]])"
      ]
     },
     "execution_count": 4,
     "metadata": {},
     "output_type": "execute_result"
    }
   ],
   "source": [
    "plan_wrapper([M])"
   ]
  },
  {
   "cell_type": "code",
   "execution_count": 5,
   "metadata": {},
   "outputs": [],
   "source": [
    "def jacobian(y, x):\n",
    "  y_flat = tf.reshape(y, (-1,))\n",
    "  jacobian_flat = tf.stack(\n",
    "      [tf.gradients(y_i, x)[0] for y_i in tf.unstack(y_flat)])\n",
    "  return tf.reshape(jacobian_flat, y.shape.concatenate(x.shape))"
   ]
  },
  {
   "cell_type": "code",
   "execution_count": 6,
   "metadata": {},
   "outputs": [
    {
     "data": {
      "text/plain": [
       "(1, 3, 2)"
      ]
     },
     "execution_count": 6,
     "metadata": {},
     "output_type": "execute_result"
    }
   ],
   "source": [
    "a_positions.shape"
   ]
  },
  {
   "cell_type": "code",
   "execution_count": 12,
   "metadata": {},
   "outputs": [
    {
     "name": "stdout",
     "output_type": "stream",
     "text": [
      "Transport plan: \n",
      " [[[0. 1. 0.]\n",
      "  [1. 0. 0.]\n",
      "  [0. 0. 1.]]\n",
      "\n",
      " [[0. 1. 0.]\n",
      "  [1. 0. 0.]\n",
      "  [0. 0. 1.]]]\n",
      "\n",
      "EMD:\n",
      " 5.43474441892319\n",
      "\n",
      "Gradient:\n",
      " [array([[[ 0.        ,  0.5       ],\n",
      "        [ 0.498537  ,  0.03822117],\n",
      "        [-0.21496679,  0.45143026]],\n",
      "\n",
      "       [[ 0.        ,  0.5       ],\n",
      "        [ 0.498537  ,  0.03822117],\n",
      "        [-0.21496679,  0.45143026]]])]\n",
      "\n",
      "ground_dist:\n",
      " [[[1.48660687 3.00880375 4.1       ]\n",
      "  [0.1        2.14310522 3.25729949]\n",
      "  [0.9        2.67074896 2.32594067]]\n",
      "\n",
      " [[1.48660687 3.00880375 4.1       ]\n",
      "  [0.1        2.14310522 3.25729949]\n",
      "  [0.9        2.67074896 2.32594067]]]\n"
     ]
    }
   ],
   "source": [
    "import ot\n",
    "import numpy as np\n",
    "import tensorflow as tf\n",
    "config = tf.ConfigProto()\n",
    "config.gpu_options.allow_growth = True\n",
    "sess = tf.Session(config=config)\n",
    "\n",
    "def plan_python(Ms):\n",
    "    result=[ot.emd(np.ones(len(M[0])),np.ones(len(M[1])),M) for M in Ms]\n",
    "    return np.array(result)\n",
    "\n",
    "def myground_dist_func(a_positions, b_positions, numpoints=3):\n",
    "    nevents = a_positions.shape[0]\n",
    "    tiled_b = tf.tile(b_positions,[1,numpoints,1])\n",
    "    repeated_a = tf.reshape(a_positions, [nevents,-1,1,2])    # Convert to a len(yp) x 1 matrix.\n",
    "    repeated_a = tf.tile(repeated_a, [1,1,numpoints,1])  # Create multiple columns.\n",
    "    repeated_a = tf.reshape(repeated_a, [nevents,-1,2])  \n",
    "\n",
    "    ground_dist = tf.norm(repeated_a-tiled_b,axis=-1)\n",
    "    ground_dist = tf.reshape(ground_dist,[nevents,numpoints,numpoints])\n",
    "    \n",
    "    return ground_dist\n",
    "\n",
    "\n",
    "\n",
    "a_positions = np.array([[[0.,0.],[1.,1.],[1.,2.]],[[0.,0.],[1.,1.],[1.,2.]]])\n",
    "b_positions = np.array([[[1.,1.1],[3.,0.23],[0.,4.1]],[[1.,1.1],[3.,0.23],[0.,4.1]]])\n",
    "tensor_a_positions = tf.Variable(a_positions)\n",
    "tensor_b_positions = tf.Variable(b_positions)\n",
    "\n",
    "with tf.Session() as sess:\n",
    "    sess.run(tensor_a_positions.initializer)\n",
    "    sess.run(tensor_b_positions.initializer)\n",
    "    ground_dist_tensor = myground_dist_func(tensor_a_positions, tensor_b_positions)\n",
    "    plan_tensor = tf.py_func(func=plan_python, inp=[ground_dist_tensor],Tout=tf.float64)\n",
    "    print(\"Transport plan: \\n\",sess.run(plan_tensor))\n",
    "    \n",
    "    my_calc_loss_tensor = tf.reduce_mean(tf.linalg.trace(tf.matmul(ground_dist_tensor,tf.transpose(plan_tensor, perm=[0,2,1]))))\n",
    "    print(\"\\nEMD:\\n\",my_calc_loss_tensor.eval())\n",
    "    \n",
    "    \n",
    "    gradient_tensor = tf.gradients(my_calc_loss_tensor,tensor_b_positions)\n",
    "    print(\"\\nGradient:\\n\",sess.run(gradient_tensor))\n",
    "    \n",
    "    ground_dist = myground_dist_func(tensor_a_positions,tensor_b_positions)\n",
    "    print(\"\\nground_dist:\\n\",sess.run(ground_dist))"
   ]
  },
  {
   "cell_type": "code",
   "execution_count": 4,
   "metadata": {},
   "outputs": [
    {
     "name": "stdout",
     "output_type": "stream",
     "text": [
      "(array([[[3.3824013e-20, 1.0000000e+00, 0.0000000e+00],\n",
      "        [9.9929577e-01, 7.0422533e-04, 0.0000000e+00],\n",
      "        [8.5195790e-34, 4.0431360e-25, 1.0000000e+00]],\n",
      "\n",
      "       [[3.3824013e-20, 1.0000000e+00, 0.0000000e+00],\n",
      "        [9.9929577e-01, 7.0422533e-04, 0.0000000e+00],\n",
      "        [8.5195790e-34, 4.0431360e-25, 1.0000000e+00]]], dtype=float32), 0.0009959250439249491, 72)\n"
     ]
    }
   ],
   "source": [
    "a_positions = np.array([[[0.,0.],[1.,1.],[1.,2.]],[[0.,0.],[1.,1.],[1.,2.]]])\n",
    "b_positions = np.array([[[1.,1.1],[3.,0.23],[0.,4.1]],[[1.,1.1],[3.,0.23],[0.,4.1]]])\n",
    "tensor_a_positions = tf.Variable(a_positions,dtype=tf.float32)\n",
    "tensor_b_positions = tf.Variable(b_positions,dtype=tf.float32)\n",
    "\n",
    "tensor_a_weights = tf.constant(1., dtype=tf.float32,shape=a_positions.shape[:-1])\n",
    "tensor_b_weights = tf.constant(1., dtype=tf.float32,shape=b_positions.shape[:-1])\n",
    "ground_distance, grnd_grads = ground_distance_tf(tensor_a_positions,tensor_b_positions)\n",
    "sink = sinkhorn_knopp_tf(tensor_a_weights,tensor_b_weights,ground_distance,0.01,numItermax = 1000, stopThr=1e-3)\n",
    "\n",
    "with tf.Session() as sess:\n",
    "    sess.run(tf.global_variables_initializer())\n",
    "    print(sess.run(sink))"
   ]
  },
  {
   "cell_type": "code",
   "execution_count": 2,
   "metadata": {},
   "outputs": [
    {
     "ename": "NameError",
     "evalue": "name 'ground_distance_tf_64' is not defined",
     "output_type": "error",
     "traceback": [
      "\u001b[0;31m---------------------------------------------------------------------------\u001b[0m",
      "\u001b[0;31mNameError\u001b[0m                                 Traceback (most recent call last)",
      "\u001b[0;32m<ipython-input-2-4b68685c9931>\u001b[0m in \u001b[0;36m<module>\u001b[0;34m\u001b[0m\n\u001b[1;32m      6\u001b[0m \u001b[0mtensor_a_weights\u001b[0m \u001b[0;34m=\u001b[0m \u001b[0mtf\u001b[0m\u001b[0;34m.\u001b[0m\u001b[0mconstant\u001b[0m\u001b[0;34m(\u001b[0m\u001b[0;36m1.\u001b[0m\u001b[0;34m,\u001b[0m \u001b[0mdtype\u001b[0m\u001b[0;34m=\u001b[0m\u001b[0mtf\u001b[0m\u001b[0;34m.\u001b[0m\u001b[0mfloat64\u001b[0m\u001b[0;34m,\u001b[0m\u001b[0mshape\u001b[0m\u001b[0;34m=\u001b[0m\u001b[0ma_positions\u001b[0m\u001b[0;34m.\u001b[0m\u001b[0mshape\u001b[0m\u001b[0;34m[\u001b[0m\u001b[0;34m:\u001b[0m\u001b[0;34m-\u001b[0m\u001b[0;36m1\u001b[0m\u001b[0;34m]\u001b[0m\u001b[0;34m)\u001b[0m\u001b[0;34m\u001b[0m\u001b[0m\n\u001b[1;32m      7\u001b[0m \u001b[0mtensor_b_weights\u001b[0m \u001b[0;34m=\u001b[0m \u001b[0mtf\u001b[0m\u001b[0;34m.\u001b[0m\u001b[0mconstant\u001b[0m\u001b[0;34m(\u001b[0m\u001b[0;36m1.\u001b[0m\u001b[0;34m,\u001b[0m \u001b[0mdtype\u001b[0m\u001b[0;34m=\u001b[0m\u001b[0mtf\u001b[0m\u001b[0;34m.\u001b[0m\u001b[0mfloat64\u001b[0m\u001b[0;34m,\u001b[0m\u001b[0mshape\u001b[0m\u001b[0;34m=\u001b[0m\u001b[0mb_positions\u001b[0m\u001b[0;34m.\u001b[0m\u001b[0mshape\u001b[0m\u001b[0;34m[\u001b[0m\u001b[0;34m:\u001b[0m\u001b[0;34m-\u001b[0m\u001b[0;36m1\u001b[0m\u001b[0;34m]\u001b[0m\u001b[0;34m)\u001b[0m\u001b[0;34m\u001b[0m\u001b[0m\n\u001b[0;32m----> 8\u001b[0;31m \u001b[0mground_distance\u001b[0m\u001b[0;34m,\u001b[0m \u001b[0mgrnd_grads\u001b[0m \u001b[0;34m=\u001b[0m \u001b[0mground_distance_tf_64\u001b[0m\u001b[0;34m(\u001b[0m\u001b[0mtensor_a_positions\u001b[0m\u001b[0;34m,\u001b[0m\u001b[0mtensor_b_positions\u001b[0m\u001b[0;34m)\u001b[0m\u001b[0;34m\u001b[0m\u001b[0m\n\u001b[0m\u001b[1;32m      9\u001b[0m \u001b[0msink\u001b[0m \u001b[0;34m=\u001b[0m \u001b[0msinkhorn_knopp_tf\u001b[0m\u001b[0;34m(\u001b[0m\u001b[0mtensor_a_weights\u001b[0m\u001b[0;34m,\u001b[0m\u001b[0mtensor_b_weights\u001b[0m\u001b[0;34m,\u001b[0m\u001b[0mground_distance\u001b[0m\u001b[0;34m,\u001b[0m\u001b[0;36m0.01\u001b[0m\u001b[0;34m,\u001b[0m\u001b[0mnumItermax\u001b[0m\u001b[0;34m=\u001b[0m\u001b[0;36m1000\u001b[0m\u001b[0;34m,\u001b[0m\u001b[0mverbose\u001b[0m\u001b[0;34m=\u001b[0m\u001b[0;32mTrue\u001b[0m\u001b[0;34m)\u001b[0m\u001b[0;34m\u001b[0m\u001b[0m\n\u001b[1;32m     10\u001b[0m \u001b[0;34m\u001b[0m\u001b[0m\n",
      "\u001b[0;31mNameError\u001b[0m: name 'ground_distance_tf_64' is not defined"
     ]
    }
   ],
   "source": [
    "a_positions = np.array([[[0.,0.],[1.,1.],[1.,2.]],[[0.,0.],[1.,1.],[1.,2.]]])\n",
    "b_positions = np.array([[[1.,1.1],[3.,0.23],[0.,4.1]],[[1.,1.1],[3.,0.23],[0.,4.1]]])\n",
    "tensor_a_positions = tf.Variable(a_positions,dtype=tf.float64)\n",
    "tensor_b_positions = tf.Variable(b_positions,dtype=tf.float64)\n",
    "\n",
    "tensor_a_weights = tf.constant(1., dtype=tf.float64,shape=a_positions.shape[:-1])\n",
    "tensor_b_weights = tf.constant(1., dtype=tf.float64,shape=b_positions.shape[:-1])\n",
    "ground_distance, grnd_grads = ground_distance_tf_64(tensor_a_positions,tensor_b_positions)\n",
    "sink = sinkhorn_knopp_tf(tensor_a_weights,tensor_b_weights,ground_distance,0.01,numItermax=1000,verbose=True)\n",
    "\n",
    "with tf.Session() as sess:\n",
    "    sess.run(tf.global_variables_initializer())\n",
    "    print(sess.run(sink))"
   ]
  },
  {
   "cell_type": "code",
   "execution_count": 38,
   "metadata": {},
   "outputs": [
    {
     "data": {
      "text/plain": [
       "(<tf.Tensor 'norm_27/Squeeze:0' shape=(2, 3, 3) dtype=float32>,\n",
       " <tf.Tensor 'Select_1:0' shape=(2, 3, 3, 2) dtype=float32>)"
      ]
     },
     "execution_count": 38,
     "metadata": {},
     "output_type": "execute_result"
    }
   ],
   "source": [
    "ground_distance"
   ]
  },
  {
   "cell_type": "code",
   "execution_count": 26,
   "metadata": {},
   "outputs": [
    {
     "data": {
      "text/plain": [
       "(2, 3, 2)"
      ]
     },
     "execution_count": 26,
     "metadata": {},
     "output_type": "execute_result"
    }
   ],
   "source": [
    "b_positions.shape"
   ]
  },
  {
   "cell_type": "code",
   "execution_count": 19,
   "metadata": {},
   "outputs": [
    {
     "name": "stdout",
     "output_type": "stream",
     "text": [
      "Transport plan: \n",
      " [[[5.46308621e-03 9.94423449e-01 1.13464583e-04]\n",
      "  [5.01210895e-01 4.98743890e-01 4.52155086e-05]\n",
      "  [3.33572242e-04 5.05679352e-03 9.94609634e-01]]\n",
      "\n",
      " [[5.46308621e-03 9.94423449e-01 1.13464583e-04]\n",
      "  [5.01210895e-01 4.98743890e-01 4.52155086e-05]\n",
      "  [3.33572242e-04 5.05679352e-03 9.94609634e-01]]]\n",
      "\n",
      "EMD:\n",
      " [6.44694931 6.44694931]\n",
      "\n",
      "Gradient:\n",
      " [array([[[ 0.00367487,  0.50491968],\n",
      "        [ 1.46074098, -0.10652982],\n",
      "        [-0.42762996,  0.89815027]],\n",
      "\n",
      "       [[ 0.00367487,  0.50491968],\n",
      "        [ 1.46074098, -0.10652982],\n",
      "        [-0.42762996,  0.89815027]]])]\n"
     ]
    }
   ],
   "source": [
    "import ot\n",
    "import numpy as np\n",
    "import tensorflow as tf\n",
    "config = tf.ConfigProto()\n",
    "config.gpu_options.allow_growth = True\n",
    "sess = tf.Session(config=config)\n",
    "\n",
    "def plan_python(Ms):\n",
    "    result=[ot.bregman.sinkhorn(np.ones(len(M[0])),np.ones(len(M[1])),M,0.1,numItermax=1) for M in Ms]\n",
    "    return np.array(result)\n",
    "\n",
    "def myground_dist_func(a_positions, b_positions, numpoints=3):\n",
    "    nevents = a_positions.shape[0]\n",
    "    tiled_b = tf.tile(b_positions,[1,numpoints,1])\n",
    "    repeated_a = tf.reshape(a_positions, [nevents,-1,1,2])    # Convert to a len(yp) x 1 matrix.\n",
    "    repeated_a = tf.tile(repeated_a, [1,1,numpoints,1])  # Create multiple columns.\n",
    "    repeated_a = tf.reshape(repeated_a, [nevents,-1,2])  \n",
    "\n",
    "    ground_dist = tf.norm(repeated_a-tiled_b,axis=-1)\n",
    "    ground_dist = tf.reshape(ground_dist,[nevents,numpoints,numpoints])\n",
    "    \n",
    "    return ground_dist\n",
    "\n",
    "\n",
    "\n",
    "a_positions = np.array([[[0.,0.],[1.,1.],[1.,2.]],[[0.,0.],[1.,1.],[1.,2.]]])\n",
    "b_positions = np.array([[[1.,1.1],[3.,0.23],[0.,4.1]],[[1.,1.1],[3.,0.23],[0.,4.1]]])\n",
    "tensor_a_positions = tf.Variable(a_positions)\n",
    "tensor_b_positions = tf.Variable(b_positions)\n",
    "\n",
    "with tf.Session() as sess:\n",
    "    sess.run(tensor_a_positions.initializer)\n",
    "    sess.run(tensor_b_positions.initializer)\n",
    "    ground_dist_tensor = myground_dist_func(tensor_a_positions, tensor_b_positions)\n",
    "    plan_tensor = tf.py_func(func=plan_python, inp=[ground_dist_tensor],Tout=tf.float64)\n",
    "    print(\"Transport plan: \\n\",sess.run(plan_tensor))\n",
    "    \n",
    "    my_calc_loss_tensor = tf.linalg.trace(tf.matmul(ground_dist_tensor,tf.transpose(plan_tensor, perm=[0,2,1])))\n",
    "    print(\"\\nEMD:\\n\",my_calc_loss_tensor.eval())\n",
    "    \n",
    "    \n",
    "    gradient_tensor = tf.gradients(my_calc_loss_tensor,tensor_b_positions)\n",
    "    print(\"\\nGradient:\\n\",sess.run(gradient_tensor))"
   ]
  },
  {
   "cell_type": "code",
   "execution_count": 23,
   "metadata": {},
   "outputs": [
    {
     "name": "stdout",
     "output_type": "stream",
     "text": [
      "[[[0. 1. 0.]\n",
      "  [1. 0. 0.]\n",
      "  [0. 0. 1.]]]\n",
      "[5.43474442]\n",
      "[array([[[ 0.        ,  1.        ],\n",
      "        [ 0.997074  ,  0.07644234],\n",
      "        [-0.42993358,  0.90286052]]])]\n"
     ]
    }
   ],
   "source": [
    "import ot\n",
    "import numpy as np\n",
    "import tensorflow as tf\n",
    "config = tf.ConfigProto()\n",
    "config.gpu_options.allow_growth = True\n",
    "sess = tf.Session(config=config)\n",
    "\n",
    "def plan_python(Ms):\n",
    "    result=[ot.emd(np.ones(len(M[0])),np.ones(len(M[1])),M) for M in Ms]\n",
    "    return np.array(result)\n",
    "\n",
    "def myground_dist_func(a_positions, b_positions,numpoints=3):\n",
    "    tiled_b = tf.tile(b_positions,[1,numpoints,1])\n",
    "    repeated_a = tf.reshape(a_positions, [1,-1,1,2])    # Convert to a len(yp) x 1 matrix.\n",
    "    repeated_a = tf.tile(repeated_a, [1,1,numpoints,1])  # Create multiple columns.\n",
    "    repeated_a = tf.reshape(repeated_a, [1,-1,2])  \n",
    "\n",
    "    ground_dist = tf.norm(repeated_a-tiled_b,axis=-1)\n",
    "    ground_dist = tf.reshape(ground_dist,[1,numpoints,numpoints])\n",
    "    \n",
    "    return ground_dist\n",
    "\n",
    "def emd_loss(y_true, y_pred):\n",
    "    ground_dist_tensor = myground_dist_func(y_true, y_pred)\n",
    "    plan_tensor = tf.py_func(func=plan_python, inp=[ground_dist_tensor],Tout=tf.float64)\n",
    "    \n",
    "    my_calc_loss_tensor = tf.linalg.trace(tf.matmul(ground_dist_tensor,tf.transpose(plan_tensor, perm=[0,2,1])))\n",
    "    return my_calc_loss_tensor\n",
    "\n",
    "\n",
    "y_true_nparr = np.array([[[0.,0.],[1.,1.],[1.,2.]]])\n",
    "y_pred_nparr = np.array([[[1.,1.1],[3.,0.23],[0.,4.1]]])\n",
    "y_true = tf.Variable(y_true_nparr)\n",
    "y_pred = tf.Variable(y_pred_nparr)\n",
    "\n",
    "with tf.Session() as sess:\n",
    "    sess.run(y_true.initializer)\n",
    "    sess.run(y_pred.initializer)\n",
    "    loss = emd_loss(y_true,y_pred)\n",
    "    gradients = tf.gradients(loss,y_pred)\n",
    "    ground_dist_tensor = myground_dist_func(y_true, y_pred)\n",
    "    print(sess.run(tf.py_func(func=plan_python, inp=[ground_dist_tensor],Tout=tf.float64)))\n",
    "    print(sess.run(emd_loss(y_true,y_pred)))\n",
    "    print(sess.run(gradients))\n"
   ]
  },
  {
   "cell_type": "code",
   "execution_count": 89,
   "metadata": {
    "scrolled": true
   },
   "outputs": [
    {
     "name": "stdout",
     "output_type": "stream",
     "text": [
      "[[[0. 1. 0.]\n",
      "  [1. 0. 0.]\n",
      "  [0. 0. 1.]]]\n",
      "[5.43474442]\n",
      "[[[1.48660687 3.00880375 4.1       ]\n",
      "  [0.1        2.14310522 3.25729949]\n",
      "  [0.9        2.67074896 2.32594067]]]\n",
      "(1, 3, 2, 1, 3, 3)\n",
      "[[[[[ 0.        ]]\n",
      "\n",
      "   [[ 1.        ]]]\n",
      "\n",
      "\n",
      "  [[[ 0.997074  ]]\n",
      "\n",
      "   [[ 0.07644234]]]\n",
      "\n",
      "\n",
      "  [[[-0.42993358]]\n",
      "\n",
      "   [[ 0.90286052]]]]]\n",
      "[array([[[ 0.        ,  1.        ],\n",
      "        [ 0.997074  ,  0.07644234],\n",
      "        [-0.42993358,  0.90286052]]])]\n"
     ]
    }
   ],
   "source": [
    "myloss = tf.Variable(np.array([cost]))\n",
    "#myplan = tf.Variable(np.array([plan]))\n",
    "tensor_a_positions = tf.Variable(a_positions)\n",
    "tensor_b_positions = tf.Variable(b_positions)\n",
    "\n",
    "\n",
    "\n",
    "with tf.Session() as sess:\n",
    "    sess.run(myloss.initializer)\n",
    "    #sess.run(myplan.initializer)\n",
    "    sess.run(tensor_a_positions.initializer)\n",
    "    sess.run(tensor_b_positions.initializer)\n",
    "    #sess.run(myotherthing.initializer)\n",
    "    #sess.run(myprod.initializer)\n",
    "    ground_dist_tensor = myground_dist_func(tensor_a_positions, tensor_b_positions)\n",
    "    myplan = tf.py_func(func=plan_wrapper, inp=[ground_dist_tensor],Tout=tf.float64)\n",
    "    print(sess.run(myplan))\n",
    "    #my_calc_loss_tensor = tf.linalg.trace(tf.matmul(ground_dist_tensor,tf.transpose(myplan)))\n",
    "    my_calc_loss_tensor = tf.linalg.trace(tf.matmul(ground_dist_tensor,tf.transpose(myplan, perm=[0,2,1])))\n",
    "    print(my_calc_loss_tensor.eval())\n",
    "    print(sess.run(ground_dist_tensor))\n",
    "    jac_grounddist = jacobian(ground_dist_tensor,tensor_b_positions)\n",
    "    jac_grounddist = tf.transpose(jac_grounddist, perm=[3,4,5,0,1,2])\n",
    "    print(jac_grounddist.shape)\n",
    "#     #my_calc_derivative = tf.linalg.trace(tf.matmul(tf.transpose(jac_grounddist, perm=[3,4,5,0,1,2]),tf.reshape(tf.transpose(myplan, perm=[0,2,1]),[1,1,1,1,3,3])))\n",
    "    my_tensordot = tf.transpose(tf.tensordot(jac_grounddist,myplan,[[5],[1]]),perm=[0,1,2,3,5,4,6])\n",
    "    my_tensordot = tf.trace(my_tensordot)\n",
    "    print(sess.run(my_tensordot))\n",
    "#     #print(sess.run( tf.linalg.trace(tf.matmul(tf.gradients(ground_dist_tensor,tensor_b_positions)[0],tf.transpose(myplan)))))\n",
    "    print(sess.run(tf.gradients(my_calc_loss_tensor,tensor_b_positions)))\n",
    "    #print(my_calc_loss_tensor.eval())\n",
    "    #print(tf.gradients(myprod,myotherthing)[0][0].eval())"
   ]
  },
  {
   "cell_type": "code",
   "execution_count": 45,
   "metadata": {},
   "outputs": [
    {
     "ename": "ImportError",
     "evalue": "No module named 'tensorflow.python.ops.parallel_for'",
     "output_type": "error",
     "traceback": [
      "\u001b[0;31m---------------------------------------------------------------------------\u001b[0m",
      "\u001b[0;31mImportError\u001b[0m                               Traceback (most recent call last)",
      "\u001b[0;32m<ipython-input-45-43ed867dd0b9>\u001b[0m in \u001b[0;36m<module>\u001b[0;34m\u001b[0m\n\u001b[0;32m----> 1\u001b[0;31m \u001b[0;32mfrom\u001b[0m \u001b[0mtensorflow\u001b[0m\u001b[0;34m.\u001b[0m\u001b[0mpython\u001b[0m\u001b[0;34m.\u001b[0m\u001b[0mops\u001b[0m\u001b[0;34m.\u001b[0m\u001b[0mparallel_for\u001b[0m\u001b[0;34m.\u001b[0m\u001b[0mgradients\u001b[0m \u001b[0;32mimport\u001b[0m \u001b[0mjacobian\u001b[0m\u001b[0;34m\u001b[0m\u001b[0m\n\u001b[0m",
      "\u001b[0;31mImportError\u001b[0m: No module named 'tensorflow.python.ops.parallel_for'"
     ]
    }
   ],
   "source": [
    "from tensorflow.python.ops.parallel_for.gradients import jacobian"
   ]
  },
  {
   "cell_type": "code",
   "execution_count": 40,
   "metadata": {},
   "outputs": [
    {
     "name": "stdout",
     "output_type": "stream",
     "text": [
      "[1 2]\n",
      "[1 2]\n"
     ]
    }
   ],
   "source": [
    "v = tf.Variable([1, 2])\n",
    "init = tf.global_variables_initializer()\n",
    "\n",
    "with tf.Session() as sess:\n",
    "    sess.run(v.initializer)\n",
    "    #sess.run(init)\n",
    "    # Usage passing the session explicitly.\n",
    "    print(v.eval(sess))\n",
    "    # Usage with the default session.  The 'with' block\n",
    "    # above makes 'sess' the default session.\n",
    "    print(v.eval())"
   ]
  },
  {
   "cell_type": "code",
   "execution_count": null,
   "metadata": {},
   "outputs": [],
   "source": []
  }
 ],
 "metadata": {
  "kernelspec": {
   "display_name": "EMD-VAE_python3",
   "language": "python",
   "name": "emd-vae_python3"
  },
  "language_info": {
   "codemirror_mode": {
    "name": "ipython",
    "version": 3
   },
   "file_extension": ".py",
   "mimetype": "text/x-python",
   "name": "python",
   "nbconvert_exporter": "python",
   "pygments_lexer": "ipython3",
   "version": "3.5.2"
  }
 },
 "nbformat": 4,
 "nbformat_minor": 2
}
