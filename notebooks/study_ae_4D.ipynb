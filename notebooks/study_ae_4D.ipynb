{
 "cells": [
  {
   "cell_type": "markdown",
   "metadata": {},
   "source": [
    "## This notebook will help you train a vanilla Point-Cloud AE with the basic architecture we used in our paper.\n",
    "    (it assumes latent_3d_points is in the PYTHONPATH and the structural losses have been compiled)"
   ]
  },
  {
   "cell_type": "code",
   "execution_count": 126,
   "metadata": {},
   "outputs": [],
   "source": [
    "import os.path as osp\n",
    "\n",
    "import sys\n",
    "sys.path.append('/home/jcollins')\n",
    "\n",
    "from latent_3d_points.src.ae_templates import mlp_architecture_ala_iclr_18, default_train_params, \\\n",
    "                                              jack_1_template\n",
    "from latent_3d_points.src.autoencoder import Configuration as Conf\n",
    "from latent_3d_points.src.point_net_ae import PointNetAutoEncoder\n",
    "\n",
    "from latent_3d_points.src.in_out import snc_category_to_synth_id, create_dir, PointCloudDataSet, \\\n",
    "                                        load_all_point_clouds_under_folder\n",
    "\n",
    "from latent_3d_points.src.tf_utils import reset_tf_graph\n",
    "from latent_3d_points.src.general_utils import plot_3d_point_cloud\n",
    "import gc"
   ]
  },
  {
   "cell_type": "code",
   "execution_count": 127,
   "metadata": {},
   "outputs": [],
   "source": [
    "import tensorflow as tf\n",
    "config = tf.ConfigProto()\n",
    "config.gpu_options.allow_growth = True\n",
    "sess = tf.Session(config=config)"
   ]
  },
  {
   "cell_type": "code",
   "execution_count": 128,
   "metadata": {},
   "outputs": [
    {
     "name": "stdout",
     "output_type": "stream",
     "text": [
      "The autoreload extension is already loaded. To reload it, use:\n",
      "  %reload_ext autoreload\n"
     ]
    }
   ],
   "source": [
    "%load_ext autoreload\n",
    "%autoreload 2\n",
    "%matplotlib inline"
   ]
  },
  {
   "cell_type": "markdown",
   "metadata": {},
   "source": [
    "Define Basic Parameters"
   ]
  },
  {
   "cell_type": "code",
   "execution_count": 129,
   "metadata": {},
   "outputs": [],
   "source": [
    "top_out_dir = '../data/'          # Use to save Neural-Net check-points etc.\n",
    "top_in_dir = '../data/shape_net_core_uniform_samples_2048/' # Top-dir of where point-clouds are stored.\n",
    "\n",
    "experiment_name = 'single_class_ae_bneck-100'\n",
    "n_pc_points = 1000                # Number of points per model.\n",
    "bneck_size = 100                  # Bottleneck-AE size\n",
    "ae_loss = 'emd'                   # Loss to optimize: 'emd' or 'chamfer'"
   ]
  },
  {
   "cell_type": "markdown",
   "metadata": {},
   "source": [
    "Load Point-Clouds"
   ]
  },
  {
   "cell_type": "code",
   "execution_count": 130,
   "metadata": {},
   "outputs": [
    {
     "data": {
      "text/plain": [
       "132894"
      ]
     },
     "execution_count": 130,
     "metadata": {},
     "output_type": "execute_result"
    }
   ],
   "source": [
    "import pandas as pd\n",
    "numjets = 500000\n",
    "numvalid = 50000\n",
    "outstore = pd.HDFStore(\"/data1/users/jcollins/Heidelberg_sample/train_points.h5\")\n",
    "# rawdata = outstore.select(\"points\",stop=numjets).values\n",
    "# rawdata = rawdata.reshape(numjets,1000,2)\n",
    "# all_pc_data = PointCloudDataSet(rawdata,copy=False)\n",
    "validdata = outstore.select(\"points\",start=numjets,stop=numjets+numvalid).values\n",
    "validdata = validdata.reshape(numvalid,1000,2)\n",
    "valid_pc_data = PointCloudDataSet(validdata,copy=False)\n",
    "gc.collect()"
   ]
  },
  {
   "cell_type": "markdown",
   "metadata": {},
   "source": [
    "Load default training parameters (some of which are listed beloq). For more details please print the configuration object.\n",
    "\n",
    "    'batch_size': 50   \n",
    "    \n",
    "    'denoising': False     (# by default AE is not denoising)\n",
    "\n",
    "    'learning_rate': 0.0005\n",
    "\n",
    "    'z_rotate': False      (# randomly rotate models of each batch)\n",
    "    \n",
    "    'loss_display_step': 1 (# display loss at end of these many epochs)\n",
    "    'saver_step': 10       (# over how many epochs to save neural-network)"
   ]
  },
  {
   "cell_type": "code",
   "execution_count": 131,
   "metadata": {},
   "outputs": [],
   "source": [
    "train_params = default_train_params()\n",
    "train_params['saver_step'] = 2\n",
    "encoder, decoder, enc_args, dec_args = jack_1_template(n_pc_points, bneck_size)\n",
    "train_dir = create_dir(osp.join(top_out_dir, experiment_name))"
   ]
  },
  {
   "cell_type": "code",
   "execution_count": 132,
   "metadata": {},
   "outputs": [],
   "source": [
    "conf = Conf(n_input = [n_pc_points, 2],\n",
    "            loss = ae_loss,\n",
    "            training_epochs = train_params['training_epochs'],\n",
    "            batch_size = train_params['batch_size'],\n",
    "            denoising = train_params['denoising'],\n",
    "            learning_rate = train_params['learning_rate'],\n",
    "            train_dir = train_dir,\n",
    "            loss_display_step = train_params['loss_display_step'],\n",
    "            saver_step = train_params['saver_step'],\n",
    "            z_rotate = train_params['z_rotate'],\n",
    "            encoder = encoder,\n",
    "            decoder = decoder,\n",
    "            encoder_args = enc_args,\n",
    "            decoder_args = dec_args\n",
    "           )\n",
    "conf.experiment_name = experiment_name\n",
    "conf.held_out_step = 1   # How often to evaluate/print out loss on \n",
    "                         # held_out data (if they are provided in ae.train() ).\n",
    "conf.save(osp.join(train_dir, 'configuration'))"
   ]
  },
  {
   "cell_type": "code",
   "execution_count": 133,
   "metadata": {
    "scrolled": true
   },
   "outputs": [
    {
     "name": "stdout",
     "output_type": "stream",
     "text": [
      "Building Encoder\n",
      "encoder_conv_layer_0 conv params =  384 bnorm params =  256\n",
      "Tensor(\"single_class_ae_bneck-100_2/Relu:0\", shape=(?, 1000, 128), dtype=float32)\n",
      "output size: 128000 \n",
      "\n",
      "encoder_conv_layer_1 conv params =  16512 bnorm params =  256\n",
      "Tensor(\"single_class_ae_bneck-100_2/Relu_1:0\", shape=(?, 1000, 128), dtype=float32)\n",
      "output size: 128000 \n",
      "\n",
      "Symmetry Layer:\n",
      "Tensor(\"single_class_ae_bneck-100_2/Sum:0\", shape=(?, 128), dtype=float32) \n",
      "\n",
      "encoder_dense_layer_0 FC params =  16512 bnorm params =  256\n",
      "Tensor(\"single_class_ae_bneck-100_2/Relu_2:0\", shape=(?, 128), dtype=float32)\n",
      "output size: 128 \n",
      "\n",
      "encoder_dense_layer_1 FC params =  16512 bnorm params =  256\n",
      "Tensor(\"single_class_ae_bneck-100_2/Relu_3:0\", shape=(?, 128), dtype=float32)\n",
      "output size: 128 \n",
      "\n",
      "encoder_dense_layer_2 FC params =  12900 bnorm params =  200\n",
      "Tensor(\"single_class_ae_bneck-100_2/Relu_4:0\", shape=(?, 100), dtype=float32)\n",
      "output size: 100 \n",
      "\n",
      "Building Decoder\n",
      "decoder_fc_0 FC params =  25856 Tensor(\"single_class_ae_bneck-100_2/Relu_5:0\", shape=(?, 256), dtype=float32)\n",
      "output size: 256 \n",
      "\n",
      "decoder_fc_1 FC params =  65792 Tensor(\"single_class_ae_bneck-100_2/Relu_6:0\", shape=(?, 256), dtype=float32)\n",
      "output size: 256 \n",
      "\n",
      "decoder_fc_2 FC params =  514000 Tensor(\"single_class_ae_bneck-100_2/decoder_fc_2/BiasAdd:0\", shape=(?, 2000), dtype=float32)\n",
      "output size: 2000 \n",
      "\n",
      "INFO:tensorflow:Restoring parameters from ../data/single_class_ae_bneck-100/models.ckpt-120\n"
     ]
    }
   ],
   "source": [
    "load_pre_trained_ae = True\n",
    "restore_epoch = 120\n",
    "if load_pre_trained_ae:\n",
    "    conf = Conf.load(train_dir + '/configuration')\n",
    "    reset_tf_graph()\n",
    "    ae = PointNetAutoEncoder(conf.experiment_name, conf)\n",
    "    ae.restore_model(conf.train_dir, epoch=restore_epoch)"
   ]
  },
  {
   "cell_type": "markdown",
   "metadata": {},
   "source": [
    "Get a batch of reconstuctions and their latent-codes."
   ]
  },
  {
   "cell_type": "markdown",
   "metadata": {
    "collapsed": true
   },
   "source": [
    "Use any plotting mechanism such as matplotlib to visualize the results."
   ]
  },
  {
   "cell_type": "code",
   "execution_count": 134,
   "metadata": {},
   "outputs": [],
   "source": [
    "import ot\n",
    "from matplotlib.colors import LogNorm\n",
    "import numpy as np\n",
    "import matplotlib.pyplot as plt"
   ]
  },
  {
   "cell_type": "code",
   "execution_count": 135,
   "metadata": {},
   "outputs": [],
   "source": [
    "numload = 1000\n",
    "feed_pc, feed_model_names, _ = valid_pc_data.next_batch(numload )\n",
    "reconstructions = ae.reconstruct(feed_pc)[0]\n",
    "latent_codes = ae.transform(feed_pc)"
   ]
  },
  {
   "cell_type": "code",
   "execution_count": 136,
   "metadata": {},
   "outputs": [],
   "source": [
    "def jet_masses(jets, p_norm = 600):\n",
    "    numpoints = len(jets[0])\n",
    "    Delta_Rs = np.linalg.norm(feed_pc,axis=2)\n",
    "#    p_parr = np.sum(np.cos(Delta_Rs),axis=1)\n",
    "    p_parr = np.sum(np.cos(jets[:,:,0])*np.cos(jets[:,:,1]),axis=1)\n",
    "    masses = np.sqrt(numpoints**2 - np.power(p_parr,2))*p_norm/numpoints\n",
    "    return masses"
   ]
  },
  {
   "cell_type": "code",
   "execution_count": 137,
   "metadata": {},
   "outputs": [
    {
     "name": "stdout",
     "output_type": "stream",
     "text": [
      "##### Approx EMD #####\n",
      "[46.24652  11.986435 15.372121 24.07767  41.11498  38.526775 33.08373\n",
      " 46.57413  26.207329 24.984703]\n",
      "3.75018382072\n",
      "\n",
      " \n",
      " \n",
      " ##### True EMD #####\n",
      "1.8711950779\n",
      "[41.22896819 11.11247799 14.48606526 21.99206634 37.71184964 35.10297587\n",
      " 32.54650084 41.02177462 24.58218314 23.70822625]\n",
      "\n",
      " \n",
      " \n",
      " ##### Fractional difference #####\n",
      "[0.12169969 0.07864645 0.06116606 0.09483433 0.09024031 0.09753588\n",
      " 0.01650647 0.13535144 0.06611071 0.05384109]\n"
     ]
    }
   ],
   "source": [
    "import time\n",
    "from latent_3d_points.external.structural_losses import tf_approxmatch\n",
    "\n",
    "\n",
    "print \"##### Approx EMD #####\"\n",
    "nclouds = 1\n",
    "npoints = 1000\n",
    "ndim=2\n",
    "\n",
    "points1 = reconstructions[:10]\n",
    "points2 = feed_pc[:10]\n",
    "\n",
    "start = time.time()\n",
    "\n",
    "this = tf_approxmatch.approx_match(points1,points2)\n",
    "init_op = tf.initialize_all_variables()\n",
    "\n",
    "\n",
    "#run the graph\n",
    "with tf.Session() as sess:\n",
    "    sess.run(init_op) #execute init_op\n",
    "    #print the random values that we sample\n",
    "    transport = sess.run(this)\n",
    "    #print transport\n",
    "\n",
    "this_cost = tf_approxmatch.match_cost(points1,points2,transport)\n",
    "init_op = tf.initialize_all_variables()\n",
    "\n",
    "#run the graph\n",
    "with tf.Session() as sess:\n",
    "    sess.run(init_op) #execute init_op\n",
    "    #print the random values that we sample\n",
    "    cost = sess.run(this_cost)/1000*600\n",
    "    print np.array(cost)\n",
    "    \n",
    "print time.time()-start\n",
    "\n",
    "\n",
    "print \"\\n \\n \\n ##### True EMD #####\"\n",
    "start = time.time()\n",
    "M = [np.sqrt(ot.dist(points1[i],points2[i])) for i in range(len(points1))]\n",
    "\n",
    "truecost = np.array([ot.emd2(np.ones(1000),np.ones(1000),Mat) for Mat in M])/1000*600\n",
    "print time.time()-start\n",
    "print truecost\n",
    "\n",
    "print \"\\n \\n \\n ##### Fractional difference #####\"\n",
    "print (np.array(cost) - np.array(truecost))/np.array(truecost)"
   ]
  },
  {
   "cell_type": "code",
   "execution_count": 138,
   "metadata": {
    "scrolled": true
   },
   "outputs": [
    {
     "name": "stdout",
     "output_type": "stream",
     "text": [
      "34.357473494\n"
     ]
    },
    {
     "data": {
      "image/png": "[encoded data removed]",
      "text/plain": [
       "<Figure size 432x216 with 2 Axes>"
      ]
     },
     "metadata": {},
     "output_type": "display_data"
    },
    {
     "name": "stdout",
     "output_type": "stream",
     "text": [
      "9.260398327\n"
     ]
    },
    {
     "data": {
      "image/png": "[encoded data removed]",
      "text/plain": [
       "<Figure size 432x216 with 2 Axes>"
      ]
     },
     "metadata": {},
     "output_type": "display_data"
    },
    {
     "name": "stdout",
     "output_type": "stream",
     "text": [
      "12.0717210474\n"
     ]
    },
    {
     "data": {
      "image/png": "[encoded data removed]",
      "text/plain": [
       "<Figure size 432x216 with 2 Axes>"
      ]
     },
     "metadata": {},
     "output_type": "display_data"
    },
    {
     "name": "stdout",
     "output_type": "stream",
     "text": [
      "18.3267219473\n"
     ]
    },
    {
     "data": {
      "image/png": "[encoded data removed]",
      "text/plain": [
       "<Figure size 432x216 with 2 Axes>"
      ]
     },
     "metadata": {},
     "output_type": "display_data"
    },
    {
     "name": "stdout",
     "output_type": "stream",
     "text": [
      "31.4265413688\n"
     ]
    },
    {
     "data": {
      "image/png": "[encoded data removed]",
      "text/plain": [
       "<Figure size 432x216 with 2 Axes>"
      ]
     },
     "metadata": {},
     "output_type": "display_data"
    },
    {
     "name": "stdout",
     "output_type": "stream",
     "text": [
      "29.2524798898\n"
     ]
    },
    {
     "data": {
      "image/png": "[encoded data removed]",
      "text/plain": [
       "<Figure size 432x216 with 2 Axes>"
      ]
     },
     "metadata": {},
     "output_type": "display_data"
    },
    {
     "name": "stdout",
     "output_type": "stream",
     "text": [
      "27.1220840326\n"
     ]
    },
    {
     "data": {
      "image/png": "[encoded data removed]",
      "text/plain": [
       "<Figure size 432x216 with 2 Axes>"
      ]
     },
     "metadata": {},
     "output_type": "display_data"
    },
    {
     "name": "stdout",
     "output_type": "stream",
     "text": [
      "34.1848121838\n"
     ]
    },
    {
     "data": {
      "image/png": "[encoded data removed]",
      "text/plain": [
       "<Figure size 432x216 with 2 Axes>"
      ]
     },
     "metadata": {},
     "output_type": "display_data"
    },
    {
     "name": "stdout",
     "output_type": "stream",
     "text": [
      "20.4851526138\n"
     ]
    },
    {
     "data": {
      "image/png": "[encoded data removed]",
      "text/plain": [
       "<Figure size 432x216 with 2 Axes>"
      ]
     },
     "metadata": {},
     "output_type": "display_data"
    },
    {
     "name": "stdout",
     "output_type": "stream",
     "text": [
      "19.7568552046\n"
     ]
    },
    {
     "data": {
      "image/png": "[encoded data removed]",
      "text/plain": [
       "<Figure size 432x216 with 2 Axes>"
      ]
     },
     "metadata": {},
     "output_type": "display_data"
    },
    {
     "name": "stdout",
     "output_type": "stream",
     "text": [
      "11.2697122804\n"
     ]
    },
    {
     "data": {
      "image/png": "[encoded data removed]",
      "text/plain": [
       "<Figure size 432x216 with 2 Axes>"
      ]
     },
     "metadata": {},
     "output_type": "display_data"
    },
    {
     "name": "stdout",
     "output_type": "stream",
     "text": [
      "14.5346575484\n"
     ]
    },
    {
     "data": {
      "image/png": "[encoded data removed]",
      "text/plain": [
       "<Figure size 432x216 with 2 Axes>"
      ]
     },
     "metadata": {},
     "output_type": "display_data"
    },
    {
     "name": "stdout",
     "output_type": "stream",
     "text": [
      "28.2980298571\n"
     ]
    },
    {
     "data": {
      "image/png": "[encoded data removed]",
      "text/plain": [
       "<Figure size 432x216 with 2 Axes>"
      ]
     },
     "metadata": {},
     "output_type": "display_data"
    },
    {
     "name": "stdout",
     "output_type": "stream",
     "text": [
      "18.2012058004\n"
     ]
    },
    {
     "data": {
      "image/png": "[encoded data removed]",
      "text/plain": [
       "<Figure size 432x216 with 2 Axes>"
      ]
     },
     "metadata": {},
     "output_type": "display_data"
    },
    {
     "name": "stdout",
     "output_type": "stream",
     "text": [
      "17.4339785736\n"
     ]
    },
    {
     "data": {
      "image/png": "[encoded data removed]",
      "text/plain": [
       "<Figure size 432x216 with 2 Axes>"
      ]
     },
     "metadata": {},
     "output_type": "display_data"
    },
    {
     "name": "stdout",
     "output_type": "stream",
     "text": [
      "23.3279030237\n"
     ]
    },
    {
     "data": {
      "image/png": "[encoded data removed]",
      "text/plain": [
       "<Figure size 432x216 with 2 Axes>"
      ]
     },
     "metadata": {},
     "output_type": "display_data"
    },
    {
     "name": "stdout",
     "output_type": "stream",
     "text": [
      "12.7293453284\n"
     ]
    },
    {
     "data": {
      "image/png": "[encoded data removed]",
      "text/plain": [
       "<Figure size 432x216 with 2 Axes>"
      ]
     },
     "metadata": {},
     "output_type": "display_data"
    },
    {
     "name": "stdout",
     "output_type": "stream",
     "text": [
      "57.390005588\n"
     ]
    },
    {
     "data": {
      "image/png": "[encoded data removed]",
      "text/plain": [
       "<Figure size 432x216 with 2 Axes>"
      ]
     },
     "metadata": {},
     "output_type": "display_data"
    },
    {
     "name": "stdout",
     "output_type": "stream",
     "text": [
      "15.4697517197\n"
     ]
    },
    {
     "data": {
      "image/png": "[encoded data removed]",
      "text/plain": [
       "<Figure size 432x216 with 2 Axes>"
      ]
     },
     "metadata": {},
     "output_type": "display_data"
    },
    {
     "name": "stdout",
     "output_type": "stream",
     "text": [
      "23.1304838211\n"
     ]
    },
    {
     "data": {
      "image/png": "[encoded data removed]",
      "text/plain": [
       "<Figure size 432x216 with 2 Axes>"
      ]
     },
     "metadata": {},
     "output_type": "display_data"
    },
    {
     "name": "stdout",
     "output_type": "stream",
     "text": [
      "5.5165017834\n"
     ]
    },
    {
     "data": {
      "image/png": "[encoded data removed]",
      "text/plain": [
       "<Figure size 432x216 with 2 Axes>"
      ]
     },
     "metadata": {},
     "output_type": "display_data"
    },
    {
     "name": "stdout",
     "output_type": "stream",
     "text": [
      "11.4996276203\n"
     ]
    },
    {
     "data": {
      "image/png": "[encoded data removed]",
      "text/plain": [
       "<Figure size 432x216 with 2 Axes>"
      ]
     },
     "metadata": {},
     "output_type": "display_data"
    },
    {
     "name": "stdout",
     "output_type": "stream",
     "text": [
      "15.646773728\n"
     ]
    },
    {
     "data": {
      "image/png": "[encoded data removed]",
      "text/plain": [
       "<Figure size 432x216 with 2 Axes>"
      ]
     },
     "metadata": {},
     "output_type": "display_data"
    },
    {
     "name": "stdout",
     "output_type": "stream",
     "text": [
      "32.9950594991\n"
     ]
    },
    {
     "data": {
      "image/png": "[encoded data removed]",
      "text/plain": [
       "<Figure size 432x216 with 2 Axes>"
      ]
     },
     "metadata": {},
     "output_type": "display_data"
    },
    {
     "name": "stdout",
     "output_type": "stream",
     "text": [
      "9.77230371335\n"
     ]
    },
    {
     "data": {
      "image/png": "[encoded data removed]",
      "text/plain": [
       "<Figure size 432x216 with 2 Axes>"
      ]
     },
     "metadata": {},
     "output_type": "display_data"
    },
    {
     "name": "stdout",
     "output_type": "stream",
     "text": [
      "31.1244617972\n"
     ]
    },
    {
     "data": {
      "image/png": "[encoded data removed]",
      "text/plain": [
       "<Figure size 432x216 with 2 Axes>"
      ]
     },
     "metadata": {},
     "output_type": "display_data"
    },
    {
     "name": "stdout",
     "output_type": "stream",
     "text": [
      "17.6167210746\n"
     ]
    },
    {
     "data": {
      "image/png": "[encoded data removed]",
      "text/plain": [
       "<Figure size 432x216 with 2 Axes>"
      ]
     },
     "metadata": {},
     "output_type": "display_data"
    },
    {
     "name": "stdout",
     "output_type": "stream",
     "text": [
      "17.0037739191\n"
     ]
    },
    {
     "data": {
      "image/png": "[encoded data removed]",
      "text/plain": [
       "<Figure size 432x216 with 2 Axes>"
      ]
     },
     "metadata": {},
     "output_type": "display_data"
    },
    {
     "name": "stdout",
     "output_type": "stream",
     "text": [
      "41.2108931588\n"
     ]
    },
    {
     "data": {
      "image/png": "[encoded data removed]",
      "text/plain": [
       "<Figure size 432x216 with 2 Axes>"
      ]
     },
     "metadata": {},
     "output_type": "display_data"
    },
    {
     "name": "stdout",
     "output_type": "stream",
     "text": [
      "22.4281865952\n"
     ]
    },
    {
     "data": {
      "image/png": "[encoded data removed]",
      "text/plain": [
       "<Figure size 432x216 with 2 Axes>"
      ]
     },
     "metadata": {},
     "output_type": "display_data"
    },
    {
     "name": "stdout",
     "output_type": "stream",
     "text": [
      "39.2462351983\n"
     ]
    },
    {
     "data": {
      "image/png": "[encoded data removed]",
      "text/plain": [
       "<Figure size 432x216 with 2 Axes>"
      ]
     },
     "metadata": {},
     "output_type": "display_data"
    },
    {
     "name": "stdout",
     "output_type": "stream",
     "text": [
      "20.9061778006\n"
     ]
    },
    {
     "data": {
      "image/png": "[encoded data removed]",
      "text/plain": [
       "<Figure size 432x216 with 2 Axes>"
      ]
     },
     "metadata": {},
     "output_type": "display_data"
    },
    {
     "name": "stdout",
     "output_type": "stream",
     "text": [
      "8.01187315492\n"
     ]
    },
    {
     "data": {
      "image/png": "[encoded data removed]",
      "text/plain": [
       "<Figure size 432x216 with 2 Axes>"
      ]
     },
     "metadata": {},
     "output_type": "display_data"
    },
    {
     "name": "stdout",
     "output_type": "stream",
     "text": [
      "25.2201843134\n"
     ]
    },
    {
     "data": {
      "image/png": "[encoded data removed]",
      "text/plain": [
       "<Figure size 432x216 with 2 Axes>"
      ]
     },
     "metadata": {},
     "output_type": "display_data"
    },
    {
     "name": "stdout",
     "output_type": "stream",
     "text": [
      "21.4233322306\n"
     ]
    },
    {
     "data": {
      "image/png": "[encoded data removed]",
      "text/plain": [
       "<Figure size 432x216 with 2 Axes>"
      ]
     },
     "metadata": {},
     "output_type": "display_data"
    },
    {
     "name": "stdout",
     "output_type": "stream",
     "text": [
      "13.6967437926\n"
     ]
    },
    {
     "data": {
      "image/png": "[encoded data removed]",
      "text/plain": [
       "<Figure size 432x216 with 2 Axes>"
      ]
     },
     "metadata": {},
     "output_type": "display_data"
    },
    {
     "name": "stdout",
     "output_type": "stream",
     "text": [
      "24.3476553773\n"
     ]
    },
    {
     "data": {
      "image/png": "[encoded data removed]",
      "text/plain": [
       "<Figure size 432x216 with 2 Axes>"
      ]
     },
     "metadata": {},
     "output_type": "display_data"
    },
    {
     "name": "stdout",
     "output_type": "stream",
     "text": [
      "20.3379797619\n"
     ]
    },
    {
     "data": {
      "image/png": "[encoded data removed]",
      "text/plain": [
       "<Figure size 432x216 with 2 Axes>"
      ]
     },
     "metadata": {},
     "output_type": "display_data"
    },
    {
     "name": "stdout",
     "output_type": "stream",
     "text": [
      "7.15642021855\n"
     ]
    },
    {
     "data": {
      "image/png": "[encoded data removed]",
      "text/plain": [
       "<Figure size 432x216 with 2 Axes>"
      ]
     },
     "metadata": {},
     "output_type": "display_data"
    },
    {
     "name": "stdout",
     "output_type": "stream",
     "text": [
      "15.8524197334\n"
     ]
    },
    {
     "data": {
      "image/png": "[encoded data removed]",
      "text/plain": [
       "<Figure size 432x216 with 2 Axes>"
      ]
     },
     "metadata": {},
     "output_type": "display_data"
    },
    {
     "name": "stdout",
     "output_type": "stream",
     "text": [
      "28.8661152862\n"
     ]
    },
    {
     "data": {
      "image/png": "[encoded data removed]",
      "text/plain": [
       "<Figure size 432x216 with 2 Axes>"
      ]
     },
     "metadata": {},
     "output_type": "display_data"
    },
    {
     "name": "stdout",
     "output_type": "stream",
     "text": [
      "30.1506784265\n"
     ]
    },
    {
     "data": {
      "image/png": "[encoded data removed]",
      "text/plain": [
       "<Figure size 432x216 with 2 Axes>"
      ]
     },
     "metadata": {},
     "output_type": "display_data"
    },
    {
     "name": "stdout",
     "output_type": "stream",
     "text": [
      "16.2388530462\n"
     ]
    },
    {
     "data": {
      "image/png": "[encoded data removed]",
      "text/plain": [
       "<Figure size 432x216 with 2 Axes>"
      ]
     },
     "metadata": {},
     "output_type": "display_data"
    },
    {
     "name": "stdout",
     "output_type": "stream",
     "text": [
      "9.20974977697\n"
     ]
    },
    {
     "data": {
      "image/png": "[encoded data removed]",
      "text/plain": [
       "<Figure size 432x216 with 2 Axes>"
      ]
     },
     "metadata": {},
     "output_type": "display_data"
    },
    {
     "name": "stdout",
     "output_type": "stream",
     "text": [
      "26.0072711987\n"
     ]
    },
    {
     "data": {
      "image/png": "[encoded data removed]",
      "text/plain": [
       "<Figure size 432x216 with 2 Axes>"
      ]
     },
     "metadata": {},
     "output_type": "display_data"
    },
    {
     "name": "stdout",
     "output_type": "stream",
     "text": [
      "6.498022778\n"
     ]
    },
    {
     "data": {
      "image/png": "[encoded data removed]",
      "text/plain": [
       "<Figure size 432x216 with 2 Axes>"
      ]
     },
     "metadata": {},
     "output_type": "display_data"
    },
    {
     "name": "stdout",
     "output_type": "stream",
     "text": [
      "25.3457669056\n"
     ]
    },
    {
     "data": {
      "image/png": "[encoded data removed]",
      "text/plain": [
       "<Figure size 432x216 with 2 Axes>"
      ]
     },
     "metadata": {},
     "output_type": "display_data"
    },
    {
     "name": "stdout",
     "output_type": "stream",
     "text": [
      "22.2919596189\n"
     ]
    },
    {
     "data": {
      "image/png": "[encoded data removed]",
      "text/plain": [
       "<Figure size 432x216 with 2 Axes>"
      ]
     },
     "metadata": {},
     "output_type": "display_data"
    },
    {
     "name": "stdout",
     "output_type": "stream",
     "text": [
      "11.5184518134\n"
     ]
    },
    {
     "data": {
      "image/png": "[encoded data removed]",
      "text/plain": [
       "<Figure size 432x216 with 2 Axes>"
      ]
     },
     "metadata": {},
     "output_type": "display_data"
    },
    {
     "name": "stdout",
     "output_type": "stream",
     "text": [
      "16.713146645\n"
     ]
    },
    {
     "data": {
      "image/png": "[encoded data removed]",
      "text/plain": [
       "<Figure size 432x216 with 2 Axes>"
      ]
     },
     "metadata": {},
     "output_type": "display_data"
    }
   ],
   "source": [
    "countcut=0.9\n",
    "lim=1.5\n",
    "bins=np.linspace(-lim, lim, 30)\n",
    "\n",
    "#for i in range(len(feed_pc)):\n",
    "for i in range(50):   \n",
    "\n",
    "    M = np.sqrt(ot.dist(feed_pc[i],reconstructions[i]))\n",
    "    truecost = ot.emd2(np.ones(1000),np.ones(1000),M)/1000*500\n",
    "\n",
    "    print truecost\n",
    "    \n",
    "    fig, ax = plt.subplots(1, 2,figsize=[6,3])\n",
    "    counts, bx, by = np.histogram2d(feed_pc[i][:,0],feed_pc[i][:,1],bins=bins)\n",
    "    ax[0].imshow(counts.T , norm=LogNorm(countcut, 1000), origin='lower',cmap='Oranges')\n",
    "    #ax[0].hist2d(feed_pc[i][:,0],feed_pc[i][:,1],range=[[-lim,lim],[-lim,lim]],bins=bins, norm=LogNorm(0.5, 1000))\n",
    "    counts, bx, by = np.histogram2d(reconstructions[i][:,0],reconstructions[i][:,1],bins=bins)\n",
    "    ax[1].imshow(counts.T, norm=LogNorm(countcut, 1000), origin='lower',cmap='Oranges')\n",
    "    plt.show()"
   ]
  },
  {
   "cell_type": "code",
   "execution_count": 141,
   "metadata": {},
   "outputs": [
    {
     "name": "stdout",
     "output_type": "stream",
     "text": [
      "[41.22896819 11.11247799 14.48606526 21.99206634 37.71184964 35.10297587\n",
      " 32.54650084 41.02177462 24.58218314 23.70822625 13.52365474 17.44158906\n",
      " 33.95763583 21.84144696 20.92077429 27.99348363 15.27521439 68.86800671\n",
      " 18.56370206 27.75658059  6.61980214 13.79955314 18.77612847 39.5940714\n",
      " 11.72676446 37.34935416 21.14006529 20.4045287  49.45307179 26.91382391\n",
      " 47.09548224 25.08741336  9.61424779 30.26422118 25.70799868 16.43609255\n",
      " 29.21718645 24.40557571  8.58770426 19.02290368 34.63933834 36.18081411\n",
      " 19.48662366 11.05169973 31.20872544  7.79762733 30.41492029 26.75035154\n",
      " 13.82214218 20.05577597 37.09797814 21.60101043 48.20472083 27.05593764\n",
      " 45.49805789 25.45632964 39.48502376 21.32799469 13.09424235 11.1546664\n",
      " 27.33814574 41.18439394 20.14202626 41.09942237 11.02698613 18.94821938\n",
      "  7.82569129 32.70887471 31.33865789 20.71210249 38.79095276 19.32444525\n",
      " 46.57568602  6.80177581 21.74979496 40.3040627  28.11347457 22.99411451\n",
      " 15.80365055 16.00511435 10.67508857 38.65816428 16.88149306 26.63703331\n",
      " 11.83083492 12.36997719 24.80656561 20.14426777  6.01252299 30.86978566\n",
      "  9.69842101  8.96505145 18.37735832  9.65460624 25.35010876 24.08207427\n",
      " 42.97695837 27.38358208 12.89587756 25.7011716 ]\n",
      "16.146023035\n",
      "24.649936808101785\n",
      "11.866186082173998\n"
     ]
    }
   ],
   "source": [
    "import time\n",
    "points1 = reconstructions[:100]\n",
    "points2 = feed_pc[:100]\n",
    "\n",
    "start = time.time()\n",
    "M = [np.sqrt(ot.dist(points1[i],points2[i])) for i in range(len(points1))]\n",
    "\n",
    "qcd_truecost = np.array([ot.emd2(np.ones(1000),np.ones(1000),Mat) for Mat in M])/1000*600\n",
    "print qcd_truecost\n",
    "print time.time()-start\n",
    "\n",
    "print np.average(qcd_truecost)\n",
    "print np.std(qcd_truecost)"
   ]
  },
  {
   "cell_type": "code",
   "execution_count": 142,
   "metadata": {},
   "outputs": [],
   "source": [
    "import pandas as pd\n",
    "numjets = 0\n",
    "numvalid = 10000\n",
    "outstore = pd.HDFStore(\"/data1/users/jcollins/Heidelberg_sample/train_points_top.h5\")\n",
    "topdata = outstore.select(\"points\",start=numjets,stop=numjets+numvalid).values\n",
    "topdata = topdata.reshape(numvalid,1000,2)\n",
    "top_pc_data = PointCloudDataSet(topdata,copy=False)\n",
    "gc.collect()\n",
    "\n",
    "\n",
    "numload = 1000\n",
    "top_feed_pc, feed_model_names, _ = top_pc_data.next_batch(numload )\n",
    "top_reconstructions = ae.reconstruct(top_feed_pc)[0]\n",
    "top_latent_codes = ae.transform(top_feed_pc)"
   ]
  },
  {
   "cell_type": "code",
   "execution_count": 143,
   "metadata": {
    "scrolled": true
   },
   "outputs": [
    {
     "name": "stdout",
     "output_type": "stream",
     "text": [
      "23.352860987\n"
     ]
    },
    {
     "data": {
      "image/png": "[encoded data removed]",
      "text/plain": [
       "<Figure size 432x216 with 2 Axes>"
      ]
     },
     "metadata": {},
     "output_type": "display_data"
    },
    {
     "name": "stdout",
     "output_type": "stream",
     "text": [
      "32.7821602185\n"
     ]
    },
    {
     "data": {
      "image/png": "[encoded data removed]",
      "text/plain": [
       "<Figure size 432x216 with 2 Axes>"
      ]
     },
     "metadata": {},
     "output_type": "display_data"
    },
    {
     "name": "stdout",
     "output_type": "stream",
     "text": [
      "37.0705560507\n"
     ]
    },
    {
     "data": {
      "image/png": "[encoded data removed]",
      "text/plain": [
       "<Figure size 432x216 with 2 Axes>"
      ]
     },
     "metadata": {},
     "output_type": "display_data"
    },
    {
     "name": "stdout",
     "output_type": "stream",
     "text": [
      "20.2506708137\n"
     ]
    },
    {
     "data": {
      "image/png": "[encoded data removed]",
      "text/plain": [
       "<Figure size 432x216 with 2 Axes>"
      ]
     },
     "metadata": {},
     "output_type": "display_data"
    },
    {
     "name": "stdout",
     "output_type": "stream",
     "text": [
      "25.1301820552\n"
     ]
    },
    {
     "data": {
      "image/png": "[encoded data removed]",
      "text/plain": [
       "<Figure size 432x216 with 2 Axes>"
      ]
     },
     "metadata": {},
     "output_type": "display_data"
    },
    {
     "name": "stdout",
     "output_type": "stream",
     "text": [
      "27.0640223333\n"
     ]
    },
    {
     "data": {
      "image/png": "[encoded data removed]",
      "text/plain": [
       "<Figure size 432x216 with 2 Axes>"
      ]
     },
     "metadata": {},
     "output_type": "display_data"
    },
    {
     "name": "stdout",
     "output_type": "stream",
     "text": [
      "36.9648537255\n"
     ]
    },
    {
     "data": {
      "image/png": "[encoded data removed]",
      "text/plain": [
       "<Figure size 432x216 with 2 Axes>"
      ]
     },
     "metadata": {},
     "output_type": "display_data"
    },
    {
     "name": "stdout",
     "output_type": "stream",
     "text": [
      "27.0824622753\n"
     ]
    },
    {
     "data": {
      "image/png": "[encoded data removed]",
      "text/plain": [
       "<Figure size 432x216 with 2 Axes>"
      ]
     },
     "metadata": {},
     "output_type": "display_data"
    },
    {
     "name": "stdout",
     "output_type": "stream",
     "text": [
      "27.4035705172\n"
     ]
    },
    {
     "data": {
      "image/png": "[encoded data removed]",
      "text/plain": [
       "<Figure size 432x216 with 2 Axes>"
      ]
     },
     "metadata": {},
     "output_type": "display_data"
    },
    {
     "name": "stdout",
     "output_type": "stream",
     "text": [
      "25.1261767634\n"
     ]
    },
    {
     "data": {
      "image/png": "[encoded data removed]",
      "text/plain": [
       "<Figure size 432x216 with 2 Axes>"
      ]
     },
     "metadata": {},
     "output_type": "display_data"
    }
   ],
   "source": [
    "countcut=0.9\n",
    "lim=1.5\n",
    "bins=np.linspace(-lim, lim, 30)\n",
    "\n",
    "#for i in range(len(feed_pc)):\n",
    "for i in range(10):   \n",
    "\n",
    "    M = np.sqrt(ot.dist(top_feed_pc[i],top_reconstructions[i]))\n",
    "    truecost = ot.emd2(np.ones(1000),np.ones(1000),M)/1000*500\n",
    "\n",
    "    print truecost\n",
    "    \n",
    "    fig, ax = plt.subplots(1, 2,figsize=[6,3])\n",
    "    counts, bx, by = np.histogram2d(top_feed_pc[i][:,0],top_feed_pc[i][:,1],bins=bins)\n",
    "    ax[0].imshow(counts.T , norm=LogNorm(countcut, 1000), origin='lower',cmap='Oranges')\n",
    "    #ax[0].hist2d(feed_pc[i][:,0],feed_pc[i][:,1],range=[[-lim,lim],[-lim,lim]],bins=bins, norm=LogNorm(0.5, 1000))\n",
    "    counts, bx, by = np.histogram2d(top_reconstructions[i][:,0],top_reconstructions[i][:,1],bins=bins)\n",
    "    ax[1].imshow(counts.T, norm=LogNorm(countcut, 1000), origin='lower',cmap='Oranges')\n",
    "    plt.show()"
   ]
  },
  {
   "cell_type": "code",
   "execution_count": 144,
   "metadata": {},
   "outputs": [
    {
     "name": "stdout",
     "output_type": "stream",
     "text": [
      "##### Approx EMD #####\n",
      "[32.622593 44.395317 49.76927  27.952854 33.770912 35.856655 49.515465\n",
      " 38.422764 37.755535 37.44501 ]\n",
      "3.46906805038\n",
      "\n",
      " \n",
      " \n",
      " ##### True EMD #####\n",
      "1.32176494598\n",
      "[28.02343318 39.33859226 44.48466726 24.30080498 30.15621847 32.4768268\n",
      " 44.35782447 32.49895473 32.88428462 30.15141212]\n",
      "\n",
      " \n",
      " \n",
      " ##### Fractional difference #####\n",
      "[0.16411835 0.12854361 0.11879609 0.15028511 0.11986562 0.10406892\n",
      " 0.11627352 0.18227691 0.14813308 0.24189909]\n"
     ]
    }
   ],
   "source": [
    "import time\n",
    "from latent_3d_points.external.structural_losses import tf_approxmatch\n",
    "\n",
    "\n",
    "print \"##### Approx EMD #####\"\n",
    "nclouds = 1\n",
    "npoints = 1000\n",
    "ndim=2\n",
    "\n",
    "points1 = top_reconstructions[:10]\n",
    "points2 = top_feed_pc[:10]\n",
    "\n",
    "start = time.time()\n",
    "\n",
    "this = tf_approxmatch.approx_match(points1,points2)\n",
    "init_op = tf.initialize_all_variables()\n",
    "\n",
    "\n",
    "#run the graph\n",
    "with tf.Session() as sess:\n",
    "    sess.run(init_op) #execute init_op\n",
    "    #print the random values that we sample\n",
    "    transport = sess.run(this)\n",
    "    #print transport\n",
    "\n",
    "this_cost = tf_approxmatch.match_cost(points1,points2,transport)\n",
    "init_op = tf.initialize_all_variables()\n",
    "\n",
    "#run the graph\n",
    "with tf.Session() as sess:\n",
    "    sess.run(init_op) #execute init_op\n",
    "    #print the random values that we sample\n",
    "    cost = sess.run(this_cost)/1000*600\n",
    "    print np.array(cost)\n",
    "    \n",
    "print time.time()-start\n",
    "\n",
    "\n",
    "print \"\\n \\n \\n ##### True EMD #####\"\n",
    "start = time.time()\n",
    "M = [np.sqrt(ot.dist(points1[i],points2[i])) for i in range(len(points1))]\n",
    "\n",
    "truecost = np.array([ot.emd2(np.ones(1000),np.ones(1000),Mat) for Mat in M])/1000*600\n",
    "print time.time()-start\n",
    "print truecost\n",
    "\n",
    "print \"\\n \\n \\n ##### Fractional difference #####\"\n",
    "print (np.array(cost) - np.array(truecost))/np.array(truecost)"
   ]
  },
  {
   "cell_type": "code",
   "execution_count": 145,
   "metadata": {},
   "outputs": [
    {
     "name": "stdout",
     "output_type": "stream",
     "text": [
      "[41.22896819 11.11247799 14.48606526 21.99206634 37.71184964 35.10297587\n",
      " 32.54650084 41.02177462 24.58218314 23.70822625 13.52365474 17.44158906\n",
      " 33.95763583 21.84144696 20.92077429 27.99348363 15.27521439 68.86800671\n",
      " 18.56370206 27.75658059  6.61980214 13.79955314 18.77612847 39.5940714\n",
      " 11.72676446 37.34935416 21.14006529 20.4045287  49.45307179 26.91382391\n",
      " 47.09548224 25.08741336  9.61424779 30.26422118 25.70799868 16.43609255\n",
      " 29.21718645 24.40557571  8.58770426 19.02290368 34.63933834 36.18081411\n",
      " 19.48662366 11.05169973 31.20872544  7.79762733 30.41492029 26.75035154\n",
      " 13.82214218 20.05577597 37.09797814 21.60101043 48.20472083 27.05593764\n",
      " 45.49805789 25.45632964 39.48502376 21.32799469 13.09424235 11.1546664\n",
      " 27.33814574 41.18439394 20.14202626 41.09942237 11.02698613 18.94821938\n",
      "  7.82569129 32.70887471 31.33865789 20.71210249 38.79095276 19.32444525\n",
      " 46.57568602  6.80177581 21.74979496 40.3040627  28.11347457 22.99411451\n",
      " 15.80365055 16.00511435 10.67508857 38.65816428 16.88149306 26.63703331\n",
      " 11.83083492 12.36997719 24.80656561 20.14426777  6.01252299 30.86978566\n",
      "  9.69842101  8.96505145 18.37735832  9.65460624 25.35010876 24.08207427\n",
      " 42.97695837 27.38358208 12.89587756 25.7011716  25.04779574 10.68242902\n",
      "  9.92143704 19.46033646 26.60699669 17.00935949 17.32637954 62.91735383\n",
      " 26.50009713 39.16347047 16.08340651 20.52054521 22.68196633  6.21199353\n",
      " 13.01905228 20.1401182  10.79904195 28.56178718 36.783611   27.55717436\n",
      " 13.06262389 34.74857374 39.06660636 11.13599976 36.70147946 19.20968944\n",
      " 25.64721519 10.3373739  30.90328254 29.35426727 17.19964634 33.69146\n",
      " 30.06162514 15.9297463  34.24460736 45.08001954 18.67544285 33.89982722\n",
      "  6.52460069 26.66841419 11.72685105 24.1469188  15.3270737  16.24968256\n",
      " 16.09497971 13.78854528 35.88603648 38.00257488 40.43937114 42.67273953\n",
      " 44.64331866 51.65510562 31.82778116 15.67516756 12.72465957 27.40492326\n",
      " 44.02236716 11.0784414  26.96458157 19.25492967 31.74565549 11.48274805\n",
      " 26.91033255 30.0852283  25.28185293 42.96333267  9.93811445  9.86359182\n",
      " 15.47466922  7.77074645 26.46156176 25.77851511 15.53643776 40.39855724\n",
      " 21.25105868 12.63567882 12.47645755 32.46311859 29.76576564 20.42528579\n",
      " 23.60085709 33.15684155 11.58781734 22.44704914 20.20435017 19.49973782\n",
      " 38.82444774 29.2395007  22.34410884 10.92665719 26.92442569 15.4647867\n",
      "  8.83626247 27.93957672 19.96509708 31.79214253 46.34667051 26.17573073\n",
      " 10.16181453 39.24636398 16.09105808 33.9834253  45.20169516 30.22907716\n",
      " 43.79475993 37.44421322 20.90515271 28.39570843 26.60203201 19.56500955\n",
      " 20.78513437 20.57917885 24.31680256 15.25259334  8.54215709 26.2566775\n",
      " 37.70513193  7.65719093 34.30911181 29.28187746 46.38494931 31.5934244\n",
      " 39.37931629 43.29871958 14.18071401 22.6865618  35.91895182 23.38673656\n",
      " 15.6547623  11.19469437 31.4882491  17.64324899 36.95905492 16.63172948\n",
      " 49.1733579   6.97877034 37.14793364 37.74782763 35.08770852 31.27112155\n",
      " 31.93466235 24.49855906 19.49050841 33.10090637 16.1227415  25.74212832\n",
      " 29.65211613 20.81698261 29.15901542 20.51666035 10.93676036 40.48396253\n",
      " 22.37829631 36.57518319 24.95380726 41.13557906 10.79597075 32.38036863\n",
      " 21.67329635 15.93357143 27.4336134  48.26362117 43.3530413  15.84112196\n",
      " 51.98465912 30.04805813  6.74886223 14.44708034 28.00410982  4.47535154\n",
      " 35.47774211 34.98227235 27.11806703 23.9261931  37.62782512 19.86765901\n",
      " 10.94662042 32.34423082 36.16762337 17.17890178 39.90537651 34.21239245\n",
      " 17.03041841 19.77658937 27.33053653 17.14119051 20.1453597  39.76449326\n",
      " 39.25766813 24.90715746 35.79135334 32.45075811 23.13496895 34.35497394\n",
      " 40.67451053 20.83263059 43.40443247 13.61710091 41.90356857  6.79218705\n",
      " 28.40083343 17.04296445 37.57907467 23.2113225  52.63620741 23.43609991\n",
      " 27.98158418 15.16898164  9.14837424 26.78166729 40.92936698 23.50695246\n",
      " 13.24405519 12.16447918 27.90657901 36.72771023 47.94130822 36.68955724\n",
      " 19.76591812 36.69441588 18.99977044  9.48344192 31.86097511 31.97867043\n",
      " 20.38325951 36.65593451 19.17458143 10.46316744 32.9664935  17.18036364\n",
      " 27.62084233 36.97090818  6.30875565 54.48396061 24.04232998 27.12716278\n",
      " 19.20707035 16.68457655 44.72809112 25.13193466 27.38676756 14.02324609\n",
      "  8.95332277 12.77805055 35.50665468 15.05515645 16.30020904 36.31770273\n",
      " 32.81627882 14.55304531 11.75393097 16.63792583 44.03280289  7.05414636\n",
      " 31.42746368 14.77589129 26.23446041 28.33173495 40.34535625 13.94857508\n",
      " 18.30829018 10.34375347 28.11555346 29.81357873 27.04580919 13.62143372\n",
      " 17.78219983 39.05231513 16.65242164 21.79486058 50.95805672 20.75026137\n",
      " 29.53772642 30.36128088 20.56180902 37.14391058 13.72337293 27.26248106\n",
      " 31.81330299 26.35351535  8.53568526 33.80025379 39.79818866 28.47212116\n",
      " 11.08980364 23.21048503 30.47076833 40.81946899 12.77431493 13.21681229\n",
      " 24.13876977 27.79346166 54.01938088 13.80097216  8.54943156 27.88979129\n",
      " 45.86330108 30.28973421 30.30687529 19.40437929 19.28882134 14.73710762\n",
      " 34.12796246 38.65213334 41.26393684 10.0257564  31.05755142 26.49273513\n",
      " 32.04554305 12.21746176 21.32890523 32.74340134 22.3791915  24.97316407\n",
      " 15.72042619 36.77181158 38.49481842 29.28543835 14.00936939 39.92756783\n",
      " 28.37688062 14.81618694 24.00374425 38.32921831 31.34450542 18.10099963\n",
      " 38.6975919  14.12401258  9.26116839 50.46772835 27.84550901 44.66399481\n",
      " 21.71252064 26.38103338 41.08263964 42.2055214  42.25220557 35.36355102\n",
      " 29.72603204 19.4914564  12.83766656 15.28410495 23.47597303 40.60873469\n",
      " 26.30257373 17.68108228 20.77654547 26.07839166  7.85965282 25.84853007\n",
      " 10.64712368 54.83439619 31.65925152 16.52048365 15.46275248 37.64968323\n",
      " 19.39300869 24.91543171 29.83270297 41.74361508 39.52790466 15.02889469\n",
      " 19.67939311 22.95995014 17.56034703 35.75706614 33.10972912 27.39716911\n",
      " 18.22667373 36.60549697 43.68126661 34.8391899  20.42044632 40.00640428\n",
      " 47.76344542 17.71865181 29.9974338  19.43350356 21.70829218 22.34097891\n",
      " 36.97191998 36.87000292 22.68259891 16.96252764 16.16155165 24.32591594\n",
      " 40.4936743  26.95366368 27.88874075 42.02102233 12.41405072 17.94487993\n",
      " 22.52333779 28.42603018 31.50570867 11.70906936  7.10028875 28.07287681\n",
      " 20.72427863 11.92463443  7.34576061 37.13810911 23.86028853 14.55394844\n",
      " 29.93369796 21.28747653 47.66497507  5.82395671 27.01852477 39.10091109\n",
      " 33.93928625 21.82581066 10.93923838 22.30772367 36.37328484 26.38037974\n",
      " 48.33142185 39.66430922 16.78850372 32.22483315 13.23742329 29.67913867\n",
      " 17.49528526 38.69667965 17.05634389 65.78366528 21.31899537 21.6742829\n",
      " 24.05659123 30.75410003 23.39143807 45.23739897 33.19963458 33.96156489\n",
      " 25.52946276 28.21905136 22.25698093 53.45437321 29.74241007 44.31582167\n",
      " 29.78462011 21.55831651 23.10419272 39.98463917 29.14973559 11.19387039\n",
      " 32.63675309 43.46944713  8.08625145 25.84393237 12.43110276 27.86669598\n",
      " 22.4155181  14.22963309 45.38409698 39.75136106 16.03192262 56.48471643\n",
      " 54.53739861 14.87582713 20.36747228 25.62811765 12.60906258 11.0363317\n",
      " 17.48702413 27.76551881 35.94607326 37.64672958 18.74902856 32.80564148\n",
      " 23.84211714 18.62166703 17.54266644 31.03694136 22.91237781 35.99449296\n",
      " 23.28446812 21.17480277 13.85741255 14.20901295 16.14393199 11.74111865\n",
      " 40.87600655 21.58034286 29.0835937  26.86109968 32.76559708 27.05583459\n",
      " 28.49493323 14.74976359 32.83668574 30.26082853 28.49612211 19.8871376\n",
      "  9.05352587 35.31305666 28.00012686 37.00495323 33.2460124  58.83914784\n",
      " 31.89226498 20.98520232 24.97455707 29.51747195 30.81963209 53.44122586\n",
      " 37.55043549 27.21216155 35.46025319 30.00340762 22.45035216  3.62193203\n",
      " 33.21970388 19.57651891 18.3939658  17.82217038 12.04398873 23.06413876\n",
      " 15.95374562 27.74690816 44.72441614 28.08649998 20.98655236 15.38143487\n",
      " 25.44929563 27.15937554 16.17384963 18.2545282  44.45958318 34.69992063\n",
      " 16.98625886 21.36117089 12.49537062 27.71055302 33.97836052 11.64063405\n",
      " 27.22130505 27.30827888 26.37571031 22.23115927 26.2975756  21.89579621\n",
      " 21.04588801 25.34074322 19.1546166   6.8391698  45.52896466 31.95669499\n",
      " 34.95353117 11.64435069 37.52130251  9.38376825 40.00868236 33.45301346\n",
      " 26.89877271 21.64371281 19.21920675 27.85092822 24.78236117 12.61465656\n",
      " 26.8319227  25.0836374  36.19322326 21.84666551 18.17397642 27.52009969\n",
      " 11.9962204  23.8125673  10.90792205 25.17898305  7.40808283 17.67309412\n",
      " 39.92140739 11.93753966 21.38658842 30.93914046  3.73134796 32.86755435\n",
      " 49.1479021  10.53470703 25.81639195 25.42260981 18.62188622 33.36702878\n",
      " 16.13726561 10.19762329 41.23928502 18.03616353 16.96771607 44.33235086\n",
      " 10.80091773  6.83537869 45.32193718 30.66501932 18.61048563 12.8265417\n",
      " 51.69207615 21.42353803 35.68017953 17.84678124 34.30752956 41.39927419\n",
      " 13.8414152  21.39174688 24.77676949 42.08717616 34.28666135 20.62084502\n",
      " 27.96193149 24.47594116 45.33266654 39.95726189 10.23991538 25.11391428\n",
      " 37.38622107 37.17786986 32.4619316  31.12092316 17.36802727 17.70440594\n",
      " 26.46886611 17.27846185 31.62256496 18.36588391 28.3184613  16.58179356\n",
      " 34.6125229  17.078926   19.38429978 28.75770961 17.21882098 33.73765841\n",
      " 17.18481534 26.99361606 21.17497979 31.6445885  39.78502562 24.70361487\n",
      " 27.45111671 14.91724362 25.62726572  9.87797282 14.91079461 16.52924628\n",
      "  7.25495799 28.54683214 19.79849228 14.33272141 15.85994941 29.74038159\n",
      " 10.79397714 19.90159699 10.68070757 32.11957519 11.50610143 32.29251111\n",
      " 27.31329822 29.48868087  8.63436918 23.29646967 38.16257136 13.39867841\n",
      " 25.78686535 10.88252256 14.14920027 22.10504497 21.15724038 28.15061649\n",
      " 26.33660101 18.21351109 13.31226765 13.9675795  20.72384397 17.65288467\n",
      " 17.67749307 34.58171227  7.54860975 28.92868624 40.21930474 21.51329504\n",
      " 13.54704569 32.70444892 34.41680249 17.17829288 38.2597961  25.57682217\n",
      " 12.92267247 16.68796495 17.49546399 17.20120869 33.56180021 27.14049191\n",
      " 40.266602   18.10354709 22.11722594 20.90503718 22.2111478  20.73189294\n",
      " 17.1027032  29.62786006 32.82140669 23.85416361 13.55333419 13.75405295\n",
      " 18.83735839 21.07598047 38.53250699 14.49925791 53.75519777 11.45156281\n",
      " 30.28398358 18.21662518 16.84135785 15.32127333 24.02410833 17.69292807\n",
      " 20.06709536  9.56174904 17.99858242 17.57366068 35.24881145 23.11057156\n",
      " 24.67882803  9.20739136 11.64166561 16.74296917 37.50839014 32.22777301\n",
      " 21.56486733 24.83584194 26.91908169 14.89664677 29.13311205 55.78812881\n",
      " 15.98585228 10.77270896 28.76118493 29.3241402  18.41824113 44.55239592\n",
      " 16.23929595 27.81191611 15.43299891 12.71642929 26.34649289 26.37793322\n",
      " 23.02437254 45.22478532 33.02785705 21.42728089 33.58232224 28.00350547\n",
      " 11.32197485 52.02646556 10.7576229  23.5729998   9.54489935 30.17458676\n",
      " 30.56651757 10.45690385 25.61465902 15.92914746 23.68563526 33.76102275\n",
      " 16.87280168 27.17319396 17.89462866 20.28992967 37.79054656 34.46106498\n",
      " 18.39281384 38.74371885 12.98907244 25.36261363 18.8286497  26.7946294\n",
      " 39.22957745 15.11284996 22.54964508 33.09094081 38.17798477 34.82484676\n",
      " 10.94144478 27.85805078 20.23230435 14.87863511 35.34461226 23.43364958\n",
      " 17.0346241  38.68986378 47.78319123 13.36597728 20.09008856 56.36753443\n",
      " 33.14685636 28.10171293 27.5984955  23.07471888 19.67433725 17.31353089\n",
      " 22.65363525 36.59585639 17.29242443 17.37091663 23.49188751 27.30324726\n",
      " 40.47362284 29.63825925 26.11372114 55.52982848  6.95118984 22.70103952\n",
      " 19.98427737 47.90168171 27.56744668 28.24193861 24.31064189 16.87933211\n",
      " 29.17878941 52.49635982 28.38236927 14.78447018 30.80389915 22.55775885\n",
      "  8.07626658 23.21202314 10.6090046  46.91808126 32.98319927 36.76031526\n",
      " 18.02845478 33.42884522  8.49364112 37.59284582 23.53517522 22.87281491\n",
      " 21.17788846 32.45842902 30.2154033  46.2545024  35.4902097  24.27686519\n",
      " 38.84489677 19.75738298 15.85275258 55.44089173 38.0196326  14.54707122\n",
      " 34.82033372 28.13020338  8.30523804 38.09064256 17.06304343 40.68239293\n",
      " 30.44218178  7.13291687 17.19440004 21.91502723 42.86110158 47.28512779\n",
      " 24.12808467 23.81306875 15.1216693  15.6383937  22.58776839 46.74215938\n",
      " 15.15790788 54.52235702 42.3659626  25.07040896  9.36578625 27.30814604\n",
      " 19.57302153 23.85829829 14.82149599 20.06801958 17.37038887 18.56899998\n",
      " 28.59151212 12.81288039 33.40026646 24.85529605 21.09190447 34.56842121\n",
      "  9.72999575 49.01498018 43.99559863 17.32707907 28.14696882 14.10833643\n",
      " 33.03251182 21.25235235 41.72935458 25.24701041 51.32585759 37.5488186\n",
      " 13.30374939 29.5419084  18.84906107 15.22285918]\n",
      "154.519389868\n",
      "25.67682580273111\n",
      "11.229935873727223\n"
     ]
    },
    {
     "name": "stdout",
     "output_type": "stream",
     "text": [
      "[28.02343318 39.33859226 44.48466726 24.30080498 30.15621847 32.4768268\n",
      " 44.35782447 32.49895473 32.88428462 30.15141212 33.98028243 38.77354366\n",
      " 38.09922956 31.12662623 46.84713002 33.86657264 34.4829557  34.21937875\n",
      " 44.53199366 38.92088148 44.79590958 38.99741212 31.48238563 34.60458933\n",
      " 26.76625489 47.39391309 34.51597356 33.83449423 28.88974045 30.80255964\n",
      " 29.61748457 40.07499771 28.36986012 44.13601347 42.16388482 45.87824294\n",
      " 48.42153167 31.68939673 47.21777058 31.72359674 29.78796641 38.59247026\n",
      " 39.59057372 30.53827635 31.18449688 26.74407085 37.75443282 42.99568149\n",
      " 43.73891389 25.2229095  46.28537122 44.05761179 20.50858993 50.15791151\n",
      " 40.40617716 41.31483338 17.33385619 34.54517523 47.695302   26.63787122\n",
      " 43.18707771 26.78046861 36.35896675 34.42021196 33.31846481 30.74926986\n",
      " 40.51221386 47.46878854 40.80017547 43.59165946 41.17718677 35.15785767\n",
      " 28.68555795 31.52075748 27.36656271 30.47555186 30.27880526 33.82023271\n",
      " 41.90078643 40.72124076 27.25030842 29.70204407 27.08849108 33.68103378\n",
      " 33.80566123 36.42488381 32.08623424 42.78213731 49.85090144 48.75549462\n",
      " 37.60159442 49.94013849 30.21032888 41.19908735 36.770029   36.9337862\n",
      " 31.2405505  36.97721996 34.23592599 31.73566411 34.35178101 33.77707808\n",
      " 27.14006608 48.76130877 33.19517707 28.60947976 28.36263198 56.16582221\n",
      " 34.99227217 37.92461919 31.49231979 31.02110959 55.26767159 45.20562672\n",
      " 46.2340307  35.56905188 39.74954697 40.02102955 36.76467319 31.88516901\n",
      " 40.57616947 27.26276992 28.37710934 32.53496753 57.34851546 34.43393117\n",
      " 56.70680209 27.8484618  35.80090968 42.45035962 47.39272074 34.43287305\n",
      " 27.53024837 30.80323782 24.24253042 41.40587899 40.42893034 37.42622364\n",
      " 21.1563803  39.5499887  23.43920784 34.2815956  23.73392581 37.05709278\n",
      " 36.86418842 37.2853841  31.07114152 27.5700688  29.73806799 40.67788957\n",
      " 46.05635906 44.31415131 51.98732175 47.42743678 36.76748047 33.02465547\n",
      " 53.9421363  30.25666245 42.0757648  35.8919728  26.39374782 47.83420112\n",
      " 43.23676043 46.22321762 44.74351084 27.22850426 34.66643925 47.36418036\n",
      " 23.39135666 42.72022912 45.63792489 35.6345835  46.67301561 42.00035521\n",
      " 30.01240726 36.2266291  46.4222686  33.51774036 47.20392654 35.30231428\n",
      " 38.51048368 36.63599261 27.01281769 44.48447602 31.44701753 47.99510571\n",
      " 36.1914223  32.36633292 28.10994257 39.39108976 22.74923466 35.74521576\n",
      " 37.24694404 28.69850311 72.42445685 60.1321939  38.26159505 38.35159149\n",
      " 37.10278295 36.13730694 37.55059873 36.3482036  40.97288537 36.21808484\n",
      " 40.37679852 34.29527084 38.18790031 38.74640063 43.20196897 34.75519564\n",
      " 38.30478465 51.14196135 48.13805029 30.51496749 32.67456063 48.98882304\n",
      " 34.22623008 29.9607089  47.41504045 54.42372729 24.09450616 26.85334131\n",
      " 33.02330444 32.71938196 31.69734783 45.28409332 40.15048028 36.863198\n",
      " 23.18780532 35.39193878 29.41903301 48.0949744  34.26647529 38.86115677\n",
      " 23.4832848  42.61843126 37.67031656 40.87427518 44.80702716 40.02450067\n",
      " 32.16862603 27.26924894 44.59829323 37.61074471 32.71210082 34.60543257\n",
      " 33.90446175 36.75639886 35.06623439 32.49444082 28.94848977 33.65882564\n",
      " 42.28470234 29.31527661 45.76197828 35.82334628 25.41973035 44.37217524\n",
      " 44.17742866 46.57004576 37.20385475 26.94041027 25.81741327 58.71331015\n",
      " 32.14842428 33.02650237 32.93975203 33.91020755 27.87584472 25.54137238\n",
      " 37.5994383  33.105521   32.00076166 51.03487336 32.36922304 47.75075087\n",
      " 31.96195967 42.35523039 35.44099199 36.91578773 44.42782561 35.36080049\n",
      " 44.96145757 36.52216137 63.38878038 27.36842126 29.31805302 24.56235181\n",
      " 31.24127991 39.27034465 53.96831847 34.92614407 42.29967104 31.79807054\n",
      " 60.77005363 43.79735443 29.97024645 39.93402663 39.86092555 54.04749953\n",
      " 27.57278813 35.8500158  45.47639595 28.84067808 37.61264079 57.13072269\n",
      " 33.18932968 33.25498116 20.36197264 35.87998939 43.66867148 47.5882196\n",
      " 53.7136743  28.54396637 32.83162518 40.29533519 34.55767914 27.62045542\n",
      " 34.69756797 38.11787218 44.68467321 51.90605417 44.60947152 51.96903806\n",
      " 62.01932337 30.4779231  45.09625843 45.38866119 66.03856049 29.61995067\n",
      " 45.18887485 41.12070323 45.60727305 39.90816734 49.63678479 31.59824742\n",
      " 26.0396975  40.11652008 32.36602412 31.25984205 38.66646183 30.94167166\n",
      " 27.78947081 42.6561564  36.65071493 49.1313004  36.18739259 29.75251332\n",
      " 58.35942001 28.75671467 53.68996889 46.95632642 44.39516171 29.18651423\n",
      " 33.24433432 24.99999111 43.91150403 32.66825469 60.31805482 32.3062475\n",
      " 33.11854296 41.6807313  26.04013165 41.30089593 51.05684067 35.52356701\n",
      " 31.36028802 54.98691694 39.12944904 34.21961185 27.9115294  26.49140822\n",
      " 35.50045483 42.09687555 33.52768996 33.75356005 47.12516816 38.46166275\n",
      " 29.84071168 62.00944779 36.01707963 33.71279635 35.82713248 29.56200922\n",
      " 22.58439034 40.62261596 42.63033073 31.56024152 31.99833651 59.9685347\n",
      " 46.09176713 47.21859119 53.54094935 48.36839508 46.24597521 40.01215127\n",
      " 46.14789    29.12731245 24.78945816 36.43346559 39.51840017 48.94346017\n",
      " 36.55392064 32.93193667 34.71844604 25.1192332  42.8124408  45.4025838\n",
      " 38.19604698 34.41594475 39.92647733 26.61188839 43.98140817 35.18104783\n",
      " 33.4623693  40.17283819 34.43460864 45.9342015  32.77245089 35.97339849\n",
      " 29.14446143 36.25230438 46.61400738 40.13981495 32.79864233 26.37243987\n",
      " 28.72279879 38.76643641 34.96222929 30.17044238 38.84085435 38.08739185\n",
      " 40.08024623 36.67269077 37.66041359 31.8904385  42.23981111 48.84444539\n",
      " 33.61475164 44.41637138 42.83130877 57.12550579 28.64491485 43.34343719\n",
      " 39.49294173 25.63924821 22.22965409 34.00842981 29.67350497 50.69341089\n",
      " 42.28917318 35.98028726 49.02897982 37.44102601 38.25560812 34.15094376\n",
      " 43.27675537 61.48401336 40.91492442 42.14938428 43.47122395 52.41184426\n",
      " 37.78795154 44.07918471 31.43930659 28.43627175 47.03835886 31.65796432\n",
      " 35.98579035 39.60573293 42.07977613 36.02101179 40.92109259 29.5026549\n",
      " 35.2410352  30.64845303 34.72227148 33.86040891 37.55251128 35.96059936\n",
      " 50.89506533 31.29806436 33.22015631 39.76982743 41.11566795 30.60360638\n",
      " 34.70692714 46.80908676 30.52477274 31.00762791 47.87641683 40.65136141\n",
      " 46.24201118 31.33061484 27.27179809 36.11882469 42.78754247 40.21415904\n",
      " 28.15285362 54.28912117 34.93951391 31.83144648 34.15764928 33.5485436\n",
      " 45.3259795  44.13601356 40.69551929 31.03340579 24.93593576 56.29980683\n",
      " 35.82227785 29.51599326 47.44993973 46.98694435 37.68120749 27.45536191\n",
      " 33.7298872  30.49944732 44.22075208 35.69158762 22.85291715 27.24843789\n",
      " 46.13976255 36.63904935 34.82625288 38.189616   30.97098367 37.99574775\n",
      " 36.29932669 27.3847219  41.92893572 35.42232162 30.07482704 44.77732839\n",
      " 41.95765713 29.01730667 39.57297992 33.7181046  40.9463674  34.20930447\n",
      " 51.09366198 57.08161699 37.24172679 36.60758497 38.93998516 35.88108127\n",
      " 32.49047535 30.52377005 33.05250406 36.73315919 43.44940344 48.85085741\n",
      " 23.89985131 35.28128397 40.0974783  32.8079574  39.01442639 35.97067024\n",
      " 34.09889473 54.91045363 36.2226342  46.4188842  36.76303994 43.8071661\n",
      " 26.73380889 29.50299117 22.80798996 64.64730798 36.18915573 33.30052105\n",
      " 34.12718071 37.18244931 43.20928597 33.03707053 43.37264055 28.26308362\n",
      " 35.71342157 40.17318814 35.3431629  32.53215181 31.83505488 45.74238612\n",
      " 32.92674998 34.02568475 30.09439287 38.63689978 21.70416431 35.28246135\n",
      " 43.97746835 29.98579428 25.18680953 32.4203548  32.61213128 36.68066229\n",
      " 46.92901998 34.77228963 30.52951223 35.8146636  22.31291035 40.99379087\n",
      " 28.77321963 28.67121859 56.98460188 46.93936741 30.79684244 43.00978788\n",
      " 32.27857459 45.39042221 51.05595739 39.859907   34.0856456  29.45963023\n",
      " 36.24917196 44.30741155 28.16045348 34.45867259 45.49893673 50.59782853\n",
      " 35.26707148 44.11079207 30.96257531 54.93118941 41.62405886 43.96033622\n",
      " 39.33079171 43.55005401 49.3812959  41.10621629 49.51898628 35.15470612\n",
      " 33.66350563 37.65933928 39.79441211 37.6818327  28.83584167 44.31515036\n",
      " 37.7146502  36.22096356 45.06518721 50.29480957 48.8448807  37.947471\n",
      " 39.98718406 38.61035326 49.45431953 36.60306619 47.19248073 43.16848904\n",
      " 25.59892461 32.93082332 40.72578277 54.17983021 45.91490265 31.42904693\n",
      " 36.04566218 38.72179879 45.31461379 33.74781057 36.09459861 24.74831073\n",
      " 36.42820327 34.06788456 18.2571348  38.57360802 44.35720756 50.45112904\n",
      " 29.90157699 44.90801237 46.78477676 32.97285747 47.91739783 49.03434725\n",
      " 29.50267839 38.89091308 38.60694417 37.32828819 49.11743305 46.39682674\n",
      " 40.14772815 36.10186954 34.84020333 28.70353063 44.86815041 48.7282249\n",
      " 38.79653952 47.29250704 32.6682687  50.90634855 48.48530187 26.02143028\n",
      " 36.03156603 31.84940551 33.66009279 32.87157968 23.75948632 33.78570903\n",
      " 29.78746279 27.96783095 33.68187097 36.28703984 57.69564471 48.54525042\n",
      " 35.24663222 26.29544698 40.47557033 47.33658253 31.40753973 42.30262981\n",
      " 27.12950849 30.10130945 48.32042878 32.49863979 29.50325099 45.32710456\n",
      " 38.9022593  36.80953335 38.16448932 47.43752092 28.89705738 23.22901807\n",
      " 35.92788265 58.23659839 42.41470476 65.10014424 45.96689901 39.32941949\n",
      " 41.93481612 29.91026746 48.19220516 33.96143219 46.46093254 25.32080739\n",
      " 32.46018942 27.08077456 34.07525805 34.59504904 41.24413944 35.83052276\n",
      " 35.89341394 35.34131533 39.02507886 45.85446859 26.27065761 34.82400736\n",
      " 27.74617889 30.00132876 39.46598286 37.04169161 33.40782229 50.68148827\n",
      " 39.2013045  32.32287078 48.25026708 41.54607863 37.15182612 34.93497982\n",
      " 41.81905035 40.26068219 30.84765456 24.32501587 27.75418012 36.62256958\n",
      " 27.62408778 41.84252493 32.39361357 35.77229289 33.71939369 39.57490082\n",
      " 36.60048416 26.57252687 38.82695217 26.82474274 36.92750642 50.76524647\n",
      " 38.99116869 41.98831009 25.40093974 24.95139399 28.97402326 33.80586575\n",
      " 61.56635868 39.32016305 40.90385334 41.57157459 35.73845134 46.84125693\n",
      " 23.81304627 38.07149084 31.68521334 38.32735893 41.15429316 39.75009412\n",
      " 47.76231623 32.59212607 47.21302987 34.28103626 50.79303677 39.62175961\n",
      " 40.49252543 43.18181256 49.59754859 29.85279597 30.04563058 31.24278805\n",
      " 31.7894046  50.51921774 37.92048656 37.29172239 37.76762148 48.58333048\n",
      " 36.87277201 31.4012652  48.50655038 33.16301519 37.69486495 35.82434556\n",
      " 38.47751993 48.90678494 29.27597326 26.51980123 19.13964241 39.22754004\n",
      " 27.43570107 55.30268532 59.55253649 42.49194585 38.51835117 58.40741388\n",
      " 41.06755222 33.0032252  37.54547432 50.63433683 58.27503328 39.53110196\n",
      " 25.00080632 25.3475648  27.87742531 18.58497048 39.3409594  61.14268656\n",
      " 44.55203319 48.73755368 24.83201399 38.42427217 75.89010171 32.6182297\n",
      " 49.98804227 37.98700894 33.65459052 40.93005429 36.99203764 49.07352401\n",
      " 33.92106282 31.99695892 36.56695983 43.37445443 53.58144053 28.5575305\n",
      " 34.50962597 43.28966187 34.13893282 39.57853284 37.45310547 39.45678187\n",
      " 22.51105562 32.89470567 41.51230388 48.9386194  37.09540268 61.86132353\n",
      " 50.69608046 43.84652271 25.87924724 43.96985617 48.25533462 46.90040902\n",
      " 45.47359942 37.15924708 35.96019549 38.68932916 35.85078424 51.42174464\n",
      " 27.20839111 34.77901568 29.37843514 28.93567886 38.87820683 37.57673175\n",
      " 26.09410158 38.72969157 50.07483351 28.34924128 29.27641681 34.14214651\n",
      " 33.55440539 38.97147919 35.78982546 24.08807388 52.86458984 30.10542666\n",
      " 44.72812711 37.05153421 28.27820997 58.59440623 48.39757903 41.09752326\n",
      " 39.07919801 51.1352408  36.03284208 58.45619747 38.49329542 29.83997271\n",
      " 32.83387686 31.48335225 34.58085789 38.75638076 46.02064916 31.65051792\n",
      " 33.8648579  47.12540312 39.56467227 29.1581931  32.46289406 30.85150921\n",
      " 35.22830902 42.79158112 43.07639856 49.37595086 38.5180212  56.9471269\n",
      " 39.03607556 36.23099858 52.15729591 42.43943833 34.14008555 26.6571002\n",
      " 40.17207665 40.401133   48.1298287  32.38218663 40.39490398 35.26912807\n",
      " 33.18815716 22.11451511 29.7185702  40.3666599  35.15449696 41.58067036\n",
      " 44.50260715 30.2190671  31.3956152  39.67663735 66.13281333 31.60683018\n",
      " 30.10683857 33.23073864 43.77471619 33.73324914 46.21060282 25.41802606\n",
      " 34.30912917 26.23869505 45.07552108 31.88744652 32.45225502 37.67738749\n",
      " 41.4323905  41.82719245 37.49788843 32.28656978 36.26627357 34.40986735\n",
      " 26.81257012 44.80115382 36.48618603 43.63959985 40.54353357 47.13296757\n",
      " 42.44152441 26.75762923 38.7707817  33.43573601 31.36258678 39.39578723\n",
      " 45.50838495 38.54044783 47.85839906 38.94281084 33.0931832  41.32476057\n",
      " 35.90446933 31.29251065 34.76291238 54.06421771 51.58225749 25.12907022\n",
      " 29.68376652 38.26750078 28.01760983 43.39527258]\n",
      "148.762894869\n",
      "37.9213728599588\n",
      "8.48406637217595\n"
     ]
    }
   ],
   "source": [
    "import time\n",
    "points1 = reconstructions[:1000]\n",
    "points2 = feed_pc[:1000]\n",
    "\n",
    "start = time.time()\n",
    "M = [np.sqrt(ot.dist(points1[i],points2[i])) for i in range(len(points1))]\n",
    "\n",
    "qcd_truecost = np.array([ot.emd2(np.ones(1000),np.ones(1000),Mat) for Mat in M])/1000*600\n",
    "print qcd_truecost\n",
    "print time.time()-start\n",
    "\n",
    "print np.average(qcd_truecost)\n",
    "print np.std(qcd_truecost)\n",
    "\n",
    "import time\n",
    "points1 = top_reconstructions[:1000]\n",
    "points2 = top_feed_pc[:1000]\n",
    "\n",
    "start = time.time()\n",
    "M = [np.sqrt(ot.dist(points1[i],points2[i])) for i in range(len(points1))]\n",
    "\n",
    "top_truecost = np.array([ot.emd2(np.ones(1000),np.ones(1000),Mat) for Mat in M])/1000*600\n",
    "print top_truecost\n",
    "print time.time()-start\n",
    "\n",
    "print np.average(top_truecost)\n",
    "print np.std(top_truecost)"
   ]
  },
  {
   "cell_type": "code",
   "execution_count": 146,
   "metadata": {},
   "outputs": [
    {
     "name": "stderr",
     "output_type": "stream",
     "text": [
      "/usr/local/lib/python2.7/dist-packages/ipykernel_launcher.py:7: RuntimeWarning: divide by zero encountered in divide\n",
      "  import sys\n"
     ]
    },
    {
     "data": {
      "image/png": "[encoded data removed]",
      "text/plain": [
       "<Figure size 432x288 with 1 Axes>"
      ]
     },
     "metadata": {},
     "output_type": "display_data"
    }
   ],
   "source": [
    "from sklearn.metrics import roc_curve\n",
    "\n",
    "y_true = np.append(np.zeros(len(qcd_truecost)),np.ones(len(top_truecost)))\n",
    "y_score = np.append(qcd_truecost, top_truecost)\n",
    "my_roc = roc_curve(y_true, y_score, pos_label=None, sample_weight=None, drop_intermediate=True)\n",
    "\n",
    "plt.plot(my_roc[1],np.nan_to_num(1/my_roc[0]))\n",
    "plt.ylim([1,10**2])\n",
    "plt.semilogy()\n",
    "plt.show()"
   ]
  },
  {
   "cell_type": "code",
   "execution_count": 110,
   "metadata": {},
   "outputs": [
    {
     "name": "stderr",
     "output_type": "stream",
     "text": [
      "/usr/local/lib/python2.7/dist-packages/ipykernel_launcher.py:10: RuntimeWarning: divide by zero encountered in divide\n",
      "  # Remove the CWD from sys.path while we load stuff.\n"
     ]
    },
    {
     "data": {
      "image/png": "[encoded data removed]",
      "text/plain": [
       "<Figure size 432x288 with 1 Axes>"
      ]
     },
     "metadata": {},
     "output_type": "display_data"
    }
   ],
   "source": [
    "\n",
    "\n",
    "\n",
    "from sklearn.metrics import roc_curve\n",
    "\n",
    "y_true = np.append(np.zeros(len(qcd_truecost)),np.ones(len(top_truecost)))\n",
    "y_score = np.append(qcd_truecost, top_truecost)\n",
    "my_roc = roc_curve(y_true, y_score, pos_label=None, sample_weight=None, drop_intermediate=True)\n",
    "\n",
    "plt.plot(my_roc[1],np.nan_to_num(1/my_roc[0]))\n",
    "plt.ylim([1,10**2])\n",
    "plt.semilogy()\n",
    "plt.show()"
   ]
  },
  {
   "cell_type": "code",
   "execution_count": 46,
   "metadata": {},
   "outputs": [],
   "source": [
    "import time\n",
    "numload = 1000\n",
    "feed_pc, feed_model_names, _ = valid_pc_data.next_batch(numload )\n",
    "reconstructions = ae.reconstruct(feed_pc)[0]\n",
    "latent_codes = ae.transform(feed_pc)\n",
    "points1 = reconstructions[:1000]\n",
    "#points1 = feed_pc[:1000]\n",
    "latent_codes = ae.transform(feed_pc[:1000])"
   ]
  },
  {
   "cell_type": "code",
   "execution_count": 58,
   "metadata": {},
   "outputs": [
    {
     "data": {
      "image/png": "[encoded data removed]",
      "text/plain": [
       "<Figure size 864x432 with 2 Axes>"
      ]
     },
     "metadata": {},
     "output_type": "display_data"
    }
   ],
   "source": [
    "plt.figure(figsize=[12,6])\n",
    "plt.subplot(1,2,1)\n",
    "plt.scatter(jet_masses(reconstructions[:1000]),latent_codes,s=0.5)\n",
    "plt.xlabel('Jet mass of decoded image [GeV]')\n",
    "plt.ylabel('Latent code')\n",
    "plt.subplot(1,2,2)\n",
    "plt.scatter(jet_masses(feed_pc[:1000]),latent_codes,s=0.5)\n",
    "plt.xlabel('Jet mass of original image [GeV]')\n",
    "plt.ylabel('Latent code')\n",
    "plt.show()"
   ]
  },
  {
   "cell_type": "code",
   "execution_count": null,
   "metadata": {},
   "outputs": [],
   "source": [
    "plt.figure(figsize=[10,10])\n",
    "plt.scatter(jet_masses(reconstructions[:1000]),latent_codes,s=0.5)\n",
    "plt.xlabel('Jet mass of decoded image [GeV]')\n",
    "plt.ylabel('Latent code')\n",
    "plt.show()"
   ]
  },
  {
   "cell_type": "code",
   "execution_count": 63,
   "metadata": {},
   "outputs": [
    {
     "data": {
      "text/plain": [
       "array([[0.00000000e+00],\n",
       "       [0.00000000e+00],\n",
       "       [5.81276476e-01],\n",
       "       [1.26240134e+00],\n",
       "       [3.47610474e-01],\n",
       "       [1.75073600e+00],\n",
       "       [1.39840186e-01],\n",
       "       [1.92238939e+00],\n",
       "       [3.10518295e-01],\n",
       "       [1.17008245e+00],\n",
       "       [3.96468550e-01],\n",
       "       [7.54160583e-02],\n",
       "       [4.76377696e-01],\n",
       "       [0.00000000e+00],\n",
       "       [2.68678188e-01],\n",
       "       [6.89374804e-01],\n",
       "       [0.00000000e+00],\n",
       "       [8.80986333e-01],\n",
       "       [0.00000000e+00],\n",
       "       [1.44568950e-01],\n",
       "       [2.33953893e-01],\n",
       "       [3.62116545e-01],\n",
       "       [0.00000000e+00],\n",
       "       [7.80828893e-02],\n",
       "       [1.66362613e-01],\n",
       "       [2.27818418e+00],\n",
       "       [2.96546161e-01],\n",
       "       [0.00000000e+00],\n",
       "       [2.14791155e+00],\n",
       "       [9.05103624e-01],\n",
       "       [0.00000000e+00],\n",
       "       [1.44773412e+00],\n",
       "       [1.10544348e+00],\n",
       "       [6.39003396e-01],\n",
       "       [2.02482671e-01],\n",
       "       [0.00000000e+00],\n",
       "       [8.25659990e-01],\n",
       "       [7.49899149e-01],\n",
       "       [8.32780004e-01],\n",
       "       [1.34153813e-01],\n",
       "       [8.90361369e-01],\n",
       "       [5.57683110e-02],\n",
       "       [5.33578575e-01],\n",
       "       [1.07533646e+00],\n",
       "       [4.20880318e-03],\n",
       "       [1.06929123e+00],\n",
       "       [1.92124224e+00],\n",
       "       [3.85040462e-01],\n",
       "       [1.01076722e+00],\n",
       "       [3.44540715e-01],\n",
       "       [0.00000000e+00],\n",
       "       [5.73047221e-01],\n",
       "       [3.43369842e-01],\n",
       "       [1.24316823e+00],\n",
       "       [9.14587438e-01],\n",
       "       [7.76466668e-01],\n",
       "       [7.99124002e-01],\n",
       "       [0.00000000e+00],\n",
       "       [4.63264227e-01],\n",
       "       [1.29138005e+00],\n",
       "       [3.52702916e-01],\n",
       "       [6.87514424e-01],\n",
       "       [1.31725430e-01],\n",
       "       [0.00000000e+00],\n",
       "       [7.74806440e-01],\n",
       "       [6.77116573e-01],\n",
       "       [8.08697939e-02],\n",
       "       [5.89160919e-02],\n",
       "       [8.90794396e-01],\n",
       "       [8.27843785e-01],\n",
       "       [9.12262082e-01],\n",
       "       [1.43211198e+00],\n",
       "       [4.27171707e-01],\n",
       "       [9.39660966e-02],\n",
       "       [8.51593316e-01],\n",
       "       [4.95821804e-01],\n",
       "       [5.02975881e-01],\n",
       "       [0.00000000e+00],\n",
       "       [1.08130276e+00],\n",
       "       [3.75758410e-02],\n",
       "       [1.22922421e-01],\n",
       "       [7.80793786e-01],\n",
       "       [0.00000000e+00],\n",
       "       [3.49909484e-01],\n",
       "       [3.26663303e+00],\n",
       "       [7.31189549e-02],\n",
       "       [8.10876250e-01],\n",
       "       [1.95963740e-01],\n",
       "       [2.15019286e-01],\n",
       "       [2.59439528e-01],\n",
       "       [1.03716183e+00],\n",
       "       [6.92556858e-01],\n",
       "       [0.00000000e+00],\n",
       "       [4.78884876e-01],\n",
       "       [0.00000000e+00],\n",
       "       [2.87180007e-01],\n",
       "       [6.16516471e-01],\n",
       "       [1.23133898e+00],\n",
       "       [0.00000000e+00],\n",
       "       [0.00000000e+00],\n",
       "       [0.00000000e+00],\n",
       "       [1.57854825e-01],\n",
       "       [0.00000000e+00],\n",
       "       [1.23960376e-02],\n",
       "       [5.42621255e-01],\n",
       "       [4.67741579e-01],\n",
       "       [1.11317962e-01],\n",
       "       [2.50179768e-02],\n",
       "       [8.86347592e-01],\n",
       "       [4.21330452e-01],\n",
       "       [6.35774851e-01],\n",
       "       [4.04379606e-01],\n",
       "       [9.44339395e-01],\n",
       "       [0.00000000e+00],\n",
       "       [5.59861600e-01],\n",
       "       [1.39546382e+00],\n",
       "       [2.40622807e+00],\n",
       "       [1.39976609e+00],\n",
       "       [1.16890049e+00],\n",
       "       [2.90336192e-01],\n",
       "       [8.78177941e-01],\n",
       "       [2.66411513e-01],\n",
       "       [1.27987695e+00],\n",
       "       [1.61636025e-01],\n",
       "       [4.10973430e-02],\n",
       "       [0.00000000e+00],\n",
       "       [1.24640465e-02],\n",
       "       [2.53185272e-01],\n",
       "       [5.79816818e-01],\n",
       "       [6.35921955e-04],\n",
       "       [2.57261008e-01],\n",
       "       [1.76930487e-01],\n",
       "       [1.08497709e-01],\n",
       "       [1.05117917e+00],\n",
       "       [7.16951847e-01],\n",
       "       [3.34163606e-01],\n",
       "       [0.00000000e+00],\n",
       "       [1.54830432e+00],\n",
       "       [1.62781692e+00],\n",
       "       [8.65990639e-01],\n",
       "       [1.78631675e+00],\n",
       "       [1.00064337e+00],\n",
       "       [5.73410511e-01],\n",
       "       [3.90586764e-01],\n",
       "       [8.91650558e-01],\n",
       "       [1.02414072e+00],\n",
       "       [0.00000000e+00],\n",
       "       [5.05662620e-01],\n",
       "       [1.09095478e+00],\n",
       "       [1.40610349e+00],\n",
       "       [2.76488096e-01],\n",
       "       [0.00000000e+00],\n",
       "       [1.35200173e-01],\n",
       "       [2.24019146e+00],\n",
       "       [0.00000000e+00],\n",
       "       [3.12431604e-01],\n",
       "       [0.00000000e+00],\n",
       "       [9.17162299e-01],\n",
       "       [5.29734492e-01],\n",
       "       [1.07692146e+00],\n",
       "       [0.00000000e+00],\n",
       "       [0.00000000e+00],\n",
       "       [1.04336083e+00],\n",
       "       [9.47667837e-01],\n",
       "       [1.92394257e+00],\n",
       "       [9.28522050e-02],\n",
       "       [6.85787916e-01],\n",
       "       [1.18918395e+00],\n",
       "       [1.33036196e-01],\n",
       "       [6.83232665e-01],\n",
       "       [0.00000000e+00],\n",
       "       [9.13030028e-01],\n",
       "       [9.38266993e-01],\n",
       "       [2.31496662e-01],\n",
       "       [1.00717306e+00],\n",
       "       [5.78582585e-01],\n",
       "       [9.75075364e-01],\n",
       "       [2.93605119e-01],\n",
       "       [5.58190227e-01],\n",
       "       [5.34974694e-01],\n",
       "       [8.61786366e-01],\n",
       "       [1.53501940e+00],\n",
       "       [2.39153773e-01],\n",
       "       [2.19208598e-02],\n",
       "       [9.28895831e-01],\n",
       "       [1.12646371e-01],\n",
       "       [0.00000000e+00],\n",
       "       [1.44175506e+00],\n",
       "       [3.81617188e-01],\n",
       "       [1.26301146e+00],\n",
       "       [0.00000000e+00],\n",
       "       [3.88605684e-01],\n",
       "       [4.62861091e-01],\n",
       "       [1.66814041e+00],\n",
       "       [4.65489924e-01],\n",
       "       [5.07663846e-01],\n",
       "       [4.94143248e-01],\n",
       "       [8.25304985e-01],\n",
       "       [8.12158406e-01],\n",
       "       [3.59296858e-01],\n",
       "       [8.46246183e-02],\n",
       "       [1.23224795e-01],\n",
       "       [3.04270416e-01],\n",
       "       [4.21533167e-01],\n",
       "       [2.14572638e-01],\n",
       "       [9.63206589e-02],\n",
       "       [3.57461065e-01],\n",
       "       [0.00000000e+00],\n",
       "       [3.70667577e-01],\n",
       "       [7.85765350e-02],\n",
       "       [6.15778685e-01],\n",
       "       [0.00000000e+00],\n",
       "       [2.43259639e-01],\n",
       "       [3.80608082e-01],\n",
       "       [1.51065660e+00],\n",
       "       [4.17520642e-01],\n",
       "       [0.00000000e+00],\n",
       "       [3.44953865e-01],\n",
       "       [3.88249159e-02],\n",
       "       [1.91078782e-02],\n",
       "       [8.44339430e-01],\n",
       "       [3.71310711e-01],\n",
       "       [3.99431586e-01],\n",
       "       [0.00000000e+00],\n",
       "       [7.71205485e-01],\n",
       "       [3.26459110e-01],\n",
       "       [4.02266383e-02],\n",
       "       [3.45379889e-01],\n",
       "       [6.92039967e-01],\n",
       "       [1.16705561e+00],\n",
       "       [2.44288826e+00],\n",
       "       [8.04264426e-01],\n",
       "       [1.69267952e-01],\n",
       "       [7.93583572e-01],\n",
       "       [3.55957747e-02],\n",
       "       [8.04888248e-01],\n",
       "       [2.81298459e-01],\n",
       "       [8.88218641e-01],\n",
       "       [8.95482421e-01],\n",
       "       [3.57575417e-02],\n",
       "       [3.22647154e-01],\n",
       "       [5.61428070e-03],\n",
       "       [0.00000000e+00],\n",
       "       [0.00000000e+00],\n",
       "       [0.00000000e+00],\n",
       "       [8.64147663e-01],\n",
       "       [2.69428611e-01],\n",
       "       [2.13949156e+00],\n",
       "       [1.95220679e-01],\n",
       "       [1.07999116e-01],\n",
       "       [1.01565719e-02],\n",
       "       [0.00000000e+00],\n",
       "       [3.67579877e-01],\n",
       "       [4.32395816e-01],\n",
       "       [5.59060931e-01],\n",
       "       [1.53872383e+00],\n",
       "       [9.50295448e-01],\n",
       "       [4.11297679e-02],\n",
       "       [7.77903259e-01],\n",
       "       [6.02793634e-01],\n",
       "       [9.14517641e-01],\n",
       "       [4.14355397e-02],\n",
       "       [1.19198728e+00],\n",
       "       [2.81482428e-01],\n",
       "       [8.24674249e-01],\n",
       "       [7.78486550e-01],\n",
       "       [3.49625587e-01],\n",
       "       [4.81476307e-01],\n",
       "       [7.70769417e-02],\n",
       "       [7.71087527e-01],\n",
       "       [6.95025563e-01],\n",
       "       [4.56211597e-01],\n",
       "       [8.53333950e-01],\n",
       "       [6.44982696e-01],\n",
       "       [0.00000000e+00],\n",
       "       [0.00000000e+00],\n",
       "       [7.98775613e-01],\n",
       "       [3.21463525e-01],\n",
       "       [3.89991462e-01],\n",
       "       [2.54009366e-01],\n",
       "       [2.06276506e-01],\n",
       "       [0.00000000e+00],\n",
       "       [7.18008280e-01],\n",
       "       [1.01810622e+00],\n",
       "       [0.00000000e+00],\n",
       "       [8.43420148e-01],\n",
       "       [6.93618596e-01],\n",
       "       [7.71987736e-01],\n",
       "       [0.00000000e+00],\n",
       "       [4.73375738e-01],\n",
       "       [5.47193885e-02],\n",
       "       [8.70071709e-01],\n",
       "       [0.00000000e+00],\n",
       "       [1.63212168e+00],\n",
       "       [2.60907739e-01],\n",
       "       [2.31040096e+00],\n",
       "       [1.25920081e+00],\n",
       "       [2.66803235e-01],\n",
       "       [0.00000000e+00],\n",
       "       [5.37141800e-01],\n",
       "       [0.00000000e+00],\n",
       "       [0.00000000e+00],\n",
       "       [8.81484866e-01],\n",
       "       [1.35357976e-02],\n",
       "       [1.16038561e+00],\n",
       "       [9.20402288e-01],\n",
       "       [2.15843320e-02],\n",
       "       [3.38168144e-02],\n",
       "       [1.83340400e-01],\n",
       "       [0.00000000e+00],\n",
       "       [5.91119826e-01],\n",
       "       [4.62538004e-02],\n",
       "       [2.89307475e-01],\n",
       "       [0.00000000e+00],\n",
       "       [9.01048541e-01],\n",
       "       [2.60148704e-01],\n",
       "       [2.41026783e+00],\n",
       "       [0.00000000e+00],\n",
       "       [3.75873238e-01],\n",
       "       [0.00000000e+00],\n",
       "       [0.00000000e+00],\n",
       "       [2.30724907e+00],\n",
       "       [7.75359869e-01],\n",
       "       [5.86825609e-01],\n",
       "       [2.20453024e+00],\n",
       "       [0.00000000e+00],\n",
       "       [1.21237254e+00],\n",
       "       [7.18362212e-01],\n",
       "       [0.00000000e+00],\n",
       "       [6.78168118e-01],\n",
       "       [0.00000000e+00],\n",
       "       [9.29888010e-01],\n",
       "       [0.00000000e+00],\n",
       "       [1.22868907e+00],\n",
       "       [0.00000000e+00],\n",
       "       [1.05466950e+00],\n",
       "       [1.19725287e+00],\n",
       "       [7.43105292e-01],\n",
       "       [8.03249836e-01],\n",
       "       [4.80784535e-01],\n",
       "       [3.12608421e-01],\n",
       "       [1.07362473e+00],\n",
       "       [0.00000000e+00],\n",
       "       [3.81968439e-01],\n",
       "       [9.41447318e-02],\n",
       "       [3.83668542e-02],\n",
       "       [1.28438282e+00],\n",
       "       [5.02151251e-03],\n",
       "       [3.05022925e-01],\n",
       "       [3.59766543e-01],\n",
       "       [2.77675772e+00],\n",
       "       [8.40567172e-01],\n",
       "       [8.41341615e-02],\n",
       "       [1.51702911e-01],\n",
       "       [1.23664236e+00],\n",
       "       [1.50413841e-01],\n",
       "       [1.57788843e-01],\n",
       "       [1.30447119e-01],\n",
       "       [7.38011956e-01],\n",
       "       [5.39073706e-01],\n",
       "       [1.01268554e+00],\n",
       "       [1.60636425e-01],\n",
       "       [3.93548131e-01],\n",
       "       [2.87591648e+00],\n",
       "       [0.00000000e+00],\n",
       "       [0.00000000e+00],\n",
       "       [7.91962504e-01],\n",
       "       [6.07649922e-01],\n",
       "       [8.71587694e-02],\n",
       "       [3.73299241e-01],\n",
       "       [4.34673399e-01],\n",
       "       [1.31319225e-01],\n",
       "       [7.19435871e-01],\n",
       "       [7.37086654e-01],\n",
       "       [0.00000000e+00],\n",
       "       [5.80085754e-01],\n",
       "       [8.26096535e-01],\n",
       "       [3.59071374e-01],\n",
       "       [0.00000000e+00],\n",
       "       [3.03727686e-01],\n",
       "       [1.82731509e-01],\n",
       "       [2.12209606e+00],\n",
       "       [8.54458451e-01],\n",
       "       [1.10619116e+00],\n",
       "       [2.37242609e-01],\n",
       "       [4.95143235e-01],\n",
       "       [1.02997684e+00],\n",
       "       [0.00000000e+00],\n",
       "       [0.00000000e+00],\n",
       "       [2.50909477e-01],\n",
       "       [4.31525260e-01],\n",
       "       [1.86621398e-01],\n",
       "       [1.55275017e-01],\n",
       "       [1.34526819e-01],\n",
       "       [1.28979146e-01],\n",
       "       [1.02398849e+00],\n",
       "       [1.34227574e-01],\n",
       "       [3.75305176e-01],\n",
       "       [2.97430843e-01],\n",
       "       [0.00000000e+00],\n",
       "       [1.06717765e+00],\n",
       "       [1.15777910e+00],\n",
       "       [6.71570003e-01],\n",
       "       [0.00000000e+00],\n",
       "       [7.72741735e-02],\n",
       "       [0.00000000e+00],\n",
       "       [1.05363584e+00],\n",
       "       [2.43233472e-01],\n",
       "       [2.61770815e-01],\n",
       "       [0.00000000e+00],\n",
       "       [0.00000000e+00],\n",
       "       [3.91827643e-01],\n",
       "       [0.00000000e+00],\n",
       "       [0.00000000e+00],\n",
       "       [7.03715801e-01],\n",
       "       [6.92205548e-01],\n",
       "       [0.00000000e+00],\n",
       "       [4.61939484e-01],\n",
       "       [3.76165628e-01],\n",
       "       [1.15087092e+00],\n",
       "       [8.71100426e-02],\n",
       "       [0.00000000e+00],\n",
       "       [4.88649070e-01],\n",
       "       [1.45225120e+00],\n",
       "       [1.21178067e+00],\n",
       "       [8.29189539e-01],\n",
       "       [0.00000000e+00],\n",
       "       [1.68595505e+00],\n",
       "       [2.57842571e-01],\n",
       "       [8.04139555e-01],\n",
       "       [5.89248359e-01],\n",
       "       [2.18560427e-01],\n",
       "       [6.68518841e-02],\n",
       "       [0.00000000e+00],\n",
       "       [4.26928014e-01],\n",
       "       [4.29780126e-01],\n",
       "       [8.62339556e-01],\n",
       "       [2.62951285e-01],\n",
       "       [6.06607080e-01],\n",
       "       [1.58394337e-01],\n",
       "       [1.31118464e+00],\n",
       "       [5.72900891e-01],\n",
       "       [2.76394725e-01],\n",
       "       [6.38481081e-02],\n",
       "       [9.66249406e-02],\n",
       "       [6.08380079e-01],\n",
       "       [5.87575078e-01],\n",
       "       [4.90548611e-02],\n",
       "       [0.00000000e+00],\n",
       "       [0.00000000e+00],\n",
       "       [4.01592016e-01],\n",
       "       [8.23458731e-02],\n",
       "       [1.15049362e+00],\n",
       "       [9.18249369e-01],\n",
       "       [8.28520894e-01],\n",
       "       [6.48629963e-02],\n",
       "       [0.00000000e+00],\n",
       "       [6.51506782e-02],\n",
       "       [5.44036031e-02],\n",
       "       [3.55730534e-01],\n",
       "       [9.08966184e-01],\n",
       "       [3.02684039e-01],\n",
       "       [3.04020405e-01],\n",
       "       [3.84579420e-01],\n",
       "       [0.00000000e+00],\n",
       "       [0.00000000e+00],\n",
       "       [6.44568205e-01],\n",
       "       [5.21918118e-01],\n",
       "       [2.05220371e-01],\n",
       "       [1.17456627e+00],\n",
       "       [8.03719282e-01],\n",
       "       [0.00000000e+00],\n",
       "       [8.09430122e-01],\n",
       "       [8.92376602e-02],\n",
       "       [4.75977063e-02],\n",
       "       [9.17748988e-01],\n",
       "       [9.57465172e-03],\n",
       "       [0.00000000e+00],\n",
       "       [0.00000000e+00],\n",
       "       [1.26010180e-02],\n",
       "       [3.03228021e-01],\n",
       "       [0.00000000e+00],\n",
       "       [0.00000000e+00],\n",
       "       [0.00000000e+00],\n",
       "       [8.76651466e-01],\n",
       "       [4.60402340e-01],\n",
       "       [3.95406485e-01],\n",
       "       [0.00000000e+00],\n",
       "       [1.86298370e-01],\n",
       "       [0.00000000e+00],\n",
       "       [9.25678670e-01],\n",
       "       [1.35115707e+00],\n",
       "       [8.56556177e-01],\n",
       "       [7.93457508e-01],\n",
       "       [6.69318914e-01],\n",
       "       [1.11798495e-01],\n",
       "       [0.00000000e+00],\n",
       "       [0.00000000e+00],\n",
       "       [0.00000000e+00],\n",
       "       [1.18809670e-01],\n",
       "       [1.07616448e+00],\n",
       "       [1.91263139e+00],\n",
       "       [0.00000000e+00],\n",
       "       [0.00000000e+00],\n",
       "       [8.52503359e-01],\n",
       "       [1.28448582e+00],\n",
       "       [9.11225021e-01],\n",
       "       [6.48526967e-01],\n",
       "       [1.41810369e+00],\n",
       "       [1.12268686e+00],\n",
       "       [3.64221871e-01],\n",
       "       [6.57352626e-01],\n",
       "       [1.23589349e+00],\n",
       "       [0.00000000e+00],\n",
       "       [4.96079683e-01],\n",
       "       [0.00000000e+00],\n",
       "       [1.18683720e+00],\n",
       "       [8.78328800e-01],\n",
       "       [0.00000000e+00],\n",
       "       [5.80967546e-01],\n",
       "       [9.30490494e-02],\n",
       "       [7.54982233e-03],\n",
       "       [7.96834648e-01],\n",
       "       [1.55750096e-01],\n",
       "       [9.12659347e-01],\n",
       "       [4.64537919e-01],\n",
       "       [9.22414064e-01],\n",
       "       [0.00000000e+00],\n",
       "       [3.98746610e-01],\n",
       "       [7.41484761e-01],\n",
       "       [4.36988473e-01],\n",
       "       [0.00000000e+00],\n",
       "       [4.86344993e-01],\n",
       "       [8.77877355e-01],\n",
       "       [0.00000000e+00],\n",
       "       [7.92486668e-01],\n",
       "       [1.09548044e+00],\n",
       "       [4.51915115e-01],\n",
       "       [8.83197904e-01],\n",
       "       [7.06724763e-01],\n",
       "       [0.00000000e+00],\n",
       "       [5.81026196e-01],\n",
       "       [0.00000000e+00],\n",
       "       [2.28402424e+00],\n",
       "       [3.14468145e-03],\n",
       "       [1.48017967e+00],\n",
       "       [0.00000000e+00],\n",
       "       [0.00000000e+00],\n",
       "       [9.34702456e-02],\n",
       "       [1.88712955e-01],\n",
       "       [1.69316733e+00],\n",
       "       [4.77334738e-01],\n",
       "       [4.39202756e-01],\n",
       "       [0.00000000e+00],\n",
       "       [3.43832225e-01],\n",
       "       [9.74431932e-02],\n",
       "       [9.32828784e-01],\n",
       "       [1.55076504e+00],\n",
       "       [1.72949344e-01],\n",
       "       [0.00000000e+00],\n",
       "       [0.00000000e+00],\n",
       "       [5.79591274e-01],\n",
       "       [2.60805428e-01],\n",
       "       [1.09357178e+00],\n",
       "       [1.17410886e+00],\n",
       "       [8.61395955e-01],\n",
       "       [4.76118922e-01],\n",
       "       [0.00000000e+00],\n",
       "       [0.00000000e+00],\n",
       "       [1.01813257e+00],\n",
       "       [0.00000000e+00],\n",
       "       [8.88161659e-01],\n",
       "       [1.82182193e-02],\n",
       "       [7.95365453e-01],\n",
       "       [1.55405402e-01],\n",
       "       [7.65915453e-01],\n",
       "       [3.19363832e-01],\n",
       "       [1.68541670e+00],\n",
       "       [3.64634663e-01],\n",
       "       [9.02830839e-01],\n",
       "       [1.09239292e+00],\n",
       "       [4.22343165e-01],\n",
       "       [5.13708532e-01],\n",
       "       [6.63974583e-02],\n",
       "       [8.09313536e-01],\n",
       "       [2.47079551e-01],\n",
       "       [2.16677833e+00],\n",
       "       [8.92519712e-01],\n",
       "       [2.09785163e-01],\n",
       "       [5.72691262e-01],\n",
       "       [1.96755302e+00],\n",
       "       [5.13164401e-02],\n",
       "       [2.02475786e-02],\n",
       "       [0.00000000e+00],\n",
       "       [3.73447567e-01],\n",
       "       [2.91081220e-01],\n",
       "       [1.38160515e+00],\n",
       "       [8.30644071e-01],\n",
       "       [0.00000000e+00],\n",
       "       [3.85967970e-01],\n",
       "       [1.51249260e-01],\n",
       "       [0.00000000e+00],\n",
       "       [1.00954592e+00],\n",
       "       [0.00000000e+00],\n",
       "       [1.12500989e+00],\n",
       "       [0.00000000e+00],\n",
       "       [8.97156835e-01],\n",
       "       [0.00000000e+00],\n",
       "       [0.00000000e+00],\n",
       "       [5.89711607e-01],\n",
       "       [1.27218032e+00],\n",
       "       [1.85678363e-01],\n",
       "       [2.75070047e+00],\n",
       "       [8.33275557e-01],\n",
       "       [5.44170499e-01],\n",
       "       [2.98142165e-01],\n",
       "       [4.05851036e-01],\n",
       "       [2.00412959e-01],\n",
       "       [8.38845968e-03],\n",
       "       [0.00000000e+00],\n",
       "       [9.15063381e-01],\n",
       "       [7.40585864e-01],\n",
       "       [5.76131344e-02],\n",
       "       [2.90957540e-01],\n",
       "       [0.00000000e+00],\n",
       "       [0.00000000e+00],\n",
       "       [0.00000000e+00],\n",
       "       [8.80733609e-01],\n",
       "       [1.15193057e+00],\n",
       "       [2.72793770e-02],\n",
       "       [8.51089835e-01],\n",
       "       [1.84828371e-01],\n",
       "       [1.18718219e+00],\n",
       "       [8.89714003e-01],\n",
       "       [0.00000000e+00],\n",
       "       [7.79009104e-01],\n",
       "       [0.00000000e+00],\n",
       "       [1.89764053e-01],\n",
       "       [1.84958279e-01],\n",
       "       [1.14139771e+00],\n",
       "       [7.41838217e-01],\n",
       "       [0.00000000e+00],\n",
       "       [6.10574961e-01],\n",
       "       [5.94723701e-01],\n",
       "       [0.00000000e+00],\n",
       "       [0.00000000e+00],\n",
       "       [3.43496799e-01],\n",
       "       [7.43664265e-01],\n",
       "       [0.00000000e+00],\n",
       "       [0.00000000e+00],\n",
       "       [2.07385850e+00],\n",
       "       [1.38239741e+00],\n",
       "       [1.74284667e-01],\n",
       "       [0.00000000e+00],\n",
       "       [1.62602812e-01],\n",
       "       [8.51452589e-01],\n",
       "       [0.00000000e+00],\n",
       "       [8.46477449e-01],\n",
       "       [1.03532124e+00],\n",
       "       [3.08497190e-01],\n",
       "       [0.00000000e+00],\n",
       "       [4.88644242e-02],\n",
       "       [0.00000000e+00],\n",
       "       [1.11827338e+00],\n",
       "       [3.38326752e-01],\n",
       "       [0.00000000e+00],\n",
       "       [8.00197303e-01],\n",
       "       [3.33996475e-01],\n",
       "       [0.00000000e+00],\n",
       "       [0.00000000e+00],\n",
       "       [1.08757520e+00],\n",
       "       [0.00000000e+00],\n",
       "       [1.67529851e-01],\n",
       "       [0.00000000e+00],\n",
       "       [0.00000000e+00],\n",
       "       [1.75223875e+00],\n",
       "       [8.26346874e-01],\n",
       "       [1.39793277e+00],\n",
       "       [5.76967120e-01],\n",
       "       [9.11358237e-01],\n",
       "       [1.29179120e-01],\n",
       "       [6.14615083e-02],\n",
       "       [3.95550758e-01],\n",
       "       [1.32840723e-01],\n",
       "       [9.00192320e-01],\n",
       "       [1.21967065e+00],\n",
       "       [3.61689180e-01],\n",
       "       [0.00000000e+00],\n",
       "       [1.00123346e+00],\n",
       "       [6.55624330e-01],\n",
       "       [2.44153643e+00],\n",
       "       [0.00000000e+00],\n",
       "       [8.93712401e-01],\n",
       "       [7.80390680e-01],\n",
       "       [1.04383874e+00],\n",
       "       [8.35594714e-01],\n",
       "       [0.00000000e+00],\n",
       "       [8.98831248e-01],\n",
       "       [7.52055645e-03],\n",
       "       [4.83268797e-01],\n",
       "       [5.07792771e-01],\n",
       "       [7.73387790e-01],\n",
       "       [2.75203377e-01],\n",
       "       [0.00000000e+00],\n",
       "       [1.66399479e-01],\n",
       "       [1.06396437e+00],\n",
       "       [0.00000000e+00],\n",
       "       [0.00000000e+00],\n",
       "       [8.66755486e-01],\n",
       "       [4.85786021e-01],\n",
       "       [9.67291951e-01],\n",
       "       [1.25707269e-01],\n",
       "       [1.96904749e-01],\n",
       "       [1.04944289e-01],\n",
       "       [5.91723680e-01],\n",
       "       [1.68752491e-01],\n",
       "       [9.88273323e-02],\n",
       "       [1.06835216e-01],\n",
       "       [0.00000000e+00],\n",
       "       [1.42461395e+00],\n",
       "       [3.12029213e-01],\n",
       "       [3.57653260e-01],\n",
       "       [4.77711797e-01],\n",
       "       [1.54957926e+00],\n",
       "       [8.17044258e-01],\n",
       "       [1.21350318e-01],\n",
       "       [6.87655509e-01],\n",
       "       [0.00000000e+00],\n",
       "       [7.61030495e-01],\n",
       "       [1.29893780e-01],\n",
       "       [1.07836115e+00],\n",
       "       [0.00000000e+00],\n",
       "       [8.60340834e-01],\n",
       "       [8.69684696e-01],\n",
       "       [1.43012732e-01],\n",
       "       [2.44324875e+00],\n",
       "       [1.45030415e+00],\n",
       "       [4.45240140e-02],\n",
       "       [9.11187291e-01],\n",
       "       [1.07151210e+00],\n",
       "       [3.74843538e-01],\n",
       "       [0.00000000e+00],\n",
       "       [4.02380347e-01],\n",
       "       [3.86196882e-01],\n",
       "       [3.00580412e-01],\n",
       "       [1.81480527e+00],\n",
       "       [1.26237786e+00],\n",
       "       [4.20782506e-01],\n",
       "       [1.30492616e+00],\n",
       "       [1.57259941e-01],\n",
       "       [1.46858990e+00],\n",
       "       [0.00000000e+00],\n",
       "       [0.00000000e+00],\n",
       "       [1.01994467e+00],\n",
       "       [9.00167584e-01],\n",
       "       [2.96582460e-01],\n",
       "       [4.78615373e-01],\n",
       "       [5.80830336e-01],\n",
       "       [5.60520887e-02],\n",
       "       [7.20173538e-01],\n",
       "       [1.39557719e-02],\n",
       "       [1.60266280e-01],\n",
       "       [0.00000000e+00],\n",
       "       [4.64715660e-01],\n",
       "       [4.12063479e-01],\n",
       "       [5.83675623e-01],\n",
       "       [8.85302901e-01],\n",
       "       [1.57032132e+00],\n",
       "       [7.83784866e-01],\n",
       "       [0.00000000e+00],\n",
       "       [1.27944767e-01],\n",
       "       [8.93540263e-01],\n",
       "       [7.90563107e-01],\n",
       "       [2.11035466e+00],\n",
       "       [9.28451300e-01],\n",
       "       [3.16634834e-01],\n",
       "       [1.06416941e+00],\n",
       "       [3.90857905e-01],\n",
       "       [8.66944432e-01],\n",
       "       [0.00000000e+00],\n",
       "       [0.00000000e+00],\n",
       "       [3.76249790e-01],\n",
       "       [1.35552019e-01],\n",
       "       [1.43201232e+00],\n",
       "       [0.00000000e+00],\n",
       "       [1.25845242e+00],\n",
       "       [1.95158839e-01],\n",
       "       [1.53633356e-02],\n",
       "       [5.72496176e-01],\n",
       "       [3.24151337e-01],\n",
       "       [0.00000000e+00],\n",
       "       [0.00000000e+00],\n",
       "       [1.80101275e+00],\n",
       "       [1.34518296e-01],\n",
       "       [3.13205719e-02],\n",
       "       [1.64146090e+00],\n",
       "       [2.65574455e-03],\n",
       "       [1.97297335e-03],\n",
       "       [8.74461055e-01],\n",
       "       [8.95297766e-01],\n",
       "       [1.08222747e+00],\n",
       "       [3.74752581e-01],\n",
       "       [0.00000000e+00],\n",
       "       [2.75049269e-01],\n",
       "       [9.65705454e-01],\n",
       "       [0.00000000e+00],\n",
       "       [1.77958739e+00],\n",
       "       [0.00000000e+00],\n",
       "       [1.08436787e+00],\n",
       "       [2.20874935e-01],\n",
       "       [8.13147366e-01],\n",
       "       [0.00000000e+00],\n",
       "       [9.58227217e-02],\n",
       "       [6.78666532e-02],\n",
       "       [1.27668083e-01],\n",
       "       [3.21243227e-01],\n",
       "       [2.65362382e-01],\n",
       "       [1.81898272e+00],\n",
       "       [3.51100206e-01],\n",
       "       [2.51067847e-01],\n",
       "       [9.04572725e-01],\n",
       "       [7.66656637e-01],\n",
       "       [1.51738560e+00],\n",
       "       [1.05237961e-03],\n",
       "       [1.71306521e-01],\n",
       "       [5.82765758e-01],\n",
       "       [1.47001892e-01],\n",
       "       [3.17903817e-01],\n",
       "       [3.04682642e-01],\n",
       "       [6.15216374e-01],\n",
       "       [8.13187659e-02],\n",
       "       [0.00000000e+00],\n",
       "       [0.00000000e+00],\n",
       "       [0.00000000e+00],\n",
       "       [0.00000000e+00],\n",
       "       [1.20274127e-01],\n",
       "       [4.21566695e-01],\n",
       "       [1.23191237e+00],\n",
       "       [1.35889143e-01],\n",
       "       [5.80440998e-01],\n",
       "       [6.05977178e-02],\n",
       "       [8.53104353e-01],\n",
       "       [1.32073432e-01],\n",
       "       [1.55614996e+00],\n",
       "       [3.17572498e+00],\n",
       "       [1.07017732e+00],\n",
       "       [1.02102828e+00],\n",
       "       [9.30885673e-02],\n",
       "       [4.52796221e-02],\n",
       "       [2.11531782e+00],\n",
       "       [3.55409801e-01],\n",
       "       [7.32211232e-01],\n",
       "       [1.12303412e+00],\n",
       "       [1.44003779e-01],\n",
       "       [1.10552597e+00],\n",
       "       [1.02690399e-01],\n",
       "       [0.00000000e+00],\n",
       "       [0.00000000e+00],\n",
       "       [2.52064466e-01],\n",
       "       [8.01822245e-01],\n",
       "       [5.54036736e-01],\n",
       "       [0.00000000e+00],\n",
       "       [0.00000000e+00],\n",
       "       [0.00000000e+00],\n",
       "       [8.32397401e-01],\n",
       "       [6.00329220e-01],\n",
       "       [0.00000000e+00],\n",
       "       [6.66509569e-02],\n",
       "       [1.89281332e+00],\n",
       "       [4.12464380e-01],\n",
       "       [8.97812486e-01],\n",
       "       [9.07755375e-01],\n",
       "       [6.79485738e-01],\n",
       "       [0.00000000e+00],\n",
       "       [3.66198748e-01],\n",
       "       [3.39437068e-01],\n",
       "       [7.23876476e-01],\n",
       "       [2.71749318e-01],\n",
       "       [7.64727831e-01],\n",
       "       [1.47072339e+00],\n",
       "       [0.00000000e+00],\n",
       "       [1.06197202e+00],\n",
       "       [1.52082372e+00],\n",
       "       [2.51560777e-01],\n",
       "       [1.11638403e+00],\n",
       "       [1.56701446e+00],\n",
       "       [2.78311968e-03],\n",
       "       [1.44045627e+00],\n",
       "       [5.76872468e-01],\n",
       "       [2.80169845e-01],\n",
       "       [1.85448468e-01],\n",
       "       [8.41235995e-01],\n",
       "       [0.00000000e+00],\n",
       "       [1.82539666e+00],\n",
       "       [7.41842747e-01],\n",
       "       [0.00000000e+00],\n",
       "       [3.03836972e-01],\n",
       "       [1.73608947e+00],\n",
       "       [7.80520439e-02],\n",
       "       [7.89767981e-01],\n",
       "       [1.11132860e-03],\n",
       "       [3.92910123e-01],\n",
       "       [0.00000000e+00],\n",
       "       [1.18698239e-01],\n",
       "       [8.34651291e-02],\n",
       "       [0.00000000e+00],\n",
       "       [4.07827586e-01],\n",
       "       [4.46635425e-01],\n",
       "       [5.05022943e-01],\n",
       "       [0.00000000e+00],\n",
       "       [5.79853773e-01],\n",
       "       [8.35107684e-01],\n",
       "       [0.00000000e+00],\n",
       "       [2.14497709e+00],\n",
       "       [0.00000000e+00],\n",
       "       [2.87801057e-01],\n",
       "       [8.49698663e-01],\n",
       "       [1.37880832e-01],\n",
       "       [5.52208841e-01],\n",
       "       [0.00000000e+00],\n",
       "       [8.72319937e-01],\n",
       "       [0.00000000e+00],\n",
       "       [1.10786772e+00],\n",
       "       [1.07290459e+00],\n",
       "       [0.00000000e+00],\n",
       "       [8.04504216e-01],\n",
       "       [9.25426781e-02],\n",
       "       [8.38829994e-01],\n",
       "       [6.29602671e-01],\n",
       "       [0.00000000e+00],\n",
       "       [4.44426656e-01],\n",
       "       [7.63564944e-01],\n",
       "       [8.47282708e-02],\n",
       "       [0.00000000e+00],\n",
       "       [3.23613852e-01],\n",
       "       [4.81191278e-02],\n",
       "       [8.82731915e-01],\n",
       "       [8.10191631e-02],\n",
       "       [1.13043809e+00],\n",
       "       [0.00000000e+00],\n",
       "       [0.00000000e+00],\n",
       "       [9.01401579e-01],\n",
       "       [0.00000000e+00],\n",
       "       [6.82080507e-01],\n",
       "       [1.04932368e-01],\n",
       "       [0.00000000e+00],\n",
       "       [3.05793524e+00],\n",
       "       [1.94988638e-01],\n",
       "       [2.23785639e-02],\n",
       "       [8.55953753e-01],\n",
       "       [1.95465356e-01],\n",
       "       [1.17747128e-01],\n",
       "       [8.72582674e-01],\n",
       "       [8.72108638e-02],\n",
       "       [6.79377615e-01],\n",
       "       [9.27886486e-01],\n",
       "       [8.38546753e-02],\n",
       "       [2.82335311e-01],\n",
       "       [6.85845375e-01],\n",
       "       [1.07522935e-01],\n",
       "       [2.41961217e+00],\n",
       "       [8.37027550e-01],\n",
       "       [5.98405004e-02],\n",
       "       [1.01931930e+00],\n",
       "       [1.01666415e+00],\n",
       "       [4.73390579e-01],\n",
       "       [0.00000000e+00],\n",
       "       [3.68162304e-01],\n",
       "       [8.59623849e-01],\n",
       "       [1.55991817e+00],\n",
       "       [4.41600233e-01],\n",
       "       [8.20508599e-01],\n",
       "       [1.57350063e+00],\n",
       "       [0.00000000e+00],\n",
       "       [2.28660631e+00],\n",
       "       [0.00000000e+00],\n",
       "       [2.93531001e-01],\n",
       "       [0.00000000e+00],\n",
       "       [0.00000000e+00],\n",
       "       [6.61293685e-01],\n",
       "       [5.84117591e-01],\n",
       "       [0.00000000e+00],\n",
       "       [0.00000000e+00],\n",
       "       [0.00000000e+00],\n",
       "       [0.00000000e+00],\n",
       "       [1.09330988e+00],\n",
       "       [1.19858313e+00],\n",
       "       [1.04246438e-01],\n",
       "       [1.06676054e+00],\n",
       "       [2.07142234e-02],\n",
       "       [8.65851581e-01],\n",
       "       [4.37581122e-01],\n",
       "       [3.29748034e-01],\n",
       "       [1.14751387e+00],\n",
       "       [5.14091849e-01],\n",
       "       [5.85771501e-01],\n",
       "       [9.17689145e-01],\n",
       "       [8.35654616e-01],\n",
       "       [2.91855526e+00],\n",
       "       [1.52846813e-01]], dtype=float32)"
      ]
     },
     "execution_count": 63,
     "metadata": {},
     "output_type": "execute_result"
    }
   ],
   "source": [
    "latent_codes"
   ]
  },
  {
   "cell_type": "code",
   "execution_count": 74,
   "metadata": {},
   "outputs": [
    {
     "data": {
      "text/plain": [
       "array([[ 0.017118  ,  0.19660918],\n",
       "       [ 0.017118  ,  0.19660918],\n",
       "       [ 0.017118  ,  0.19660918],\n",
       "       ...,\n",
       "       [-0.3880499 , -0.32016189],\n",
       "       [ 0.01924656,  0.57144681],\n",
       "       [ 0.63545814,  0.64884996]])"
      ]
     },
     "execution_count": 74,
     "metadata": {},
     "output_type": "execute_result"
    }
   ],
   "source": [
    "numload = 10000\n",
    "feed_pc, feed_model_names, _ = valid_pc_data.next_batch(numload )\n",
    "feed_pc[0]"
   ]
  },
  {
   "cell_type": "code",
   "execution_count": 69,
   "metadata": {},
   "outputs": [
    {
     "data": {
      "text/plain": [
       "array([ 1.04154646, -1.01855432,  0.82381232,  2.8626084 ,  4.66926383,\n",
       "        0.44145631, -0.78976928,  0.42520581, -0.56581046,  7.00944821,\n",
       "       -0.0294308 , -1.07126786, -1.61526932, -0.52807492, -0.11218356,\n",
       "       12.31053926, -1.94153188, -0.13629966,  1.2301602 , -1.22495414,\n",
       "        1.48715351,  0.66155514, -0.25137587,  0.2585713 ,  0.59379215,\n",
       "        0.61316492,  3.14910778,  0.09642428, 12.5186531 ,  0.95693838,\n",
       "        1.4083551 ,  0.16460985, -0.01416972,  1.16919155, -0.13955238,\n",
       "       -0.5423792 , -0.71587804,  0.51078518,  0.19862528, -0.3253633 ,\n",
       "        6.62082248,  3.83881109, -0.72389678, -0.05940396,  3.14886234,\n",
       "       -0.53045421,  0.09860626,  0.27655945,  0.23807206, -2.60423897,\n",
       "        0.73574803,  0.37317332,  1.43749019, -0.45112478, -0.37274221,\n",
       "        0.76862296,  3.13978595,  0.17130608, -0.19702835,  2.82923504,\n",
       "        0.23081686, -0.2364088 ,  6.86463026,  1.0664655 ,  0.46326879,\n",
       "        2.82499946,  0.27885064,  3.50456043,  2.10245745,  1.76229868,\n",
       "        1.78779817,  0.07763941,  7.35550224,  0.74356322, -0.01826497,\n",
       "        4.56115388,  1.61097018, -0.51655204,  1.4049577 ,  0.81708419,\n",
       "       -0.10938158, -0.53901616, -0.0606621 ,  1.75859268, -0.21197403,\n",
       "        0.52744096, -0.09505115,  0.28208335,  0.20719031,  0.75428567,\n",
       "        3.40008808,  7.48347856,  1.63698554,  0.02191812, -1.09407387,\n",
       "        1.68435453,  0.90205874,  0.65809958, -0.45938392,  0.29595829])"
      ]
     },
     "execution_count": 69,
     "metadata": {},
     "output_type": "execute_result"
    }
   ],
   "source": [
    "numpoints = len(jets[0])\n",
    "Delta_Rs = np.linalg.norm(feed_pc,axis=2)\n",
    "#    p_parr = np.sum(np.cos(Delta_Rs),axis=1)\n",
    "np.sum(np.sin(jets[:,:,1]),axis=1)*600/1000"
   ]
  },
  {
   "cell_type": "code",
   "execution_count": 71,
   "metadata": {},
   "outputs": [
    {
     "data": {
      "text/plain": [
       "array([[ 0.01869681,  0.01869681,  0.01869681, ..., -0.23907139,\n",
       "        -0.09400195, -0.65201326],\n",
       "       [ 0.01031599,  0.01031599,  0.01031599, ...,  0.03088808,\n",
       "         0.28167166,  0.82886674],\n",
       "       [ 0.00961767,  0.00961767,  0.00961767, ...,  0.17601627,\n",
       "        -0.60450113, -0.11882481],\n",
       "       ...,\n",
       "       [ 0.00723219,  0.00723219,  0.00723219, ...,  0.24995147,\n",
       "         0.08002635, -0.34747694],\n",
       "       [ 0.03372887,  0.03372887,  0.03372887, ...,  0.01355405,\n",
       "         0.27136203,  0.16863137],\n",
       "       [ 0.01648945,  0.01648945,  0.01648945, ...,  0.48698032,\n",
       "         0.45907187,  0.58905874]])"
      ]
     },
     "execution_count": 71,
     "metadata": {},
     "output_type": "execute_result"
    }
   ],
   "source": [
    "jets[:,:,0]"
   ]
  },
  {
   "cell_type": "code",
   "execution_count": 32,
   "metadata": {},
   "outputs": [
    {
     "data": {
      "image/png": "[encoded data removed]",
      "text/plain": [
       "<Figure size 432x288 with 1 Axes>"
      ]
     },
     "metadata": {},
     "output_type": "display_data"
    }
   ],
   "source": [
    "plt.hist(jet_masses(feed_pc), bins=np.arange(0,500,20))\n",
    "plt.show()"
   ]
  },
  {
   "cell_type": "code",
   "execution_count": 42,
   "metadata": {},
   "outputs": [
    {
     "name": "stderr",
     "output_type": "stream",
     "text": [
      "/usr/local/lib/python2.7/dist-packages/ipykernel_launcher.py:5: RuntimeWarning: invalid value encountered in sqrt\n",
      "  \"\"\"\n"
     ]
    }
   ],
   "source": [
    "jets = feed_pc\n",
    "numpoints = len(jets[0])\n",
    "Delta_Rs = np.linalg.norm(feed_pc,axis=2)\n",
    "p_parr = np.sum(np.cos(Delta_Rs))\n",
    "masses = np.sqrt(numpoints**2 - np.power(p_parr,2))*p_norm/numpoints"
   ]
  },
  {
   "cell_type": "code",
   "execution_count": 44,
   "metadata": {},
   "outputs": [
    {
     "data": {
      "text/plain": [
       "96376.95345754223"
      ]
     },
     "execution_count": 44,
     "metadata": {},
     "output_type": "execute_result"
    }
   ],
   "source": [
    "p_parr"
   ]
  },
  {
   "cell_type": "code",
   "execution_count": 60,
   "metadata": {},
   "outputs": [
    {
     "data": {
      "text/plain": [
       "-0.9999987317275395"
      ]
     },
     "execution_count": 60,
     "metadata": {},
     "output_type": "execute_result"
    }
   ],
   "source": [
    "np.cos(3.14)"
   ]
  },
  {
   "cell_type": "code",
   "execution_count": 102,
   "metadata": {},
   "outputs": [],
   "source": [
    "numload = 1000\n",
    "feed_pc, feed_model_names, _ = valid_pc_data.next_batch(numload )\n",
    "#reconstructions = ae.reconstruct(feed_pc)[0]\n",
    "latent_codes = ae.transform(feed_pc)"
   ]
  },
  {
   "cell_type": "code",
   "execution_count": 36,
   "metadata": {},
   "outputs": [
    {
     "data": {
      "text/plain": [
       "<matplotlib.collections.PathCollection at 0x7efc280d2dd0>"
      ]
     },
     "execution_count": 36,
     "metadata": {},
     "output_type": "execute_result"
    },
    {
     "data": {
      "image/png": "[encoded data removed]",
      "text/plain": [
       "<Figure size 432x288 with 1 Axes>"
      ]
     },
     "metadata": {},
     "output_type": "display_data"
    }
   ],
   "source": []
  },
  {
   "cell_type": "code",
   "execution_count": 34,
   "metadata": {},
   "outputs": [
    {
     "data": {
      "text/plain": [
       "array([ 35.28688225,  93.1821818 ,  68.674639  ,  66.82980052,\n",
       "        74.14441173,  34.51399374,  69.14875579,  36.95418762,\n",
       "        58.10141722,  35.03645862,  59.17256632,  46.93591623,\n",
       "        65.7136201 ,  58.5225264 ,  49.73832894,  41.92313558,\n",
       "        81.62550544,  81.31715223,  61.86501389,  70.09262545,\n",
       "        55.00411739,  50.09787022,  56.01598295,  41.08508213,\n",
       "        37.45209645,  26.12286477,  46.64123251,  33.62808724,\n",
       "        76.62201858,  59.6882946 ,  97.54313234,  61.19816435,\n",
       "        27.00050637,  52.88769576,  93.3634272 ,  69.40321466,\n",
       "        32.31190283,  47.50241584,  80.27918911,  80.08367439,\n",
       "        86.4246068 ,  59.84014424,  73.06503657,  35.90446185,\n",
       "        70.4502928 ,  52.35135732,  62.28219444,  27.45181723,\n",
       "        56.91367661,  37.44571713,  43.88163728,  56.53454517,\n",
       "        91.66736612,  48.45572223,  55.14218424,  26.93894511,\n",
       "        59.53523344,  90.1539713 ,  43.64649611,  49.89533825,\n",
       "        65.84580757,  42.11258539,  97.3171227 ,  45.04015666,\n",
       "        46.21149635,  71.63280443,  36.14872306,  61.65227236,\n",
       "        45.54911287,  37.93193813,  54.78876747,  34.71695685,\n",
       "       100.02645786,  68.21195162,  75.768582  ,  51.56694665,\n",
       "        40.00198564,  43.23367958,  70.44861527, 101.19563627,\n",
       "        41.73448593,  31.39235417,  54.61747945,  56.4572098 ,\n",
       "        51.54040873,  67.94888728,  37.51586475,  42.78711439,\n",
       "        80.11819091,  51.86788966,  48.34883333,  91.84683399,\n",
       "        45.77275205,  39.92642275,  52.75218904,  47.32243419,\n",
       "        55.98520083,  82.68766854,  45.61003702,  42.7051605 ,\n",
       "        60.22818747,  74.57660678,  66.25466975,  39.864538  ,\n",
       "        39.86681393,  25.90240572,  48.60932759,  90.54353159,\n",
       "        67.84688184,  40.00981836,  59.90611129,  49.75137847,\n",
       "        76.0041969 ,  33.55803456,  66.79866087,  69.21268003,\n",
       "        33.83956797,  23.40577664,  42.52865609,  71.8177223 ,\n",
       "        56.59952514,  48.94900377,  52.27414965,  61.24064454,\n",
       "        81.51764542,  60.81839655,  49.96314163, 110.46750154,\n",
       "        65.12068263,  41.34715175,  46.86050114,  52.28805766,\n",
       "        23.41105657,  92.60821602,  71.80767413,  52.05142282,\n",
       "        51.70879551,  63.96617024,  36.92808492,  43.20384962,\n",
       "        57.03148588,  51.16910368,  85.1407818 ,  34.68172351,\n",
       "        19.54053885,  57.55029557,  42.38512005,  43.45997926,\n",
       "        68.09668215,  66.77180648,  72.62217626,  36.31502032,\n",
       "        53.87678934, 100.92803828,  58.88627974,  64.37792831,\n",
       "        49.10851287,  37.38773483,  26.64621837,  42.12888596,\n",
       "        38.51362378,  51.34929142,  54.24228687,  45.32238571,\n",
       "        35.57858911,  40.42293558,  36.19864913,  62.66984304,\n",
       "        93.30993071,  31.51732052,  72.83016654,  76.49838461,\n",
       "        59.13718956,  60.04609675,  49.96580297,  33.33030191,\n",
       "        36.12848431,  72.84062346,  67.86850581,  81.62057131,\n",
       "        74.68857538,  50.22673152,  42.39591083,  26.44911897,\n",
       "        90.2626258 ,  27.61483219,  52.97737403,  68.28025919,\n",
       "        26.62486653,  75.40507966,  72.18536944,  55.31051795,\n",
       "        30.23830252,  66.33369862,  42.95643726,  76.28329998,\n",
       "        46.80120154,  47.67915222,  55.28590597,  53.9225991 ,\n",
       "        44.96265947,  52.51077726,  35.85717445,  35.40481082,\n",
       "        52.73402834,  72.54180395,  54.07385799,  54.41453671,\n",
       "        50.59149317,  63.87311168,  49.88413271,  45.78044381,\n",
       "        32.81126033,  69.93170073,  88.78167012,  50.48067352,\n",
       "        55.08690839,  59.65341875,  94.19767128,  37.83855896,\n",
       "        49.18986125, 100.74418062,  40.95266265,  43.1785508 ,\n",
       "        63.50385505,  29.81875453,  51.94088964,  29.32006456,\n",
       "        37.44830469,  63.14469073,  54.0927274 ,  84.97594196,\n",
       "        53.52706232,  67.69196318,  41.0681129 ,  67.14905404,\n",
       "        45.08989077,  42.39043337,  85.20161635,  51.58207432,\n",
       "        65.14523471,  67.71167796,  84.81499228,  25.72294655,\n",
       "        28.93684888,  62.28044843,  27.43730813,  46.08969156,\n",
       "        48.66315166,  31.9231934 ,  54.11525918,  60.91349808,\n",
       "        38.66339513,  65.64695387,  51.75131368,  50.75836379,\n",
       "        94.48028625,  60.15983962,  29.61289759,  44.01336946,\n",
       "        33.76926562,  36.92642324,  35.52348492,  37.53000243,\n",
       "        56.7545509 ,  34.82973537,  67.30038014])"
      ]
     },
     "execution_count": 34,
     "metadata": {},
     "output_type": "execute_result"
    }
   ],
   "source": [
    "jet_masses(feed_pc[(latent_codes ==0.).flatten()])"
   ]
  },
  {
   "cell_type": "code",
   "execution_count": 83,
   "metadata": {},
   "outputs": [
    {
     "data": {
      "text/plain": [
       "0.0"
      ]
     },
     "execution_count": 83,
     "metadata": {},
     "output_type": "execute_result"
    }
   ],
   "source": [
    "latent_codes[latent_codes ==0.][0]"
   ]
  },
  {
   "cell_type": "code",
   "execution_count": 85,
   "metadata": {},
   "outputs": [
    {
     "data": {
      "text/plain": [
       "array([[ True],\n",
       "       [False],\n",
       "       [False],\n",
       "       [False],\n",
       "       [False],\n",
       "       [False],\n",
       "       [ True],\n",
       "       [False],\n",
       "       [False],\n",
       "       [False],\n",
       "       [False],\n",
       "       [False],\n",
       "       [False],\n",
       "       [ True],\n",
       "       [ True],\n",
       "       [False],\n",
       "       [False],\n",
       "       [False],\n",
       "       [ True],\n",
       "       [ True],\n",
       "       [ True],\n",
       "       [False],\n",
       "       [False],\n",
       "       [False],\n",
       "       [False],\n",
       "       [False],\n",
       "       [ True],\n",
       "       [False],\n",
       "       [False],\n",
       "       [False],\n",
       "       [False],\n",
       "       [False],\n",
       "       [False],\n",
       "       [False],\n",
       "       [False],\n",
       "       [False],\n",
       "       [False],\n",
       "       [ True],\n",
       "       [ True],\n",
       "       [False],\n",
       "       [False],\n",
       "       [False],\n",
       "       [False],\n",
       "       [False],\n",
       "       [False],\n",
       "       [False],\n",
       "       [ True],\n",
       "       [False],\n",
       "       [False],\n",
       "       [False],\n",
       "       [ True],\n",
       "       [False],\n",
       "       [False],\n",
       "       [False],\n",
       "       [False],\n",
       "       [False],\n",
       "       [False],\n",
       "       [False],\n",
       "       [ True],\n",
       "       [ True],\n",
       "       [False],\n",
       "       [ True],\n",
       "       [False],\n",
       "       [False],\n",
       "       [False],\n",
       "       [False],\n",
       "       [False],\n",
       "       [False],\n",
       "       [False],\n",
       "       [False],\n",
       "       [False],\n",
       "       [ True],\n",
       "       [False],\n",
       "       [False],\n",
       "       [ True],\n",
       "       [False],\n",
       "       [False],\n",
       "       [False],\n",
       "       [False],\n",
       "       [False],\n",
       "       [ True],\n",
       "       [False],\n",
       "       [False],\n",
       "       [False],\n",
       "       [False],\n",
       "       [False],\n",
       "       [False],\n",
       "       [False],\n",
       "       [False],\n",
       "       [False],\n",
       "       [False],\n",
       "       [False],\n",
       "       [False],\n",
       "       [False],\n",
       "       [False],\n",
       "       [False],\n",
       "       [False],\n",
       "       [False],\n",
       "       [False],\n",
       "       [False],\n",
       "       [False],\n",
       "       [False],\n",
       "       [False],\n",
       "       [False],\n",
       "       [False],\n",
       "       [False],\n",
       "       [False],\n",
       "       [False],\n",
       "       [False],\n",
       "       [False],\n",
       "       [False],\n",
       "       [ True],\n",
       "       [ True],\n",
       "       [ True],\n",
       "       [False],\n",
       "       [False],\n",
       "       [False],\n",
       "       [False],\n",
       "       [False],\n",
       "       [False],\n",
       "       [False],\n",
       "       [False],\n",
       "       [False],\n",
       "       [False],\n",
       "       [False],\n",
       "       [False],\n",
       "       [False],\n",
       "       [False],\n",
       "       [False],\n",
       "       [False],\n",
       "       [False],\n",
       "       [False],\n",
       "       [False],\n",
       "       [False],\n",
       "       [False],\n",
       "       [False],\n",
       "       [False],\n",
       "       [False],\n",
       "       [False],\n",
       "       [False],\n",
       "       [False],\n",
       "       [False],\n",
       "       [False],\n",
       "       [False],\n",
       "       [ True],\n",
       "       [ True],\n",
       "       [False],\n",
       "       [False],\n",
       "       [False],\n",
       "       [False],\n",
       "       [ True],\n",
       "       [ True],\n",
       "       [ True],\n",
       "       [False],\n",
       "       [False],\n",
       "       [False],\n",
       "       [False],\n",
       "       [False],\n",
       "       [False],\n",
       "       [False],\n",
       "       [False],\n",
       "       [False],\n",
       "       [False],\n",
       "       [False],\n",
       "       [ True],\n",
       "       [False],\n",
       "       [False],\n",
       "       [False],\n",
       "       [False],\n",
       "       [False],\n",
       "       [False],\n",
       "       [False],\n",
       "       [False],\n",
       "       [False],\n",
       "       [ True],\n",
       "       [False],\n",
       "       [False],\n",
       "       [False],\n",
       "       [False],\n",
       "       [False],\n",
       "       [False],\n",
       "       [False],\n",
       "       [False],\n",
       "       [False],\n",
       "       [ True],\n",
       "       [False],\n",
       "       [False],\n",
       "       [False],\n",
       "       [False],\n",
       "       [False],\n",
       "       [False],\n",
       "       [False],\n",
       "       [False],\n",
       "       [False],\n",
       "       [False],\n",
       "       [False],\n",
       "       [False],\n",
       "       [False],\n",
       "       [False],\n",
       "       [ True],\n",
       "       [False],\n",
       "       [False],\n",
       "       [False],\n",
       "       [ True],\n",
       "       [False],\n",
       "       [ True],\n",
       "       [False],\n",
       "       [False],\n",
       "       [False],\n",
       "       [ True],\n",
       "       [ True],\n",
       "       [False],\n",
       "       [False],\n",
       "       [False],\n",
       "       [ True],\n",
       "       [False],\n",
       "       [ True],\n",
       "       [False],\n",
       "       [False],\n",
       "       [False],\n",
       "       [False],\n",
       "       [False],\n",
       "       [False],\n",
       "       [False],\n",
       "       [False],\n",
       "       [False],\n",
       "       [False],\n",
       "       [False],\n",
       "       [False],\n",
       "       [False],\n",
       "       [ True],\n",
       "       [False],\n",
       "       [False],\n",
       "       [False],\n",
       "       [False],\n",
       "       [False],\n",
       "       [False],\n",
       "       [False],\n",
       "       [False],\n",
       "       [False],\n",
       "       [False],\n",
       "       [False],\n",
       "       [False],\n",
       "       [False],\n",
       "       [False],\n",
       "       [False],\n",
       "       [False],\n",
       "       [False],\n",
       "       [ True],\n",
       "       [ True],\n",
       "       [False],\n",
       "       [False],\n",
       "       [False],\n",
       "       [False],\n",
       "       [False],\n",
       "       [False],\n",
       "       [False],\n",
       "       [False],\n",
       "       [False],\n",
       "       [False],\n",
       "       [False],\n",
       "       [ True],\n",
       "       [False],\n",
       "       [False],\n",
       "       [ True],\n",
       "       [ True],\n",
       "       [False],\n",
       "       [False],\n",
       "       [False],\n",
       "       [False],\n",
       "       [ True],\n",
       "       [False],\n",
       "       [False],\n",
       "       [ True],\n",
       "       [False],\n",
       "       [False],\n",
       "       [False],\n",
       "       [False],\n",
       "       [False],\n",
       "       [False],\n",
       "       [ True],\n",
       "       [False],\n",
       "       [False],\n",
       "       [False],\n",
       "       [False],\n",
       "       [False],\n",
       "       [ True],\n",
       "       [False],\n",
       "       [False],\n",
       "       [False],\n",
       "       [False],\n",
       "       [False],\n",
       "       [False],\n",
       "       [False],\n",
       "       [False],\n",
       "       [False],\n",
       "       [False],\n",
       "       [False],\n",
       "       [False],\n",
       "       [False],\n",
       "       [False],\n",
       "       [ True],\n",
       "       [False],\n",
       "       [False],\n",
       "       [ True],\n",
       "       [False],\n",
       "       [False],\n",
       "       [ True],\n",
       "       [False],\n",
       "       [False],\n",
       "       [False],\n",
       "       [False],\n",
       "       [False],\n",
       "       [False],\n",
       "       [False],\n",
       "       [False],\n",
       "       [False],\n",
       "       [False],\n",
       "       [ True],\n",
       "       [ True],\n",
       "       [False],\n",
       "       [False],\n",
       "       [False],\n",
       "       [False],\n",
       "       [False],\n",
       "       [False],\n",
       "       [False],\n",
       "       [False],\n",
       "       [False],\n",
       "       [False],\n",
       "       [False],\n",
       "       [ True],\n",
       "       [False],\n",
       "       [ True],\n",
       "       [False],\n",
       "       [False],\n",
       "       [False],\n",
       "       [ True],\n",
       "       [False],\n",
       "       [False],\n",
       "       [False],\n",
       "       [ True],\n",
       "       [False],\n",
       "       [False],\n",
       "       [False],\n",
       "       [False],\n",
       "       [False],\n",
       "       [False],\n",
       "       [ True],\n",
       "       [ True],\n",
       "       [False],\n",
       "       [False],\n",
       "       [False],\n",
       "       [False],\n",
       "       [False],\n",
       "       [False],\n",
       "       [False],\n",
       "       [False],\n",
       "       [False],\n",
       "       [False],\n",
       "       [False],\n",
       "       [ True],\n",
       "       [ True],\n",
       "       [ True],\n",
       "       [False],\n",
       "       [False],\n",
       "       [False],\n",
       "       [False],\n",
       "       [False],\n",
       "       [False],\n",
       "       [False],\n",
       "       [False],\n",
       "       [False],\n",
       "       [False],\n",
       "       [False],\n",
       "       [False],\n",
       "       [ True],\n",
       "       [False],\n",
       "       [ True],\n",
       "       [False],\n",
       "       [False],\n",
       "       [False],\n",
       "       [False],\n",
       "       [False],\n",
       "       [False],\n",
       "       [False],\n",
       "       [False],\n",
       "       [ True],\n",
       "       [False],\n",
       "       [False],\n",
       "       [False],\n",
       "       [False],\n",
       "       [False],\n",
       "       [False],\n",
       "       [False],\n",
       "       [False],\n",
       "       [False],\n",
       "       [False],\n",
       "       [ True],\n",
       "       [False],\n",
       "       [False],\n",
       "       [False],\n",
       "       [False],\n",
       "       [False],\n",
       "       [False],\n",
       "       [False],\n",
       "       [False],\n",
       "       [False],\n",
       "       [False],\n",
       "       [False],\n",
       "       [False],\n",
       "       [False],\n",
       "       [False],\n",
       "       [False],\n",
       "       [False],\n",
       "       [False],\n",
       "       [ True],\n",
       "       [ True],\n",
       "       [ True],\n",
       "       [False],\n",
       "       [ True],\n",
       "       [False],\n",
       "       [ True],\n",
       "       [False],\n",
       "       [False],\n",
       "       [False],\n",
       "       [False],\n",
       "       [False],\n",
       "       [False],\n",
       "       [False],\n",
       "       [False],\n",
       "       [False],\n",
       "       [False],\n",
       "       [False],\n",
       "       [False],\n",
       "       [False],\n",
       "       [False],\n",
       "       [False],\n",
       "       [False],\n",
       "       [False],\n",
       "       [ True],\n",
       "       [False],\n",
       "       [False],\n",
       "       [False],\n",
       "       [ True],\n",
       "       [False],\n",
       "       [False],\n",
       "       [False],\n",
       "       [False],\n",
       "       [False],\n",
       "       [False],\n",
       "       [False],\n",
       "       [False],\n",
       "       [False],\n",
       "       [False],\n",
       "       [ True],\n",
       "       [False],\n",
       "       [False],\n",
       "       [False],\n",
       "       [False],\n",
       "       [ True],\n",
       "       [False],\n",
       "       [False],\n",
       "       [False],\n",
       "       [False],\n",
       "       [False],\n",
       "       [False],\n",
       "       [ True],\n",
       "       [False],\n",
       "       [False],\n",
       "       [False],\n",
       "       [False],\n",
       "       [False],\n",
       "       [False],\n",
       "       [False],\n",
       "       [False],\n",
       "       [False],\n",
       "       [False],\n",
       "       [False],\n",
       "       [False],\n",
       "       [False],\n",
       "       [False],\n",
       "       [False],\n",
       "       [False],\n",
       "       [False],\n",
       "       [ True],\n",
       "       [False],\n",
       "       [False],\n",
       "       [False],\n",
       "       [False],\n",
       "       [False],\n",
       "       [ True],\n",
       "       [False],\n",
       "       [False],\n",
       "       [False],\n",
       "       [False],\n",
       "       [False],\n",
       "       [False],\n",
       "       [ True],\n",
       "       [False],\n",
       "       [False],\n",
       "       [False],\n",
       "       [ True],\n",
       "       [ True],\n",
       "       [False],\n",
       "       [False],\n",
       "       [False],\n",
       "       [ True],\n",
       "       [ True],\n",
       "       [False],\n",
       "       [False],\n",
       "       [False],\n",
       "       [ True],\n",
       "       [False],\n",
       "       [False],\n",
       "       [False],\n",
       "       [False],\n",
       "       [ True],\n",
       "       [False],\n",
       "       [ True],\n",
       "       [ True],\n",
       "       [False],\n",
       "       [ True],\n",
       "       [False],\n",
       "       [False],\n",
       "       [False],\n",
       "       [False],\n",
       "       [False],\n",
       "       [False],\n",
       "       [ True],\n",
       "       [False],\n",
       "       [False],\n",
       "       [False],\n",
       "       [ True],\n",
       "       [False],\n",
       "       [False],\n",
       "       [False],\n",
       "       [False],\n",
       "       [False],\n",
       "       [False],\n",
       "       [False],\n",
       "       [False],\n",
       "       [False],\n",
       "       [False],\n",
       "       [False],\n",
       "       [False],\n",
       "       [False],\n",
       "       [ True],\n",
       "       [False],\n",
       "       [False],\n",
       "       [ True],\n",
       "       [ True],\n",
       "       [False],\n",
       "       [False],\n",
       "       [ True],\n",
       "       [False],\n",
       "       [False],\n",
       "       [False],\n",
       "       [False],\n",
       "       [False],\n",
       "       [False],\n",
       "       [ True],\n",
       "       [False],\n",
       "       [False],\n",
       "       [ True],\n",
       "       [ True],\n",
       "       [False],\n",
       "       [False],\n",
       "       [False],\n",
       "       [False],\n",
       "       [False],\n",
       "       [ True],\n",
       "       [False],\n",
       "       [False],\n",
       "       [False],\n",
       "       [False],\n",
       "       [False],\n",
       "       [False],\n",
       "       [False],\n",
       "       [False],\n",
       "       [False],\n",
       "       [False],\n",
       "       [False],\n",
       "       [False],\n",
       "       [False],\n",
       "       [False],\n",
       "       [False],\n",
       "       [False],\n",
       "       [False],\n",
       "       [ True],\n",
       "       [False],\n",
       "       [False],\n",
       "       [False],\n",
       "       [False],\n",
       "       [ True],\n",
       "       [False],\n",
       "       [False],\n",
       "       [False],\n",
       "       [False],\n",
       "       [False],\n",
       "       [False],\n",
       "       [False],\n",
       "       [False],\n",
       "       [False],\n",
       "       [False],\n",
       "       [False],\n",
       "       [False],\n",
       "       [False],\n",
       "       [ True],\n",
       "       [ True],\n",
       "       [False],\n",
       "       [False],\n",
       "       [False],\n",
       "       [False],\n",
       "       [ True],\n",
       "       [False],\n",
       "       [False],\n",
       "       [ True],\n",
       "       [ True],\n",
       "       [False],\n",
       "       [False],\n",
       "       [False],\n",
       "       [False],\n",
       "       [ True],\n",
       "       [False],\n",
       "       [False],\n",
       "       [False],\n",
       "       [False],\n",
       "       [ True],\n",
       "       [ True],\n",
       "       [False],\n",
       "       [False],\n",
       "       [False],\n",
       "       [ True],\n",
       "       [False],\n",
       "       [False],\n",
       "       [False],\n",
       "       [False],\n",
       "       [False],\n",
       "       [ True],\n",
       "       [False],\n",
       "       [False],\n",
       "       [ True],\n",
       "       [False],\n",
       "       [False],\n",
       "       [False],\n",
       "       [False],\n",
       "       [False],\n",
       "       [False],\n",
       "       [False],\n",
       "       [False],\n",
       "       [False],\n",
       "       [False],\n",
       "       [False],\n",
       "       [False],\n",
       "       [False],\n",
       "       [False],\n",
       "       [False],\n",
       "       [False],\n",
       "       [False],\n",
       "       [False],\n",
       "       [ True],\n",
       "       [False],\n",
       "       [False],\n",
       "       [False],\n",
       "       [False],\n",
       "       [False],\n",
       "       [False],\n",
       "       [False],\n",
       "       [False],\n",
       "       [False],\n",
       "       [False],\n",
       "       [False],\n",
       "       [False],\n",
       "       [False],\n",
       "       [False],\n",
       "       [False],\n",
       "       [False],\n",
       "       [ True],\n",
       "       [ True],\n",
       "       [ True],\n",
       "       [False],\n",
       "       [False],\n",
       "       [False],\n",
       "       [False],\n",
       "       [False],\n",
       "       [False],\n",
       "       [False],\n",
       "       [False],\n",
       "       [False],\n",
       "       [False],\n",
       "       [False],\n",
       "       [False],\n",
       "       [ True],\n",
       "       [False],\n",
       "       [False],\n",
       "       [False],\n",
       "       [False],\n",
       "       [False],\n",
       "       [False],\n",
       "       [False],\n",
       "       [False],\n",
       "       [ True],\n",
       "       [False],\n",
       "       [False],\n",
       "       [False],\n",
       "       [ True],\n",
       "       [False],\n",
       "       [False],\n",
       "       [False],\n",
       "       [False],\n",
       "       [False],\n",
       "       [False],\n",
       "       [False],\n",
       "       [False],\n",
       "       [False],\n",
       "       [False],\n",
       "       [False],\n",
       "       [ True],\n",
       "       [False],\n",
       "       [ True],\n",
       "       [False],\n",
       "       [False],\n",
       "       [False],\n",
       "       [False],\n",
       "       [False],\n",
       "       [False],\n",
       "       [False],\n",
       "       [False],\n",
       "       [False],\n",
       "       [False],\n",
       "       [False],\n",
       "       [False],\n",
       "       [False],\n",
       "       [False],\n",
       "       [False],\n",
       "       [False],\n",
       "       [ True],\n",
       "       [ True],\n",
       "       [False],\n",
       "       [False],\n",
       "       [False],\n",
       "       [False],\n",
       "       [False],\n",
       "       [False],\n",
       "       [ True],\n",
       "       [ True],\n",
       "       [ True],\n",
       "       [False],\n",
       "       [False],\n",
       "       [False],\n",
       "       [False],\n",
       "       [False],\n",
       "       [False],\n",
       "       [ True],\n",
       "       [False],\n",
       "       [False],\n",
       "       [False],\n",
       "       [False],\n",
       "       [False],\n",
       "       [False],\n",
       "       [ True],\n",
       "       [False],\n",
       "       [False],\n",
       "       [False],\n",
       "       [ True],\n",
       "       [False],\n",
       "       [ True],\n",
       "       [False],\n",
       "       [False],\n",
       "       [False],\n",
       "       [ True],\n",
       "       [False],\n",
       "       [False],\n",
       "       [False],\n",
       "       [False],\n",
       "       [False],\n",
       "       [False],\n",
       "       [False],\n",
       "       [False],\n",
       "       [False],\n",
       "       [ True],\n",
       "       [False],\n",
       "       [False],\n",
       "       [False],\n",
       "       [False],\n",
       "       [False],\n",
       "       [False],\n",
       "       [False],\n",
       "       [False],\n",
       "       [False],\n",
       "       [False],\n",
       "       [False],\n",
       "       [False],\n",
       "       [False],\n",
       "       [False],\n",
       "       [False],\n",
       "       [False],\n",
       "       [False],\n",
       "       [False],\n",
       "       [False],\n",
       "       [False],\n",
       "       [ True],\n",
       "       [False],\n",
       "       [False],\n",
       "       [False],\n",
       "       [False],\n",
       "       [False],\n",
       "       [False],\n",
       "       [False],\n",
       "       [False],\n",
       "       [False],\n",
       "       [False],\n",
       "       [False],\n",
       "       [False],\n",
       "       [False],\n",
       "       [False],\n",
       "       [False],\n",
       "       [ True],\n",
       "       [False],\n",
       "       [ True],\n",
       "       [ True],\n",
       "       [False],\n",
       "       [False],\n",
       "       [ True],\n",
       "       [ True],\n",
       "       [False],\n",
       "       [False],\n",
       "       [False],\n",
       "       [ True],\n",
       "       [False],\n",
       "       [False],\n",
       "       [False],\n",
       "       [ True],\n",
       "       [False],\n",
       "       [False],\n",
       "       [False],\n",
       "       [False],\n",
       "       [False],\n",
       "       [False],\n",
       "       [False],\n",
       "       [ True],\n",
       "       [False],\n",
       "       [False],\n",
       "       [False],\n",
       "       [False],\n",
       "       [False],\n",
       "       [ True],\n",
       "       [False],\n",
       "       [False],\n",
       "       [False],\n",
       "       [ True],\n",
       "       [False],\n",
       "       [False],\n",
       "       [False],\n",
       "       [False],\n",
       "       [False],\n",
       "       [False],\n",
       "       [False],\n",
       "       [False],\n",
       "       [False],\n",
       "       [False],\n",
       "       [False],\n",
       "       [False],\n",
       "       [False],\n",
       "       [False],\n",
       "       [False],\n",
       "       [False],\n",
       "       [False],\n",
       "       [False],\n",
       "       [False],\n",
       "       [False],\n",
       "       [False],\n",
       "       [False],\n",
       "       [False],\n",
       "       [ True],\n",
       "       [False],\n",
       "       [False],\n",
       "       [ True],\n",
       "       [ True],\n",
       "       [False],\n",
       "       [ True],\n",
       "       [False],\n",
       "       [ True],\n",
       "       [False],\n",
       "       [ True],\n",
       "       [False],\n",
       "       [ True],\n",
       "       [False],\n",
       "       [False],\n",
       "       [False],\n",
       "       [False],\n",
       "       [False],\n",
       "       [False],\n",
       "       [False],\n",
       "       [False],\n",
       "       [False],\n",
       "       [False],\n",
       "       [False],\n",
       "       [False],\n",
       "       [False],\n",
       "       [False],\n",
       "       [False],\n",
       "       [ True],\n",
       "       [False],\n",
       "       [ True],\n",
       "       [False],\n",
       "       [False],\n",
       "       [ True],\n",
       "       [False],\n",
       "       [False],\n",
       "       [False],\n",
       "       [False],\n",
       "       [False],\n",
       "       [False],\n",
       "       [False],\n",
       "       [ True],\n",
       "       [False],\n",
       "       [ True],\n",
       "       [False],\n",
       "       [False],\n",
       "       [ True],\n",
       "       [False],\n",
       "       [False],\n",
       "       [False],\n",
       "       [False],\n",
       "       [False],\n",
       "       [ True],\n",
       "       [False],\n",
       "       [False],\n",
       "       [False],\n",
       "       [False],\n",
       "       [False],\n",
       "       [False],\n",
       "       [False],\n",
       "       [ True],\n",
       "       [False],\n",
       "       [ True],\n",
       "       [False],\n",
       "       [ True],\n",
       "       [False],\n",
       "       [False],\n",
       "       [False],\n",
       "       [False],\n",
       "       [False],\n",
       "       [False],\n",
       "       [ True],\n",
       "       [ True],\n",
       "       [False],\n",
       "       [False],\n",
       "       [False],\n",
       "       [False],\n",
       "       [False],\n",
       "       [False],\n",
       "       [False],\n",
       "       [False],\n",
       "       [False],\n",
       "       [False],\n",
       "       [False],\n",
       "       [False],\n",
       "       [ True],\n",
       "       [ True],\n",
       "       [False],\n",
       "       [False],\n",
       "       [ True],\n",
       "       [False],\n",
       "       [False],\n",
       "       [False],\n",
       "       [False],\n",
       "       [False],\n",
       "       [False],\n",
       "       [False],\n",
       "       [False],\n",
       "       [False],\n",
       "       [False],\n",
       "       [False],\n",
       "       [False],\n",
       "       [False],\n",
       "       [False],\n",
       "       [False],\n",
       "       [False],\n",
       "       [False],\n",
       "       [ True],\n",
       "       [False],\n",
       "       [False],\n",
       "       [ True],\n",
       "       [ True],\n",
       "       [False],\n",
       "       [False],\n",
       "       [False],\n",
       "       [False],\n",
       "       [False],\n",
       "       [False],\n",
       "       [ True],\n",
       "       [False],\n",
       "       [False],\n",
       "       [False],\n",
       "       [False],\n",
       "       [False],\n",
       "       [False]])"
      ]
     },
     "execution_count": 85,
     "metadata": {},
     "output_type": "execute_result"
    }
   ],
   "source": [
    "(latent_codes ==0.)"
   ]
  },
  {
   "cell_type": "code",
   "execution_count": null,
   "metadata": {},
   "outputs": [],
   "source": []
  }
 ],
 "metadata": {
  "kernelspec": {
   "display_name": "Python 2",
   "language": "python",
   "name": "python2"
  },
  "language_info": {
   "codemirror_mode": {
    "name": "ipython",
    "version": 2
   },
   "file_extension": ".py",
   "mimetype": "text/x-python",
   "name": "python",
   "nbconvert_exporter": "python",
   "pygments_lexer": "ipython2",
   "version": "2.7.12"
  }
 },
 "nbformat": 4,
 "nbformat_minor": 2
}
