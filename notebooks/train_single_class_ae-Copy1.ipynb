{
 "cells": [
  {
   "cell_type": "markdown",
   "metadata": {},
   "source": [
    "## This notebook will help you train a vanilla Point-Cloud AE with the basic architecture we used in our paper.\n",
    "    (it assumes latent_3d_points is in the PYTHONPATH and the structural losses have been compiled)"
   ]
  },
  {
   "cell_type": "code",
   "execution_count": 1,
   "metadata": {},
   "outputs": [
    {
     "name": "stderr",
     "output_type": "stream",
     "text": [
      "/usr/local/lib/python2.7/dist-packages/h5py/__init__.py:36: FutureWarning: Conversion of the second argument of issubdtype from `float` to `np.floating` is deprecated. In future, it will be treated as `np.float64 == np.dtype(float).type`.\n",
      "  from ._conv import register_converters as _register_converters\n"
     ]
    }
   ],
   "source": [
    "import os.path as osp\n",
    "\n",
    "import sys\n",
    "sys.path.append('/home/jcollins')\n",
    "\n",
    "from latent_3d_points.src.ae_templates import mlp_architecture_ala_iclr_18, default_train_params\n",
    "from latent_3d_points.src.autoencoder import Configuration as Conf\n",
    "from latent_3d_points.src.point_net_ae import PointNetAutoEncoder\n",
    "\n",
    "from latent_3d_points.src.in_out import snc_category_to_synth_id, create_dir, PointCloudDataSet, \\\n",
    "                                        load_all_point_clouds_under_folder\n",
    "\n",
    "from latent_3d_points.src.tf_utils import reset_tf_graph\n",
    "from latent_3d_points.src.general_utils import plot_3d_point_cloud"
   ]
  },
  {
   "cell_type": "code",
   "execution_count": 2,
   "metadata": {},
   "outputs": [],
   "source": [
    "import tensorflow as tf\n",
    "config = tf.ConfigProto()\n",
    "config.gpu_options.allow_growth = True\n",
    "sess = tf.Session(config=config)"
   ]
  },
  {
   "cell_type": "code",
   "execution_count": 3,
   "metadata": {},
   "outputs": [],
   "source": [
    "%load_ext autoreload\n",
    "%autoreload 2\n",
    "%matplotlib inline"
   ]
  },
  {
   "cell_type": "markdown",
   "metadata": {},
   "source": [
    "Define Basic Parameters"
   ]
  },
  {
   "cell_type": "code",
   "execution_count": 6,
   "metadata": {},
   "outputs": [
    {
     "name": "stdout",
     "output_type": "stream",
     "text": [
      "Give me the class name (e.g. \"chair\"): chair\n"
     ]
    }
   ],
   "source": [
    "top_out_dir = '../data/'          # Use to save Neural-Net check-points etc.\n",
    "top_in_dir = '../data/shape_net_core_uniform_samples_2048/' # Top-dir of where point-clouds are stored.\n",
    "\n",
    "experiment_name = 'single_class_ae'\n",
    "n_pc_points = 1000                # Number of points per model.\n",
    "bneck_size = 128                  # Bottleneck-AE size\n",
    "ae_loss = 'emd'                   # Loss to optimize: 'emd' or 'chamfer'\n",
    "class_name = raw_input('Give me the class name (e.g. \"chair\"): ').lower()"
   ]
  },
  {
   "cell_type": "markdown",
   "metadata": {},
   "source": [
    "Load Point-Clouds"
   ]
  },
  {
   "cell_type": "code",
   "execution_count": 7,
   "metadata": {
    "scrolled": true
   },
   "outputs": [
    {
     "name": "stdout",
     "output_type": "stream",
     "text": [
      "6778 pclouds were loaded. They belong in 1 shape-classes.\n"
     ]
    }
   ],
   "source": [
    "syn_id = snc_category_to_synth_id()[class_name]\n",
    "class_dir = osp.join(top_in_dir , syn_id)\n",
    "all_pc_data = load_all_point_clouds_under_folder(class_dir, n_threads=8, file_ending='.ply', verbose=True)"
   ]
  },
  {
   "cell_type": "code",
   "execution_count": 8,
   "metadata": {},
   "outputs": [],
   "source": [
    "import pandas as pd\n",
    "numjets = 100000\n",
    "outstore = pd.HDFStore(\"/data1/users/jcollins/Heidelberg_sample/train_points.h5\")\n",
    "rawdata = outstore.select(\"points\",stop=numjets).values\n",
    "rawdata = rawdata.reshape(numjets,1000,2)\n",
    "all_pc_data = PointCloudDataSet(rawdata)"
   ]
  },
  {
   "cell_type": "markdown",
   "metadata": {},
   "source": [
    "Load default training parameters (some of which are listed beloq). For more details please print the configuration object.\n",
    "\n",
    "    'batch_size': 50   \n",
    "    \n",
    "    'denoising': False     (# by default AE is not denoising)\n",
    "\n",
    "    'learning_rate': 0.0005\n",
    "\n",
    "    'z_rotate': False      (# randomly rotate models of each batch)\n",
    "    \n",
    "    'loss_display_step': 1 (# display loss at end of these many epochs)\n",
    "    'saver_step': 10       (# over how many epochs to save neural-network)"
   ]
  },
  {
   "cell_type": "code",
   "execution_count": 9,
   "metadata": {},
   "outputs": [],
   "source": [
    "train_params = default_train_params()"
   ]
  },
  {
   "cell_type": "code",
   "execution_count": 10,
   "metadata": {},
   "outputs": [],
   "source": [
    "encoder, decoder, enc_args, dec_args = mlp_architecture_ala_iclr_18(n_pc_points, bneck_size)\n",
    "train_dir = create_dir(osp.join(top_out_dir, experiment_name))"
   ]
  },
  {
   "cell_type": "code",
   "execution_count": 11,
   "metadata": {},
   "outputs": [],
   "source": [
    "train_params['batch_size'] = 200"
   ]
  },
  {
   "cell_type": "code",
   "execution_count": 12,
   "metadata": {},
   "outputs": [
    {
     "data": {
      "text/plain": [
       "500"
      ]
     },
     "execution_count": 12,
     "metadata": {},
     "output_type": "execute_result"
    }
   ],
   "source": [
    "train_params['training_epochs']"
   ]
  },
  {
   "cell_type": "code",
   "execution_count": 13,
   "metadata": {},
   "outputs": [],
   "source": [
    "conf = Conf(n_input = [n_pc_points, 2],\n",
    "            loss = ae_loss,\n",
    "            training_epochs = train_params['training_epochs'],\n",
    "            batch_size = train_params['batch_size'],\n",
    "            denoising = train_params['denoising'],\n",
    "            learning_rate = train_params['learning_rate'],\n",
    "            train_dir = train_dir,\n",
    "            loss_display_step = train_params['loss_display_step'],\n",
    "            saver_step = train_params['saver_step'],\n",
    "            z_rotate = train_params['z_rotate'],\n",
    "            encoder = encoder,\n",
    "            decoder = decoder,\n",
    "            encoder_args = enc_args,\n",
    "            decoder_args = dec_args\n",
    "           )\n",
    "conf.experiment_name = experiment_name\n",
    "conf.held_out_step = 5   # How often to evaluate/print out loss on \n",
    "                         # held_out data (if they are provided in ae.train() ).\n",
    "conf.save(osp.join(train_dir, 'configuration'))"
   ]
  },
  {
   "cell_type": "markdown",
   "metadata": {},
   "source": [
    "If you ran the above lines, you can reload a saved model like this:"
   ]
  },
  {
   "cell_type": "code",
   "execution_count": 15,
   "metadata": {},
   "outputs": [
    {
     "name": "stdout",
     "output_type": "stream",
     "text": [
      "Building Encoder\n",
      "WARNING:tensorflow:From /home/jcollins/.local/lib/python2.7/site-packages/tflearn/initializations.py:119: __init__ (from tensorflow.python.ops.init_ops) is deprecated and will be removed in a future version.\n",
      "Instructions for updating:\n",
      "Use tf.initializers.variance_scaling instead with distribution=uniform to get equivalent behavior.\n",
      "encoder_conv_layer_0 conv params =  192 bnorm params =  128\n",
      "Tensor(\"single_class_ae_2/Relu:0\", shape=(?, 1000, 64), dtype=float32)\n",
      "output size: 64000 \n",
      "\n",
      "encoder_conv_layer_1 conv params =  8320 bnorm params =  256\n",
      "Tensor(\"single_class_ae_2/Relu_1:0\", shape=(?, 1000, 128), dtype=float32)\n",
      "output size: 128000 \n",
      "\n",
      "encoder_conv_layer_2 conv params =  16512 bnorm params =  256\n",
      "Tensor(\"single_class_ae_2/Relu_2:0\", shape=(?, 1000, 128), dtype=float32)\n",
      "output size: 128000 \n",
      "\n",
      "encoder_conv_layer_3 conv params =  33024 bnorm params =  512\n",
      "Tensor(\"single_class_ae_2/Relu_3:0\", shape=(?, 1000, 256), dtype=float32)\n",
      "output size: 256000 \n",
      "\n",
      "encoder_conv_layer_4 conv params =  32896 bnorm params =  256\n",
      "Tensor(\"single_class_ae_2/Relu_4:0\", shape=(?, 1000, 128), dtype=float32)\n",
      "output size: 128000 \n",
      "\n",
      "Tensor(\"single_class_ae_2/Max:0\", shape=(?, 128), dtype=float32)\n",
      "Building Decoder\n",
      "decoder_fc_0 FC params =  33024 Tensor(\"single_class_ae_2/Relu_5:0\", shape=(?, 256), dtype=float32)\n",
      "output size: 256 \n",
      "\n",
      "decoder_fc_1 FC params =  65792 Tensor(\"single_class_ae_2/Relu_6:0\", shape=(?, 256), dtype=float32)\n",
      "output size: 256 \n",
      "\n",
      "decoder_fc_2 FC params =  514000 Tensor(\"single_class_ae_2/decoder_fc_2/BiasAdd:0\", shape=(?, 2000), dtype=float32)\n",
      "output size: 2000 \n",
      "\n",
      "INFO:tensorflow:Restoring parameters from ../data/single_class_ae/models.ckpt-100\n"
     ]
    }
   ],
   "source": [
    "load_pre_trained_ae = True\n",
    "restore_epoch = 100\n",
    "if load_pre_trained_ae:\n",
    "    conf = Conf.load(train_dir + '/configuration')\n",
    "    reset_tf_graph()\n",
    "    ae = PointNetAutoEncoder(conf.experiment_name, conf)\n",
    "    ae.restore_model(conf.train_dir, epoch=restore_epoch)"
   ]
  },
  {
   "cell_type": "markdown",
   "metadata": {},
   "source": [
    "Build AE Model."
   ]
  },
  {
   "cell_type": "code",
   "execution_count": 12,
   "metadata": {},
   "outputs": [
    {
     "name": "stdout",
     "output_type": "stream",
     "text": [
      "Building Encoder\n",
      "WARNING:tensorflow:From /home/jcollins/.local/lib/python2.7/site-packages/tflearn/initializations.py:119: __init__ (from tensorflow.python.ops.init_ops) is deprecated and will be removed in a future version.\n",
      "Instructions for updating:\n",
      "Use tf.initializers.variance_scaling instead with distribution=uniform to get equivalent behavior.\n",
      "encoder_conv_layer_0 conv params =  192 bnorm params =  128\n",
      "Tensor(\"single_class_ae_2/Relu:0\", shape=(?, 1000, 64), dtype=float32)\n",
      "output size: 64000 \n",
      "\n",
      "encoder_conv_layer_1 conv params =  8320 bnorm params =  256\n",
      "Tensor(\"single_class_ae_2/Relu_1:0\", shape=(?, 1000, 128), dtype=float32)\n",
      "output size: 128000 \n",
      "\n",
      "encoder_conv_layer_2 conv params =  16512 bnorm params =  256\n",
      "Tensor(\"single_class_ae_2/Relu_2:0\", shape=(?, 1000, 128), dtype=float32)\n",
      "output size: 128000 \n",
      "\n",
      "encoder_conv_layer_3 conv params =  33024 bnorm params =  512\n",
      "Tensor(\"single_class_ae_2/Relu_3:0\", shape=(?, 1000, 256), dtype=float32)\n",
      "output size: 256000 \n",
      "\n",
      "encoder_conv_layer_4 conv params =  32896 bnorm params =  256\n",
      "Tensor(\"single_class_ae_2/Relu_4:0\", shape=(?, 1000, 128), dtype=float32)\n",
      "output size: 128000 \n",
      "\n",
      "Tensor(\"single_class_ae_2/Max:0\", shape=(?, 128), dtype=float32)\n",
      "Building Decoder\n",
      "decoder_fc_0 FC params =  33024 Tensor(\"single_class_ae_2/Relu_5:0\", shape=(?, 256), dtype=float32)\n",
      "output size: 256 \n",
      "\n",
      "decoder_fc_1 FC params =  65792 Tensor(\"single_class_ae_2/Relu_6:0\", shape=(?, 256), dtype=float32)\n",
      "output size: 256 \n",
      "\n",
      "decoder_fc_2 FC params =  514000 Tensor(\"single_class_ae_2/decoder_fc_2/BiasAdd:0\", shape=(?, 2000), dtype=float32)\n",
      "output size: 2000 \n",
      "\n"
     ]
    }
   ],
   "source": [
    "reset_tf_graph()\n",
    "ae = PointNetAutoEncoder(conf.experiment_name, conf)"
   ]
  },
  {
   "cell_type": "markdown",
   "metadata": {},
   "source": [
    "Train the AE (save output to train_stats.txt) "
   ]
  },
  {
   "cell_type": "code",
   "execution_count": 13,
   "metadata": {},
   "outputs": [
    {
     "name": "stdout",
     "output_type": "stream",
     "text": [
      "('Epoch:', '0001', 'training time (minutes)=', '1.5886', 'loss=', '0.175911824')\n",
      "INFO:tensorflow:../data/single_class_ae/models.ckpt-1 is not in all_model_checkpoint_paths. Manually adding it.\n",
      "('Epoch:', '0002', 'training time (minutes)=', '1.6165', 'loss=', '0.153389365')\n",
      "('Epoch:', '0003', 'training time (minutes)=', '1.6338', 'loss=', '0.147815618')\n",
      "('Epoch:', '0004', 'training time (minutes)=', '1.6282', 'loss=', '0.144953111')\n",
      "('Epoch:', '0005', 'training time (minutes)=', '1.6294', 'loss=', '0.142494342')\n",
      "('Epoch:', '0006', 'training time (minutes)=', '1.6311', 'loss=', '0.140977526')\n",
      "('Epoch:', '0007', 'training time (minutes)=', '1.6274', 'loss=', '0.139358955')\n",
      "('Epoch:', '0008', 'training time (minutes)=', '1.6301', 'loss=', '0.138330758')\n",
      "('Epoch:', '0009', 'training time (minutes)=', '1.6304', 'loss=', '0.137310831')\n",
      "('Epoch:', '0010', 'training time (minutes)=', '1.6284', 'loss=', '0.136391488')\n",
      "INFO:tensorflow:../data/single_class_ae/models.ckpt-10 is not in all_model_checkpoint_paths. Manually adding it.\n",
      "('Epoch:', '0011', 'training time (minutes)=', '1.6279', 'loss=', '0.135564529')\n",
      "('Epoch:', '0012', 'training time (minutes)=', '1.6294', 'loss=', '0.134982352')\n",
      "('Epoch:', '0013', 'training time (minutes)=', '1.6280', 'loss=', '0.134248299')\n",
      "('Epoch:', '0014', 'training time (minutes)=', '1.6265', 'loss=', '0.133342852')\n",
      "('Epoch:', '0015', 'training time (minutes)=', '1.6299', 'loss=', '0.133004911')\n",
      "('Epoch:', '0016', 'training time (minutes)=', '1.6285', 'loss=', '0.132157686')\n",
      "('Epoch:', '0017', 'training time (minutes)=', '1.6310', 'loss=', '0.131984836')\n",
      "('Epoch:', '0018', 'training time (minutes)=', '1.6293', 'loss=', '0.131351773')\n",
      "('Epoch:', '0019', 'training time (minutes)=', '1.6297', 'loss=', '0.131130123')\n",
      "('Epoch:', '0020', 'training time (minutes)=', '1.6261', 'loss=', '0.130396959')\n",
      "INFO:tensorflow:../data/single_class_ae/models.ckpt-20 is not in all_model_checkpoint_paths. Manually adding it.\n",
      "('Epoch:', '0021', 'training time (minutes)=', '1.6283', 'loss=', '0.130223828')\n",
      "('Epoch:', '0022', 'training time (minutes)=', '1.6273', 'loss=', '0.129843363')\n",
      "('Epoch:', '0023', 'training time (minutes)=', '1.6299', 'loss=', '0.129439136')\n",
      "('Epoch:', '0024', 'training time (minutes)=', '1.6264', 'loss=', '0.129060264')\n",
      "('Epoch:', '0025', 'training time (minutes)=', '1.6311', 'loss=', '0.128894619')\n",
      "('Epoch:', '0026', 'training time (minutes)=', '1.6282', 'loss=', '0.128640519')\n",
      "('Epoch:', '0027', 'training time (minutes)=', '1.6278', 'loss=', '0.128264136')\n",
      "('Epoch:', '0028', 'training time (minutes)=', '1.6290', 'loss=', '0.128000855')\n",
      "('Epoch:', '0029', 'training time (minutes)=', '1.6305', 'loss=', '0.127652632')\n",
      "('Epoch:', '0030', 'training time (minutes)=', '1.6284', 'loss=', '0.127304330')\n",
      "INFO:tensorflow:../data/single_class_ae/models.ckpt-30 is not in all_model_checkpoint_paths. Manually adding it.\n",
      "('Epoch:', '0031', 'training time (minutes)=', '1.6261', 'loss=', '0.127226018')\n",
      "('Epoch:', '0032', 'training time (minutes)=', '1.6284', 'loss=', '0.126957917')\n",
      "('Epoch:', '0033', 'training time (minutes)=', '1.6311', 'loss=', '0.126645759')\n",
      "('Epoch:', '0034', 'training time (minutes)=', '1.6278', 'loss=', '0.126472996')\n",
      "('Epoch:', '0035', 'training time (minutes)=', '1.6289', 'loss=', '0.126121902')\n",
      "('Epoch:', '0036', 'training time (minutes)=', '1.6279', 'loss=', '0.125857829')\n",
      "('Epoch:', '0037', 'training time (minutes)=', '1.6286', 'loss=', '0.125779010')\n",
      "('Epoch:', '0038', 'training time (minutes)=', '1.6313', 'loss=', '0.125502727')\n",
      "('Epoch:', '0039', 'training time (minutes)=', '1.6283', 'loss=', '0.125311585')\n",
      "('Epoch:', '0040', 'training time (minutes)=', '1.6311', 'loss=', '0.125183083')\n",
      "INFO:tensorflow:../data/single_class_ae/models.ckpt-40 is not in all_model_checkpoint_paths. Manually adding it.\n",
      "('Epoch:', '0041', 'training time (minutes)=', '1.6261', 'loss=', '0.124969059')\n",
      "('Epoch:', '0042', 'training time (minutes)=', '1.6280', 'loss=', '0.124776766')\n",
      "('Epoch:', '0043', 'training time (minutes)=', '1.6294', 'loss=', '0.124615354')\n",
      "('Epoch:', '0044', 'training time (minutes)=', '1.6302', 'loss=', '0.124527463')\n",
      "('Epoch:', '0045', 'training time (minutes)=', '1.6296', 'loss=', '0.124290930')\n",
      "('Epoch:', '0046', 'training time (minutes)=', '1.6288', 'loss=', '0.124002788')\n",
      "('Epoch:', '0047', 'training time (minutes)=', '1.6290', 'loss=', '0.123960812')\n",
      "('Epoch:', '0048', 'training time (minutes)=', '1.6287', 'loss=', '0.123849977')\n",
      "('Epoch:', '0049', 'training time (minutes)=', '1.6293', 'loss=', '0.123719163')\n",
      "('Epoch:', '0050', 'training time (minutes)=', '1.6323', 'loss=', '0.123564206')\n",
      "INFO:tensorflow:../data/single_class_ae/models.ckpt-50 is not in all_model_checkpoint_paths. Manually adding it.\n",
      "('Epoch:', '0051', 'training time (minutes)=', '1.6315', 'loss=', '0.123441428')\n",
      "('Epoch:', '0052', 'training time (minutes)=', '1.6368', 'loss=', '0.123521240')\n",
      "('Epoch:', '0053', 'training time (minutes)=', '1.6470', 'loss=', '0.123243554')\n",
      "('Epoch:', '0054', 'training time (minutes)=', '1.6410', 'loss=', '0.123057614')\n",
      "('Epoch:', '0055', 'training time (minutes)=', '1.6462', 'loss=', '0.122963044')\n",
      "('Epoch:', '0056', 'training time (minutes)=', '1.6416', 'loss=', '0.122876884')\n",
      "('Epoch:', '0057', 'training time (minutes)=', '1.6400', 'loss=', '0.122751389')\n",
      "('Epoch:', '0058', 'training time (minutes)=', '1.6465', 'loss=', '0.122428184')\n",
      "('Epoch:', '0059', 'training time (minutes)=', '1.6419', 'loss=', '0.122333122')\n",
      "('Epoch:', '0060', 'training time (minutes)=', '1.6457', 'loss=', '0.122286082')\n",
      "INFO:tensorflow:../data/single_class_ae/models.ckpt-60 is not in all_model_checkpoint_paths. Manually adding it.\n",
      "('Epoch:', '0061', 'training time (minutes)=', '1.6450', 'loss=', '0.122244554')\n",
      "('Epoch:', '0062', 'training time (minutes)=', '1.6391', 'loss=', '0.122075627')\n",
      "('Epoch:', '0063', 'training time (minutes)=', '1.6429', 'loss=', '0.122092729')\n",
      "('Epoch:', '0064', 'training time (minutes)=', '1.6400', 'loss=', '0.121862023')\n",
      "('Epoch:', '0065', 'training time (minutes)=', '1.6454', 'loss=', '0.121790472')\n",
      "('Epoch:', '0066', 'training time (minutes)=', '1.6450', 'loss=', '0.121689722')\n",
      "('Epoch:', '0067', 'training time (minutes)=', '1.6442', 'loss=', '0.121743966')\n",
      "('Epoch:', '0068', 'training time (minutes)=', '1.6453', 'loss=', '0.121452941')\n",
      "('Epoch:', '0069', 'training time (minutes)=', '1.6428', 'loss=', '0.121361974')\n",
      "('Epoch:', '0070', 'training time (minutes)=', '1.6447', 'loss=', '0.121232404')\n",
      "INFO:tensorflow:../data/single_class_ae/models.ckpt-70 is not in all_model_checkpoint_paths. Manually adding it.\n",
      "('Epoch:', '0071', 'training time (minutes)=', '1.6413', 'loss=', '0.121332186')\n",
      "('Epoch:', '0072', 'training time (minutes)=', '1.6443', 'loss=', '0.121164905')\n",
      "('Epoch:', '0073', 'training time (minutes)=', '1.6448', 'loss=', '0.121025226')\n",
      "('Epoch:', '0074', 'training time (minutes)=', '1.6452', 'loss=', '0.120969151')\n",
      "('Epoch:', '0075', 'training time (minutes)=', '1.6447', 'loss=', '0.120802632')\n",
      "('Epoch:', '0076', 'training time (minutes)=', '1.6457', 'loss=', '0.120825659')\n",
      "('Epoch:', '0077', 'training time (minutes)=', '1.6428', 'loss=', '0.120856785')\n",
      "('Epoch:', '0078', 'training time (minutes)=', '1.6450', 'loss=', '0.120691061')\n",
      "('Epoch:', '0079', 'training time (minutes)=', '1.6445', 'loss=', '0.120575356')\n",
      "('Epoch:', '0080', 'training time (minutes)=', '1.6489', 'loss=', '0.120506103')\n",
      "INFO:tensorflow:../data/single_class_ae/models.ckpt-80 is not in all_model_checkpoint_paths. Manually adding it.\n",
      "('Epoch:', '0081', 'training time (minutes)=', '1.6427', 'loss=', '0.120288907')\n",
      "('Epoch:', '0082', 'training time (minutes)=', '1.6453', 'loss=', '0.120395993')\n",
      "('Epoch:', '0083', 'training time (minutes)=', '1.6454', 'loss=', '0.120309290')\n",
      "('Epoch:', '0084', 'training time (minutes)=', '1.6417', 'loss=', '0.120372633')\n",
      "('Epoch:', '0085', 'training time (minutes)=', '1.6417', 'loss=', '0.120164921')\n",
      "('Epoch:', '0086', 'training time (minutes)=', '1.6418', 'loss=', '0.120033188')\n",
      "('Epoch:', '0087', 'training time (minutes)=', '1.6450', 'loss=', '0.120078886')\n",
      "('Epoch:', '0088', 'training time (minutes)=', '1.6444', 'loss=', '0.119915484')\n",
      "('Epoch:', '0089', 'training time (minutes)=', '1.6408', 'loss=', '0.119908008')\n"
     ]
    },
    {
     "name": "stdout",
     "output_type": "stream",
     "text": [
      "('Epoch:', '0090', 'training time (minutes)=', '1.6471', 'loss=', '0.119798615')\n",
      "INFO:tensorflow:../data/single_class_ae/models.ckpt-90 is not in all_model_checkpoint_paths. Manually adding it.\n",
      "('Epoch:', '0091', 'training time (minutes)=', '1.6445', 'loss=', '0.119808153')\n",
      "('Epoch:', '0092', 'training time (minutes)=', '1.6464', 'loss=', '0.119644103')\n",
      "('Epoch:', '0093', 'training time (minutes)=', '1.6457', 'loss=', '0.119688168')\n",
      "('Epoch:', '0094', 'training time (minutes)=', '1.6453', 'loss=', '0.119601791')\n",
      "('Epoch:', '0095', 'training time (minutes)=', '1.6465', 'loss=', '0.119578556')\n",
      "('Epoch:', '0096', 'training time (minutes)=', '1.6437', 'loss=', '0.119527400')\n",
      "('Epoch:', '0097', 'training time (minutes)=', '1.6427', 'loss=', '0.119530163')\n",
      "('Epoch:', '0098', 'training time (minutes)=', '1.6445', 'loss=', '0.119354915')\n",
      "('Epoch:', '0099', 'training time (minutes)=', '1.6391', 'loss=', '0.119319114')\n",
      "('Epoch:', '0100', 'training time (minutes)=', '1.6435', 'loss=', '0.119226869')\n",
      "INFO:tensorflow:../data/single_class_ae/models.ckpt-100 is not in all_model_checkpoint_paths. Manually adding it.\n",
      "('Epoch:', '0101', 'training time (minutes)=', '1.6417', 'loss=', '0.119292734')\n",
      "('Epoch:', '0102', 'training time (minutes)=', '1.6450', 'loss=', '0.119167506')\n",
      "('Epoch:', '0103', 'training time (minutes)=', '1.6463', 'loss=', '0.119128493')\n"
     ]
    },
    {
     "ename": "KeyboardInterrupt",
     "evalue": "",
     "output_type": "error",
     "traceback": [
      "\u001b[0;31m\u001b[0m",
      "\u001b[0;31mKeyboardInterrupt\u001b[0mTraceback (most recent call last)",
      "\u001b[0;32m<ipython-input-13-9a18bf8bb796>\u001b[0m in \u001b[0;36m<module>\u001b[0;34m()\u001b[0m\n\u001b[1;32m      1\u001b[0m \u001b[0mbuf_size\u001b[0m \u001b[0;34m=\u001b[0m \u001b[0;36m1\u001b[0m \u001b[0;31m# Make 'training_stats' file to flush each output line regarding training.\u001b[0m\u001b[0;34m\u001b[0m\u001b[0m\n\u001b[1;32m      2\u001b[0m \u001b[0mfout\u001b[0m \u001b[0;34m=\u001b[0m \u001b[0mopen\u001b[0m\u001b[0;34m(\u001b[0m\u001b[0mosp\u001b[0m\u001b[0;34m.\u001b[0m\u001b[0mjoin\u001b[0m\u001b[0;34m(\u001b[0m\u001b[0mconf\u001b[0m\u001b[0;34m.\u001b[0m\u001b[0mtrain_dir\u001b[0m\u001b[0;34m,\u001b[0m \u001b[0;34m'train_stats.txt'\u001b[0m\u001b[0;34m)\u001b[0m\u001b[0;34m,\u001b[0m \u001b[0;34m'a'\u001b[0m\u001b[0;34m,\u001b[0m \u001b[0mbuf_size\u001b[0m\u001b[0;34m)\u001b[0m\u001b[0;34m\u001b[0m\u001b[0m\n\u001b[0;32m----> 3\u001b[0;31m \u001b[0mtrain_stats\u001b[0m \u001b[0;34m=\u001b[0m \u001b[0mae\u001b[0m\u001b[0;34m.\u001b[0m\u001b[0mtrain\u001b[0m\u001b[0;34m(\u001b[0m\u001b[0mall_pc_data\u001b[0m\u001b[0;34m,\u001b[0m \u001b[0mconf\u001b[0m\u001b[0;34m,\u001b[0m \u001b[0mlog_file\u001b[0m\u001b[0;34m=\u001b[0m\u001b[0mfout\u001b[0m\u001b[0;34m)\u001b[0m\u001b[0;34m\u001b[0m\u001b[0m\n\u001b[0m\u001b[1;32m      4\u001b[0m \u001b[0mfout\u001b[0m\u001b[0;34m.\u001b[0m\u001b[0mclose\u001b[0m\u001b[0;34m(\u001b[0m\u001b[0;34m)\u001b[0m\u001b[0;34m\u001b[0m\u001b[0m\n",
      "\u001b[0;32m/home/jcollins/latent_3d_points/src/autoencoder.pyc\u001b[0m in \u001b[0;36mtrain\u001b[0;34m(self, train_data, configuration, log_file, held_out_data)\u001b[0m\n\u001b[1;32m    168\u001b[0m \u001b[0;34m\u001b[0m\u001b[0m\n\u001b[1;32m    169\u001b[0m         \u001b[0;32mfor\u001b[0m \u001b[0m_\u001b[0m \u001b[0;32min\u001b[0m \u001b[0mxrange\u001b[0m\u001b[0;34m(\u001b[0m\u001b[0mc\u001b[0m\u001b[0;34m.\u001b[0m\u001b[0mtraining_epochs\u001b[0m\u001b[0;34m)\u001b[0m\u001b[0;34m:\u001b[0m\u001b[0;34m\u001b[0m\u001b[0m\n\u001b[0;32m--> 170\u001b[0;31m             \u001b[0mloss\u001b[0m\u001b[0;34m,\u001b[0m \u001b[0mduration\u001b[0m \u001b[0;34m=\u001b[0m \u001b[0mself\u001b[0m\u001b[0;34m.\u001b[0m\u001b[0m_single_epoch_train\u001b[0m\u001b[0;34m(\u001b[0m\u001b[0mtrain_data\u001b[0m\u001b[0;34m,\u001b[0m \u001b[0mc\u001b[0m\u001b[0;34m)\u001b[0m\u001b[0;34m\u001b[0m\u001b[0m\n\u001b[0m\u001b[1;32m    171\u001b[0m             \u001b[0mepoch\u001b[0m \u001b[0;34m=\u001b[0m \u001b[0mint\u001b[0m\u001b[0;34m(\u001b[0m\u001b[0mself\u001b[0m\u001b[0;34m.\u001b[0m\u001b[0msess\u001b[0m\u001b[0;34m.\u001b[0m\u001b[0mrun\u001b[0m\u001b[0;34m(\u001b[0m\u001b[0mself\u001b[0m\u001b[0;34m.\u001b[0m\u001b[0mincrement_epoch\u001b[0m\u001b[0;34m)\u001b[0m\u001b[0;34m)\u001b[0m\u001b[0;34m\u001b[0m\u001b[0m\n\u001b[1;32m    172\u001b[0m             \u001b[0mstats\u001b[0m\u001b[0;34m.\u001b[0m\u001b[0mappend\u001b[0m\u001b[0;34m(\u001b[0m\u001b[0;34m(\u001b[0m\u001b[0mepoch\u001b[0m\u001b[0;34m,\u001b[0m \u001b[0mloss\u001b[0m\u001b[0;34m,\u001b[0m \u001b[0mduration\u001b[0m\u001b[0;34m)\u001b[0m\u001b[0;34m)\u001b[0m\u001b[0;34m\u001b[0m\u001b[0m\n",
      "\u001b[0;32m/home/jcollins/latent_3d_points/src/point_net_ae.pyc\u001b[0m in \u001b[0;36m_single_epoch_train\u001b[0;34m(self, train_data, configuration, only_fw)\u001b[0m\n\u001b[1;32m    126\u001b[0m                 \u001b[0m_\u001b[0m\u001b[0;34m,\u001b[0m \u001b[0mloss\u001b[0m \u001b[0;34m=\u001b[0m \u001b[0mfit\u001b[0m\u001b[0;34m(\u001b[0m\u001b[0mbatch_i\u001b[0m\u001b[0;34m,\u001b[0m \u001b[0moriginal_data\u001b[0m\u001b[0;34m)\u001b[0m\u001b[0;34m\u001b[0m\u001b[0m\n\u001b[1;32m    127\u001b[0m             \u001b[0;32melse\u001b[0m\u001b[0;34m:\u001b[0m\u001b[0;34m\u001b[0m\u001b[0m\n\u001b[0;32m--> 128\u001b[0;31m                 \u001b[0m_\u001b[0m\u001b[0;34m,\u001b[0m \u001b[0mloss\u001b[0m \u001b[0;34m=\u001b[0m \u001b[0mfit\u001b[0m\u001b[0;34m(\u001b[0m\u001b[0mbatch_i\u001b[0m\u001b[0;34m)\u001b[0m\u001b[0;34m\u001b[0m\u001b[0m\n\u001b[0m\u001b[1;32m    129\u001b[0m \u001b[0;34m\u001b[0m\u001b[0m\n\u001b[1;32m    130\u001b[0m             \u001b[0;31m# Compute average loss\u001b[0m\u001b[0;34m\u001b[0m\u001b[0;34m\u001b[0m\u001b[0m\n",
      "\u001b[0;32m/home/jcollins/latent_3d_points/src/autoencoder.pyc\u001b[0m in \u001b[0;36mpartial_fit\u001b[0;34m(self, X, GT)\u001b[0m\n\u001b[1;32m    116\u001b[0m                 \u001b[0m_\u001b[0m\u001b[0;34m,\u001b[0m \u001b[0mloss\u001b[0m\u001b[0;34m,\u001b[0m \u001b[0mrecon\u001b[0m \u001b[0;34m=\u001b[0m \u001b[0mself\u001b[0m\u001b[0;34m.\u001b[0m\u001b[0msess\u001b[0m\u001b[0;34m.\u001b[0m\u001b[0mrun\u001b[0m\u001b[0;34m(\u001b[0m\u001b[0;34m(\u001b[0m\u001b[0mself\u001b[0m\u001b[0;34m.\u001b[0m\u001b[0mtrain_step\u001b[0m\u001b[0;34m,\u001b[0m \u001b[0mself\u001b[0m\u001b[0;34m.\u001b[0m\u001b[0mloss\u001b[0m\u001b[0;34m,\u001b[0m \u001b[0mself\u001b[0m\u001b[0;34m.\u001b[0m\u001b[0mx_reconstr\u001b[0m\u001b[0;34m)\u001b[0m\u001b[0;34m,\u001b[0m \u001b[0mfeed_dict\u001b[0m\u001b[0;34m=\u001b[0m\u001b[0;34m{\u001b[0m\u001b[0mself\u001b[0m\u001b[0;34m.\u001b[0m\u001b[0mx\u001b[0m\u001b[0;34m:\u001b[0m \u001b[0mX\u001b[0m\u001b[0;34m,\u001b[0m \u001b[0mself\u001b[0m\u001b[0;34m.\u001b[0m\u001b[0mgt\u001b[0m\u001b[0;34m:\u001b[0m \u001b[0mGT\u001b[0m\u001b[0;34m}\u001b[0m\u001b[0;34m)\u001b[0m\u001b[0;34m\u001b[0m\u001b[0m\n\u001b[1;32m    117\u001b[0m             \u001b[0;32melse\u001b[0m\u001b[0;34m:\u001b[0m\u001b[0;34m\u001b[0m\u001b[0m\n\u001b[0;32m--> 118\u001b[0;31m                 \u001b[0m_\u001b[0m\u001b[0;34m,\u001b[0m \u001b[0mloss\u001b[0m\u001b[0;34m,\u001b[0m \u001b[0mrecon\u001b[0m \u001b[0;34m=\u001b[0m \u001b[0mself\u001b[0m\u001b[0;34m.\u001b[0m\u001b[0msess\u001b[0m\u001b[0;34m.\u001b[0m\u001b[0mrun\u001b[0m\u001b[0;34m(\u001b[0m\u001b[0;34m(\u001b[0m\u001b[0mself\u001b[0m\u001b[0;34m.\u001b[0m\u001b[0mtrain_step\u001b[0m\u001b[0;34m,\u001b[0m \u001b[0mself\u001b[0m\u001b[0;34m.\u001b[0m\u001b[0mloss\u001b[0m\u001b[0;34m,\u001b[0m \u001b[0mself\u001b[0m\u001b[0;34m.\u001b[0m\u001b[0mx_reconstr\u001b[0m\u001b[0;34m)\u001b[0m\u001b[0;34m,\u001b[0m \u001b[0mfeed_dict\u001b[0m\u001b[0;34m=\u001b[0m\u001b[0;34m{\u001b[0m\u001b[0mself\u001b[0m\u001b[0;34m.\u001b[0m\u001b[0mx\u001b[0m\u001b[0;34m:\u001b[0m \u001b[0mX\u001b[0m\u001b[0;34m}\u001b[0m\u001b[0;34m)\u001b[0m\u001b[0;34m\u001b[0m\u001b[0m\n\u001b[0m\u001b[1;32m    119\u001b[0m \u001b[0;34m\u001b[0m\u001b[0m\n\u001b[1;32m    120\u001b[0m             \u001b[0mis_training\u001b[0m\u001b[0;34m(\u001b[0m\u001b[0mFalse\u001b[0m\u001b[0;34m,\u001b[0m \u001b[0msession\u001b[0m\u001b[0;34m=\u001b[0m\u001b[0mself\u001b[0m\u001b[0;34m.\u001b[0m\u001b[0msess\u001b[0m\u001b[0;34m)\u001b[0m\u001b[0;34m\u001b[0m\u001b[0m\n",
      "\u001b[0;32m/usr/local/lib/python2.7/dist-packages/tensorflow/python/client/session.pyc\u001b[0m in \u001b[0;36mrun\u001b[0;34m(self, fetches, feed_dict, options, run_metadata)\u001b[0m\n\u001b[1;32m    903\u001b[0m     \u001b[0;32mtry\u001b[0m\u001b[0;34m:\u001b[0m\u001b[0;34m\u001b[0m\u001b[0m\n\u001b[1;32m    904\u001b[0m       result = self._run(None, fetches, feed_dict, options_ptr,\n\u001b[0;32m--> 905\u001b[0;31m                          run_metadata_ptr)\n\u001b[0m\u001b[1;32m    906\u001b[0m       \u001b[0;32mif\u001b[0m \u001b[0mrun_metadata\u001b[0m\u001b[0;34m:\u001b[0m\u001b[0;34m\u001b[0m\u001b[0m\n\u001b[1;32m    907\u001b[0m         \u001b[0mproto_data\u001b[0m \u001b[0;34m=\u001b[0m \u001b[0mtf_session\u001b[0m\u001b[0;34m.\u001b[0m\u001b[0mTF_GetBuffer\u001b[0m\u001b[0;34m(\u001b[0m\u001b[0mrun_metadata_ptr\u001b[0m\u001b[0;34m)\u001b[0m\u001b[0;34m\u001b[0m\u001b[0m\n",
      "\u001b[0;32m/usr/local/lib/python2.7/dist-packages/tensorflow/python/client/session.pyc\u001b[0m in \u001b[0;36m_run\u001b[0;34m(self, handle, fetches, feed_dict, options, run_metadata)\u001b[0m\n\u001b[1;32m   1135\u001b[0m     \u001b[0;32mif\u001b[0m \u001b[0mfinal_fetches\u001b[0m \u001b[0;32mor\u001b[0m \u001b[0mfinal_targets\u001b[0m \u001b[0;32mor\u001b[0m \u001b[0;34m(\u001b[0m\u001b[0mhandle\u001b[0m \u001b[0;32mand\u001b[0m \u001b[0mfeed_dict_tensor\u001b[0m\u001b[0;34m)\u001b[0m\u001b[0;34m:\u001b[0m\u001b[0;34m\u001b[0m\u001b[0m\n\u001b[1;32m   1136\u001b[0m       results = self._do_run(handle, final_targets, final_fetches,\n\u001b[0;32m-> 1137\u001b[0;31m                              feed_dict_tensor, options, run_metadata)\n\u001b[0m\u001b[1;32m   1138\u001b[0m     \u001b[0;32melse\u001b[0m\u001b[0;34m:\u001b[0m\u001b[0;34m\u001b[0m\u001b[0m\n\u001b[1;32m   1139\u001b[0m       \u001b[0mresults\u001b[0m \u001b[0;34m=\u001b[0m \u001b[0;34m[\u001b[0m\u001b[0;34m]\u001b[0m\u001b[0;34m\u001b[0m\u001b[0m\n",
      "\u001b[0;32m/usr/local/lib/python2.7/dist-packages/tensorflow/python/client/session.pyc\u001b[0m in \u001b[0;36m_do_run\u001b[0;34m(self, handle, target_list, fetch_list, feed_dict, options, run_metadata)\u001b[0m\n\u001b[1;32m   1353\u001b[0m     \u001b[0;32mif\u001b[0m \u001b[0mhandle\u001b[0m \u001b[0;32mis\u001b[0m \u001b[0mNone\u001b[0m\u001b[0;34m:\u001b[0m\u001b[0;34m\u001b[0m\u001b[0m\n\u001b[1;32m   1354\u001b[0m       return self._do_call(_run_fn, self._session, feeds, fetches, targets,\n\u001b[0;32m-> 1355\u001b[0;31m                            options, run_metadata)\n\u001b[0m\u001b[1;32m   1356\u001b[0m     \u001b[0;32melse\u001b[0m\u001b[0;34m:\u001b[0m\u001b[0;34m\u001b[0m\u001b[0m\n\u001b[1;32m   1357\u001b[0m       \u001b[0;32mreturn\u001b[0m \u001b[0mself\u001b[0m\u001b[0;34m.\u001b[0m\u001b[0m_do_call\u001b[0m\u001b[0;34m(\u001b[0m\u001b[0m_prun_fn\u001b[0m\u001b[0;34m,\u001b[0m \u001b[0mself\u001b[0m\u001b[0;34m.\u001b[0m\u001b[0m_session\u001b[0m\u001b[0;34m,\u001b[0m \u001b[0mhandle\u001b[0m\u001b[0;34m,\u001b[0m \u001b[0mfeeds\u001b[0m\u001b[0;34m,\u001b[0m \u001b[0mfetches\u001b[0m\u001b[0;34m)\u001b[0m\u001b[0;34m\u001b[0m\u001b[0m\n",
      "\u001b[0;32m/usr/local/lib/python2.7/dist-packages/tensorflow/python/client/session.pyc\u001b[0m in \u001b[0;36m_do_call\u001b[0;34m(self, fn, *args)\u001b[0m\n\u001b[1;32m   1359\u001b[0m   \u001b[0;32mdef\u001b[0m \u001b[0m_do_call\u001b[0m\u001b[0;34m(\u001b[0m\u001b[0mself\u001b[0m\u001b[0;34m,\u001b[0m \u001b[0mfn\u001b[0m\u001b[0;34m,\u001b[0m \u001b[0;34m*\u001b[0m\u001b[0margs\u001b[0m\u001b[0;34m)\u001b[0m\u001b[0;34m:\u001b[0m\u001b[0;34m\u001b[0m\u001b[0m\n\u001b[1;32m   1360\u001b[0m     \u001b[0;32mtry\u001b[0m\u001b[0;34m:\u001b[0m\u001b[0;34m\u001b[0m\u001b[0m\n\u001b[0;32m-> 1361\u001b[0;31m       \u001b[0;32mreturn\u001b[0m \u001b[0mfn\u001b[0m\u001b[0;34m(\u001b[0m\u001b[0;34m*\u001b[0m\u001b[0margs\u001b[0m\u001b[0;34m)\u001b[0m\u001b[0;34m\u001b[0m\u001b[0m\n\u001b[0m\u001b[1;32m   1362\u001b[0m     \u001b[0;32mexcept\u001b[0m \u001b[0merrors\u001b[0m\u001b[0;34m.\u001b[0m\u001b[0mOpError\u001b[0m \u001b[0;32mas\u001b[0m \u001b[0me\u001b[0m\u001b[0;34m:\u001b[0m\u001b[0;34m\u001b[0m\u001b[0m\n\u001b[1;32m   1363\u001b[0m       \u001b[0mmessage\u001b[0m \u001b[0;34m=\u001b[0m \u001b[0mcompat\u001b[0m\u001b[0;34m.\u001b[0m\u001b[0mas_text\u001b[0m\u001b[0;34m(\u001b[0m\u001b[0me\u001b[0m\u001b[0;34m.\u001b[0m\u001b[0mmessage\u001b[0m\u001b[0;34m)\u001b[0m\u001b[0;34m\u001b[0m\u001b[0m\n",
      "\u001b[0;32m/usr/local/lib/python2.7/dist-packages/tensorflow/python/client/session.pyc\u001b[0m in \u001b[0;36m_run_fn\u001b[0;34m(session, feed_dict, fetch_list, target_list, options, run_metadata)\u001b[0m\n\u001b[1;32m   1338\u001b[0m         \u001b[0;32melse\u001b[0m\u001b[0;34m:\u001b[0m\u001b[0;34m\u001b[0m\u001b[0m\n\u001b[1;32m   1339\u001b[0m           return tf_session.TF_Run(session, options, feed_dict, fetch_list,\n\u001b[0;32m-> 1340\u001b[0;31m                                    target_list, status, run_metadata)\n\u001b[0m\u001b[1;32m   1341\u001b[0m \u001b[0;34m\u001b[0m\u001b[0m\n\u001b[1;32m   1342\u001b[0m     \u001b[0;32mdef\u001b[0m \u001b[0m_prun_fn\u001b[0m\u001b[0;34m(\u001b[0m\u001b[0msession\u001b[0m\u001b[0;34m,\u001b[0m \u001b[0mhandle\u001b[0m\u001b[0;34m,\u001b[0m \u001b[0mfeed_dict\u001b[0m\u001b[0;34m,\u001b[0m \u001b[0mfetch_list\u001b[0m\u001b[0;34m)\u001b[0m\u001b[0;34m:\u001b[0m\u001b[0;34m\u001b[0m\u001b[0m\n",
      "\u001b[0;31mKeyboardInterrupt\u001b[0m: "
     ]
    }
   ],
   "source": [
    "buf_size = 1 # Make 'training_stats' file to flush each output line regarding training.\n",
    "fout = open(osp.join(conf.train_dir, 'train_stats.txt'), 'a', buf_size)\n",
    "train_stats = ae.train(all_pc_data, conf, log_file=fout)\n",
    "fout.close()"
   ]
  },
  {
   "cell_type": "code",
   "execution_count": 16,
   "metadata": {},
   "outputs": [],
   "source": [
    "buf_size = 1 # Make 'training_stats' file to flush each output line regarding training.\n",
    "fout = open(osp.join(conf.train_dir, 'train_stats.txt'), 'a', buf_size)"
   ]
  },
  {
   "cell_type": "markdown",
   "metadata": {},
   "source": [
    "Get a batch of reconstuctions and their latent-codes."
   ]
  },
  {
   "cell_type": "code",
   "execution_count": 17,
   "metadata": {},
   "outputs": [],
   "source": [
    "feed_pc, feed_model_names, _ = all_pc_data.next_batch(10)\n",
    "reconstructions = ae.reconstruct(feed_pc)[0]\n",
    "latent_codes = ae.transform(feed_pc)"
   ]
  },
  {
   "cell_type": "markdown",
   "metadata": {
    "collapsed": true
   },
   "source": [
    "Use any plotting mechanism such as matplotlib to visualize the results."
   ]
  },
  {
   "cell_type": "code",
   "execution_count": 26,
   "metadata": {},
   "outputs": [
    {
     "data": {
      "image/png": "[encoded data removed]",
      "text/plain": [
       "<Figure size 432x288 with 1 Axes>"
      ]
     },
     "metadata": {},
     "output_type": "display_data"
    },
    {
     "data": {
      "image/png": "[encoded data removed]",
      "text/plain": [
       "<Figure size 432x288 with 1 Axes>"
      ]
     },
     "metadata": {},
     "output_type": "display_data"
    }
   ],
   "source": [
    "import matplotlib.pyplot as plt\n",
    "i = 2\n",
    "plt.scatter(reconstructions[i][:, 0],reconstructions[i][:, 1])\n",
    "plt.show()\n",
    "plt.scatter(feed_pc[i][:, 0],feed_pc[i][:, 1])\n",
    "plt.show(    lim=1\n",
    "    plt.figure(figsize=[5,5])\n",
    "    plt.hist2d(jet[:,2],jet[:,3],weights = jet[:,0],range=[[-lim,lim],[-lim,lim]],bins=30)\n",
    "    plt.show())"
   ]
  },
  {
   "cell_type": "code",
   "execution_count": 35,
   "metadata": {
    "scrolled": false
   },
   "outputs": [
    {
     "data": {
      "image/png": "[encoded data removed]",
      "text/plain": [
       "<Figure size 720x360 with 2 Axes>"
      ]
     },
     "metadata": {},
     "output_type": "display_data"
    },
    {
     "data": {
      "image/png": "[encoded data removed]",
      "text/plain": [
       "<Figure size 720x360 with 2 Axes>"
      ]
     },
     "metadata": {},
     "output_type": "display_data"
    },
    {
     "data": {
      "image/png": "[encoded data removed]",
      "text/plain": [
       "<Figure size 720x360 with 2 Axes>"
      ]
     },
     "metadata": {},
     "output_type": "display_data"
    },
    {
     "data": {
      "image/png": "[encoded data removed]",
      "text/plain": [
       "<Figure size 720x360 with 2 Axes>"
      ]
     },
     "metadata": {},
     "output_type": "display_data"
    },
    {
     "data": {
      "image/png": "[encoded data removed]",
      "text/plain": [
       "<Figure size 720x360 with 2 Axes>"
      ]
     },
     "metadata": {},
     "output_type": "display_data"
    },
    {
     "data": {
      "image/png": "[encoded data removed]",
      "text/plain": [
       "<Figure size 720x360 with 2 Axes>"
      ]
     },
     "metadata": {},
     "output_type": "display_data"
    },
    {
     "data": {
      "image/png": "[encoded data removed]",
      "text/plain": [
       "<Figure size 720x360 with 2 Axes>"
      ]
     },
     "metadata": {},
     "output_type": "display_data"
    },
    {
     "data": {
      "image/png": "[encoded data removed]",
      "text/plain": [
       "<Figure size 720x360 with 2 Axes>"
      ]
     },
     "metadata": {},
     "output_type": "display_data"
    },
    {
     "data": {
      "image/png": "[encoded data removed]",
      "text/plain": [
       "<Figure size 720x360 with 2 Axes>"
      ]
     },
     "metadata": {},
     "output_type": "display_data"
    },
    {
     "data": {
      "image/png": "[encoded data removed]",
      "text/plain": [
       "<Figure size 720x360 with 2 Axes>"
      ]
     },
     "metadata": {},
     "output_type": "display_data"
    }
   ],
   "source": [
    "lim=1\n",
    "\n",
    "\n",
    "for i in range(10):\n",
    "    fig, ax = plt.subplots(1, 2,figsize=[10,5])\n",
    "    ax[0].hist2d(feed_pc[i][:,0],feed_pc[i][:,1],range=[[-lim,lim],[-lim,lim]],bins=30)\n",
    "    ax[1].hist2d(reconstructions[i][:,0],reconstructions[i][:,1],range=[[-lim,lim],[-lim,lim]],bins=30)\n",
    "    plt.show()"
   ]
  },
  {
   "cell_type": "code",
   "execution_count": 19,
   "metadata": {},
   "outputs": [
    {
     "data": {
      "text/plain": [
       "array([ 1.98116172e-02, -9.80909318e-02,  1.97917651e-02, -1.08057469e-01,\n",
       "        1.82144586e-02, -2.91212648e-03,  8.61228351e-03,  1.83195081e-02,\n",
       "        2.42192168e-02,  2.91672256e-03,  1.93968453e-02,  3.03523894e-02,\n",
       "        1.89749710e-02,  2.73991711e-02,  3.30384709e-02, -2.12018877e-01,\n",
       "        2.02254634e-02,  1.80993378e-02,  1.87749024e-02,  2.05652807e-02,\n",
       "        2.05107220e-02,  2.18294803e-02,  2.20789425e-02,  1.87797919e-02,\n",
       "       -5.89506775e-02,  4.32057567e-02,  2.03222465e-02,  2.94170640e-02,\n",
       "        5.38245961e-03,  1.99493673e-02, -1.11112341e-01,  1.86225343e-02,\n",
       "        1.13107050e-02,  2.00300086e-02,  1.51581783e-02,  2.11701673e-02,\n",
       "        2.10208967e-02,  1.79020036e-02,  7.02299364e-03, -2.95110606e-02,\n",
       "        1.88258030e-02,  1.91394314e-02,  1.61528550e-02,  1.96573846e-02,\n",
       "        2.14328505e-02,  1.95273701e-02,  2.08977107e-02,  2.13412084e-02,\n",
       "       -5.76115213e-02,  2.50919722e-02,  1.99367851e-02,  2.89640836e-02,\n",
       "       -4.79152240e-03,  2.09730137e-02,  1.87543780e-02,  2.12402754e-02,\n",
       "        1.78775135e-02, -6.10437319e-02, -8.64700899e-02,  1.94598883e-02,\n",
       "        3.00542358e-02,  2.03652326e-02,  2.07791515e-02,  1.85673125e-02,\n",
       "        1.94706749e-02,  1.32048959e-02,  1.97167173e-02,  2.18807049e-02,\n",
       "       -3.35490853e-02,  2.15971097e-02,  1.71882454e-02, -2.20557321e-02,\n",
       "        2.21032146e-02,  2.15029735e-02,  1.23403026e-02,  1.96756758e-02,\n",
       "        1.52135454e-02,  1.91459693e-02,  1.94895435e-02,  1.62947252e-02,\n",
       "       -4.15755436e-02, -4.29580361e-03,  1.80122759e-02,  2.80146301e-02,\n",
       "        2.03651972e-02,  2.03754306e-02,  1.75092742e-02,  1.80740058e-02,\n",
       "        1.97634995e-02,  1.98726077e-02,  1.49962250e-02, -2.46313095e-01,\n",
       "        1.16929859e-02,  2.12274268e-02,  2.29680464e-02,  2.20129900e-02,\n",
       "        2.87302621e-02,  2.22502984e-02,  2.09595077e-02,  2.07805093e-02,\n",
       "        1.79689359e-02,  2.16913112e-02,  7.74964690e-03,  2.20471397e-02,\n",
       "        1.99181847e-02, -2.19380021e-01,  3.28700766e-02,  1.95327774e-02,\n",
       "        2.07535792e-02, -1.31852955e-01, -5.88441268e-02, -4.14619558e-02,\n",
       "       -1.72451884e-03,  2.09366661e-02,  2.13187113e-02,  1.92473494e-02,\n",
       "        2.13250201e-02,  2.26440728e-02,  1.95840746e-02,  1.94915272e-02,\n",
       "       -5.09313717e-02,  1.85592547e-02,  2.12173928e-02,  1.90076791e-02,\n",
       "        2.27783471e-02,  1.04051437e-02, -2.81926654e-02,  2.05317605e-02,\n",
       "        4.81827464e-03,  1.95529852e-02,  1.93588901e-02,  2.05262080e-02,\n",
       "        2.18375400e-02,  9.96314362e-03, -9.81253199e-03,  2.00641043e-02,\n",
       "        1.91893931e-02, -5.23866154e-02,  2.02939920e-02,  1.93702355e-02,\n",
       "        2.12709662e-02,  1.53339142e-02, -7.22772330e-02,  2.31901221e-02,\n",
       "        1.97069421e-02, -9.91205573e-02,  1.96286757e-02, -1.39039531e-01,\n",
       "        1.70902554e-02,  1.82209034e-02, -2.92864516e-02, -1.20794736e-01,\n",
       "        1.87842064e-02,  1.97102427e-02,  2.04541739e-02,  2.03299373e-02,\n",
       "        2.15222668e-02,  2.01569498e-02,  2.08475962e-02,  2.10082829e-02,\n",
       "        2.14285776e-02,  2.74589397e-02,  1.70582607e-02,  2.08218042e-02,\n",
       "        1.97400916e-02,  1.91752892e-02,  2.24989448e-02,  1.82241742e-02,\n",
       "        1.22891869e-02,  2.37468770e-03,  2.09862813e-02,  4.40400443e-04,\n",
       "        1.95908025e-02,  1.71073191e-02,  1.65259652e-03,  2.30411049e-02,\n",
       "        1.94857251e-02,  2.25520562e-02,  1.99456923e-02,  1.95882767e-02,\n",
       "        2.36637965e-02,  1.88239515e-02,  2.01724861e-02,  2.11608354e-02,\n",
       "        2.11923700e-02,  2.46512946e-02,  2.36348528e-02,  2.06864718e-02,\n",
       "        2.06599571e-02, -3.59308459e-02,  2.07830928e-02,  2.05134004e-02,\n",
       "        2.19380651e-02,  2.53194589e-02, -9.23611373e-02,  1.34764072e-02,\n",
       "        1.80403236e-02, -1.33417502e-01,  2.02566180e-02,  2.08327472e-02,\n",
       "        1.96525436e-02,  2.55456455e-02,  2.52358019e-02, -5.99520467e-02,\n",
       "        2.19947640e-02,  1.12342369e-02,  1.62235126e-02, -9.10859331e-02,\n",
       "       -6.93799853e-02,  1.97630320e-02,  1.98006425e-02, -7.98091292e-02,\n",
       "        1.53493574e-02,  1.71142537e-02,  3.93311977e-02,  6.86936220e-03,\n",
       "        3.20516825e-02,  2.06241831e-02,  2.20696758e-02, -1.59145501e-02,\n",
       "        2.78034154e-03,  2.07080096e-02, -1.07905559e-01,  6.71768002e-03,\n",
       "        1.56270433e-02,  1.91881452e-02,  2.21284367e-02,  1.94237716e-02,\n",
       "        3.14625502e-02,  1.56310555e-02,  1.84235107e-02,  2.17756517e-02,\n",
       "        2.07185987e-02, -1.07694536e-01, -3.33072618e-02,  2.20575817e-02,\n",
       "        1.84800345e-02,  1.92773584e-02,  1.80856381e-02,  1.83376800e-02,\n",
       "        1.78850926e-02,  2.07523387e-02,  2.17407942e-02,  1.93450358e-02,\n",
       "        1.94466207e-02, -5.18452972e-02, -1.27294898e-01,  2.22210698e-02,\n",
       "        2.89970730e-02,  1.72163919e-02,  1.76036544e-02, -1.44017607e-01,\n",
       "       -4.00507152e-02,  1.95393711e-02,  1.36683136e-02,  1.70924403e-02,\n",
       "        1.94602367e-02,  2.06764452e-02,  2.70206016e-02,  4.01168317e-02,\n",
       "       -9.62476581e-02,  4.40811855e-04, -2.40511030e-01,  1.88091472e-02,\n",
       "        2.14230344e-02,  2.04515718e-02, -3.67967263e-02,  2.09521372e-02,\n",
       "        2.14753319e-02,  1.67356059e-02,  2.44991109e-02, -1.41571358e-01,\n",
       "        1.92525145e-02,  1.86386444e-02,  1.75898857e-02,  2.81565730e-02,\n",
       "        1.80155858e-02,  1.87083129e-02,  1.98115557e-02,  1.72863621e-02,\n",
       "        1.98768210e-02,  1.71261579e-02,  2.47113593e-02,  2.47096773e-02,\n",
       "        1.99418198e-02,  3.27198654e-02,  2.39073858e-02,  2.26405542e-02,\n",
       "        1.37893241e-02,  1.71980783e-02,  2.33645551e-02, -5.10582477e-02,\n",
       "        1.73028894e-02,  2.00864524e-02,  2.05089189e-02,  2.22304575e-02,\n",
       "        2.29033083e-02,  3.61394882e-02,  1.87424067e-02,  1.82331726e-02,\n",
       "        2.35166363e-02, -2.08344355e-01,  2.13242136e-02,  2.13948637e-02,\n",
       "        4.38001305e-02,  1.75256934e-02,  1.91673655e-02, -1.73217013e-01,\n",
       "        8.57362151e-03,  1.87527519e-02,  1.91040654e-02,  1.85078811e-02,\n",
       "       -5.09598739e-02, -1.53866783e-01,  1.96569730e-02,  2.34454870e-02,\n",
       "       -7.59636238e-03,  1.87780801e-02, -1.75290450e-01,  2.02949159e-02,\n",
       "        2.20228285e-02,  2.02699527e-02,  1.89987458e-02,  1.63942687e-02,\n",
       "       -1.52603477e-01, -1.21763185e-01,  1.74270812e-02,  2.11119596e-02,\n",
       "        3.28409411e-02,  2.09649298e-02,  4.90398891e-03, -1.88917160e-01,\n",
       "       -1.30024855e-04, -1.42652076e-02,  1.92733109e-02,  2.00750139e-02,\n",
       "       -2.36103639e-01,  1.27954818e-02,  2.32917406e-02,  3.99842486e-02,\n",
       "        2.88971718e-02,  2.21754164e-02,  1.92113090e-02,  2.15265658e-02,\n",
       "        2.34892666e-02,  1.76737029e-02,  2.00566836e-02,  2.28007566e-02,\n",
       "        2.70861313e-02,  1.71444714e-02,  1.18623860e-03,  1.88409872e-02,\n",
       "        1.46479392e-02,  1.87906940e-02,  2.32794043e-02,  2.12609638e-02,\n",
       "        1.94901600e-02,  2.00447664e-02,  1.84173435e-02,  2.11161543e-02,\n",
       "        2.44087018e-02,  2.15950068e-02,  1.79683752e-02,  2.13892236e-02,\n",
       "        1.84192806e-02,  2.04292461e-02, -5.50546534e-02,  2.06619594e-02,\n",
       "       -4.32721823e-02,  1.74789075e-02,  1.79916378e-02,  2.12912839e-02,\n",
       "       -8.13995376e-02,  2.46167257e-02, -7.75857419e-02,  1.33231259e-03,\n",
       "        2.03243271e-02,  1.04193622e-02,  1.81201901e-02,  1.82321928e-02,\n",
       "        2.71962360e-02, -7.77146081e-03,  1.88296530e-02,  2.55006999e-02,\n",
       "        2.31463648e-02,  1.86878778e-02, -1.05436936e-01,  2.24815719e-02,\n",
       "        2.22737752e-02,  2.11542919e-02, -4.33303416e-04,  1.86491441e-02,\n",
       "        2.16519814e-02,  2.08202880e-02,  2.43448764e-02,  2.10981220e-02,\n",
       "       -1.87768951e-01,  2.46117394e-02,  1.61082447e-02,  1.63450036e-02,\n",
       "        2.12090369e-02,  2.21562628e-02,  1.77102666e-02,  2.68355533e-02,\n",
       "        2.26097405e-02,  1.88149866e-02, -1.47337765e-01, -7.12218434e-02,\n",
       "       -1.90144464e-01,  2.03362536e-02, -2.05391217e-02, -1.47251263e-02,\n",
       "        1.91555303e-02,  1.91170014e-02, -9.68625322e-02,  3.46055068e-02,\n",
       "        2.00055521e-02,  1.69861945e-03,  2.38201581e-02,  2.28388906e-02,\n",
       "       -1.11525599e-02, -1.27766490e-01,  1.71948653e-02,  9.47919395e-03,\n",
       "        2.44615451e-02,  2.02989373e-02,  1.75601691e-02,  1.53894126e-02,\n",
       "       -2.03572288e-01,  1.89885516e-02,  2.41661016e-02,  1.95334144e-02,\n",
       "        2.10830290e-02,  1.99555978e-02, -2.79177148e-02,  1.86990481e-02,\n",
       "       -1.16108879e-02,  1.69077963e-02,  2.10517570e-02,  1.94580164e-02,\n",
       "        1.93413422e-02,  2.13944595e-02,  1.71134379e-02,  1.97250601e-02,\n",
       "       -8.49602297e-02,  2.00092606e-02,  2.34508328e-02,  2.03154944e-02,\n",
       "        1.93788037e-02,  1.71529017e-02,  1.94583088e-02, -2.24760890e-01,\n",
       "        3.73288468e-02,  2.03883331e-02,  2.19511986e-02, -1.66897848e-02,\n",
       "        1.30137177e-02,  1.83731467e-02,  1.65460519e-02,  2.04037037e-02,\n",
       "        1.89864859e-02,  3.24644037e-02,  2.13843361e-02, -4.18801419e-02,\n",
       "        2.06363965e-02,  1.80835053e-02,  1.83971655e-02,  2.20817253e-02,\n",
       "        2.37801019e-02,  1.79052707e-02,  1.49718625e-02, -8.33862126e-02,\n",
       "       -1.07363284e-01,  1.86680015e-02,  1.76670812e-02,  2.00729594e-02,\n",
       "        1.99036784e-02,  2.69623864e-02,  2.03030333e-02,  2.59649083e-02,\n",
       "        2.10086200e-02,  7.58448103e-03,  2.01241914e-02,  1.95987243e-02,\n",
       "        1.89267118e-02, -4.04711664e-02,  1.74616463e-02,  1.94934625e-02,\n",
       "        1.89290531e-02,  2.26133317e-02,  1.61561780e-02,  2.31372956e-02,\n",
       "        1.98625289e-02,  1.86512936e-02,  1.95705481e-02,  1.92669909e-02,\n",
       "        2.16690470e-02, -8.68634954e-02,  2.05534380e-02,  2.80527957e-02,\n",
       "        2.05826350e-02,  2.05737669e-02,  1.60298087e-02, -1.98712349e-01,\n",
       "        2.32943390e-02,  1.84171684e-02,  6.70110155e-03,  1.62214749e-02,\n",
       "        2.56572124e-02,  2.58244183e-02,  2.04728656e-02,  2.01535523e-02,\n",
       "        1.75076555e-02, -9.71270073e-03,  1.73563361e-02,  2.11441033e-02,\n",
       "        2.15669759e-02, -1.61548734e-01,  1.71024147e-02,  9.87372920e-03,\n",
       "        2.11986266e-02,  1.87638830e-02,  3.84921022e-02, -5.65424934e-02,\n",
       "       -2.38406986e-01,  2.02633534e-02,  1.13992272e-02, -3.17935944e-02,\n",
       "        2.10882146e-02,  2.03606840e-02,  2.37088799e-02,  1.91120189e-02,\n",
       "        1.89800039e-02,  2.04297453e-02,  9.32666101e-03,  1.79591030e-02,\n",
       "        1.56261530e-02,  2.06427295e-02,  1.87249817e-02,  2.09977087e-02,\n",
       "        1.90887302e-02,  1.80579107e-02,  1.76050831e-02,  2.93575786e-02,\n",
       "       -4.70337495e-02,  9.41704027e-03,  2.20469851e-02,  2.25816946e-02,\n",
       "        1.82910692e-02,  1.93838887e-02,  1.61332469e-02, -9.09006372e-02,\n",
       "       -7.71609619e-02, -1.27774552e-01,  2.27342751e-02,  1.91459544e-02,\n",
       "        2.02027149e-02,  2.22274084e-02,  1.89640317e-02,  2.28960365e-02,\n",
       "        2.12057270e-02, -6.24538250e-02,  2.66316980e-02,  2.31543537e-02,\n",
       "        1.50040537e-02,  1.74161177e-02,  1.57819148e-02, -5.09381071e-02,\n",
       "        2.06766296e-02,  2.00438648e-02, -6.03844635e-02,  2.00760234e-02,\n",
       "        1.93504374e-02,  1.44077493e-02,  8.03169981e-03, -1.21316372e-03,\n",
       "        4.02466021e-02, -1.20669998e-01,  2.09655464e-02,  1.81988496e-02,\n",
       "        1.81208402e-02,  1.93594992e-02,  1.82865113e-02,  2.22008657e-02,\n",
       "        1.79061443e-02,  2.33798474e-02,  2.14689262e-02,  1.95300635e-02,\n",
       "        2.19359435e-02,  1.92867666e-02,  1.76142119e-02,  2.23735236e-02,\n",
       "       -1.75742447e-01, -2.31177285e-01,  2.57216729e-02,  2.02321224e-02,\n",
       "       -9.98926461e-02, -9.52905864e-02, -6.78725988e-02,  1.90859735e-02,\n",
       "        2.18699742e-02,  1.53336758e-02,  1.95867550e-02,  2.01883204e-02,\n",
       "       -1.61195010e-01,  1.98766571e-02,  2.38840859e-02,  1.92963071e-02,\n",
       "        1.94988474e-02,  1.23776430e-02,  2.17264798e-02,  1.93047412e-02,\n",
       "        2.00261679e-02,  2.51557715e-02, -3.03757396e-02,  2.03847010e-02,\n",
       "        2.47539748e-02,  1.84914190e-02,  2.38919873e-02, -1.27547801e-01,\n",
       "        1.60008091e-02,  2.31570732e-02, -6.93689510e-02,  2.11763587e-02,\n",
       "        1.85693074e-02,  1.92948282e-02,  1.89177115e-02,  1.34181436e-02,\n",
       "        2.47262996e-02,  2.18933336e-02,  2.17334516e-02, -1.43775091e-01,\n",
       "       -1.35336425e-02,  1.78701524e-02, -1.01130061e-01, -5.66430539e-02,\n",
       "        1.98052898e-02,  1.88249871e-02,  1.89847220e-02, -1.60975859e-01,\n",
       "        1.81772001e-02,  2.55730543e-02,  1.66458879e-02,  2.22896207e-02,\n",
       "        2.11363342e-02,  1.74967945e-02, -6.69589341e-02,  1.91947538e-02,\n",
       "        2.07688473e-02,  2.03792192e-02,  1.84600595e-02,  1.69720314e-02,\n",
       "        2.07860526e-02,  1.35166897e-02,  2.02289373e-02,  1.81651600e-02,\n",
       "        2.37449333e-02,  2.11424697e-02,  1.55255198e-02,  1.67014897e-02,\n",
       "        2.07065511e-02, -7.18748644e-02, -6.27125502e-02,  3.01174298e-02,\n",
       "        2.49314997e-02,  1.93636268e-02,  3.24607193e-02, -1.74007103e-01,\n",
       "        1.60991959e-02,  2.00246219e-02,  1.85311195e-02,  2.03418564e-02,\n",
       "        2.08158996e-02,  1.94045641e-02,  2.39246730e-02,  3.66040729e-02,\n",
       "       -1.07394017e-01,  2.15110034e-02,  1.94942411e-02, -5.37452139e-02,\n",
       "        1.92762204e-02,  2.83897039e-04,  2.02273279e-02, -5.31397052e-02,\n",
       "       -6.56954572e-02,  4.49712761e-02,  1.92426294e-02,  1.38271311e-02,\n",
       "        1.91805530e-02,  1.74927022e-02,  1.90153811e-02,  1.72802377e-02,\n",
       "        2.42424030e-02,  2.38953512e-02, -6.22621439e-02,  1.90806128e-02,\n",
       "        1.81302577e-02,  1.95528287e-02, -6.33176938e-02,  1.52628217e-02,\n",
       "        2.02621315e-02,  2.04779394e-02,  1.74640995e-02,  1.45312045e-02,\n",
       "        1.58425607e-02, -1.21125802e-02,  2.24862378e-02,  1.92716364e-02,\n",
       "        8.10702238e-03, -1.93895656e-03, -1.21829852e-01,  4.07181904e-02,\n",
       "        2.07319260e-02, -2.11096890e-02,  2.32369769e-02, -3.61990146e-02,\n",
       "       -1.55044338e-02,  2.17667557e-02, -4.81282100e-02,  1.97422933e-02,\n",
       "        2.07450371e-02, -8.87084678e-02,  1.37795322e-02, -9.18895900e-02,\n",
       "        1.74371917e-02, -6.21532202e-02,  2.07849834e-02,  2.65000090e-02,\n",
       "        2.08406299e-02,  2.07588281e-02,  1.98674593e-02,  2.21197363e-02,\n",
       "        1.03830239e-02,  1.69056728e-02,  2.41860431e-02, -4.68461700e-02,\n",
       "       -7.39678442e-02,  9.61076841e-03,  1.97711922e-02,  1.84381660e-02,\n",
       "       -1.66679561e-01,  2.46383492e-02,  2.03847103e-02,  4.38256264e-02,\n",
       "        4.62761000e-02,  2.72488073e-02,  1.41303847e-02,  2.03962773e-02,\n",
       "       -3.41924094e-02,  2.19198950e-02,  1.99844129e-02,  1.84745714e-02,\n",
       "        1.98966954e-02,  1.71817392e-02,  1.95217300e-02,  2.12381743e-02,\n",
       "        1.24053061e-02,  1.72000583e-02,  2.15807632e-02,  2.20400058e-02,\n",
       "        1.96820833e-02,  1.23303849e-02,  1.88188367e-02, -6.98345006e-02,\n",
       "        2.36686971e-02,  1.84970684e-02,  2.05677245e-02,  2.46087573e-02,\n",
       "        1.49266003e-02,  2.15729736e-02,  1.71444323e-02, -1.46370843e-01,\n",
       "        2.11210568e-02, -1.37082092e-03,  2.06704978e-02,  3.09049580e-02,\n",
       "       -1.37558356e-01,  1.83109920e-02,  2.15444863e-02,  1.65229514e-02,\n",
       "        2.14882921e-02, -3.50702554e-02,  1.91500299e-02, -1.85507722e-02,\n",
       "        1.83535721e-02,  1.96274780e-02,  2.33777314e-02,  1.99982598e-02,\n",
       "        2.17630286e-02,  2.04457585e-02,  1.52153624e-02,  2.56832596e-02,\n",
       "        2.11308934e-02,  2.32418105e-02,  2.02406403e-02,  1.91802662e-02,\n",
       "        1.87797695e-02,  1.24940528e-02,  1.88698079e-02,  1.92834120e-02,\n",
       "        1.81099381e-02,  1.88455470e-02, -1.41643703e-01,  2.54010148e-02,\n",
       "       -4.71594147e-02,  1.20911943e-02,  1.87768042e-02,  1.92468800e-02,\n",
       "        2.09251009e-02,  2.18192302e-02,  1.16327554e-02,  1.82400942e-02,\n",
       "        2.71268860e-02,  1.80385821e-02,  2.99467333e-02,  1.76075958e-02,\n",
       "       -6.46607727e-02,  2.19469965e-02, -9.04338807e-02,  2.18146574e-02,\n",
       "       -2.51583517e-01, -4.27848175e-02,  1.89146176e-02,  2.23364457e-02,\n",
       "        1.85586717e-02,  2.01034304e-02,  1.98814813e-02, -1.09405719e-01,\n",
       "        2.53374092e-02, -6.51165564e-03,  1.89101789e-02,  1.14206765e-02,\n",
       "       -2.02446058e-02,  2.21025813e-02,  2.29058024e-02,  2.41798554e-02,\n",
       "        1.90398209e-02,  1.84177458e-02,  2.42557433e-02,  2.70966645e-02,\n",
       "        3.36330160e-02,  2.38175318e-02, -1.28789693e-01,  2.47538108e-02,\n",
       "        2.11208668e-02,  1.21206110e-02,  2.07030214e-02, -2.33948603e-01,\n",
       "        2.20488384e-02,  2.04237364e-02,  2.02744436e-02,  2.02168021e-02,\n",
       "       -9.00695249e-02,  2.01621391e-02,  2.65261922e-02,  2.18532644e-02,\n",
       "        2.28706673e-02, -1.72725931e-01,  1.78539045e-02,  1.78477168e-02,\n",
       "        1.62367914e-02,  1.79406963e-02,  2.11959463e-02,  1.97385177e-02,\n",
       "        2.00626887e-02,  1.67117938e-02,  1.85642019e-02,  2.24095657e-02,\n",
       "       -8.46573990e-03,  1.90525632e-02,  2.64144950e-02, -2.79839174e-03,\n",
       "        1.82596296e-02,  1.88226774e-02,  1.51813896e-02,  2.72047687e-02,\n",
       "        1.91171486e-02,  1.87244099e-02,  8.87683686e-03, -1.58502176e-01,\n",
       "        1.67382862e-02,  2.23659314e-02,  2.59413570e-02, -9.71572325e-02,\n",
       "        2.40225475e-02, -4.70762551e-02,  2.58735027e-02, -2.73025781e-03,\n",
       "        2.09322758e-02,  1.24376602e-02, -3.30156647e-02,  2.02758983e-02,\n",
       "        2.30029970e-02,  1.91604532e-02,  1.82586759e-02,  1.94625817e-02,\n",
       "       -2.15295199e-02,  9.49274004e-03,  2.06813663e-02,  2.20665410e-02,\n",
       "        2.06850395e-02,  1.82718430e-02,  2.25573368e-02, -4.58470061e-02,\n",
       "        1.29666496e-02,  2.12381948e-02,  2.16657743e-02,  1.34433527e-02,\n",
       "        1.98503193e-02,  2.07276363e-02,  2.42824815e-02,  1.46478815e-02,\n",
       "        1.79425217e-02,  4.17603329e-02,  2.07426623e-02,  1.90076511e-02,\n",
       "       -2.15940267e-01,  1.87841561e-02,  1.58389322e-02,  2.03560330e-02,\n",
       "        1.91052873e-02,  2.16934513e-02, -1.38138488e-01,  2.03971379e-02,\n",
       "       -5.43371448e-03, -1.80257834e-03,  1.75314285e-02,  1.94325838e-02,\n",
       "        1.86907649e-02,  3.02942079e-02,  1.89363472e-02,  2.06904132e-02,\n",
       "       -3.53362993e-03,  1.87751465e-02,  1.92707144e-02,  1.87243484e-02,\n",
       "        1.86421163e-02, -1.41491398e-01,  2.61569340e-02, -2.08446994e-01,\n",
       "        1.89936962e-02,  1.87372211e-02,  2.05387287e-02,  2.10150704e-02,\n",
       "        1.52702481e-02,  1.63438655e-02,  1.85158774e-02, -1.47363335e-01,\n",
       "        3.18640098e-02, -1.00776111e-03,  1.93251912e-02,  2.58296188e-02,\n",
       "        1.91078018e-02, -8.32112879e-02,  1.48579543e-02, -1.05563007e-01,\n",
       "       -3.04650832e-02, -2.42257621e-02,  1.49559379e-02,  2.28577424e-02,\n",
       "       -6.70384690e-02, -5.13138920e-02,  1.17264325e-02,  1.93619970e-02,\n",
       "        1.56098604e-02,  1.86992511e-02,  1.78694334e-02,  2.30620131e-02,\n",
       "        1.73482336e-02,  1.21532623e-02,  2.20010579e-02, -3.10605690e-02,\n",
       "        2.59217657e-02,  2.23959647e-02,  2.14323997e-02, -4.48135324e-02,\n",
       "       -7.59840757e-02,  2.52029542e-02,  2.00885125e-02,  1.82820372e-02,\n",
       "        1.85805336e-02,  2.11244617e-02,  8.24531540e-03, -7.44547136e-03,\n",
       "        2.26526111e-02,  1.96261331e-02,  3.86197977e-02,  1.67560410e-02,\n",
       "        1.17778294e-02, -1.88027993e-02,  2.29142830e-02,  2.46928986e-02,\n",
       "        9.86391865e-03, -1.58830523e-01,  2.02523824e-02,  1.73697136e-02,\n",
       "        1.01362746e-02,  2.48850137e-02,  1.69931408e-02,  2.21677367e-02],\n",
       "      dtype=float32)"
      ]
     },
     "execution_count": 19,
     "metadata": {},
     "output_type": "execute_result"
    }
   ],
   "source": [
    "reconstructions[i][:, 0]"
   ]
  },
  {
   "cell_type": "code",
   "execution_count": null,
   "metadata": {},
   "outputs": [],
   "source": []
  }
 ],
 "metadata": {
  "kernelspec": {
   "display_name": "Python 2",
   "language": "python",
   "name": "python2"
  },
  "language_info": {
   "codemirror_mode": {
    "name": "ipython",
    "version": 2
   },
   "file_extension": ".py",
   "mimetype": "text/x-python",
   "name": "python",
   "nbconvert_exporter": "python",
   "pygments_lexer": "ipython2",
   "version": "2.7.12"
  }
 },
 "nbformat": 4,
 "nbformat_minor": 2
}
