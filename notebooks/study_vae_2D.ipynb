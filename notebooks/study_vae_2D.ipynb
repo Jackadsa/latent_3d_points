{
 "cells": [
  {
   "cell_type": "markdown",
   "metadata": {},
   "source": [
    "## This notebook will help you train a vanilla Point-Cloud AE with the basic architecture we used in our paper.\n",
    "    (it assumes latent_3d_points is in the PYTHONPATH and the structural losses have been compiled)"
   ]
  },
  {
   "cell_type": "code",
   "execution_count": 1,
   "metadata": {},
   "outputs": [
    {
     "name": "stderr",
     "output_type": "stream",
     "text": [
      "/usr/local/lib/python2.7/dist-packages/h5py/__init__.py:36: FutureWarning: Conversion of the second argument of issubdtype from `float` to `np.floating` is deprecated. In future, it will be treated as `np.float64 == np.dtype(float).type`.\n",
      "  from ._conv import register_converters as _register_converters\n"
     ]
    }
   ],
   "source": [
    "import os.path as osp\n",
    "\n",
    "import sys\n",
    "sys.path.append('/home/jcollins')\n",
    "\n",
    "from latent_3d_points.src.ae_templates import mlp_architecture_ala_iclr_18, default_train_params, \\\n",
    "                                              jack_vae_template_1\n",
    "from latent_3d_points.src.autoencoder import Configuration as Conf\n",
    "from latent_3d_points.src.point_net_ae import PointNetAutoEncoder, PointNetVarAutoEncoder\n",
    "\n",
    "from latent_3d_points.src.in_out import snc_category_to_synth_id, create_dir, PointCloudDataSet, \\\n",
    "                                        load_all_point_clouds_under_folder\n",
    "\n",
    "from latent_3d_points.src.tf_utils import reset_tf_graph\n",
    "from latent_3d_points.src.general_utils import plot_3d_point_cloud\n",
    "import gc"
   ]
  },
  {
   "cell_type": "code",
   "execution_count": 2,
   "metadata": {},
   "outputs": [],
   "source": [
    "import tensorflow as tf\n",
    "config = tf.ConfigProto()\n",
    "config.gpu_options.allow_growth = True\n",
    "sess = tf.Session(config=config)"
   ]
  },
  {
   "cell_type": "code",
   "execution_count": 3,
   "metadata": {},
   "outputs": [],
   "source": [
    "%load_ext autoreload\n",
    "%autoreload 2\n",
    "%matplotlib inline"
   ]
  },
  {
   "cell_type": "markdown",
   "metadata": {},
   "source": [
    "Define Basic Parameters"
   ]
  },
  {
   "cell_type": "code",
   "execution_count": 4,
   "metadata": {},
   "outputs": [],
   "source": [
    "top_out_dir = '../data/'          # Use to save Neural-Net check-points etc.\n",
    "top_in_dir = '../data/shape_net_core_uniform_samples_2048/' # Top-dir of where point-clouds are stored.\n",
    "\n",
    "experiment_name = 'single_class_ae_bneck-2'\n",
    "n_pc_points = 1000                # Number of points per model.\n",
    "bneck_size = 2                  # Bottleneck-AE size\n",
    "ae_loss = 'emd'                   # Loss to optimize: 'emd' or 'chamfer'"
   ]
  },
  {
   "cell_type": "markdown",
   "metadata": {},
   "source": [
    "Load Point-Clouds"
   ]
  },
  {
   "cell_type": "code",
   "execution_count": 5,
   "metadata": {},
   "outputs": [
    {
     "data": {
      "text/plain": [
       "27"
      ]
     },
     "execution_count": 5,
     "metadata": {},
     "output_type": "execute_result"
    }
   ],
   "source": [
    "import pandas as pd\n",
    "numjets = 500000\n",
    "numvalid = 50000\n",
    "outstore = pd.HDFStore(\"/data1/users/jcollins/Heidelberg_sample/train_points.h5\")\n",
    "# rawdata = outstore.select(\"points\",stop=numjets).values\n",
    "# rawdata = rawdata.reshape(numjets,1000,2)\n",
    "# all_pc_data = PointCloudDataSet(rawdata,copy=False)\n",
    "validdata = outstore.select(\"points\",start=numjets,stop=numjets+numvalid).values\n",
    "validdata = validdata.reshape(numvalid,1000,2)\n",
    "valid_pc_data = PointCloudDataSet(validdata,copy=False)\n",
    "gc.collect()"
   ]
  },
  {
   "cell_type": "markdown",
   "metadata": {},
   "source": [
    "Load default training parameters (some of which are listed beloq). For more details please print the configuration object.\n",
    "\n",
    "    'batch_size': 50   \n",
    "    \n",
    "    'denoising': False     (# by default AE is not denoising)\n",
    "\n",
    "    'learning_rate': 0.0005\n",
    "\n",
    "    'z_rotate': False      (# randomly rotate models of each batch)\n",
    "    \n",
    "    'loss_display_step': 1 (# display loss at end of these many epochs)\n",
    "    'saver_step': 10       (# over how many epochs to save neural-network)"
   ]
  },
  {
   "cell_type": "code",
   "execution_count": 6,
   "metadata": {},
   "outputs": [],
   "source": [
    "train_params = default_train_params()\n",
    "train_params['saver_step'] = 2"
   ]
  },
  {
   "cell_type": "code",
   "execution_count": 7,
   "metadata": {},
   "outputs": [],
   "source": [
    "encoder, decoder, enc_args, dec_args = jack_vae_template_1(n_pc_points, bneck_size)\n",
    "train_dir = create_dir(osp.join(top_out_dir, experiment_name))"
   ]
  },
  {
   "cell_type": "code",
   "execution_count": 8,
   "metadata": {},
   "outputs": [],
   "source": [
    "conf = Conf(n_input = [n_pc_points, 2],\n",
    "            loss = ae_loss,\n",
    "            training_epochs = train_params['training_epochs'],\n",
    "            batch_size = train_params['batch_size'],\n",
    "            denoising = train_params['denoising'],\n",
    "            learning_rate = train_params['learning_rate'],\n",
    "            train_dir = train_dir,\n",
    "            loss_display_step = train_params['loss_display_step'],\n",
    "            saver_step = train_params['saver_step'],\n",
    "            z_rotate = train_params['z_rotate'],\n",
    "            encoder = encoder,\n",
    "            decoder = decoder,\n",
    "            encoder_args = enc_args,\n",
    "            decoder_args = dec_args\n",
    "           )\n",
    "conf.experiment_name = experiment_name\n",
    "conf.held_out_step = 1   # How often to evaluate/print out loss on \n",
    "                         # held_out data (if they are provided in ae.train() ).\n",
    "conf.save(osp.join(train_dir, 'configuration'))"
   ]
  },
  {
   "cell_type": "markdown",
   "metadata": {},
   "source": [
    "Build AE Model."
   ]
  },
  {
   "cell_type": "code",
   "execution_count": 9,
   "metadata": {},
   "outputs": [
    {
     "name": "stdout",
     "output_type": "stream",
     "text": [
      "Building Encoder\n",
      "WARNING:tensorflow:From /home/jcollins/.local/lib/python2.7/site-packages/tflearn/initializations.py:119: __init__ (from tensorflow.python.ops.init_ops) is deprecated and will be removed in a future version.\n",
      "Instructions for updating:\n",
      "Use tf.initializers.variance_scaling instead with distribution=uniform to get equivalent behavior.\n",
      "encoder_conv_layer_0 conv params =  384 bnorm params =  256\n",
      "Tensor(\"single_class_ae_bneck-2_2/Relu:0\", shape=(?, 1000, 128), dtype=float32)\n",
      "output size: 128000 \n",
      "\n",
      "encoder_conv_layer_1 conv params =  16512 bnorm params =  256\n",
      "Tensor(\"single_class_ae_bneck-2_2/Relu_1:0\", shape=(?, 1000, 128), dtype=float32)\n",
      "output size: 128000 \n",
      "\n",
      "Symmetry Layer:\n",
      "Tensor(\"single_class_ae_bneck-2_2/Sum:0\", shape=(?, 128), dtype=float32) \n",
      "\n",
      "encoder_dense_layer_0 FC params =  16512 bnorm params =  256\n",
      "Tensor(\"single_class_ae_bneck-2_2/Relu_2:0\", shape=(?, 128), dtype=float32)\n",
      "output size: 128 \n",
      "\n",
      "encoder_dense_layer_1 FC params =  16512 bnorm params =  256\n",
      "Tensor(\"single_class_ae_bneck-2_2/encoder_dense_layer_1_bnorm/batchnorm/add_1:0\", shape=(?, 128), dtype=float32)\n",
      "output size: 128 \n",
      "\n",
      "[<tf.Tensor 'single_class_ae_bneck-2_2/z_mean/BiasAdd:0' shape=(?, 2) dtype=float32>, <tf.Tensor 'single_class_ae_bneck-2_2/z_log_var/BiasAdd:0' shape=(?, 2) dtype=float32>, <tf.Tensor 'single_class_ae_bneck-2_2/z/add:0' shape=(?, 2) dtype=float32>]\n",
      "Building Decoder\n",
      "decoder_dense_layer_0 FC params =  384 Tensor(\"single_class_ae_bneck-2_2/Relu_3:0\", shape=(?, 128), dtype=float32)\n",
      "output size: 128 \n",
      "\n",
      "decoder_dense_layer_1 FC params =  48375 Tensor(\"single_class_ae_bneck-2_2/Relu_4:0\", shape=(?, 375), dtype=float32)\n",
      "output size: 375 \n",
      "\n",
      "Tensor(\"single_class_ae_bneck-2_2/Reshape/Reshape:0\", shape=(?, 125, 3), dtype=float32)\n",
      "output size: 375 \n",
      "\n",
      "decoder_conv_layer_0 conv params =  512 Tensor(\"single_class_ae_bneck-2_2/Tile:0\", shape=(?, 500, 128), dtype=float32)\n",
      "output size: 64000 \n",
      "\n",
      "decoder_conv_layer_1 conv params =  16512 Tensor(\"single_class_ae_bneck-2_2/Tile_1:0\", shape=(?, 1000, 128), dtype=float32)\n",
      "output size: 128000 \n",
      "\n",
      "decoder_conv_layer_2 conv params =  258 Tensor(\"single_class_ae_bneck-2_2/decoder_conv_layer_2/Squeeze:0\", shape=(?, 1000, 2), dtype=float32)\n",
      "output size: 2000 \n",
      "\n"
     ]
    }
   ],
   "source": [
    "reset_tf_graph()\n",
    "ae = PointNetVarAutoEncoder(conf.experiment_name, conf)"
   ]
  },
  {
   "cell_type": "markdown",
   "metadata": {},
   "source": [
    "Train the AE (save output to train_stats.txt) "
   ]
  },
  {
   "cell_type": "code",
   "execution_count": 10,
   "metadata": {},
   "outputs": [
    {
     "ename": "NameError",
     "evalue": "name 'all_pc_data' is not defined",
     "output_type": "error",
     "traceback": [
      "\u001b[0;31m\u001b[0m",
      "\u001b[0;31mNameError\u001b[0mTraceback (most recent call last)",
      "\u001b[0;32m<ipython-input-10-7a104561aa50>\u001b[0m in \u001b[0;36m<module>\u001b[0;34m()\u001b[0m\n\u001b[1;32m      1\u001b[0m \u001b[0mbuf_size\u001b[0m \u001b[0;34m=\u001b[0m \u001b[0;36m1\u001b[0m \u001b[0;31m# Make 'training_stats' file to flush each output line regarding training.\u001b[0m\u001b[0;34m\u001b[0m\u001b[0m\n\u001b[1;32m      2\u001b[0m \u001b[0mfout\u001b[0m \u001b[0;34m=\u001b[0m \u001b[0mopen\u001b[0m\u001b[0;34m(\u001b[0m\u001b[0mosp\u001b[0m\u001b[0;34m.\u001b[0m\u001b[0mjoin\u001b[0m\u001b[0;34m(\u001b[0m\u001b[0mconf\u001b[0m\u001b[0;34m.\u001b[0m\u001b[0mtrain_dir\u001b[0m\u001b[0;34m,\u001b[0m \u001b[0;34m'train_stats_2.txt'\u001b[0m\u001b[0;34m)\u001b[0m\u001b[0;34m,\u001b[0m \u001b[0;34m'a'\u001b[0m\u001b[0;34m,\u001b[0m \u001b[0mbuf_size\u001b[0m\u001b[0;34m)\u001b[0m\u001b[0;34m\u001b[0m\u001b[0m\n\u001b[0;32m----> 3\u001b[0;31m \u001b[0mtrain_stats\u001b[0m \u001b[0;34m=\u001b[0m \u001b[0mae\u001b[0m\u001b[0;34m.\u001b[0m\u001b[0mtrain\u001b[0m\u001b[0;34m(\u001b[0m\u001b[0mall_pc_data\u001b[0m\u001b[0;34m,\u001b[0m \u001b[0mconf\u001b[0m\u001b[0;34m,\u001b[0m \u001b[0mlog_file\u001b[0m\u001b[0;34m=\u001b[0m\u001b[0mfout\u001b[0m\u001b[0;34m,\u001b[0m\u001b[0mheld_out_data\u001b[0m\u001b[0;34m=\u001b[0m\u001b[0mvalid_pc_data\u001b[0m\u001b[0;34m)\u001b[0m\u001b[0;34m\u001b[0m\u001b[0m\n\u001b[0m\u001b[1;32m      4\u001b[0m \u001b[0mfout\u001b[0m\u001b[0;34m.\u001b[0m\u001b[0mclose\u001b[0m\u001b[0;34m(\u001b[0m\u001b[0;34m)\u001b[0m\u001b[0;34m\u001b[0m\u001b[0m\n",
      "\u001b[0;31mNameError\u001b[0m: name 'all_pc_data' is not defined"
     ]
    }
   ],
   "source": [
    "buf_size = 1 # Make 'training_stats' file to flush each output line regarding training.\n",
    "fout = open(osp.join(conf.train_dir, 'train_stats_2.txt'), 'a', buf_size)\n",
    "train_stats = ae.train(all_pc_data, conf, log_file=fout,held_out_data=valid_pc_data)\n",
    "fout.close()"
   ]
  },
  {
   "cell_type": "markdown",
   "metadata": {},
   "source": [
    "If you ran the above lines, you can reload a saved model like this:"
   ]
  },
  {
   "cell_type": "code",
   "execution_count": 69,
   "metadata": {},
   "outputs": [
    {
     "name": "stdout",
     "output_type": "stream",
     "text": [
      "Building Encoder\n",
      "encoder_conv_layer_0 conv params =  384 bnorm params =  256\n",
      "Tensor(\"single_class_ae_bneck-2_2/Relu:0\", shape=(?, 1000, 128), dtype=float32)\n",
      "output size: 128000 \n",
      "\n",
      "encoder_conv_layer_1 conv params =  16512 bnorm params =  256\n",
      "Tensor(\"single_class_ae_bneck-2_2/Relu_1:0\", shape=(?, 1000, 128), dtype=float32)\n",
      "output size: 128000 \n",
      "\n",
      "Symmetry Layer:\n",
      "Tensor(\"single_class_ae_bneck-2_2/Sum:0\", shape=(?, 128), dtype=float32) \n",
      "\n",
      "encoder_dense_layer_0 FC params =  16512 bnorm params =  256\n",
      "Tensor(\"single_class_ae_bneck-2_2/Relu_2:0\", shape=(?, 128), dtype=float32)\n",
      "output size: 128 \n",
      "\n",
      "encoder_dense_layer_1 FC params =  16512 bnorm params =  256\n",
      "Tensor(\"single_class_ae_bneck-2_2/Relu_3:0\", shape=(?, 128), dtype=float32)\n",
      "output size: 128 \n",
      "\n",
      "encoder_dense_layer_2 FC params =  258 bnorm params =  4\n",
      "Tensor(\"single_class_ae_bneck-2_2/Relu_4:0\", shape=(?, 2), dtype=float32)\n",
      "output size: 2 \n",
      "\n",
      "Building Decoder\n",
      "decoder_fc_0 FC params =  768 Tensor(\"single_class_ae_bneck-2_2/Relu_5:0\", shape=(?, 256), dtype=float32)\n",
      "output size: 256 \n",
      "\n",
      "decoder_fc_1 FC params =  65792 Tensor(\"single_class_ae_bneck-2_2/Relu_6:0\", shape=(?, 256), dtype=float32)\n",
      "output size: 256 \n",
      "\n",
      "decoder_fc_2 FC params =  514000 Tensor(\"single_class_ae_bneck-2_2/decoder_fc_2/BiasAdd:0\", shape=(?, 2000), dtype=float32)\n",
      "output size: 2000 \n",
      "\n",
      "INFO:tensorflow:Restoring parameters from ../data/single_class_ae_bneck-2/models.ckpt-142\n"
     ]
    }
   ],
   "source": [
    "load_pre_trained_ae = True\n",
    "restore_epoch = 142\n",
    "if load_pre_trained_ae:\n",
    "    conf = Conf.load(train_dir + '/configuration')\n",
    "    reset_tf_graph()\n",
    "    ae = PointNetAutoEncoder(conf.experiment_name, conf)\n",
    "    ae.restore_model(conf.train_dir, epoch=restore_epoch)"
   ]
  },
  {
   "cell_type": "markdown",
   "metadata": {},
   "source": [
    "Get a batch of reconstuctions and their latent-codes."
   ]
  },
  {
   "cell_type": "markdown",
   "metadata": {
    "collapsed": true
   },
   "source": [
    "Use any plotting mechanism such as matplotlib to visualize the results."
   ]
  },
  {
   "cell_type": "code",
   "execution_count": 61,
   "metadata": {},
   "outputs": [],
   "source": [
    "import ot\n",
    "from matplotlib.colors import LogNorm\n",
    "import numpy as np\n",
    "import matplotlib.pyplot as plt"
   ]
  },
  {
   "cell_type": "code",
   "execution_count": 70,
   "metadata": {},
   "outputs": [
    {
     "data": {
      "text/plain": [
       "array([[0.4084186 , 0.366836  ],\n",
       "       [0.2791647 , 0.534457  ],\n",
       "       [0.58731717, 0.6172875 ],\n",
       "       ...,\n",
       "       [0.        , 0.6017411 ],\n",
       "       [0.        , 0.49408764],\n",
       "       [0.        , 0.        ]], dtype=float32)"
      ]
     },
     "execution_count": 70,
     "metadata": {},
     "output_type": "execute_result"
    }
   ],
   "source": [
    "ae.transform(feed_pc)"
   ]
  },
  {
   "cell_type": "code",
   "execution_count": 113,
   "metadata": {},
   "outputs": [
    {
     "data": {
      "image/png": "[encoded data removed]",
      "text/plain": [
       "<Figure size 432x288 with 1 Axes>"
      ]
     },
     "metadata": {},
     "output_type": "display_data"
    }
   ],
   "source": [
    "numload = 1000\n",
    "latent_codes = np.zeros((0,2))\n",
    "for i in range(-10,10):\n",
    "    feed_pc, feed_model_names, _ = valid_pc_data.next_batch(numload )\n",
    "    latent_codes = np.append(latent_codes,ae.transform(feed_pc),axis=0)\n",
    "\n",
    "\n",
    "plt.hist2d(latent_codes[:,0],latent_codes[:,1],norm=LogNorm(0.5, 1000),bins=20, range = [[-1,1],[-1,1]])\n",
    "plt.show()"
   ]
  },
  {
   "cell_type": "code",
   "execution_count": 100,
   "metadata": {},
   "outputs": [],
   "source": [
    "numload = 1000\n",
    "feed_pc, feed_model_names, _ = valid_pc_data.next_batch(numload )\n",
    "reconstructions = ae.reconstruct(feed_pc)[0]\n",
    "latent_codes = ae.transform(feed_pc)"
   ]
  },
  {
   "cell_type": "code",
   "execution_count": 28,
   "metadata": {},
   "outputs": [],
   "source": [
    "def jet_masses(jets, p_norm = 600):\n",
    "    numpoints = len(jets[0])\n",
    "    Delta_Rs = np.linalg.norm(feed_pc,axis=2)\n",
    "#    p_parr = np.sum(np.cos(Delta_Rs),axis=1)\n",
    "    p_parr = np.sum(np.cos(jets[:,:,0])*np.cos(jets[:,:,1]),axis=1)\n",
    "    masses = np.sqrt(numpoints**2 - np.power(p_parr,2))*p_norm/numpoints\n",
    "    return masses"
   ]
  },
  {
   "cell_type": "code",
   "execution_count": 89,
   "metadata": {},
   "outputs": [
    {
     "data": {
      "text/plain": [
       "array([[0. , 0. ],\n",
       "       [0.2, 0. ],\n",
       "       [0.4, 0. ],\n",
       "       [0.6, 0. ],\n",
       "       [0.8, 0. ],\n",
       "       [1. , 0. ],\n",
       "       [0. , 0.2],\n",
       "       [0.2, 0.2],\n",
       "       [0.4, 0.2],\n",
       "       [0.6, 0.2],\n",
       "       [0.8, 0.2],\n",
       "       [1. , 0.2],\n",
       "       [0. , 0.4],\n",
       "       [0.2, 0.4],\n",
       "       [0.4, 0.4],\n",
       "       [0.6, 0.4],\n",
       "       [0.8, 0.4],\n",
       "       [1. , 0.4],\n",
       "       [0. , 0.6],\n",
       "       [0.2, 0.6],\n",
       "       [0.4, 0.6],\n",
       "       [0.6, 0.6],\n",
       "       [0.8, 0.6],\n",
       "       [1. , 0.6],\n",
       "       [0. , 0.8],\n",
       "       [0.2, 0.8],\n",
       "       [0.4, 0.8],\n",
       "       [0.6, 0.8],\n",
       "       [0.8, 0.8],\n",
       "       [1. , 0.8],\n",
       "       [0. , 1. ],\n",
       "       [0.2, 1. ],\n",
       "       [0.4, 1. ],\n",
       "       [0.6, 1. ],\n",
       "       [0.8, 1. ],\n",
       "       [1. , 1. ]])"
      ]
     },
     "execution_count": 89,
     "metadata": {},
     "output_type": "execute_result"
    }
   ],
   "source": [
    "codes_xy = np.arange(0,1.1,0.2)\n",
    "np.array([[[codes_xy[i], codes_xy[j]] for i in range(len(codes_xy))] for j in range(len(codes_xy))]).reshape(-1,2)"
   ]
  },
  {
   "cell_type": "code",
   "execution_count": 111,
   "metadata": {},
   "outputs": [
    {
     "data": {
      "image/png": "[encoded data removed]",
      "text/plain": [
       "<Figure size 1440x1440 with 36 Axes>"
      ]
     },
     "metadata": {},
     "output_type": "display_data"
    }
   ],
   "source": [
    "lim=0.8\n",
    "bins=np.linspace(-lim, lim, 50)\n",
    "#codes = np.array([0.45,0.7,1])\n",
    "codes_xy = np.arange(0,1.1,0.2)\n",
    "codes = np.array([[[codes_xy[i], codes_xy[5-j]] for i in range(len(codes_xy))] for j in range(len(codes_xy))]).reshape(-1,2)\n",
    "temp_reconstructions=ae.decode(codes)\n",
    "\n",
    "plt.figure(figsize=[20,20])\n",
    "\n",
    "jet_ms = jet_masses(temp_reconstructions)\n",
    "\n",
    "for i, reconstruction in enumerate(temp_reconstructions):\n",
    "    plt.subplot(6,6,i+1)\n",
    "    counts, bx, by = np.histogram2d(reconstruction[:,0],reconstruction[:,1],bins=bins)\n",
    "    #print codes[i]\n",
    "    plt.imshow(counts.T, norm=LogNorm(0.5, 1000), origin='lower',cmap='Oranges')\n",
    "    plt.title(\"code = \" + str(codes[i]) +  \", mass = \" + str(round(jet_ms[i])))\n",
    "plt.show()"
   ]
  },
  {
   "cell_type": "code",
   "execution_count": 18,
   "metadata": {
    "scrolled": false
   },
   "outputs": [
    {
     "data": {
      "image/png": "[encoded data removed]",
      "text/plain": [
       "<Figure size 1440x5760 with 3 Axes>"
      ]
     },
     "metadata": {},
     "output_type": "display_data"
    }
   ],
   "source": [
    "lim=0.8\n",
    "bins=np.linspace(-lim, lim, 50)\n",
    "codes = np.array([0.45,0.7,1])\n",
    "#codes = np.arange(0.4,1.5,0.05)\n",
    "temp_reconstructions=ae.decode(codes.reshape(-1,1))\n",
    "\n",
    "plt.figure(figsize=[20,80])\n",
    "\n",
    "jet_ms = jet_masses(temp_reconstructions)\n",
    "\n",
    "for i, reconstruction in enumerate(temp_reconstructions):\n",
    "    plt.subplot(20,3,i+1)\n",
    "    counts, bx, by = np.histogram2d(reconstruction[:,0],reconstruction[:,1],bins=bins)\n",
    "    #print codes[i]\n",
    "    plt.imshow(counts.T, norm=LogNorm(0.5, 1000), origin='lower',cmap='Oranges')\n",
    "    plt.title(\"code = \" + str(codes[i]) +  \", mass = \" + str(jet_ms[i]))\n",
    "plt.show()"
   ]
  },
  {
   "cell_type": "code",
   "execution_count": 101,
   "metadata": {},
   "outputs": [
    {
     "name": "stdout",
     "output_type": "stream",
     "text": [
      "##### Approx EMD #####\n",
      "[81.811104 57.385998 42.4408   31.419598 17.954147 29.520521 47.88909\n",
      " 54.286137 22.82027  41.508293]\n",
      "3.66719794273\n",
      "\n",
      " \n",
      " \n",
      " ##### True EMD #####\n",
      "1.68018603325\n",
      "[75.07462589 56.59483998 42.21813977 29.98111    17.60743652 29.26905909\n",
      " 44.23036638 53.78889053 22.61921665 38.94040913]\n",
      "\n",
      " \n",
      " \n",
      " ##### Fractional difference #####\n",
      "[0.08973042 0.01397933 0.00527403 0.0479798  0.01969116 0.0085914\n",
      " 0.08271976 0.0092444  0.00888863 0.06594394]\n"
     ]
    }
   ],
   "source": [
    "import time\n",
    "from latent_3d_points.external.structural_losses import tf_approxmatch\n",
    "\n",
    "\n",
    "print \"##### Approx EMD #####\"\n",
    "nclouds = 1\n",
    "npoints = 1000\n",
    "ndim=2\n",
    "\n",
    "points1 = reconstructions[:10]\n",
    "points2 = feed_pc[:10]\n",
    "\n",
    "start = time.time()\n",
    "\n",
    "this = tf_approxmatch.approx_match(points1,points2)\n",
    "init_op = tf.initialize_all_variables()\n",
    "\n",
    "\n",
    "#run the graph\n",
    "with tf.Session() as sess:\n",
    "    sess.run(init_op) #execute init_op\n",
    "    #print the random values that we sample\n",
    "    transport = sess.run(this)\n",
    "    #print transport\n",
    "\n",
    "this_cost = tf_approxmatch.match_cost(points1,points2,transport)\n",
    "init_op = tf.initialize_all_variables()\n",
    "\n",
    "#run the graph\n",
    "with tf.Session() as sess:\n",
    "    sess.run(init_op) #execute init_op\n",
    "    #print the random values that we sample\n",
    "    cost = sess.run(this_cost)/1000*600\n",
    "    print np.array(cost)\n",
    "    \n",
    "print time.time()-start\n",
    "\n",
    "\n",
    "print \"\\n \\n \\n ##### True EMD #####\"\n",
    "start = time.time()\n",
    "M = [np.sqrt(ot.dist(points1[i],points2[i])) for i in range(len(points1))]\n",
    "\n",
    "truecost = np.array([ot.emd2(np.ones(1000),np.ones(1000),Mat) for Mat in M])/1000*600\n",
    "print time.time()-start\n",
    "print truecost\n",
    "\n",
    "print \"\\n \\n \\n ##### Fractional difference #####\"\n",
    "print (np.array(cost) - np.array(truecost))/np.array(truecost)"
   ]
  },
  {
   "cell_type": "code",
   "execution_count": 102,
   "metadata": {},
   "outputs": [
    {
     "data": {
      "text/plain": [
       "10"
      ]
     },
     "execution_count": 102,
     "metadata": {},
     "output_type": "execute_result"
    }
   ],
   "source": [
    "len(points1)"
   ]
  },
  {
   "cell_type": "code",
   "execution_count": 104,
   "metadata": {
    "scrolled": false
   },
   "outputs": [
    {
     "name": "stdout",
     "output_type": "stream",
     "text": [
      "62.562188239\n"
     ]
    },
    {
     "data": {
      "image/png": "[encoded data removed]",
      "text/plain": [
       "<Figure size 432x216 with 2 Axes>"
      ]
     },
     "metadata": {},
     "output_type": "display_data"
    },
    {
     "name": "stdout",
     "output_type": "stream",
     "text": [
      "47.1623666519\n"
     ]
    },
    {
     "data": {
      "image/png": "[encoded data removed]",
      "text/plain": [
       "<Figure size 432x216 with 2 Axes>"
      ]
     },
     "metadata": {},
     "output_type": "display_data"
    },
    {
     "name": "stdout",
     "output_type": "stream",
     "text": [
      "35.1817831448\n"
     ]
    },
    {
     "data": {
      "image/png": "[encoded data removed]",
      "text/plain": [
       "<Figure size 432x216 with 2 Axes>"
      ]
     },
     "metadata": {},
     "output_type": "display_data"
    },
    {
     "name": "stdout",
     "output_type": "stream",
     "text": [
      "24.9842583313\n"
     ]
    },
    {
     "data": {
      "image/png": "[encoded data removed]",
      "text/plain": [
       "<Figure size 432x216 with 2 Axes>"
      ]
     },
     "metadata": {},
     "output_type": "display_data"
    },
    {
     "name": "stdout",
     "output_type": "stream",
     "text": [
      "14.672863765\n"
     ]
    },
    {
     "data": {
      "image/png": "[encoded data removed]",
      "text/plain": [
       "<Figure size 432x216 with 2 Axes>"
      ]
     },
     "metadata": {},
     "output_type": "display_data"
    },
    {
     "name": "stdout",
     "output_type": "stream",
     "text": [
      "24.3908825751\n"
     ]
    },
    {
     "data": {
      "image/png": "[encoded data removed]",
      "text/plain": [
       "<Figure size 432x216 with 2 Axes>"
      ]
     },
     "metadata": {},
     "output_type": "display_data"
    },
    {
     "name": "stdout",
     "output_type": "stream",
     "text": [
      "36.8586386468\n"
     ]
    },
    {
     "data": {
      "image/png": "[encoded data removed]",
      "text/plain": [
       "<Figure size 432x216 with 2 Axes>"
      ]
     },
     "metadata": {},
     "output_type": "display_data"
    },
    {
     "name": "stdout",
     "output_type": "stream",
     "text": [
      "44.8240754429\n"
     ]
    },
    {
     "data": {
      "image/png": "[encoded data removed]",
      "text/plain": [
       "<Figure size 432x216 with 2 Axes>"
      ]
     },
     "metadata": {},
     "output_type": "display_data"
    },
    {
     "name": "stdout",
     "output_type": "stream",
     "text": [
      "18.8493472091\n"
     ]
    },
    {
     "data": {
      "image/png": "[encoded data removed]",
      "text/plain": [
       "<Figure size 432x216 with 2 Axes>"
      ]
     },
     "metadata": {},
     "output_type": "display_data"
    },
    {
     "name": "stdout",
     "output_type": "stream",
     "text": [
      "32.45034094\n"
     ]
    },
    {
     "data": {
      "image/png": "[encoded data removed]",
      "text/plain": [
       "<Figure size 432x216 with 2 Axes>"
      ]
     },
     "metadata": {},
     "output_type": "display_data"
    },
    {
     "name": "stdout",
     "output_type": "stream",
     "text": [
      "9.17884983411\n"
     ]
    },
    {
     "data": {
      "image/png": "[encoded data removed]",
      "text/plain": [
       "<Figure size 432x216 with 2 Axes>"
      ]
     },
     "metadata": {},
     "output_type": "display_data"
    },
    {
     "name": "stdout",
     "output_type": "stream",
     "text": [
      "48.7398898224\n"
     ]
    },
    {
     "data": {
      "image/png": "[encoded data removed]",
      "text/plain": [
       "<Figure size 432x216 with 2 Axes>"
      ]
     },
     "metadata": {},
     "output_type": "display_data"
    },
    {
     "name": "stdout",
     "output_type": "stream",
     "text": [
      "29.2536267714\n"
     ]
    },
    {
     "data": {
      "image/png": "[encoded data removed]",
      "text/plain": [
       "<Figure size 432x216 with 2 Axes>"
      ]
     },
     "metadata": {},
     "output_type": "display_data"
    },
    {
     "name": "stdout",
     "output_type": "stream",
     "text": [
      "37.2919923504\n"
     ]
    },
    {
     "data": {
      "image/png": "[encoded data removed]",
      "text/plain": [
       "<Figure size 432x216 with 2 Axes>"
      ]
     },
     "metadata": {},
     "output_type": "display_data"
    },
    {
     "name": "stdout",
     "output_type": "stream",
     "text": [
      "14.7033122626\n"
     ]
    },
    {
     "data": {
      "image/png": "[encoded data removed]",
      "text/plain": [
       "<Figure size 432x216 with 2 Axes>"
      ]
     },
     "metadata": {},
     "output_type": "display_data"
    },
    {
     "name": "stdout",
     "output_type": "stream",
     "text": [
      "34.3602977412\n"
     ]
    },
    {
     "data": {
      "image/png": "[encoded data removed]",
      "text/plain": [
       "<Figure size 432x216 with 2 Axes>"
      ]
     },
     "metadata": {},
     "output_type": "display_data"
    },
    {
     "name": "stdout",
     "output_type": "stream",
     "text": [
      "10.1402011366\n"
     ]
    },
    {
     "data": {
      "image/png": "[encoded data removed]",
      "text/plain": [
       "<Figure size 432x216 with 2 Axes>"
      ]
     },
     "metadata": {},
     "output_type": "display_data"
    },
    {
     "name": "stdout",
     "output_type": "stream",
     "text": [
      "6.18363906044\n"
     ]
    },
    {
     "data": {
      "image/png": "[encoded data removed]",
      "text/plain": [
       "<Figure size 432x216 with 2 Axes>"
      ]
     },
     "metadata": {},
     "output_type": "display_data"
    },
    {
     "name": "stdout",
     "output_type": "stream",
     "text": [
      "25.2876379557\n"
     ]
    },
    {
     "data": {
      "image/png": "[encoded data removed]",
      "text/plain": [
       "<Figure size 432x216 with 2 Axes>"
      ]
     },
     "metadata": {},
     "output_type": "display_data"
    },
    {
     "name": "stdout",
     "output_type": "stream",
     "text": [
      "32.9847562363\n"
     ]
    },
    {
     "data": {
      "image/png": "[encoded data removed]",
      "text/plain": [
       "<Figure size 432x216 with 2 Axes>"
      ]
     },
     "metadata": {},
     "output_type": "display_data"
    },
    {
     "name": "stdout",
     "output_type": "stream",
     "text": [
      "34.0730207373\n"
     ]
    },
    {
     "data": {
      "image/png": "[encoded data removed]",
      "text/plain": [
       "<Figure size 432x216 with 2 Axes>"
      ]
     },
     "metadata": {},
     "output_type": "display_data"
    },
    {
     "name": "stdout",
     "output_type": "stream",
     "text": [
      "17.046588122\n"
     ]
    },
    {
     "data": {
      "image/png": "[encoded data removed]",
      "text/plain": [
       "<Figure size 432x216 with 2 Axes>"
      ]
     },
     "metadata": {},
     "output_type": "display_data"
    },
    {
     "name": "stdout",
     "output_type": "stream",
     "text": [
      "13.9631803362\n"
     ]
    },
    {
     "data": {
      "image/png": "[encoded data removed]",
      "text/plain": [
       "<Figure size 432x216 with 2 Axes>"
      ]
     },
     "metadata": {},
     "output_type": "display_data"
    },
    {
     "name": "stdout",
     "output_type": "stream",
     "text": [
      "14.5283629953\n"
     ]
    },
    {
     "data": {
      "image/png": "[encoded data removed]",
      "text/plain": [
       "<Figure size 432x216 with 2 Axes>"
      ]
     },
     "metadata": {},
     "output_type": "display_data"
    },
    {
     "name": "stdout",
     "output_type": "stream",
     "text": [
      "16.5278995444\n"
     ]
    },
    {
     "data": {
      "image/png": "[encoded data removed]",
      "text/plain": [
       "<Figure size 432x216 with 2 Axes>"
      ]
     },
     "metadata": {},
     "output_type": "display_data"
    },
    {
     "name": "stdout",
     "output_type": "stream",
     "text": [
      "19.2876754328\n"
     ]
    },
    {
     "data": {
      "image/png": "[encoded data removed]",
      "text/plain": [
       "<Figure size 432x216 with 2 Axes>"
      ]
     },
     "metadata": {},
     "output_type": "display_data"
    },
    {
     "name": "stdout",
     "output_type": "stream",
     "text": [
      "32.58929736\n"
     ]
    },
    {
     "data": {
      "image/png": "[encoded data removed]",
      "text/plain": [
       "<Figure size 432x216 with 2 Axes>"
      ]
     },
     "metadata": {},
     "output_type": "display_data"
    },
    {
     "name": "stdout",
     "output_type": "stream",
     "text": [
      "43.2642098515\n"
     ]
    },
    {
     "data": {
      "image/png": "[encoded data removed]",
      "text/plain": [
       "<Figure size 432x216 with 2 Axes>"
      ]
     },
     "metadata": {},
     "output_type": "display_data"
    },
    {
     "name": "stdout",
     "output_type": "stream",
     "text": [
      "36.1937844216\n"
     ]
    },
    {
     "data": {
      "image/png": "[encoded data removed]",
      "text/plain": [
       "<Figure size 432x216 with 2 Axes>"
      ]
     },
     "metadata": {},
     "output_type": "display_data"
    },
    {
     "name": "stdout",
     "output_type": "stream",
     "text": [
      "31.1585619797\n"
     ]
    },
    {
     "data": {
      "image/png": "[encoded data removed]",
      "text/plain": [
       "<Figure size 432x216 with 2 Axes>"
      ]
     },
     "metadata": {},
     "output_type": "display_data"
    },
    {
     "name": "stdout",
     "output_type": "stream",
     "text": [
      "14.9644637378\n"
     ]
    },
    {
     "data": {
      "image/png": "[encoded data removed]",
      "text/plain": [
       "<Figure size 432x216 with 2 Axes>"
      ]
     },
     "metadata": {},
     "output_type": "display_data"
    },
    {
     "name": "stdout",
     "output_type": "stream",
     "text": [
      "77.2294440632\n"
     ]
    },
    {
     "data": {
      "image/png": "[encoded data removed]",
      "text/plain": [
       "<Figure size 432x216 with 2 Axes>"
      ]
     },
     "metadata": {},
     "output_type": "display_data"
    },
    {
     "name": "stdout",
     "output_type": "stream",
     "text": [
      "12.9240391426\n"
     ]
    },
    {
     "data": {
      "image/png": "[encoded data removed]",
      "text/plain": [
       "<Figure size 432x216 with 2 Axes>"
      ]
     },
     "metadata": {},
     "output_type": "display_data"
    },
    {
     "name": "stdout",
     "output_type": "stream",
     "text": [
      "20.072818882\n"
     ]
    },
    {
     "data": {
      "image/png": "[encoded data removed]",
      "text/plain": [
       "<Figure size 432x216 with 2 Axes>"
      ]
     },
     "metadata": {},
     "output_type": "display_data"
    },
    {
     "name": "stdout",
     "output_type": "stream",
     "text": [
      "35.4707812262\n"
     ]
    },
    {
     "data": {
      "image/png": "[encoded data removed]",
      "text/plain": [
       "<Figure size 432x216 with 2 Axes>"
      ]
     },
     "metadata": {},
     "output_type": "display_data"
    },
    {
     "name": "stdout",
     "output_type": "stream",
     "text": [
      "66.8180699075\n"
     ]
    },
    {
     "data": {
      "image/png": "[encoded data removed]",
      "text/plain": [
       "<Figure size 432x216 with 2 Axes>"
      ]
     },
     "metadata": {},
     "output_type": "display_data"
    },
    {
     "name": "stdout",
     "output_type": "stream",
     "text": [
      "28.6464607665\n"
     ]
    },
    {
     "data": {
      "image/png": "[encoded data removed]",
      "text/plain": [
       "<Figure size 432x216 with 2 Axes>"
      ]
     },
     "metadata": {},
     "output_type": "display_data"
    },
    {
     "name": "stdout",
     "output_type": "stream",
     "text": [
      "56.1444681395\n"
     ]
    },
    {
     "data": {
      "image/png": "[encoded data removed]",
      "text/plain": [
       "<Figure size 432x216 with 2 Axes>"
      ]
     },
     "metadata": {},
     "output_type": "display_data"
    },
    {
     "name": "stdout",
     "output_type": "stream",
     "text": [
      "56.6253585829\n"
     ]
    },
    {
     "data": {
      "image/png": "[encoded data removed]",
      "text/plain": [
       "<Figure size 432x216 with 2 Axes>"
      ]
     },
     "metadata": {},
     "output_type": "display_data"
    },
    {
     "name": "stdout",
     "output_type": "stream",
     "text": [
      "50.7461531883\n"
     ]
    },
    {
     "data": {
      "image/png": "[encoded data removed]",
      "text/plain": [
       "<Figure size 432x216 with 2 Axes>"
      ]
     },
     "metadata": {},
     "output_type": "display_data"
    },
    {
     "name": "stdout",
     "output_type": "stream",
     "text": [
      "46.4436439651\n"
     ]
    },
    {
     "data": {
      "image/png": "[encoded data removed]",
      "text/plain": [
       "<Figure size 432x216 with 2 Axes>"
      ]
     },
     "metadata": {},
     "output_type": "display_data"
    },
    {
     "name": "stdout",
     "output_type": "stream",
     "text": [
      "71.9301185262\n"
     ]
    },
    {
     "data": {
      "image/png": "[encoded data removed]",
      "text/plain": [
       "<Figure size 432x216 with 2 Axes>"
      ]
     },
     "metadata": {},
     "output_type": "display_data"
    },
    {
     "name": "stdout",
     "output_type": "stream",
     "text": [
      "26.2335395602\n"
     ]
    },
    {
     "data": {
      "image/png": "[encoded data removed]",
      "text/plain": [
       "<Figure size 432x216 with 2 Axes>"
      ]
     },
     "metadata": {},
     "output_type": "display_data"
    },
    {
     "name": "stdout",
     "output_type": "stream",
     "text": [
      "69.5477183288\n"
     ]
    },
    {
     "data": {
      "image/png": "[encoded data removed]",
      "text/plain": [
       "<Figure size 432x216 with 2 Axes>"
      ]
     },
     "metadata": {},
     "output_type": "display_data"
    },
    {
     "name": "stdout",
     "output_type": "stream",
     "text": [
      "55.6001186733\n"
     ]
    },
    {
     "data": {
      "image/png": "[encoded data removed]",
      "text/plain": [
       "<Figure size 432x216 with 2 Axes>"
      ]
     },
     "metadata": {},
     "output_type": "display_data"
    },
    {
     "name": "stdout",
     "output_type": "stream",
     "text": [
      "13.5560930867\n"
     ]
    },
    {
     "data": {
      "image/png": "[encoded data removed]",
      "text/plain": [
       "<Figure size 432x216 with 2 Axes>"
      ]
     },
     "metadata": {},
     "output_type": "display_data"
    },
    {
     "name": "stdout",
     "output_type": "stream",
     "text": [
      "7.67578522063\n"
     ]
    },
    {
     "data": {
      "image/png": "[encoded data removed]",
      "text/plain": [
       "<Figure size 432x216 with 2 Axes>"
      ]
     },
     "metadata": {},
     "output_type": "display_data"
    },
    {
     "name": "stdout",
     "output_type": "stream",
     "text": [
      "16.616413989\n"
     ]
    },
    {
     "data": {
      "image/png": "[encoded data removed]",
      "text/plain": [
       "<Figure size 432x216 with 2 Axes>"
      ]
     },
     "metadata": {},
     "output_type": "display_data"
    },
    {
     "name": "stdout",
     "output_type": "stream",
     "text": [
      "30.4847421086\n"
     ]
    },
    {
     "data": {
      "image/png": "[encoded data removed]",
      "text/plain": [
       "<Figure size 432x216 with 2 Axes>"
      ]
     },
     "metadata": {},
     "output_type": "display_data"
    },
    {
     "name": "stdout",
     "output_type": "stream",
     "text": [
      "22.0207488988\n"
     ]
    },
    {
     "data": {
      "image/png": "[encoded data removed]",
      "text/plain": [
       "<Figure size 432x216 with 2 Axes>"
      ]
     },
     "metadata": {},
     "output_type": "display_data"
    }
   ],
   "source": [
    "countcut=0.9\n",
    "lim=1.5\n",
    "bins=np.linspace(-lim, lim, 30)\n",
    "\n",
    "#for i in range(len(feed_pc)):\n",
    "for i in range(50):   \n",
    "\n",
    "    M = np.sqrt(ot.dist(feed_pc[i],reconstructions[i]))\n",
    "    truecost = ot.emd2(np.ones(1000),np.ones(1000),M)/1000*500\n",
    "\n",
    "    print truecost\n",
    "    \n",
    "    fig, ax = plt.subplots(1, 2,figsize=[6,3])\n",
    "    counts, bx, by = np.histogram2d(feed_pc[i][:,0],feed_pc[i][:,1],bins=bins)\n",
    "    ax[0].imshow(counts.T , norm=LogNorm(countcut, 1000), origin='lower',cmap='Oranges')\n",
    "    #ax[0].hist2d(feed_pc[i][:,0],feed_pc[i][:,1],range=[[-lim,lim],[-lim,lim]],bins=bins, norm=LogNorm(0.5, 1000))\n",
    "    counts, bx, by = np.histogram2d(reconstructions[i][:,0],reconstructions[i][:,1],bins=bins)\n",
    "    ax[1].imshow(counts.T, norm=LogNorm(countcut, 1000), origin='lower',cmap='Oranges')\n",
    "    plt.show()"
   ]
  },
  {
   "cell_type": "code",
   "execution_count": 105,
   "metadata": {},
   "outputs": [
    {
     "name": "stdout",
     "output_type": "stream",
     "text": [
      "[75.07462589 56.59483998 42.21813977 29.98111    17.60743652 29.26905909\n",
      " 44.23036638 53.78889053 22.61921665 38.94040913 11.0146198  58.48786779\n",
      " 35.10435213 44.75039082 17.64397472 41.23235729 12.16824136  7.42036687\n",
      " 30.34516555 39.58170748 40.88762488 20.45590575 16.7558164  17.43403559\n",
      " 19.83347945 23.14521052 39.10715683 51.91705182 43.43254131 37.39027438\n",
      " 17.95735649 92.67533288 15.50884697 24.08738266 42.56493747 80.18168389\n",
      " 34.37575292 67.37336177 67.9504303  60.89538383 55.73237276 86.31614223\n",
      " 31.48024747 83.45726199 66.72014241 16.2673117   9.21094226 19.93969679\n",
      " 36.58169053 26.42489868 24.59880662 48.06636576 50.30116624 28.14479361\n",
      " 69.66059955 18.40395326 28.08811332 28.32299312 11.0570396  64.34625717\n",
      " 22.95063903 18.55958876 22.99913801 29.17480983 37.2018918  16.75521239\n",
      " 51.61739273 42.60858388 60.27166046 25.36606832 55.87213338 60.04971272\n",
      " 14.98368623 17.67129109 17.08163441 26.67722976 36.18497717 37.07946846\n",
      " 43.08057645 36.57171829 49.53001533 13.66398629 27.97462342 59.46705654\n",
      " 47.6702977  63.26296251 49.27080523 44.23530523 22.28304867 44.84163437\n",
      " 61.3513845  22.03408509 55.61353401 44.14098217 10.95055356 22.98068739\n",
      " 42.54581478 43.63572026 40.69493707 79.63915112]\n",
      "16.0734450817\n",
      "38.43667497332868\n",
      "19.509840253436874\n"
     ]
    }
   ],
   "source": [
    "import time\n",
    "points1 = reconstructions[:100]\n",
    "points2 = feed_pc[:100]\n",
    "\n",
    "start = time.time()\n",
    "M = [np.sqrt(ot.dist(points1[i],points2[i])) for i in range(len(points1))]\n",
    "\n",
    "qcd_truecost = np.array([ot.emd2(np.ones(1000),np.ones(1000),Mat) for Mat in M])/1000*600\n",
    "print qcd_truecost\n",
    "print time.time()-start\n",
    "\n",
    "print np.average(qcd_truecost)\n",
    "print np.std(qcd_truecost)"
   ]
  },
  {
   "cell_type": "code",
   "execution_count": 106,
   "metadata": {},
   "outputs": [],
   "source": [
    "import pandas as pd\n",
    "numjets = 0\n",
    "numvalid = 10000\n",
    "outstore = pd.HDFStore(\"/data1/users/jcollins/Heidelberg_sample/train_points_top.h5\")\n",
    "topdata = outstore.select(\"points\",start=numjets,stop=numjets+numvalid).values\n",
    "topdata = topdata.reshape(numvalid,1000,2)\n",
    "top_pc_data = PointCloudDataSet(topdata,copy=False)\n",
    "gc.collect()\n",
    "\n",
    "\n",
    "numload = 1000\n",
    "top_feed_pc, feed_model_names, _ = top_pc_data.next_batch(numload )\n",
    "top_reconstructions = ae.reconstruct(top_feed_pc)[0]\n",
    "top_latent_codes = ae.transform(top_feed_pc)"
   ]
  },
  {
   "cell_type": "code",
   "execution_count": 107,
   "metadata": {
    "scrolled": false
   },
   "outputs": [
    {
     "name": "stdout",
     "output_type": "stream",
     "text": [
      "67.1590192909\n"
     ]
    },
    {
     "data": {
      "image/png": "[encoded data removed]",
      "text/plain": [
       "<Figure size 432x216 with 2 Axes>"
      ]
     },
     "metadata": {},
     "output_type": "display_data"
    },
    {
     "name": "stdout",
     "output_type": "stream",
     "text": [
      "32.9848128951\n"
     ]
    },
    {
     "data": {
      "image/png": "[encoded data removed]",
      "text/plain": [
       "<Figure size 432x216 with 2 Axes>"
      ]
     },
     "metadata": {},
     "output_type": "display_data"
    },
    {
     "name": "stdout",
     "output_type": "stream",
     "text": [
      "43.5306045562\n"
     ]
    },
    {
     "data": {
      "image/png": "[encoded data removed]",
      "text/plain": [
       "<Figure size 432x216 with 2 Axes>"
      ]
     },
     "metadata": {},
     "output_type": "display_data"
    },
    {
     "name": "stdout",
     "output_type": "stream",
     "text": [
      "96.9595536488\n"
     ]
    },
    {
     "data": {
      "image/png": "[encoded data removed]",
      "text/plain": [
       "<Figure size 432x216 with 2 Axes>"
      ]
     },
     "metadata": {},
     "output_type": "display_data"
    },
    {
     "name": "stdout",
     "output_type": "stream",
     "text": [
      "56.5107807271\n"
     ]
    },
    {
     "data": {
      "image/png": "[encoded data removed]",
      "text/plain": [
       "<Figure size 432x216 with 2 Axes>"
      ]
     },
     "metadata": {},
     "output_type": "display_data"
    },
    {
     "name": "stdout",
     "output_type": "stream",
     "text": [
      "31.1558567445\n"
     ]
    },
    {
     "data": {
      "image/png": "[encoded data removed]",
      "text/plain": [
       "<Figure size 432x216 with 2 Axes>"
      ]
     },
     "metadata": {},
     "output_type": "display_data"
    },
    {
     "name": "stdout",
     "output_type": "stream",
     "text": [
      "28.482677467\n"
     ]
    },
    {
     "data": {
      "image/png": "[encoded data removed]",
      "text/plain": [
       "<Figure size 432x216 with 2 Axes>"
      ]
     },
     "metadata": {},
     "output_type": "display_data"
    },
    {
     "name": "stdout",
     "output_type": "stream",
     "text": [
      "50.0595193685\n"
     ]
    },
    {
     "data": {
      "image/png": "[encoded data removed]",
      "text/plain": [
       "<Figure size 432x216 with 2 Axes>"
      ]
     },
     "metadata": {},
     "output_type": "display_data"
    },
    {
     "name": "stdout",
     "output_type": "stream",
     "text": [
      "111.557907183\n"
     ]
    },
    {
     "data": {
      "image/png": "[encoded data removed]",
      "text/plain": [
       "<Figure size 432x216 with 2 Axes>"
      ]
     },
     "metadata": {},
     "output_type": "display_data"
    },
    {
     "name": "stdout",
     "output_type": "stream",
     "text": [
      "86.6148343221\n"
     ]
    },
    {
     "data": {
      "image/png": "[encoded data removed]",
      "text/plain": [
       "<Figure size 432x216 with 2 Axes>"
      ]
     },
     "metadata": {},
     "output_type": "display_data"
    }
   ],
   "source": [
    "countcut=0.9\n",
    "lim=1.5\n",
    "bins=np.linspace(-lim, lim, 30)\n",
    "\n",
    "#for i in range(len(feed_pc)):\n",
    "for i in range(10):   \n",
    "\n",
    "    M = np.sqrt(ot.dist(top_feed_pc[i],top_reconstructions[i]))\n",
    "    truecost = ot.emd2(np.ones(1000),np.ones(1000),M)/1000*500\n",
    "\n",
    "    print truecost\n",
    "    \n",
    "    fig, ax = plt.subplots(1, 2,figsize=[6,3])\n",
    "    counts, bx, by = np.histogram2d(top_feed_pc[i][:,0],top_feed_pc[i][:,1],bins=bins)\n",
    "    ax[0].imshow(counts.T , norm=LogNorm(countcut, 1000), origin='lower',cmap='Oranges')\n",
    "    #ax[0].hist2d(feed_pc[i][:,0],feed_pc[i][:,1],range=[[-lim,lim],[-lim,lim]],bins=bins, norm=LogNorm(0.5, 1000))\n",
    "    counts, bx, by = np.histogram2d(top_reconstructions[i][:,0],top_reconstructions[i][:,1],bins=bins)\n",
    "    ax[1].imshow(counts.T, norm=LogNorm(countcut, 1000), origin='lower',cmap='Oranges')\n",
    "    plt.show()"
   ]
  },
  {
   "cell_type": "code",
   "execution_count": 108,
   "metadata": {},
   "outputs": [
    {
     "name": "stdout",
     "output_type": "stream",
     "text": [
      "##### Approx EMD #####\n",
      "[ 85.88746   45.76537   57.824436 127.84058   77.66613   44.46702\n",
      "  37.862076  70.76115  139.55957  116.11902 ]\n",
      "3.83007621765\n",
      "\n",
      " \n",
      " \n",
      " ##### True EMD #####\n",
      "1.67375588417\n",
      "[ 80.59082315  39.58177547  52.23672547 116.35146438  67.81293687\n",
      "  37.38702809  34.17921296  60.07142324 133.86948862 103.93780119]\n",
      "\n",
      " \n",
      " \n",
      " ##### Fractional difference #####\n",
      "[0.06572257 0.15622326 0.10696901 0.09874495 0.14529961 0.18937023\n",
      " 0.10775154 0.17795023 0.04250469 0.11719718]\n"
     ]
    }
   ],
   "source": [
    "import time\n",
    "from latent_3d_points.external.structural_losses import tf_approxmatch\n",
    "\n",
    "\n",
    "print \"##### Approx EMD #####\"\n",
    "nclouds = 1\n",
    "npoints = 1000\n",
    "ndim=2\n",
    "\n",
    "points1 = top_reconstructions[:10]\n",
    "points2 = top_feed_pc[:10]\n",
    "\n",
    "start = time.time()\n",
    "\n",
    "this = tf_approxmatch.approx_match(points1,points2)\n",
    "init_op = tf.initialize_all_variables()\n",
    "\n",
    "\n",
    "#run the graph\n",
    "with tf.Session() as sess:\n",
    "    sess.run(init_op) #execute init_op\n",
    "    #print the random values that we sample\n",
    "    transport = sess.run(this)\n",
    "    #print transport\n",
    "\n",
    "this_cost = tf_approxmatch.match_cost(points1,points2,transport)\n",
    "init_op = tf.initialize_all_variables()\n",
    "\n",
    "#run the graph\n",
    "with tf.Session() as sess:\n",
    "    sess.run(init_op) #execute init_op\n",
    "    #print the random values that we sample\n",
    "    cost = sess.run(this_cost)/1000*600\n",
    "    print np.array(cost)\n",
    "    \n",
    "print time.time()-start\n",
    "\n",
    "\n",
    "print \"\\n \\n \\n ##### True EMD #####\"\n",
    "start = time.time()\n",
    "M = [np.sqrt(ot.dist(points1[i],points2[i])) for i in range(len(points1))]\n",
    "\n",
    "truecost = np.array([ot.emd2(np.ones(1000),np.ones(1000),Mat) for Mat in M])/1000*600\n",
    "print time.time()-start\n",
    "print truecost\n",
    "\n",
    "print \"\\n \\n \\n ##### Fractional difference #####\"\n",
    "print (np.array(cost) - np.array(truecost))/np.array(truecost)"
   ]
  },
  {
   "cell_type": "code",
   "execution_count": 109,
   "metadata": {},
   "outputs": [
    {
     "name": "stdout",
     "output_type": "stream",
     "text": [
      "[ 75.07462589  56.59483998  42.21813977  29.98111     17.60743652\n",
      "  29.26905909  44.23036638  53.78889053  22.61921665  38.94040913\n",
      "  11.0146198   58.48786779  35.10435213  44.75039082  17.64397472\n",
      "  41.23235729  12.16824136   7.42036687  30.34516555  39.58170748\n",
      "  40.88762488  20.45590575  16.7558164   17.43403559  19.83347945\n",
      "  23.14521052  39.10715683  51.91705182  43.43254131  37.39027438\n",
      "  17.95735649  92.67533288  15.50884697  24.08738266  42.56493747\n",
      "  80.18168389  34.37575292  67.37336177  67.9504303   60.89538383\n",
      "  55.73237276  86.31614223  31.48024747  83.45726199  66.72014241\n",
      "  16.2673117    9.21094226  19.93969679  36.58169053  26.42489868\n",
      "  24.59880662  48.06636576  50.30116624  28.14479361  69.66059955\n",
      "  18.40395326  28.08811332  28.32299312  11.0570396   64.34625717\n",
      "  22.95063903  18.55958876  22.99913801  29.17480983  37.2018918\n",
      "  16.75521239  51.61739273  42.60858388  60.27166046  25.36606832\n",
      "  55.87213338  60.04971272  14.98368623  17.67129109  17.08163441\n",
      "  26.67722976  36.18497717  37.07946846  43.08057645  36.57171829\n",
      "  49.53001533  13.66398629  27.97462342  59.46705654  47.6702977\n",
      "  63.26296251  49.27080523  44.23530523  22.28304867  44.84163437\n",
      "  61.3513845   22.03408509  55.61353401  44.14098217  10.95055356\n",
      "  22.98068739  42.54581478  43.63572026  40.69493707  79.63915112\n",
      "  41.72781545  18.56916522  30.8958045   39.02115967  47.21097319\n",
      "  40.32864972  23.35090109  24.05117354  22.46620121  48.62582777\n",
      "  33.16558616  13.91447202  24.4855528   24.28479643  48.65224843\n",
      "  24.43238413   8.0282178   19.52371471  24.61709884  24.55601344\n",
      "  28.57794529  11.06515321  20.82372459  54.77990029  50.26898883\n",
      "  39.6309856   55.19786569  41.41886274  27.61426786  22.22010099\n",
      "  56.20686728  50.42855697  35.69930006  21.74825774  32.15308938\n",
      "  22.93792009  18.63486237  33.9324495    5.73107905  26.56896992\n",
      "  62.05631615  26.62035545  14.55803147  31.04111755  32.63616093\n",
      "  56.41945089  26.63656533  53.41208245  65.09584201  23.8416233\n",
      "  19.20102434  27.36410954  42.33787939  52.25135065  15.86819809\n",
      "  27.66301933  23.54974856  56.25412967  54.60996546  18.04446681\n",
      "  58.4434769   18.48750859  10.50410959  23.72552217  64.6687342\n",
      "  22.59096535  31.98244427  41.12208632  48.43455237  44.84030522\n",
      "   8.0581351   58.65008905  61.30744728 102.40266683  44.82518032\n",
      "  40.90178253  85.80754184  63.80510807  39.76969754  48.15790679\n",
      "  10.00028833  38.09306264  36.87164995  35.83771372  21.06873725\n",
      "  17.60205328  21.24652819  26.51815616  41.92841002  86.39491257\n",
      "  41.19325418  28.06252216  14.81715036  69.05937299  45.63901708\n",
      "  27.06654738  34.22483993  56.10735629  41.74957574  37.55847551\n",
      "  24.66219293  25.8617498   78.73288115  21.15053515  28.35674605\n",
      "  65.18756277  15.4330689   24.60049648  28.08815958   5.57215942\n",
      "  34.68659776  43.05930689  36.77407757  31.25135756  10.13444161\n",
      "  31.69277946  35.93725881  12.19718903  48.00551688  13.33200328\n",
      "  45.36138847  40.85384215  75.66951059  26.05193971   9.20922937\n",
      "  43.91835838  16.51052228  88.27081753  36.55098305  24.39376412\n",
      "  22.92255529  25.16234303  39.3671818   28.79988688  52.70147369\n",
      "  22.28143195  30.18547364  54.22057995  27.28833228   6.16640985\n",
      "  41.87879439  17.75529032  14.63491666  43.40599719  34.76050511\n",
      "  45.53866984  56.212357    34.307917    76.23420077  15.41169587\n",
      "  13.40873841  91.15916868  53.25021616  40.83967384  40.03643687\n",
      "  30.88359637  53.13331516  56.93738166  46.879873    29.46278445\n",
      "  54.33089553  30.01038554  15.25514279  35.36369164  60.57825752\n",
      "  30.61670366  39.28979596  38.03053237  46.00822145  47.46537664\n",
      "  30.63313947  91.36994126  26.53361087  50.19172785  11.25642931\n",
      "  22.97679064   9.67208218  17.43161798  21.67419731  17.55268984\n",
      "  17.8605979   21.91519517  20.48440812  16.06967284  51.5518483\n",
      "  20.59131345  42.97330374  29.59655516  12.37159386  44.92398333\n",
      "  23.4061555   11.03398516  48.96958352  26.56423363  34.96773409\n",
      "  15.1447392   30.4390101   53.36045603  46.89052482  41.54334621\n",
      "  50.95841353  16.65879435  24.95470189  71.70790845  22.79879368\n",
      "  69.12321637  17.65957454  47.76627791  40.9087495   38.56264877\n",
      "  46.73841838 113.72256189  45.10518096  30.10818025  22.50205814\n",
      "  52.46995303  52.97445844  19.89247376  13.44949881  28.58669323\n",
      "  27.0199189    7.58000854  29.24046715  16.49822746  37.16007107\n",
      "  17.09881329  20.71423656  41.67318804  32.93264522  49.65876349\n",
      "  31.07560841  18.90294665  28.69415292  19.98414521  10.46227785\n",
      "  63.62737454  16.297973    27.80710341  10.63975573  34.97638813\n",
      "  26.87441318  17.11998213  43.84447218  37.85689816  21.70386201\n",
      "  28.64186707   6.65053839  20.50749774  42.99090824  33.65124517\n",
      "  32.6629976   45.42559019  28.95300183  26.00725253  32.96101853\n",
      "  32.03923621  21.77748784  11.84778457  26.32482579  55.93157361\n",
      "  53.26339554  26.45461393  68.84866257  79.2029772   61.61072013\n",
      "  41.82846669  52.46494708  98.16675212  19.18511531  41.09778872\n",
      "  34.21380937  20.75580581  45.14579649  47.42426941  59.35918204\n",
      "  48.40272298  51.88788812  41.13351787  43.28607022  57.19396866\n",
      "  17.51691394  85.02263162  14.99892366  48.53227969  37.6277572\n",
      "   8.5912495   74.37031706  77.22088583  16.88075168  33.1883794\n",
      "  44.47756536  69.70487707  42.25140602  17.96655707  49.61115365\n",
      "  29.04434223  43.38781827  18.96373195  83.61514004  37.66217726\n",
      "  37.14843533  33.31193512  39.52115425  53.51736886  24.21839587\n",
      "  45.04658927  18.08989776  47.29001011  50.53872234  77.92929284\n",
      "  38.42371452  14.86809884  37.31024578  28.29977833  10.62698779\n",
      "  13.19933989  45.80544037  58.64257828  34.55563088  54.12947056\n",
      "  37.06187173  13.52272224  41.91241596   8.40199717  94.82459887\n",
      "  20.01877119  54.23509565  35.16390675  18.582987    67.64680306\n",
      "  42.27265628  48.1135369   50.18799901  24.77945512  22.81267469\n",
      "  24.60188442  75.12209121  26.88814533   9.31477902   5.92524804\n",
      "  32.3401082    7.10742529  29.82372504  64.39705235  23.86300717\n",
      "  85.69067721  37.70442487  49.79445016  13.24289191  54.72665264\n",
      "  57.34228019  44.57228216  62.49486566  16.29332671  53.58342947\n",
      "  52.66842201  27.03960991  72.3631889   11.1207893   53.0900323\n",
      "  28.97299061  34.65932535  32.23943603  35.59965197  24.8088386\n",
      "  14.44499166  30.37098266  13.77347781  34.57923127  32.82791758\n",
      "   8.14481413  27.7568704  105.93845774  45.13757282  17.27472157\n",
      "  30.23267045  41.33721089  36.90565756  30.64494713  48.34703951\n",
      "  23.44018508  12.89498587  17.06139372  53.97440771  22.09138731\n",
      "  40.71382364  55.97031382  27.96816571  26.77889396  68.5174113\n",
      "  14.01032817  25.44552028  17.28230348  27.29590394  64.71988245\n",
      "  57.15080663  37.07743109  45.40253631  30.40158221  23.36784152\n",
      "  47.34700261  15.59100704  35.08782862  70.39754276  59.0877696\n",
      "  51.68520832  65.49736652  18.48280942  36.25639905  76.13077472\n",
      "  75.31453742  61.60096899  63.64160815  38.74477574  54.67481356\n",
      "   9.97457937  44.79008076  32.02330415  65.76048368  22.14653888\n",
      "  14.68552023  53.2751552   67.72337729  13.22491363  21.32149989\n",
      "  68.60710091  33.3525511   26.22267196  30.49325028  70.55875514\n",
      "  24.21242367  42.86151129  28.35593855  21.73099718  57.88522166\n",
      "  23.11434501  47.74904854  41.73788476  25.01540821  55.15621979\n",
      "  12.65603318  38.49020969  45.18713841  27.03331935  15.85265382\n",
      "  39.31702421  30.76125144   8.29250107  29.50319476  41.53278627\n",
      "  74.95800478  40.98565543  43.82796326  65.44210164  59.84292329\n",
      "  60.9843792   49.47701288  17.36039778  51.82339452  59.16198309\n",
      "  28.95855799  31.2474038   27.300108    38.5190367   23.96168424\n",
      "  19.79797659  20.92323194  20.86946895  36.49306391  17.08727006\n",
      "  31.98004028  32.05679907  22.04923781  30.89910646  21.24541451\n",
      "  52.19082315  66.45983645  20.40942232  68.69340687  86.2326005\n",
      "  31.56523647  32.91074097  66.45980295  31.08319952  16.87209784\n",
      "  30.35514639  63.75438552  59.02613595  40.19788448  20.80647703\n",
      "  53.95670891  61.65254492  40.26420592  28.4565143   14.88730427\n",
      "  47.31243674  55.39531079  20.46412095  23.19040867  19.89178415\n",
      "  14.76679595  45.11054929  36.06671269  41.884694    61.0421825\n",
      "  48.07891066  46.61416974  21.34223613  22.36726213  25.82699147\n",
      "  24.846268    60.79194737  35.76968381  34.19436973  41.93815578\n",
      "  61.78437908  11.8200655   83.83224081  32.45072368  19.62396742\n",
      "  41.53574921  27.00493623  63.23725245  16.07832118  43.6016159\n",
      "  43.65654275  23.11678907  19.03377117  11.95377358  15.59736612\n",
      "  26.17410446  29.99042696  58.52256361  35.38862926  34.95186171\n",
      "  33.90679418  17.04351179  37.66170973  16.35083562  75.73738431\n",
      "  60.26955433  32.99783412  62.40654599  82.93735407  16.60680722\n",
      "  16.48824297  57.64067933  41.61991558  34.19871575  22.30454308\n",
      "  62.78434775  18.4778687   51.55299798  55.7314082   38.47867863\n",
      "   8.65268723  40.3391371   27.43474546  30.95902936  33.9148358\n",
      "  55.33258488  20.016466    34.38105267  15.71063769  28.85379699\n",
      "  24.33654072  32.48970661  61.66629808  28.11870856  46.32363934\n",
      "   7.4710354   51.85793895  52.32371139  13.40044994  35.39178931\n",
      "  58.2580868   32.46851846  29.78799399  41.48434957  34.51759183\n",
      "  30.19854297  15.31243044  54.88693321  31.69241288  52.69617451\n",
      "  19.76138999 104.04266213  49.10495744  42.26637642  31.72069111\n",
      "  51.81206026  12.60548397  25.87156674  52.88293988  47.47375861\n",
      "  10.49848561  50.98205071  46.41144807  25.10290248  24.65252837\n",
      "  56.15202176  22.57296808  25.38901159  50.13482713  38.79016661\n",
      "  47.36101532  31.8651192   42.86437309  64.04219354  35.56422407\n",
      "  24.69902534  20.54564596  39.64318027   4.23592365  51.16113359\n",
      "  33.91743533  37.24423788  30.79770002  12.93426359  18.06265006\n",
      "  63.00384318  61.24630204   8.08641916  23.09024148  74.08700253\n",
      "  23.8114539   29.82750798  24.83963653  27.82559653  39.69250318\n",
      "  49.25876966  28.45746367  44.83844513  21.23825581  30.46428268\n",
      "  25.79278546  28.00535684  57.74443603  34.79458429  65.26065469\n",
      "  24.22046295  13.04505964  74.73100002  73.2376531   26.76902503\n",
      "  18.16593554  26.67694047  22.26397162  17.37443165  51.26007807\n",
      "  22.3984717   56.19002875  47.756173    38.59015571  30.70248378\n",
      "  68.23534516   3.92899259  33.22475682  13.49828517  56.15097631\n",
      "  61.93991116  21.29553957  86.2739503   13.20306599  66.35523487\n",
      "  32.08724629  23.83380477  39.88645669  69.0249112   61.97746081\n",
      "  37.67390094  16.83439814  29.61530764  17.68197197  43.22871201\n",
      "  67.51427258  43.86299995  44.60783654   7.8378337   30.85113069\n",
      "  43.06295178  66.37856669  17.61906809  52.74493718  31.89329129\n",
      "  10.82699032  28.02745863  26.60451516  70.51699139  37.80487112\n",
      "   8.07295679  67.42209065  19.57993831  19.69618155  54.42453148\n",
      "  29.66404779  56.63826606  46.8748487   20.78287432  16.05655152\n",
      "  21.56675516  25.09035094  62.16255975  16.30181891  19.70219944\n",
      "  40.7944044   45.56286703  33.0039642   34.26863617  43.46991985\n",
      "  17.85833913  61.07954439  21.23388909  37.79724649  31.49307019\n",
      "  22.1110074   60.56946141  34.59988354  12.37649059  39.42226813\n",
      "  32.72071513  87.77257855  52.419192    22.69083393  25.5106008\n",
      "  58.33887832  54.93439923  53.51680652  20.03172425  31.84853169\n",
      "  42.76010174  29.55533255  25.42517949  51.46332315  37.55706631\n",
      "  19.62597562  39.20152836  11.57333272  35.66007732   9.54459973\n",
      "  55.18199076  45.26838536  25.50509063  43.66760939  31.43156946\n",
      "  44.3618358   47.88431221  11.21029854  27.33705609  54.96328432\n",
      "  32.15191604  42.68237851  96.6212367   21.31180797  49.64211388\n",
      "  58.10625345  19.47053861  40.98744361  15.7701882   41.41631496\n",
      "  45.87322347  23.77452729  60.17650778  29.93344963  25.36520123\n",
      "  37.05631162  22.95593624  47.59110856  33.60740698  30.96377249\n",
      "  34.83208604  35.07937793  65.04841078  24.08310684  76.81114576\n",
      "  13.54221678  46.17121633  13.54659417  30.10409112  26.89134869\n",
      "  35.34370223  27.49401234  20.83418465  61.10836428  18.9883923\n",
      "  19.23380351  27.03915614  19.7728189   71.76480722  45.91478479\n",
      "  41.37083459  22.72654897  56.29382422  43.08432648  18.51350526\n",
      "  18.58943398  24.70796028  16.88172342  40.80888187  10.62795411\n",
      "  39.67985974  15.35278179  40.68536524  16.8927542   61.86622961\n",
      "  34.0361672   23.69248149  34.15980549  27.73688931  23.22429051\n",
      "  28.30719443  16.33415878  44.80829218  29.23628407  24.07808665\n",
      "  53.5410831   25.33317806  25.5094315   10.20477355  26.19457064\n",
      "  11.98185048  27.74323845  47.85735855  21.68816774  43.48945319\n",
      "  36.98599976  26.15569983  22.17462613  10.9131756   34.63762816\n",
      "  15.71038278  27.17277443  30.02276492  20.10466566  51.71619929\n",
      "  50.94646122  32.14784588  36.20810558  35.92303895  16.39961583\n",
      "  33.378717    18.66810713  16.91658914  29.62010435  94.98117533\n",
      "  10.61063422  20.13742145  47.79439671  22.67557936  51.4631951\n",
      "  53.17429221  41.97403735  51.66026671  33.1023524   10.95602146\n",
      "  24.75846095  45.18593969  49.55239689  34.04025841  42.58835703\n",
      "  40.75208051  29.82147869  15.65893254  46.20950252  49.34467823\n",
      "  71.42082038  49.3899446   12.45984215  22.85953451  43.11383934\n",
      "  50.71827283  12.43806656  87.05598855  32.60385821  55.72811165\n",
      "  20.72864758  20.02005056  36.62094253  25.33334968  18.60676021\n",
      "  65.72652379  63.45414928  70.35970733  25.56929555  44.99617057\n",
      "  24.49121323  21.59807223  30.82814807  43.27868884  25.36273402\n",
      "  23.53627532  34.42958085  45.15589622  40.87453267  36.82735137\n",
      "  13.91418624  26.99578901  40.92273814  43.98301417  19.66459589]\n",
      "162.934448957\n",
      "36.8541667254848\n",
      "18.701666525610328\n"
     ]
    },
    {
     "name": "stdout",
     "output_type": "stream",
     "text": [
      "[ 80.59082315  39.58177547  52.23672547 116.35146438  67.81293687\n",
      "  37.38702809  34.17921296  60.07142324 133.86948862 103.93780119\n",
      "  62.01026564  73.49715593  53.96829432  49.11399169  49.89957878\n",
      "  64.34541473  64.11943537  64.45984485  60.33892626  58.95238363\n",
      "  75.36776392  65.85201998  41.37665215  64.24517156  88.85586262\n",
      "  77.76082408  56.83132698  97.69397598  77.19346311  72.65693647\n",
      "  55.94546356 127.19154642  70.74041979  57.55997759  47.08260976\n",
      "  74.42275471  59.19544244  72.54801334 115.12985161  55.8889974\n",
      "  51.35890498  52.33906969  81.60037862  94.94452496  66.52158567\n",
      "  34.48066381  53.27900728  53.72140808  46.16394525  46.96410383\n",
      "  75.45240992  45.30231187  78.99344902  76.31675518  72.3091096\n",
      "  93.54647164  56.11302072  46.23586556  54.0249273   64.23281609\n",
      "  60.6494446   55.75252769  63.99031554  67.59850251  46.76216406\n",
      "  42.16104063  63.48464633  60.99538708  48.13322728  43.36716451\n",
      "  48.24410823  57.42884523  52.27953389  54.28778835  72.62123582\n",
      "  55.06353362  59.92139846  60.56918286  57.4448647   52.12808167\n",
      "  47.45943327  72.64867611  49.65958295  63.3824215   72.41459309\n",
      "  79.05618833  98.5279781   45.92173155  92.82896317  62.87130709\n",
      "  45.658214    51.86056666  68.00277282  48.54643078 114.41160026\n",
      "  51.41448292  56.22475198  49.97313348  87.12093717  77.5473568\n",
      "  78.2942872   80.84878435  47.38010855  58.74823886  40.9750969\n",
      "  98.71568559  54.16620828  97.58915353  67.88586673  76.27039371\n",
      "  43.36037782  49.53009659  54.48332724  53.99144511  71.98932449\n",
      "  65.29704156  65.0942406   64.37119453  76.83372412  67.12714548\n",
      "  69.78213365  65.77293296  40.52811252 102.7030189   61.89872074\n",
      "  91.06648706  84.54873036  54.83395673 107.6899394   50.98372654\n",
      "  89.31830179  47.65684583  69.14911599  75.89362251  79.77512999\n",
      "  31.75122364  54.06425217  66.3414061   55.58593367  90.16830098\n",
      "  58.88534122  94.49187849  44.93543059 126.7915787   55.9433522\n",
      "  56.75027139 115.51493961  53.5739538   51.73861155  64.40417247\n",
      "  55.39339182 104.2216719   58.19901249  41.86111558  78.38315165\n",
      "  56.63337268  67.87591455  64.42592734  85.17865336  45.27993223\n",
      "  64.2344014   94.12704434  75.16813225  59.48692114  70.44160624\n",
      "  52.04692771  63.94184029 108.97339918 117.9142266   79.21245316\n",
      "  61.44525075  55.57466665  59.13457567  47.81387954  56.91526475\n",
      "  84.02867045  66.46919019  92.33348078  63.23232543  49.85085729\n",
      "  89.78776103  61.47928762  35.86759359  72.61981459  38.93722917\n",
      "  45.69164629 119.93183989  72.64137752  68.0710672   34.22638459\n",
      "  89.56839207  67.73205074  50.62548267  60.53447423  53.50243525\n",
      "  47.17358968  53.74307008  83.67421287  62.78774789  54.10084461\n",
      "  46.36541159  51.74191413 104.58075722  78.24953551  84.69568253\n",
      "  71.21337661  44.54451763  44.5932271   91.66996605  66.92148618\n",
      " 133.35734971  87.29261797  60.76789688  54.07688095  59.52599827\n",
      "  41.85827425  84.4923894   62.1782273   74.11009467  34.37670966\n",
      "  61.2657633   56.88232329  66.89289113  72.44728446  92.45170928\n",
      "  32.20828763  66.76440497  49.95624555  43.61009726  46.60824904\n",
      "  63.99866311  47.04330198  60.10961724  84.38110468 100.47844717\n",
      " 106.6693121   80.2790041   51.19563812  65.86284669  65.21723998\n",
      "  50.37185754  55.05805697  55.71966125  66.8857723   90.97981943\n",
      "  86.81775292  55.06524212  52.15752072  40.31460338  74.11739548\n",
      "  60.69964229  60.9426835   84.02877845  71.13011162  51.87306812\n",
      "  48.78360568  41.83005608  49.59462398  99.2632857   47.78607307\n",
      "  65.58973262  71.71680548  85.17487069  42.25646301  66.64631059\n",
      "  64.49307239  45.31409586  50.39497656  56.57613584  68.55429132\n",
      "  50.62941489 107.29504285  53.66319051  74.70788868  44.70383517\n",
      "  60.52625183  62.48861408  87.9785775   54.78028009  65.22404211\n",
      "  56.77480458  49.97533198  46.72815137  57.84684386  39.00110569\n",
      "  50.75261391  75.37162354  58.40919424  89.25394249  65.21587697\n",
      "  56.38742699  44.54550305  73.15538146  66.34661983  50.14576344\n",
      "  59.49979105  98.77979968  84.49746541  67.97539781  80.66713628\n",
      "  62.36511166  47.78898959  46.51696109  61.81805251  49.50299259\n",
      "  42.62499415  53.11816352  66.79146978  69.04496749  61.51663086\n",
      "  55.42991403  55.89151382  59.23811505  68.00086399  53.64824744\n",
      "  75.1437887   84.28792473  53.66480338  74.240182    71.54526226\n",
      "  41.78962157  70.70350608  63.53151785  59.92474755  81.62849272\n",
      "  95.73802038  75.67330501  45.33038966  46.94101776  66.02746113\n",
      " 112.48655458  45.0834541   64.28490976  63.65838724  73.21831572\n",
      "  55.54437587  51.30200981  44.24368289  30.10796159  58.25618803\n",
      "  56.4661478   83.81311778  74.99641156  75.02526189  50.20343097\n",
      "  50.94279901  71.67778455  46.0072708   57.58562765  36.78596783\n",
      "  75.32989628  42.99053272  41.99670741  47.17223737  89.52664345\n",
      " 103.61748299  65.01116294  46.3327927   47.5585496   82.03846716\n",
      "  83.28170213  83.18585827  48.52516523  67.9347435   42.42487123\n",
      "  37.70561895  65.81871661  84.19810572  63.06013551  41.89386347\n",
      "  56.85275496  49.40234597  65.10387027  65.73679757 103.45620728\n",
      "  49.87427087  58.31366245  64.00184499  80.35625239  86.81295451\n",
      "  88.79087411  70.30405249  49.42666688  80.15055392  55.38520724\n",
      "  45.59340935  51.21526525  67.33892777 101.07050417  82.72852109\n",
      " 137.96196788  85.42791609  46.18690221  87.70030575  37.00110405\n",
      "  62.25000275  81.71331577  58.33722596 118.59973002  92.75581101\n",
      "  41.49159406  66.83196003  83.09751943  58.72240055  47.91553439\n",
      " 132.97093939  79.59274756  63.03502365 135.2691745   51.80100189\n",
      " 109.98458867  97.85094541  68.82804869  57.41268271  57.22840684\n",
      "  37.08445358  32.60501802  82.49409991  50.46372806 103.35420705\n",
      " 145.66475621  43.72610442  79.59535939  61.80147789  60.76761691\n",
      "  71.81395754  61.4703986   50.03179796  46.79014799  57.56602934\n",
      "  51.34217245  58.38918378  29.21697488  67.74374438  69.97697649\n",
      "  35.15877108  63.34917627  60.70203091  57.24126458  37.62665714\n",
      "  87.76173825  83.92664553  88.97093308  54.36269161  88.82638055\n",
      "  80.34411471  75.54254782  71.85237662 106.27116007  86.80344974\n",
      " 134.32868984  88.81073582  66.45341083  64.92077284  69.02558884\n",
      "  75.73946298  61.39129445  42.67095392  54.22529543  38.23369736\n",
      "  51.89429731  57.57467888  46.13440071  70.6253241   38.49548956\n",
      "  51.53516968  49.06956357  63.47108594  71.37247676  43.20592307\n",
      "  57.68744772  52.24934311  57.01145762  45.45620342  85.65065867\n",
      " 149.38174515  67.80277937 120.88757481  38.92495992  62.52459894\n",
      "  82.10003603  67.62316485  44.49444681  52.59481346  54.85952625\n",
      "  32.66532958  61.2215953   41.83488467  63.47834936  50.86772621\n",
      "  59.10106093  42.89489108  75.19317768 114.45623048  44.02183506\n",
      " 100.85369799  86.16358102  64.53694463  74.75784886 187.51624747\n",
      "  53.52722224  61.42584499  72.40174851  54.5875712   58.35639815\n",
      "  42.11129962  31.64829029  66.56890497  44.54556891  68.54851137\n",
      "  68.24495232 105.16188158  93.67415318  56.41194501  48.49266279\n",
      "  35.74396576  50.90459636  53.51931324 109.89163551  51.20983229\n",
      "  61.52197054  48.38123594  36.95733389  50.6660054   58.78293042\n",
      "  55.68355315  33.67115483  64.86965416 110.07017921  82.22377272\n",
      "  50.89293659  23.58193687  69.84084692  55.14332596  87.10270113\n",
      " 114.19262108  63.07066712  93.15646258  76.61785     53.76114862\n",
      "  53.63637826  43.16744125 132.82937293 101.09614352  89.08704033\n",
      "  81.18557207  53.38738316  44.13330379  80.32218446  37.08466677\n",
      "  72.07396586  60.22674249 107.39839205  88.05094978  40.64558266\n",
      "  60.87539301  57.87981385  44.28235336  54.86433136  55.45680033\n",
      "  61.38512349  32.77812507  36.55115111  39.28773303  55.08223768\n",
      "  68.9406769   62.08538779  61.91887118  80.25795093  36.74645047\n",
      "  52.1352097   45.83779562  73.65068321  99.42574722  72.00493558\n",
      "  57.58141298  57.20771274 105.6255292   30.15688815  70.98539461\n",
      "  95.0057497   60.02720916  47.94858052 101.69388523  54.94612949\n",
      "  80.79481009 144.26129981  67.2397512  108.06033043  57.49485259\n",
      "  97.25458315  39.86918981  52.06314365  45.666415    59.73985384\n",
      "  78.39970836  62.12003971  84.97205366  57.20223019  32.93542665\n",
      "  50.28743364  76.16300079  49.92437486  59.64127662  36.56369574\n",
      "  79.50774875  73.96238756 105.06054019  50.28036697  50.48703629\n",
      "  46.72898494  33.67373691  41.09463095  75.2632341   82.50285841\n",
      " 101.66420756  41.6097129   75.14888103  68.3233262   47.80138595\n",
      "  35.51443497  80.44671394  47.75200333  55.66953568  98.96149842\n",
      "  40.30473187  72.94765368  53.94648429  50.71635396  58.01689572\n",
      "  73.11674495  92.59357049  67.72906298  62.9911842   71.9250783\n",
      "  87.24659636  43.90600737  45.19412049  43.8331772   68.85759048\n",
      "  58.69353622  82.72134303  62.04208884  42.64234457  62.28012266\n",
      "  42.41334568  98.33174174  58.65769356  51.77706898  74.32270233\n",
      "  35.09220173  61.29053611  40.32797572  65.81250401  62.38223723\n",
      "  40.71616216  33.13393804  84.68937202  38.2425204  157.82677365\n",
      "  49.37750783  79.62474187  31.92433487  56.432109    45.60427142\n",
      "  46.70787372 110.26724051  54.77658312  57.18324807  90.76999371\n",
      "  66.88459028  55.57681865  46.00359113  61.66547642  95.05419807\n",
      "  73.24516645  72.35407027 132.87561728  59.00274459  66.17070036\n",
      " 116.98446101 127.96219045  59.13477408  79.97442409  40.26747083\n",
      "  96.9770753   68.03805715  41.8000071   49.34164149  60.95027355\n",
      "  78.58702794  83.75421243  51.05741504  96.25511294  49.27742316\n",
      " 107.97093467  59.76803228  33.79385963  37.27926288  57.12821895\n",
      " 114.85632727  95.43974848 102.70786926  42.53008708  76.13844771\n",
      "  39.47668776  51.48754295  97.45808897  76.71519614  50.20424411\n",
      "  78.06678256  88.83344124  32.81617857  52.60624894  40.03639008\n",
      "  63.15235017  99.70198727  85.19335766  74.82523127  60.64941738\n",
      "  50.96410747  57.55316074  54.7825086   68.33177109  51.00146193\n",
      "  49.13600635  45.55078886  48.89534436  49.31810276  64.24247875\n",
      "  70.95884751  49.76068364  46.99809777  92.35165719  56.56479695\n",
      "  51.39766894  42.90489293 105.26489151  57.19978566 109.81128566\n",
      "  54.14542243  86.70623215  46.68019096  41.86954573  36.71076314\n",
      "  68.25875634  86.49280594  34.29397452 104.96416799 100.78680518\n",
      "  42.48627104  37.16305134  69.84053578  43.61181306  62.48363733\n",
      "  35.59375135  52.34885006  76.92297373  59.6547584   60.09599807\n",
      "  30.56395136  41.41172393  84.40274922  43.97430488  57.92245003\n",
      "  64.10689577  49.89821392  92.31415101  81.27768195  63.22312812\n",
      "  61.88399189  94.48818495  57.7620184   96.74333065 107.4677595\n",
      "  67.83483104  63.44311662  46.8514481   86.47646516  35.87842862\n",
      "  54.43531837  63.73862004  49.78687634  34.69253585  47.48663942\n",
      "  55.8264635   40.45585271  61.40825987  54.5739511   65.59080415\n",
      "  48.70113428  75.82516984 140.26029866  71.33086446  69.10141271\n",
      "  44.06717987  70.77026412  75.0570009   53.04675013  44.30974252\n",
      "  48.58525418  88.79889094  60.02884313  63.09577849  75.16581362\n",
      "  56.20140717  72.02494766  58.74258664  68.79451669  49.96080156\n",
      "  61.65571841  63.44910297  43.91894063 125.19731337  48.86050696\n",
      "  70.85460657  41.51631783  86.39631398  68.0197266   59.06107558\n",
      "  73.20926412  47.22865671  67.69756791  52.97534648  44.44090889\n",
      "  63.25038719  68.43588918  41.79269785  54.06256518  59.32827356\n",
      "  39.77935067  63.42424573  80.3957316   51.37942885 119.02075474\n",
      "  39.73848961  73.61453146  71.64268881  58.52653829  64.65201357\n",
      " 116.91766338 104.61211775  51.67134711  49.54536949 133.97187165\n",
      " 106.73898184  42.42546259  73.67377039  52.28821422  55.95717938\n",
      "  88.2051977   46.18960255  60.47099241  52.01280041 103.51762459\n",
      "  75.38457172  36.81589495  40.22303603  90.97684739  82.58052483\n",
      "  92.16879308  39.50267544  40.65540293  60.62050234  83.18449809\n",
      "  56.42336377  45.44596805  76.49222261  67.86643179  79.56127626\n",
      "  48.63867861  34.25359137  82.75798784 142.01712464  50.80090197\n",
      "  34.62474004  74.04646574  69.47353629  56.08556428  42.98343813\n",
      " 100.98684279  81.38918525  61.96083702  65.45915068  79.83289218\n",
      "  84.35361076  77.00146684  65.09394821  92.51251533  45.09457978\n",
      "  46.95192518  36.76460591  58.54090782  42.37476147  50.86087856\n",
      "  64.60730532  81.99450421  53.16271578  89.71038471  66.93706964\n",
      "  73.9770998   81.42068161  50.33919447  56.90181174  62.95402529\n",
      "  64.16089442  49.51702962  64.37329025  67.61382685 135.5907598\n",
      "  75.62414691  72.11201775  57.74338663  81.85447863  62.37778848\n",
      "  72.96391427  67.10199313  88.12674258  44.31846019  39.36955023\n",
      "  53.10249381  54.83741165  47.76315586  62.51624507  76.81276881\n",
      "  77.3335532   43.63279052  44.01787442 110.60375615  79.33546819\n",
      "  47.53457882  49.77999259  55.07446687 108.80150944  77.62643957\n",
      "  44.86882139  32.77518349  77.6178903   88.52893277  55.67062406\n",
      "  43.10369072  66.71732834  92.00322787  81.82412024  36.07761802\n",
      "  44.19232989  46.84962656  48.00837146  82.60994453  56.64089393\n",
      "  43.29895554  53.60948222  73.52819157  53.12447393  48.46438289\n",
      "  78.48232847  71.72490285  46.84745842  48.69151382  75.01907276\n",
      "  67.77418981  59.4981871   43.43225413 103.27395051  41.68360098\n",
      "  80.21834822  91.35537101  88.83144157  47.41151469  55.51032794\n",
      "  76.99179484  49.80180327 122.3892566   64.49043294  81.19978158\n",
      "  55.63543585  68.60183452 118.83256113  61.30045152  50.99405722\n",
      "  42.27706025  53.3705329   66.48234792 117.95894867  53.19927297\n",
      "  47.44458684  62.67176525  59.49035596  99.99403491  29.98236864\n",
      "  53.11464344  50.95756885  40.17676535  63.66881749  61.80182078\n",
      "  70.93685237  48.03528559  54.48018442  60.16109991  72.10593101]\n",
      "162.325098991\n",
      "65.6196890009331\n",
      "21.915922654578914\n"
     ]
    }
   ],
   "source": [
    "import time\n",
    "points1 = reconstructions[:1000]\n",
    "points2 = feed_pc[:1000]\n",
    "\n",
    "start = time.time()\n",
    "M = [np.sqrt(ot.dist(points1[i],points2[i])) for i in range(len(points1))]\n",
    "\n",
    "qcd_truecost = np.array([ot.emd2(np.ones(1000),np.ones(1000),Mat) for Mat in M])/1000*600\n",
    "print qcd_truecost\n",
    "print time.time()-start\n",
    "\n",
    "print np.average(qcd_truecost)\n",
    "print np.std(qcd_truecost)\n",
    "\n",
    "import time\n",
    "points1 = top_reconstructions[:1000]\n",
    "points2 = top_feed_pc[:1000]\n",
    "\n",
    "start = time.time()\n",
    "M = [np.sqrt(ot.dist(points1[i],points2[i])) for i in range(len(points1))]\n",
    "\n",
    "top_truecost = np.array([ot.emd2(np.ones(1000),np.ones(1000),Mat) for Mat in M])/1000*600\n",
    "print top_truecost\n",
    "print time.time()-start\n",
    "\n",
    "print np.average(top_truecost)\n",
    "print np.std(top_truecost)"
   ]
  },
  {
   "cell_type": "code",
   "execution_count": 110,
   "metadata": {},
   "outputs": [
    {
     "name": "stderr",
     "output_type": "stream",
     "text": [
      "/usr/local/lib/python2.7/dist-packages/ipykernel_launcher.py:7: RuntimeWarning: divide by zero encountered in divide\n",
      "  import sys\n"
     ]
    },
    {
     "data": {
      "image/png": "[encoded data removed]",
      "text/plain": [
       "<Figure size 432x288 with 1 Axes>"
      ]
     },
     "metadata": {},
     "output_type": "display_data"
    }
   ],
   "source": [
    "from sklearn.metrics import roc_curve\n",
    "\n",
    "y_true = np.append(np.zeros(len(qcd_truecost)),np.ones(len(top_truecost)))\n",
    "y_score = np.append(qcd_truecost, top_truecost)\n",
    "my_roc = roc_curve(y_true, y_score, pos_label=None, sample_weight=None, drop_intermediate=True)\n",
    "\n",
    "plt.plot(my_roc[1],np.nan_to_num(1/my_roc[0]))\n",
    "plt.ylim([1,10**2])\n",
    "plt.semilogy()\n",
    "plt.show()"
   ]
  },
  {
   "cell_type": "code",
   "execution_count": 110,
   "metadata": {},
   "outputs": [
    {
     "name": "stderr",
     "output_type": "stream",
     "text": [
      "/usr/local/lib/python2.7/dist-packages/ipykernel_launcher.py:10: RuntimeWarning: divide by zero encountered in divide\n",
      "  # Remove the CWD from sys.path while we load stuff.\n"
     ]
    },
    {
     "data": {
      "image/png": "[encoded data removed]",
      "text/plain": [
       "<Figure size 432x288 with 1 Axes>"
      ]
     },
     "metadata": {},
     "output_type": "display_data"
    }
   ],
   "source": [
    "\n",
    "\n",
    "\n",
    "from sklearn.metrics import roc_curve\n",
    "\n",
    "y_true = np.append(np.zeros(len(qcd_truecost)),np.ones(len(top_truecost)))\n",
    "y_score = np.append(qcd_truecost, top_truecost)\n",
    "my_roc = roc_curve(y_true, y_score, pos_label=None, sample_weight=None, drop_intermediate=True)\n",
    "\n",
    "plt.plot(my_roc[1],np.nan_to_num(1/my_roc[0]))\n",
    "plt.ylim([1,10**2])\n",
    "plt.semilogy()\n",
    "plt.show()"
   ]
  },
  {
   "cell_type": "code",
   "execution_count": 46,
   "metadata": {},
   "outputs": [],
   "source": [
    "import time\n",
    "numload = 1000\n",
    "feed_pc, feed_model_names, _ = valid_pc_data.next_batch(numload )\n",
    "reconstructions = ae.reconstruct(feed_pc)[0]\n",
    "latent_codes = ae.transform(feed_pc)\n",
    "points1 = reconstructions[:1000]\n",
    "#points1 = feed_pc[:1000]\n",
    "latent_codes = ae.transform(feed_pc[:1000])"
   ]
  },
  {
   "cell_type": "code",
   "execution_count": 58,
   "metadata": {},
   "outputs": [
    {
     "data": {
      "image/png": "[encoded data removed]",
      "text/plain": [
       "<Figure size 864x432 with 2 Axes>"
      ]
     },
     "metadata": {},
     "output_type": "display_data"
    }
   ],
   "source": [
    "plt.figure(figsize=[12,6])\n",
    "plt.subplot(1,2,1)\n",
    "plt.scatter(jet_masses(reconstructions[:1000]),latent_codes,s=0.5)\n",
    "plt.xlabel('Jet mass of decoded image [GeV]')\n",
    "plt.ylabel('Latent code')\n",
    "plt.subplot(1,2,2)\n",
    "plt.scatter(jet_masses(feed_pc[:1000]),latent_codes,s=0.5)\n",
    "plt.xlabel('Jet mass of original image [GeV]')\n",
    "plt.ylabel('Latent code')\n",
    "plt.show()"
   ]
  },
  {
   "cell_type": "code",
   "execution_count": null,
   "metadata": {},
   "outputs": [],
   "source": [
    "plt.figure(figsize=[10,10])\n",
    "plt.scatter(jet_masses(reconstructions[:1000]),latent_codes,s=0.5)\n",
    "plt.xlabel('Jet mass of decoded image [GeV]')\n",
    "plt.ylabel('Latent code')\n",
    "plt.show()"
   ]
  },
  {
   "cell_type": "code",
   "execution_count": 63,
   "metadata": {},
   "outputs": [
    {
     "data": {
      "text/plain": [
       "array([[0.00000000e+00],\n",
       "       [0.00000000e+00],\n",
       "       [5.81276476e-01],\n",
       "       [1.26240134e+00],\n",
       "       [3.47610474e-01],\n",
       "       [1.75073600e+00],\n",
       "       [1.39840186e-01],\n",
       "       [1.92238939e+00],\n",
       "       [3.10518295e-01],\n",
       "       [1.17008245e+00],\n",
       "       [3.96468550e-01],\n",
       "       [7.54160583e-02],\n",
       "       [4.76377696e-01],\n",
       "       [0.00000000e+00],\n",
       "       [2.68678188e-01],\n",
       "       [6.89374804e-01],\n",
       "       [0.00000000e+00],\n",
       "       [8.80986333e-01],\n",
       "       [0.00000000e+00],\n",
       "       [1.44568950e-01],\n",
       "       [2.33953893e-01],\n",
       "       [3.62116545e-01],\n",
       "       [0.00000000e+00],\n",
       "       [7.80828893e-02],\n",
       "       [1.66362613e-01],\n",
       "       [2.27818418e+00],\n",
       "       [2.96546161e-01],\n",
       "       [0.00000000e+00],\n",
       "       [2.14791155e+00],\n",
       "       [9.05103624e-01],\n",
       "       [0.00000000e+00],\n",
       "       [1.44773412e+00],\n",
       "       [1.10544348e+00],\n",
       "       [6.39003396e-01],\n",
       "       [2.02482671e-01],\n",
       "       [0.00000000e+00],\n",
       "       [8.25659990e-01],\n",
       "       [7.49899149e-01],\n",
       "       [8.32780004e-01],\n",
       "       [1.34153813e-01],\n",
       "       [8.90361369e-01],\n",
       "       [5.57683110e-02],\n",
       "       [5.33578575e-01],\n",
       "       [1.07533646e+00],\n",
       "       [4.20880318e-03],\n",
       "       [1.06929123e+00],\n",
       "       [1.92124224e+00],\n",
       "       [3.85040462e-01],\n",
       "       [1.01076722e+00],\n",
       "       [3.44540715e-01],\n",
       "       [0.00000000e+00],\n",
       "       [5.73047221e-01],\n",
       "       [3.43369842e-01],\n",
       "       [1.24316823e+00],\n",
       "       [9.14587438e-01],\n",
       "       [7.76466668e-01],\n",
       "       [7.99124002e-01],\n",
       "       [0.00000000e+00],\n",
       "       [4.63264227e-01],\n",
       "       [1.29138005e+00],\n",
       "       [3.52702916e-01],\n",
       "       [6.87514424e-01],\n",
       "       [1.31725430e-01],\n",
       "       [0.00000000e+00],\n",
       "       [7.74806440e-01],\n",
       "       [6.77116573e-01],\n",
       "       [8.08697939e-02],\n",
       "       [5.89160919e-02],\n",
       "       [8.90794396e-01],\n",
       "       [8.27843785e-01],\n",
       "       [9.12262082e-01],\n",
       "       [1.43211198e+00],\n",
       "       [4.27171707e-01],\n",
       "       [9.39660966e-02],\n",
       "       [8.51593316e-01],\n",
       "       [4.95821804e-01],\n",
       "       [5.02975881e-01],\n",
       "       [0.00000000e+00],\n",
       "       [1.08130276e+00],\n",
       "       [3.75758410e-02],\n",
       "       [1.22922421e-01],\n",
       "       [7.80793786e-01],\n",
       "       [0.00000000e+00],\n",
       "       [3.49909484e-01],\n",
       "       [3.26663303e+00],\n",
       "       [7.31189549e-02],\n",
       "       [8.10876250e-01],\n",
       "       [1.95963740e-01],\n",
       "       [2.15019286e-01],\n",
       "       [2.59439528e-01],\n",
       "       [1.03716183e+00],\n",
       "       [6.92556858e-01],\n",
       "       [0.00000000e+00],\n",
       "       [4.78884876e-01],\n",
       "       [0.00000000e+00],\n",
       "       [2.87180007e-01],\n",
       "       [6.16516471e-01],\n",
       "       [1.23133898e+00],\n",
       "       [0.00000000e+00],\n",
       "       [0.00000000e+00],\n",
       "       [0.00000000e+00],\n",
       "       [1.57854825e-01],\n",
       "       [0.00000000e+00],\n",
       "       [1.23960376e-02],\n",
       "       [5.42621255e-01],\n",
       "       [4.67741579e-01],\n",
       "       [1.11317962e-01],\n",
       "       [2.50179768e-02],\n",
       "       [8.86347592e-01],\n",
       "       [4.21330452e-01],\n",
       "       [6.35774851e-01],\n",
       "       [4.04379606e-01],\n",
       "       [9.44339395e-01],\n",
       "       [0.00000000e+00],\n",
       "       [5.59861600e-01],\n",
       "       [1.39546382e+00],\n",
       "       [2.40622807e+00],\n",
       "       [1.39976609e+00],\n",
       "       [1.16890049e+00],\n",
       "       [2.90336192e-01],\n",
       "       [8.78177941e-01],\n",
       "       [2.66411513e-01],\n",
       "       [1.27987695e+00],\n",
       "       [1.61636025e-01],\n",
       "       [4.10973430e-02],\n",
       "       [0.00000000e+00],\n",
       "       [1.24640465e-02],\n",
       "       [2.53185272e-01],\n",
       "       [5.79816818e-01],\n",
       "       [6.35921955e-04],\n",
       "       [2.57261008e-01],\n",
       "       [1.76930487e-01],\n",
       "       [1.08497709e-01],\n",
       "       [1.05117917e+00],\n",
       "       [7.16951847e-01],\n",
       "       [3.34163606e-01],\n",
       "       [0.00000000e+00],\n",
       "       [1.54830432e+00],\n",
       "       [1.62781692e+00],\n",
       "       [8.65990639e-01],\n",
       "       [1.78631675e+00],\n",
       "       [1.00064337e+00],\n",
       "       [5.73410511e-01],\n",
       "       [3.90586764e-01],\n",
       "       [8.91650558e-01],\n",
       "       [1.02414072e+00],\n",
       "       [0.00000000e+00],\n",
       "       [5.05662620e-01],\n",
       "       [1.09095478e+00],\n",
       "       [1.40610349e+00],\n",
       "       [2.76488096e-01],\n",
       "       [0.00000000e+00],\n",
       "       [1.35200173e-01],\n",
       "       [2.24019146e+00],\n",
       "       [0.00000000e+00],\n",
       "       [3.12431604e-01],\n",
       "       [0.00000000e+00],\n",
       "       [9.17162299e-01],\n",
       "       [5.29734492e-01],\n",
       "       [1.07692146e+00],\n",
       "       [0.00000000e+00],\n",
       "       [0.00000000e+00],\n",
       "       [1.04336083e+00],\n",
       "       [9.47667837e-01],\n",
       "       [1.92394257e+00],\n",
       "       [9.28522050e-02],\n",
       "       [6.85787916e-01],\n",
       "       [1.18918395e+00],\n",
       "       [1.33036196e-01],\n",
       "       [6.83232665e-01],\n",
       "       [0.00000000e+00],\n",
       "       [9.13030028e-01],\n",
       "       [9.38266993e-01],\n",
       "       [2.31496662e-01],\n",
       "       [1.00717306e+00],\n",
       "       [5.78582585e-01],\n",
       "       [9.75075364e-01],\n",
       "       [2.93605119e-01],\n",
       "       [5.58190227e-01],\n",
       "       [5.34974694e-01],\n",
       "       [8.61786366e-01],\n",
       "       [1.53501940e+00],\n",
       "       [2.39153773e-01],\n",
       "       [2.19208598e-02],\n",
       "       [9.28895831e-01],\n",
       "       [1.12646371e-01],\n",
       "       [0.00000000e+00],\n",
       "       [1.44175506e+00],\n",
       "       [3.81617188e-01],\n",
       "       [1.26301146e+00],\n",
       "       [0.00000000e+00],\n",
       "       [3.88605684e-01],\n",
       "       [4.62861091e-01],\n",
       "       [1.66814041e+00],\n",
       "       [4.65489924e-01],\n",
       "       [5.07663846e-01],\n",
       "       [4.94143248e-01],\n",
       "       [8.25304985e-01],\n",
       "       [8.12158406e-01],\n",
       "       [3.59296858e-01],\n",
       "       [8.46246183e-02],\n",
       "       [1.23224795e-01],\n",
       "       [3.04270416e-01],\n",
       "       [4.21533167e-01],\n",
       "       [2.14572638e-01],\n",
       "       [9.63206589e-02],\n",
       "       [3.57461065e-01],\n",
       "       [0.00000000e+00],\n",
       "       [3.70667577e-01],\n",
       "       [7.85765350e-02],\n",
       "       [6.15778685e-01],\n",
       "       [0.00000000e+00],\n",
       "       [2.43259639e-01],\n",
       "       [3.80608082e-01],\n",
       "       [1.51065660e+00],\n",
       "       [4.17520642e-01],\n",
       "       [0.00000000e+00],\n",
       "       [3.44953865e-01],\n",
       "       [3.88249159e-02],\n",
       "       [1.91078782e-02],\n",
       "       [8.44339430e-01],\n",
       "       [3.71310711e-01],\n",
       "       [3.99431586e-01],\n",
       "       [0.00000000e+00],\n",
       "       [7.71205485e-01],\n",
       "       [3.26459110e-01],\n",
       "       [4.02266383e-02],\n",
       "       [3.45379889e-01],\n",
       "       [6.92039967e-01],\n",
       "       [1.16705561e+00],\n",
       "       [2.44288826e+00],\n",
       "       [8.04264426e-01],\n",
       "       [1.69267952e-01],\n",
       "       [7.93583572e-01],\n",
       "       [3.55957747e-02],\n",
       "       [8.04888248e-01],\n",
       "       [2.81298459e-01],\n",
       "       [8.88218641e-01],\n",
       "       [8.95482421e-01],\n",
       "       [3.57575417e-02],\n",
       "       [3.22647154e-01],\n",
       "       [5.61428070e-03],\n",
       "       [0.00000000e+00],\n",
       "       [0.00000000e+00],\n",
       "       [0.00000000e+00],\n",
       "       [8.64147663e-01],\n",
       "       [2.69428611e-01],\n",
       "       [2.13949156e+00],\n",
       "       [1.95220679e-01],\n",
       "       [1.07999116e-01],\n",
       "       [1.01565719e-02],\n",
       "       [0.00000000e+00],\n",
       "       [3.67579877e-01],\n",
       "       [4.32395816e-01],\n",
       "       [5.59060931e-01],\n",
       "       [1.53872383e+00],\n",
       "       [9.50295448e-01],\n",
       "       [4.11297679e-02],\n",
       "       [7.77903259e-01],\n",
       "       [6.02793634e-01],\n",
       "       [9.14517641e-01],\n",
       "       [4.14355397e-02],\n",
       "       [1.19198728e+00],\n",
       "       [2.81482428e-01],\n",
       "       [8.24674249e-01],\n",
       "       [7.78486550e-01],\n",
       "       [3.49625587e-01],\n",
       "       [4.81476307e-01],\n",
       "       [7.70769417e-02],\n",
       "       [7.71087527e-01],\n",
       "       [6.95025563e-01],\n",
       "       [4.56211597e-01],\n",
       "       [8.53333950e-01],\n",
       "       [6.44982696e-01],\n",
       "       [0.00000000e+00],\n",
       "       [0.00000000e+00],\n",
       "       [7.98775613e-01],\n",
       "       [3.21463525e-01],\n",
       "       [3.89991462e-01],\n",
       "       [2.54009366e-01],\n",
       "       [2.06276506e-01],\n",
       "       [0.00000000e+00],\n",
       "       [7.18008280e-01],\n",
       "       [1.01810622e+00],\n",
       "       [0.00000000e+00],\n",
       "       [8.43420148e-01],\n",
       "       [6.93618596e-01],\n",
       "       [7.71987736e-01],\n",
       "       [0.00000000e+00],\n",
       "       [4.73375738e-01],\n",
       "       [5.47193885e-02],\n",
       "       [8.70071709e-01],\n",
       "       [0.00000000e+00],\n",
       "       [1.63212168e+00],\n",
       "       [2.60907739e-01],\n",
       "       [2.31040096e+00],\n",
       "       [1.25920081e+00],\n",
       "       [2.66803235e-01],\n",
       "       [0.00000000e+00],\n",
       "       [5.37141800e-01],\n",
       "       [0.00000000e+00],\n",
       "       [0.00000000e+00],\n",
       "       [8.81484866e-01],\n",
       "       [1.35357976e-02],\n",
       "       [1.16038561e+00],\n",
       "       [9.20402288e-01],\n",
       "       [2.15843320e-02],\n",
       "       [3.38168144e-02],\n",
       "       [1.83340400e-01],\n",
       "       [0.00000000e+00],\n",
       "       [5.91119826e-01],\n",
       "       [4.62538004e-02],\n",
       "       [2.89307475e-01],\n",
       "       [0.00000000e+00],\n",
       "       [9.01048541e-01],\n",
       "       [2.60148704e-01],\n",
       "       [2.41026783e+00],\n",
       "       [0.00000000e+00],\n",
       "       [3.75873238e-01],\n",
       "       [0.00000000e+00],\n",
       "       [0.00000000e+00],\n",
       "       [2.30724907e+00],\n",
       "       [7.75359869e-01],\n",
       "       [5.86825609e-01],\n",
       "       [2.20453024e+00],\n",
       "       [0.00000000e+00],\n",
       "       [1.21237254e+00],\n",
       "       [7.18362212e-01],\n",
       "       [0.00000000e+00],\n",
       "       [6.78168118e-01],\n",
       "       [0.00000000e+00],\n",
       "       [9.29888010e-01],\n",
       "       [0.00000000e+00],\n",
       "       [1.22868907e+00],\n",
       "       [0.00000000e+00],\n",
       "       [1.05466950e+00],\n",
       "       [1.19725287e+00],\n",
       "       [7.43105292e-01],\n",
       "       [8.03249836e-01],\n",
       "       [4.80784535e-01],\n",
       "       [3.12608421e-01],\n",
       "       [1.07362473e+00],\n",
       "       [0.00000000e+00],\n",
       "       [3.81968439e-01],\n",
       "       [9.41447318e-02],\n",
       "       [3.83668542e-02],\n",
       "       [1.28438282e+00],\n",
       "       [5.02151251e-03],\n",
       "       [3.05022925e-01],\n",
       "       [3.59766543e-01],\n",
       "       [2.77675772e+00],\n",
       "       [8.40567172e-01],\n",
       "       [8.41341615e-02],\n",
       "       [1.51702911e-01],\n",
       "       [1.23664236e+00],\n",
       "       [1.50413841e-01],\n",
       "       [1.57788843e-01],\n",
       "       [1.30447119e-01],\n",
       "       [7.38011956e-01],\n",
       "       [5.39073706e-01],\n",
       "       [1.01268554e+00],\n",
       "       [1.60636425e-01],\n",
       "       [3.93548131e-01],\n",
       "       [2.87591648e+00],\n",
       "       [0.00000000e+00],\n",
       "       [0.00000000e+00],\n",
       "       [7.91962504e-01],\n",
       "       [6.07649922e-01],\n",
       "       [8.71587694e-02],\n",
       "       [3.73299241e-01],\n",
       "       [4.34673399e-01],\n",
       "       [1.31319225e-01],\n",
       "       [7.19435871e-01],\n",
       "       [7.37086654e-01],\n",
       "       [0.00000000e+00],\n",
       "       [5.80085754e-01],\n",
       "       [8.26096535e-01],\n",
       "       [3.59071374e-01],\n",
       "       [0.00000000e+00],\n",
       "       [3.03727686e-01],\n",
       "       [1.82731509e-01],\n",
       "       [2.12209606e+00],\n",
       "       [8.54458451e-01],\n",
       "       [1.10619116e+00],\n",
       "       [2.37242609e-01],\n",
       "       [4.95143235e-01],\n",
       "       [1.02997684e+00],\n",
       "       [0.00000000e+00],\n",
       "       [0.00000000e+00],\n",
       "       [2.50909477e-01],\n",
       "       [4.31525260e-01],\n",
       "       [1.86621398e-01],\n",
       "       [1.55275017e-01],\n",
       "       [1.34526819e-01],\n",
       "       [1.28979146e-01],\n",
       "       [1.02398849e+00],\n",
       "       [1.34227574e-01],\n",
       "       [3.75305176e-01],\n",
       "       [2.97430843e-01],\n",
       "       [0.00000000e+00],\n",
       "       [1.06717765e+00],\n",
       "       [1.15777910e+00],\n",
       "       [6.71570003e-01],\n",
       "       [0.00000000e+00],\n",
       "       [7.72741735e-02],\n",
       "       [0.00000000e+00],\n",
       "       [1.05363584e+00],\n",
       "       [2.43233472e-01],\n",
       "       [2.61770815e-01],\n",
       "       [0.00000000e+00],\n",
       "       [0.00000000e+00],\n",
       "       [3.91827643e-01],\n",
       "       [0.00000000e+00],\n",
       "       [0.00000000e+00],\n",
       "       [7.03715801e-01],\n",
       "       [6.92205548e-01],\n",
       "       [0.00000000e+00],\n",
       "       [4.61939484e-01],\n",
       "       [3.76165628e-01],\n",
       "       [1.15087092e+00],\n",
       "       [8.71100426e-02],\n",
       "       [0.00000000e+00],\n",
       "       [4.88649070e-01],\n",
       "       [1.45225120e+00],\n",
       "       [1.21178067e+00],\n",
       "       [8.29189539e-01],\n",
       "       [0.00000000e+00],\n",
       "       [1.68595505e+00],\n",
       "       [2.57842571e-01],\n",
       "       [8.04139555e-01],\n",
       "       [5.89248359e-01],\n",
       "       [2.18560427e-01],\n",
       "       [6.68518841e-02],\n",
       "       [0.00000000e+00],\n",
       "       [4.26928014e-01],\n",
       "       [4.29780126e-01],\n",
       "       [8.62339556e-01],\n",
       "       [2.62951285e-01],\n",
       "       [6.06607080e-01],\n",
       "       [1.58394337e-01],\n",
       "       [1.31118464e+00],\n",
       "       [5.72900891e-01],\n",
       "       [2.76394725e-01],\n",
       "       [6.38481081e-02],\n",
       "       [9.66249406e-02],\n",
       "       [6.08380079e-01],\n",
       "       [5.87575078e-01],\n",
       "       [4.90548611e-02],\n",
       "       [0.00000000e+00],\n",
       "       [0.00000000e+00],\n",
       "       [4.01592016e-01],\n",
       "       [8.23458731e-02],\n",
       "       [1.15049362e+00],\n",
       "       [9.18249369e-01],\n",
       "       [8.28520894e-01],\n",
       "       [6.48629963e-02],\n",
       "       [0.00000000e+00],\n",
       "       [6.51506782e-02],\n",
       "       [5.44036031e-02],\n",
       "       [3.55730534e-01],\n",
       "       [9.08966184e-01],\n",
       "       [3.02684039e-01],\n",
       "       [3.04020405e-01],\n",
       "       [3.84579420e-01],\n",
       "       [0.00000000e+00],\n",
       "       [0.00000000e+00],\n",
       "       [6.44568205e-01],\n",
       "       [5.21918118e-01],\n",
       "       [2.05220371e-01],\n",
       "       [1.17456627e+00],\n",
       "       [8.03719282e-01],\n",
       "       [0.00000000e+00],\n",
       "       [8.09430122e-01],\n",
       "       [8.92376602e-02],\n",
       "       [4.75977063e-02],\n",
       "       [9.17748988e-01],\n",
       "       [9.57465172e-03],\n",
       "       [0.00000000e+00],\n",
       "       [0.00000000e+00],\n",
       "       [1.26010180e-02],\n",
       "       [3.03228021e-01],\n",
       "       [0.00000000e+00],\n",
       "       [0.00000000e+00],\n",
       "       [0.00000000e+00],\n",
       "       [8.76651466e-01],\n",
       "       [4.60402340e-01],\n",
       "       [3.95406485e-01],\n",
       "       [0.00000000e+00],\n",
       "       [1.86298370e-01],\n",
       "       [0.00000000e+00],\n",
       "       [9.25678670e-01],\n",
       "       [1.35115707e+00],\n",
       "       [8.56556177e-01],\n",
       "       [7.93457508e-01],\n",
       "       [6.69318914e-01],\n",
       "       [1.11798495e-01],\n",
       "       [0.00000000e+00],\n",
       "       [0.00000000e+00],\n",
       "       [0.00000000e+00],\n",
       "       [1.18809670e-01],\n",
       "       [1.07616448e+00],\n",
       "       [1.91263139e+00],\n",
       "       [0.00000000e+00],\n",
       "       [0.00000000e+00],\n",
       "       [8.52503359e-01],\n",
       "       [1.28448582e+00],\n",
       "       [9.11225021e-01],\n",
       "       [6.48526967e-01],\n",
       "       [1.41810369e+00],\n",
       "       [1.12268686e+00],\n",
       "       [3.64221871e-01],\n",
       "       [6.57352626e-01],\n",
       "       [1.23589349e+00],\n",
       "       [0.00000000e+00],\n",
       "       [4.96079683e-01],\n",
       "       [0.00000000e+00],\n",
       "       [1.18683720e+00],\n",
       "       [8.78328800e-01],\n",
       "       [0.00000000e+00],\n",
       "       [5.80967546e-01],\n",
       "       [9.30490494e-02],\n",
       "       [7.54982233e-03],\n",
       "       [7.96834648e-01],\n",
       "       [1.55750096e-01],\n",
       "       [9.12659347e-01],\n",
       "       [4.64537919e-01],\n",
       "       [9.22414064e-01],\n",
       "       [0.00000000e+00],\n",
       "       [3.98746610e-01],\n",
       "       [7.41484761e-01],\n",
       "       [4.36988473e-01],\n",
       "       [0.00000000e+00],\n",
       "       [4.86344993e-01],\n",
       "       [8.77877355e-01],\n",
       "       [0.00000000e+00],\n",
       "       [7.92486668e-01],\n",
       "       [1.09548044e+00],\n",
       "       [4.51915115e-01],\n",
       "       [8.83197904e-01],\n",
       "       [7.06724763e-01],\n",
       "       [0.00000000e+00],\n",
       "       [5.81026196e-01],\n",
       "       [0.00000000e+00],\n",
       "       [2.28402424e+00],\n",
       "       [3.14468145e-03],\n",
       "       [1.48017967e+00],\n",
       "       [0.00000000e+00],\n",
       "       [0.00000000e+00],\n",
       "       [9.34702456e-02],\n",
       "       [1.88712955e-01],\n",
       "       [1.69316733e+00],\n",
       "       [4.77334738e-01],\n",
       "       [4.39202756e-01],\n",
       "       [0.00000000e+00],\n",
       "       [3.43832225e-01],\n",
       "       [9.74431932e-02],\n",
       "       [9.32828784e-01],\n",
       "       [1.55076504e+00],\n",
       "       [1.72949344e-01],\n",
       "       [0.00000000e+00],\n",
       "       [0.00000000e+00],\n",
       "       [5.79591274e-01],\n",
       "       [2.60805428e-01],\n",
       "       [1.09357178e+00],\n",
       "       [1.17410886e+00],\n",
       "       [8.61395955e-01],\n",
       "       [4.76118922e-01],\n",
       "       [0.00000000e+00],\n",
       "       [0.00000000e+00],\n",
       "       [1.01813257e+00],\n",
       "       [0.00000000e+00],\n",
       "       [8.88161659e-01],\n",
       "       [1.82182193e-02],\n",
       "       [7.95365453e-01],\n",
       "       [1.55405402e-01],\n",
       "       [7.65915453e-01],\n",
       "       [3.19363832e-01],\n",
       "       [1.68541670e+00],\n",
       "       [3.64634663e-01],\n",
       "       [9.02830839e-01],\n",
       "       [1.09239292e+00],\n",
       "       [4.22343165e-01],\n",
       "       [5.13708532e-01],\n",
       "       [6.63974583e-02],\n",
       "       [8.09313536e-01],\n",
       "       [2.47079551e-01],\n",
       "       [2.16677833e+00],\n",
       "       [8.92519712e-01],\n",
       "       [2.09785163e-01],\n",
       "       [5.72691262e-01],\n",
       "       [1.96755302e+00],\n",
       "       [5.13164401e-02],\n",
       "       [2.02475786e-02],\n",
       "       [0.00000000e+00],\n",
       "       [3.73447567e-01],\n",
       "       [2.91081220e-01],\n",
       "       [1.38160515e+00],\n",
       "       [8.30644071e-01],\n",
       "       [0.00000000e+00],\n",
       "       [3.85967970e-01],\n",
       "       [1.51249260e-01],\n",
       "       [0.00000000e+00],\n",
       "       [1.00954592e+00],\n",
       "       [0.00000000e+00],\n",
       "       [1.12500989e+00],\n",
       "       [0.00000000e+00],\n",
       "       [8.97156835e-01],\n",
       "       [0.00000000e+00],\n",
       "       [0.00000000e+00],\n",
       "       [5.89711607e-01],\n",
       "       [1.27218032e+00],\n",
       "       [1.85678363e-01],\n",
       "       [2.75070047e+00],\n",
       "       [8.33275557e-01],\n",
       "       [5.44170499e-01],\n",
       "       [2.98142165e-01],\n",
       "       [4.05851036e-01],\n",
       "       [2.00412959e-01],\n",
       "       [8.38845968e-03],\n",
       "       [0.00000000e+00],\n",
       "       [9.15063381e-01],\n",
       "       [7.40585864e-01],\n",
       "       [5.76131344e-02],\n",
       "       [2.90957540e-01],\n",
       "       [0.00000000e+00],\n",
       "       [0.00000000e+00],\n",
       "       [0.00000000e+00],\n",
       "       [8.80733609e-01],\n",
       "       [1.15193057e+00],\n",
       "       [2.72793770e-02],\n",
       "       [8.51089835e-01],\n",
       "       [1.84828371e-01],\n",
       "       [1.18718219e+00],\n",
       "       [8.89714003e-01],\n",
       "       [0.00000000e+00],\n",
       "       [7.79009104e-01],\n",
       "       [0.00000000e+00],\n",
       "       [1.89764053e-01],\n",
       "       [1.84958279e-01],\n",
       "       [1.14139771e+00],\n",
       "       [7.41838217e-01],\n",
       "       [0.00000000e+00],\n",
       "       [6.10574961e-01],\n",
       "       [5.94723701e-01],\n",
       "       [0.00000000e+00],\n",
       "       [0.00000000e+00],\n",
       "       [3.43496799e-01],\n",
       "       [7.43664265e-01],\n",
       "       [0.00000000e+00],\n",
       "       [0.00000000e+00],\n",
       "       [2.07385850e+00],\n",
       "       [1.38239741e+00],\n",
       "       [1.74284667e-01],\n",
       "       [0.00000000e+00],\n",
       "       [1.62602812e-01],\n",
       "       [8.51452589e-01],\n",
       "       [0.00000000e+00],\n",
       "       [8.46477449e-01],\n",
       "       [1.03532124e+00],\n",
       "       [3.08497190e-01],\n",
       "       [0.00000000e+00],\n",
       "       [4.88644242e-02],\n",
       "       [0.00000000e+00],\n",
       "       [1.11827338e+00],\n",
       "       [3.38326752e-01],\n",
       "       [0.00000000e+00],\n",
       "       [8.00197303e-01],\n",
       "       [3.33996475e-01],\n",
       "       [0.00000000e+00],\n",
       "       [0.00000000e+00],\n",
       "       [1.08757520e+00],\n",
       "       [0.00000000e+00],\n",
       "       [1.67529851e-01],\n",
       "       [0.00000000e+00],\n",
       "       [0.00000000e+00],\n",
       "       [1.75223875e+00],\n",
       "       [8.26346874e-01],\n",
       "       [1.39793277e+00],\n",
       "       [5.76967120e-01],\n",
       "       [9.11358237e-01],\n",
       "       [1.29179120e-01],\n",
       "       [6.14615083e-02],\n",
       "       [3.95550758e-01],\n",
       "       [1.32840723e-01],\n",
       "       [9.00192320e-01],\n",
       "       [1.21967065e+00],\n",
       "       [3.61689180e-01],\n",
       "       [0.00000000e+00],\n",
       "       [1.00123346e+00],\n",
       "       [6.55624330e-01],\n",
       "       [2.44153643e+00],\n",
       "       [0.00000000e+00],\n",
       "       [8.93712401e-01],\n",
       "       [7.80390680e-01],\n",
       "       [1.04383874e+00],\n",
       "       [8.35594714e-01],\n",
       "       [0.00000000e+00],\n",
       "       [8.98831248e-01],\n",
       "       [7.52055645e-03],\n",
       "       [4.83268797e-01],\n",
       "       [5.07792771e-01],\n",
       "       [7.73387790e-01],\n",
       "       [2.75203377e-01],\n",
       "       [0.00000000e+00],\n",
       "       [1.66399479e-01],\n",
       "       [1.06396437e+00],\n",
       "       [0.00000000e+00],\n",
       "       [0.00000000e+00],\n",
       "       [8.66755486e-01],\n",
       "       [4.85786021e-01],\n",
       "       [9.67291951e-01],\n",
       "       [1.25707269e-01],\n",
       "       [1.96904749e-01],\n",
       "       [1.04944289e-01],\n",
       "       [5.91723680e-01],\n",
       "       [1.68752491e-01],\n",
       "       [9.88273323e-02],\n",
       "       [1.06835216e-01],\n",
       "       [0.00000000e+00],\n",
       "       [1.42461395e+00],\n",
       "       [3.12029213e-01],\n",
       "       [3.57653260e-01],\n",
       "       [4.77711797e-01],\n",
       "       [1.54957926e+00],\n",
       "       [8.17044258e-01],\n",
       "       [1.21350318e-01],\n",
       "       [6.87655509e-01],\n",
       "       [0.00000000e+00],\n",
       "       [7.61030495e-01],\n",
       "       [1.29893780e-01],\n",
       "       [1.07836115e+00],\n",
       "       [0.00000000e+00],\n",
       "       [8.60340834e-01],\n",
       "       [8.69684696e-01],\n",
       "       [1.43012732e-01],\n",
       "       [2.44324875e+00],\n",
       "       [1.45030415e+00],\n",
       "       [4.45240140e-02],\n",
       "       [9.11187291e-01],\n",
       "       [1.07151210e+00],\n",
       "       [3.74843538e-01],\n",
       "       [0.00000000e+00],\n",
       "       [4.02380347e-01],\n",
       "       [3.86196882e-01],\n",
       "       [3.00580412e-01],\n",
       "       [1.81480527e+00],\n",
       "       [1.26237786e+00],\n",
       "       [4.20782506e-01],\n",
       "       [1.30492616e+00],\n",
       "       [1.57259941e-01],\n",
       "       [1.46858990e+00],\n",
       "       [0.00000000e+00],\n",
       "       [0.00000000e+00],\n",
       "       [1.01994467e+00],\n",
       "       [9.00167584e-01],\n",
       "       [2.96582460e-01],\n",
       "       [4.78615373e-01],\n",
       "       [5.80830336e-01],\n",
       "       [5.60520887e-02],\n",
       "       [7.20173538e-01],\n",
       "       [1.39557719e-02],\n",
       "       [1.60266280e-01],\n",
       "       [0.00000000e+00],\n",
       "       [4.64715660e-01],\n",
       "       [4.12063479e-01],\n",
       "       [5.83675623e-01],\n",
       "       [8.85302901e-01],\n",
       "       [1.57032132e+00],\n",
       "       [7.83784866e-01],\n",
       "       [0.00000000e+00],\n",
       "       [1.27944767e-01],\n",
       "       [8.93540263e-01],\n",
       "       [7.90563107e-01],\n",
       "       [2.11035466e+00],\n",
       "       [9.28451300e-01],\n",
       "       [3.16634834e-01],\n",
       "       [1.06416941e+00],\n",
       "       [3.90857905e-01],\n",
       "       [8.66944432e-01],\n",
       "       [0.00000000e+00],\n",
       "       [0.00000000e+00],\n",
       "       [3.76249790e-01],\n",
       "       [1.35552019e-01],\n",
       "       [1.43201232e+00],\n",
       "       [0.00000000e+00],\n",
       "       [1.25845242e+00],\n",
       "       [1.95158839e-01],\n",
       "       [1.53633356e-02],\n",
       "       [5.72496176e-01],\n",
       "       [3.24151337e-01],\n",
       "       [0.00000000e+00],\n",
       "       [0.00000000e+00],\n",
       "       [1.80101275e+00],\n",
       "       [1.34518296e-01],\n",
       "       [3.13205719e-02],\n",
       "       [1.64146090e+00],\n",
       "       [2.65574455e-03],\n",
       "       [1.97297335e-03],\n",
       "       [8.74461055e-01],\n",
       "       [8.95297766e-01],\n",
       "       [1.08222747e+00],\n",
       "       [3.74752581e-01],\n",
       "       [0.00000000e+00],\n",
       "       [2.75049269e-01],\n",
       "       [9.65705454e-01],\n",
       "       [0.00000000e+00],\n",
       "       [1.77958739e+00],\n",
       "       [0.00000000e+00],\n",
       "       [1.08436787e+00],\n",
       "       [2.20874935e-01],\n",
       "       [8.13147366e-01],\n",
       "       [0.00000000e+00],\n",
       "       [9.58227217e-02],\n",
       "       [6.78666532e-02],\n",
       "       [1.27668083e-01],\n",
       "       [3.21243227e-01],\n",
       "       [2.65362382e-01],\n",
       "       [1.81898272e+00],\n",
       "       [3.51100206e-01],\n",
       "       [2.51067847e-01],\n",
       "       [9.04572725e-01],\n",
       "       [7.66656637e-01],\n",
       "       [1.51738560e+00],\n",
       "       [1.05237961e-03],\n",
       "       [1.71306521e-01],\n",
       "       [5.82765758e-01],\n",
       "       [1.47001892e-01],\n",
       "       [3.17903817e-01],\n",
       "       [3.04682642e-01],\n",
       "       [6.15216374e-01],\n",
       "       [8.13187659e-02],\n",
       "       [0.00000000e+00],\n",
       "       [0.00000000e+00],\n",
       "       [0.00000000e+00],\n",
       "       [0.00000000e+00],\n",
       "       [1.20274127e-01],\n",
       "       [4.21566695e-01],\n",
       "       [1.23191237e+00],\n",
       "       [1.35889143e-01],\n",
       "       [5.80440998e-01],\n",
       "       [6.05977178e-02],\n",
       "       [8.53104353e-01],\n",
       "       [1.32073432e-01],\n",
       "       [1.55614996e+00],\n",
       "       [3.17572498e+00],\n",
       "       [1.07017732e+00],\n",
       "       [1.02102828e+00],\n",
       "       [9.30885673e-02],\n",
       "       [4.52796221e-02],\n",
       "       [2.11531782e+00],\n",
       "       [3.55409801e-01],\n",
       "       [7.32211232e-01],\n",
       "       [1.12303412e+00],\n",
       "       [1.44003779e-01],\n",
       "       [1.10552597e+00],\n",
       "       [1.02690399e-01],\n",
       "       [0.00000000e+00],\n",
       "       [0.00000000e+00],\n",
       "       [2.52064466e-01],\n",
       "       [8.01822245e-01],\n",
       "       [5.54036736e-01],\n",
       "       [0.00000000e+00],\n",
       "       [0.00000000e+00],\n",
       "       [0.00000000e+00],\n",
       "       [8.32397401e-01],\n",
       "       [6.00329220e-01],\n",
       "       [0.00000000e+00],\n",
       "       [6.66509569e-02],\n",
       "       [1.89281332e+00],\n",
       "       [4.12464380e-01],\n",
       "       [8.97812486e-01],\n",
       "       [9.07755375e-01],\n",
       "       [6.79485738e-01],\n",
       "       [0.00000000e+00],\n",
       "       [3.66198748e-01],\n",
       "       [3.39437068e-01],\n",
       "       [7.23876476e-01],\n",
       "       [2.71749318e-01],\n",
       "       [7.64727831e-01],\n",
       "       [1.47072339e+00],\n",
       "       [0.00000000e+00],\n",
       "       [1.06197202e+00],\n",
       "       [1.52082372e+00],\n",
       "       [2.51560777e-01],\n",
       "       [1.11638403e+00],\n",
       "       [1.56701446e+00],\n",
       "       [2.78311968e-03],\n",
       "       [1.44045627e+00],\n",
       "       [5.76872468e-01],\n",
       "       [2.80169845e-01],\n",
       "       [1.85448468e-01],\n",
       "       [8.41235995e-01],\n",
       "       [0.00000000e+00],\n",
       "       [1.82539666e+00],\n",
       "       [7.41842747e-01],\n",
       "       [0.00000000e+00],\n",
       "       [3.03836972e-01],\n",
       "       [1.73608947e+00],\n",
       "       [7.80520439e-02],\n",
       "       [7.89767981e-01],\n",
       "       [1.11132860e-03],\n",
       "       [3.92910123e-01],\n",
       "       [0.00000000e+00],\n",
       "       [1.18698239e-01],\n",
       "       [8.34651291e-02],\n",
       "       [0.00000000e+00],\n",
       "       [4.07827586e-01],\n",
       "       [4.46635425e-01],\n",
       "       [5.05022943e-01],\n",
       "       [0.00000000e+00],\n",
       "       [5.79853773e-01],\n",
       "       [8.35107684e-01],\n",
       "       [0.00000000e+00],\n",
       "       [2.14497709e+00],\n",
       "       [0.00000000e+00],\n",
       "       [2.87801057e-01],\n",
       "       [8.49698663e-01],\n",
       "       [1.37880832e-01],\n",
       "       [5.52208841e-01],\n",
       "       [0.00000000e+00],\n",
       "       [8.72319937e-01],\n",
       "       [0.00000000e+00],\n",
       "       [1.10786772e+00],\n",
       "       [1.07290459e+00],\n",
       "       [0.00000000e+00],\n",
       "       [8.04504216e-01],\n",
       "       [9.25426781e-02],\n",
       "       [8.38829994e-01],\n",
       "       [6.29602671e-01],\n",
       "       [0.00000000e+00],\n",
       "       [4.44426656e-01],\n",
       "       [7.63564944e-01],\n",
       "       [8.47282708e-02],\n",
       "       [0.00000000e+00],\n",
       "       [3.23613852e-01],\n",
       "       [4.81191278e-02],\n",
       "       [8.82731915e-01],\n",
       "       [8.10191631e-02],\n",
       "       [1.13043809e+00],\n",
       "       [0.00000000e+00],\n",
       "       [0.00000000e+00],\n",
       "       [9.01401579e-01],\n",
       "       [0.00000000e+00],\n",
       "       [6.82080507e-01],\n",
       "       [1.04932368e-01],\n",
       "       [0.00000000e+00],\n",
       "       [3.05793524e+00],\n",
       "       [1.94988638e-01],\n",
       "       [2.23785639e-02],\n",
       "       [8.55953753e-01],\n",
       "       [1.95465356e-01],\n",
       "       [1.17747128e-01],\n",
       "       [8.72582674e-01],\n",
       "       [8.72108638e-02],\n",
       "       [6.79377615e-01],\n",
       "       [9.27886486e-01],\n",
       "       [8.38546753e-02],\n",
       "       [2.82335311e-01],\n",
       "       [6.85845375e-01],\n",
       "       [1.07522935e-01],\n",
       "       [2.41961217e+00],\n",
       "       [8.37027550e-01],\n",
       "       [5.98405004e-02],\n",
       "       [1.01931930e+00],\n",
       "       [1.01666415e+00],\n",
       "       [4.73390579e-01],\n",
       "       [0.00000000e+00],\n",
       "       [3.68162304e-01],\n",
       "       [8.59623849e-01],\n",
       "       [1.55991817e+00],\n",
       "       [4.41600233e-01],\n",
       "       [8.20508599e-01],\n",
       "       [1.57350063e+00],\n",
       "       [0.00000000e+00],\n",
       "       [2.28660631e+00],\n",
       "       [0.00000000e+00],\n",
       "       [2.93531001e-01],\n",
       "       [0.00000000e+00],\n",
       "       [0.00000000e+00],\n",
       "       [6.61293685e-01],\n",
       "       [5.84117591e-01],\n",
       "       [0.00000000e+00],\n",
       "       [0.00000000e+00],\n",
       "       [0.00000000e+00],\n",
       "       [0.00000000e+00],\n",
       "       [1.09330988e+00],\n",
       "       [1.19858313e+00],\n",
       "       [1.04246438e-01],\n",
       "       [1.06676054e+00],\n",
       "       [2.07142234e-02],\n",
       "       [8.65851581e-01],\n",
       "       [4.37581122e-01],\n",
       "       [3.29748034e-01],\n",
       "       [1.14751387e+00],\n",
       "       [5.14091849e-01],\n",
       "       [5.85771501e-01],\n",
       "       [9.17689145e-01],\n",
       "       [8.35654616e-01],\n",
       "       [2.91855526e+00],\n",
       "       [1.52846813e-01]], dtype=float32)"
      ]
     },
     "execution_count": 63,
     "metadata": {},
     "output_type": "execute_result"
    }
   ],
   "source": [
    "latent_codes"
   ]
  },
  {
   "cell_type": "code",
   "execution_count": 74,
   "metadata": {},
   "outputs": [
    {
     "data": {
      "text/plain": [
       "array([[ 0.017118  ,  0.19660918],\n",
       "       [ 0.017118  ,  0.19660918],\n",
       "       [ 0.017118  ,  0.19660918],\n",
       "       ...,\n",
       "       [-0.3880499 , -0.32016189],\n",
       "       [ 0.01924656,  0.57144681],\n",
       "       [ 0.63545814,  0.64884996]])"
      ]
     },
     "execution_count": 74,
     "metadata": {},
     "output_type": "execute_result"
    }
   ],
   "source": [
    "numload = 10000\n",
    "feed_pc, feed_model_names, _ = valid_pc_data.next_batch(numload )\n",
    "feed_pc[0]"
   ]
  },
  {
   "cell_type": "code",
   "execution_count": 69,
   "metadata": {},
   "outputs": [
    {
     "data": {
      "text/plain": [
       "array([ 1.04154646, -1.01855432,  0.82381232,  2.8626084 ,  4.66926383,\n",
       "        0.44145631, -0.78976928,  0.42520581, -0.56581046,  7.00944821,\n",
       "       -0.0294308 , -1.07126786, -1.61526932, -0.52807492, -0.11218356,\n",
       "       12.31053926, -1.94153188, -0.13629966,  1.2301602 , -1.22495414,\n",
       "        1.48715351,  0.66155514, -0.25137587,  0.2585713 ,  0.59379215,\n",
       "        0.61316492,  3.14910778,  0.09642428, 12.5186531 ,  0.95693838,\n",
       "        1.4083551 ,  0.16460985, -0.01416972,  1.16919155, -0.13955238,\n",
       "       -0.5423792 , -0.71587804,  0.51078518,  0.19862528, -0.3253633 ,\n",
       "        6.62082248,  3.83881109, -0.72389678, -0.05940396,  3.14886234,\n",
       "       -0.53045421,  0.09860626,  0.27655945,  0.23807206, -2.60423897,\n",
       "        0.73574803,  0.37317332,  1.43749019, -0.45112478, -0.37274221,\n",
       "        0.76862296,  3.13978595,  0.17130608, -0.19702835,  2.82923504,\n",
       "        0.23081686, -0.2364088 ,  6.86463026,  1.0664655 ,  0.46326879,\n",
       "        2.82499946,  0.27885064,  3.50456043,  2.10245745,  1.76229868,\n",
       "        1.78779817,  0.07763941,  7.35550224,  0.74356322, -0.01826497,\n",
       "        4.56115388,  1.61097018, -0.51655204,  1.4049577 ,  0.81708419,\n",
       "       -0.10938158, -0.53901616, -0.0606621 ,  1.75859268, -0.21197403,\n",
       "        0.52744096, -0.09505115,  0.28208335,  0.20719031,  0.75428567,\n",
       "        3.40008808,  7.48347856,  1.63698554,  0.02191812, -1.09407387,\n",
       "        1.68435453,  0.90205874,  0.65809958, -0.45938392,  0.29595829])"
      ]
     },
     "execution_count": 69,
     "metadata": {},
     "output_type": "execute_result"
    }
   ],
   "source": [
    "numpoints = len(jets[0])\n",
    "Delta_Rs = np.linalg.norm(feed_pc,axis=2)\n",
    "#    p_parr = np.sum(np.cos(Delta_Rs),axis=1)\n",
    "np.sum(np.sin(jets[:,:,1]),axis=1)*600/1000"
   ]
  },
  {
   "cell_type": "code",
   "execution_count": 71,
   "metadata": {},
   "outputs": [
    {
     "data": {
      "text/plain": [
       "array([[ 0.01869681,  0.01869681,  0.01869681, ..., -0.23907139,\n",
       "        -0.09400195, -0.65201326],\n",
       "       [ 0.01031599,  0.01031599,  0.01031599, ...,  0.03088808,\n",
       "         0.28167166,  0.82886674],\n",
       "       [ 0.00961767,  0.00961767,  0.00961767, ...,  0.17601627,\n",
       "        -0.60450113, -0.11882481],\n",
       "       ...,\n",
       "       [ 0.00723219,  0.00723219,  0.00723219, ...,  0.24995147,\n",
       "         0.08002635, -0.34747694],\n",
       "       [ 0.03372887,  0.03372887,  0.03372887, ...,  0.01355405,\n",
       "         0.27136203,  0.16863137],\n",
       "       [ 0.01648945,  0.01648945,  0.01648945, ...,  0.48698032,\n",
       "         0.45907187,  0.58905874]])"
      ]
     },
     "execution_count": 71,
     "metadata": {},
     "output_type": "execute_result"
    }
   ],
   "source": [
    "jets[:,:,0]"
   ]
  },
  {
   "cell_type": "code",
   "execution_count": 32,
   "metadata": {},
   "outputs": [
    {
     "data": {
      "image/png": "[encoded data removed]",
      "text/plain": [
       "<Figure size 432x288 with 1 Axes>"
      ]
     },
     "metadata": {},
     "output_type": "display_data"
    }
   ],
   "source": [
    "plt.hist(jet_masses(feed_pc), bins=np.arange(0,500,20))\n",
    "plt.show()"
   ]
  },
  {
   "cell_type": "code",
   "execution_count": 42,
   "metadata": {},
   "outputs": [
    {
     "name": "stderr",
     "output_type": "stream",
     "text": [
      "/usr/local/lib/python2.7/dist-packages/ipykernel_launcher.py:5: RuntimeWarning: invalid value encountered in sqrt\n",
      "  \"\"\"\n"
     ]
    }
   ],
   "source": [
    "jets = feed_pc\n",
    "numpoints = len(jets[0])\n",
    "Delta_Rs = np.linalg.norm(feed_pc,axis=2)\n",
    "p_parr = np.sum(np.cos(Delta_Rs))\n",
    "masses = np.sqrt(numpoints**2 - np.power(p_parr,2))*p_norm/numpoints"
   ]
  },
  {
   "cell_type": "code",
   "execution_count": 44,
   "metadata": {},
   "outputs": [
    {
     "data": {
      "text/plain": [
       "96376.95345754223"
      ]
     },
     "execution_count": 44,
     "metadata": {},
     "output_type": "execute_result"
    }
   ],
   "source": [
    "p_parr"
   ]
  },
  {
   "cell_type": "code",
   "execution_count": 60,
   "metadata": {},
   "outputs": [
    {
     "data": {
      "text/plain": [
       "-0.9999987317275395"
      ]
     },
     "execution_count": 60,
     "metadata": {},
     "output_type": "execute_result"
    }
   ],
   "source": [
    "np.cos(3.14)"
   ]
  },
  {
   "cell_type": "code",
   "execution_count": 102,
   "metadata": {},
   "outputs": [],
   "source": [
    "numload = 1000\n",
    "feed_pc, feed_model_names, _ = valid_pc_data.next_batch(numload )\n",
    "#reconstructions = ae.reconstruct(feed_pc)[0]\n",
    "latent_codes = ae.transform(feed_pc)"
   ]
  },
  {
   "cell_type": "code",
   "execution_count": 36,
   "metadata": {},
   "outputs": [
    {
     "data": {
      "text/plain": [
       "<matplotlib.collections.PathCollection at 0x7efc280d2dd0>"
      ]
     },
     "execution_count": 36,
     "metadata": {},
     "output_type": "execute_result"
    },
    {
     "data": {
      "image/png": "[encoded data removed]",
      "text/plain": [
       "<Figure size 432x288 with 1 Axes>"
      ]
     },
     "metadata": {},
     "output_type": "display_data"
    }
   ],
   "source": []
  },
  {
   "cell_type": "code",
   "execution_count": 34,
   "metadata": {},
   "outputs": [
    {
     "data": {
      "text/plain": [
       "array([ 35.28688225,  93.1821818 ,  68.674639  ,  66.82980052,\n",
       "        74.14441173,  34.51399374,  69.14875579,  36.95418762,\n",
       "        58.10141722,  35.03645862,  59.17256632,  46.93591623,\n",
       "        65.7136201 ,  58.5225264 ,  49.73832894,  41.92313558,\n",
       "        81.62550544,  81.31715223,  61.86501389,  70.09262545,\n",
       "        55.00411739,  50.09787022,  56.01598295,  41.08508213,\n",
       "        37.45209645,  26.12286477,  46.64123251,  33.62808724,\n",
       "        76.62201858,  59.6882946 ,  97.54313234,  61.19816435,\n",
       "        27.00050637,  52.88769576,  93.3634272 ,  69.40321466,\n",
       "        32.31190283,  47.50241584,  80.27918911,  80.08367439,\n",
       "        86.4246068 ,  59.84014424,  73.06503657,  35.90446185,\n",
       "        70.4502928 ,  52.35135732,  62.28219444,  27.45181723,\n",
       "        56.91367661,  37.44571713,  43.88163728,  56.53454517,\n",
       "        91.66736612,  48.45572223,  55.14218424,  26.93894511,\n",
       "        59.53523344,  90.1539713 ,  43.64649611,  49.89533825,\n",
       "        65.84580757,  42.11258539,  97.3171227 ,  45.04015666,\n",
       "        46.21149635,  71.63280443,  36.14872306,  61.65227236,\n",
       "        45.54911287,  37.93193813,  54.78876747,  34.71695685,\n",
       "       100.02645786,  68.21195162,  75.768582  ,  51.56694665,\n",
       "        40.00198564,  43.23367958,  70.44861527, 101.19563627,\n",
       "        41.73448593,  31.39235417,  54.61747945,  56.4572098 ,\n",
       "        51.54040873,  67.94888728,  37.51586475,  42.78711439,\n",
       "        80.11819091,  51.86788966,  48.34883333,  91.84683399,\n",
       "        45.77275205,  39.92642275,  52.75218904,  47.32243419,\n",
       "        55.98520083,  82.68766854,  45.61003702,  42.7051605 ,\n",
       "        60.22818747,  74.57660678,  66.25466975,  39.864538  ,\n",
       "        39.86681393,  25.90240572,  48.60932759,  90.54353159,\n",
       "        67.84688184,  40.00981836,  59.90611129,  49.75137847,\n",
       "        76.0041969 ,  33.55803456,  66.79866087,  69.21268003,\n",
       "        33.83956797,  23.40577664,  42.52865609,  71.8177223 ,\n",
       "        56.59952514,  48.94900377,  52.27414965,  61.24064454,\n",
       "        81.51764542,  60.81839655,  49.96314163, 110.46750154,\n",
       "        65.12068263,  41.34715175,  46.86050114,  52.28805766,\n",
       "        23.41105657,  92.60821602,  71.80767413,  52.05142282,\n",
       "        51.70879551,  63.96617024,  36.92808492,  43.20384962,\n",
       "        57.03148588,  51.16910368,  85.1407818 ,  34.68172351,\n",
       "        19.54053885,  57.55029557,  42.38512005,  43.45997926,\n",
       "        68.09668215,  66.77180648,  72.62217626,  36.31502032,\n",
       "        53.87678934, 100.92803828,  58.88627974,  64.37792831,\n",
       "        49.10851287,  37.38773483,  26.64621837,  42.12888596,\n",
       "        38.51362378,  51.34929142,  54.24228687,  45.32238571,\n",
       "        35.57858911,  40.42293558,  36.19864913,  62.66984304,\n",
       "        93.30993071,  31.51732052,  72.83016654,  76.49838461,\n",
       "        59.13718956,  60.04609675,  49.96580297,  33.33030191,\n",
       "        36.12848431,  72.84062346,  67.86850581,  81.62057131,\n",
       "        74.68857538,  50.22673152,  42.39591083,  26.44911897,\n",
       "        90.2626258 ,  27.61483219,  52.97737403,  68.28025919,\n",
       "        26.62486653,  75.40507966,  72.18536944,  55.31051795,\n",
       "        30.23830252,  66.33369862,  42.95643726,  76.28329998,\n",
       "        46.80120154,  47.67915222,  55.28590597,  53.9225991 ,\n",
       "        44.96265947,  52.51077726,  35.85717445,  35.40481082,\n",
       "        52.73402834,  72.54180395,  54.07385799,  54.41453671,\n",
       "        50.59149317,  63.87311168,  49.88413271,  45.78044381,\n",
       "        32.81126033,  69.93170073,  88.78167012,  50.48067352,\n",
       "        55.08690839,  59.65341875,  94.19767128,  37.83855896,\n",
       "        49.18986125, 100.74418062,  40.95266265,  43.1785508 ,\n",
       "        63.50385505,  29.81875453,  51.94088964,  29.32006456,\n",
       "        37.44830469,  63.14469073,  54.0927274 ,  84.97594196,\n",
       "        53.52706232,  67.69196318,  41.0681129 ,  67.14905404,\n",
       "        45.08989077,  42.39043337,  85.20161635,  51.58207432,\n",
       "        65.14523471,  67.71167796,  84.81499228,  25.72294655,\n",
       "        28.93684888,  62.28044843,  27.43730813,  46.08969156,\n",
       "        48.66315166,  31.9231934 ,  54.11525918,  60.91349808,\n",
       "        38.66339513,  65.64695387,  51.75131368,  50.75836379,\n",
       "        94.48028625,  60.15983962,  29.61289759,  44.01336946,\n",
       "        33.76926562,  36.92642324,  35.52348492,  37.53000243,\n",
       "        56.7545509 ,  34.82973537,  67.30038014])"
      ]
     },
     "execution_count": 34,
     "metadata": {},
     "output_type": "execute_result"
    }
   ],
   "source": [
    "jet_masses(feed_pc[(latent_codes ==0.).flatten()])"
   ]
  },
  {
   "cell_type": "code",
   "execution_count": 83,
   "metadata": {},
   "outputs": [
    {
     "data": {
      "text/plain": [
       "0.0"
      ]
     },
     "execution_count": 83,
     "metadata": {},
     "output_type": "execute_result"
    }
   ],
   "source": [
    "latent_codes[latent_codes ==0.][0]"
   ]
  },
  {
   "cell_type": "code",
   "execution_count": 85,
   "metadata": {},
   "outputs": [
    {
     "data": {
      "text/plain": [
       "array([[ True],\n",
       "       [False],\n",
       "       [False],\n",
       "       [False],\n",
       "       [False],\n",
       "       [False],\n",
       "       [ True],\n",
       "       [False],\n",
       "       [False],\n",
       "       [False],\n",
       "       [False],\n",
       "       [False],\n",
       "       [False],\n",
       "       [ True],\n",
       "       [ True],\n",
       "       [False],\n",
       "       [False],\n",
       "       [False],\n",
       "       [ True],\n",
       "       [ True],\n",
       "       [ True],\n",
       "       [False],\n",
       "       [False],\n",
       "       [False],\n",
       "       [False],\n",
       "       [False],\n",
       "       [ True],\n",
       "       [False],\n",
       "       [False],\n",
       "       [False],\n",
       "       [False],\n",
       "       [False],\n",
       "       [False],\n",
       "       [False],\n",
       "       [False],\n",
       "       [False],\n",
       "       [False],\n",
       "       [ True],\n",
       "       [ True],\n",
       "       [False],\n",
       "       [False],\n",
       "       [False],\n",
       "       [False],\n",
       "       [False],\n",
       "       [False],\n",
       "       [False],\n",
       "       [ True],\n",
       "       [False],\n",
       "       [False],\n",
       "       [False],\n",
       "       [ True],\n",
       "       [False],\n",
       "       [False],\n",
       "       [False],\n",
       "       [False],\n",
       "       [False],\n",
       "       [False],\n",
       "       [False],\n",
       "       [ True],\n",
       "       [ True],\n",
       "       [False],\n",
       "       [ True],\n",
       "       [False],\n",
       "       [False],\n",
       "       [False],\n",
       "       [False],\n",
       "       [False],\n",
       "       [False],\n",
       "       [False],\n",
       "       [False],\n",
       "       [False],\n",
       "       [ True],\n",
       "       [False],\n",
       "       [False],\n",
       "       [ True],\n",
       "       [False],\n",
       "       [False],\n",
       "       [False],\n",
       "       [False],\n",
       "       [False],\n",
       "       [ True],\n",
       "       [False],\n",
       "       [False],\n",
       "       [False],\n",
       "       [False],\n",
       "       [False],\n",
       "       [False],\n",
       "       [False],\n",
       "       [False],\n",
       "       [False],\n",
       "       [False],\n",
       "       [False],\n",
       "       [False],\n",
       "       [False],\n",
       "       [False],\n",
       "       [False],\n",
       "       [False],\n",
       "       [False],\n",
       "       [False],\n",
       "       [False],\n",
       "       [False],\n",
       "       [False],\n",
       "       [False],\n",
       "       [False],\n",
       "       [False],\n",
       "       [False],\n",
       "       [False],\n",
       "       [False],\n",
       "       [False],\n",
       "       [False],\n",
       "       [False],\n",
       "       [ True],\n",
       "       [ True],\n",
       "       [ True],\n",
       "       [False],\n",
       "       [False],\n",
       "       [False],\n",
       "       [False],\n",
       "       [False],\n",
       "       [False],\n",
       "       [False],\n",
       "       [False],\n",
       "       [False],\n",
       "       [False],\n",
       "       [False],\n",
       "       [False],\n",
       "       [False],\n",
       "       [False],\n",
       "       [False],\n",
       "       [False],\n",
       "       [False],\n",
       "       [False],\n",
       "       [False],\n",
       "       [False],\n",
       "       [False],\n",
       "       [False],\n",
       "       [False],\n",
       "       [False],\n",
       "       [False],\n",
       "       [False],\n",
       "       [False],\n",
       "       [False],\n",
       "       [False],\n",
       "       [False],\n",
       "       [ True],\n",
       "       [ True],\n",
       "       [False],\n",
       "       [False],\n",
       "       [False],\n",
       "       [False],\n",
       "       [ True],\n",
       "       [ True],\n",
       "       [ True],\n",
       "       [False],\n",
       "       [False],\n",
       "       [False],\n",
       "       [False],\n",
       "       [False],\n",
       "       [False],\n",
       "       [False],\n",
       "       [False],\n",
       "       [False],\n",
       "       [False],\n",
       "       [False],\n",
       "       [ True],\n",
       "       [False],\n",
       "       [False],\n",
       "       [False],\n",
       "       [False],\n",
       "       [False],\n",
       "       [False],\n",
       "       [False],\n",
       "       [False],\n",
       "       [False],\n",
       "       [ True],\n",
       "       [False],\n",
       "       [False],\n",
       "       [False],\n",
       "       [False],\n",
       "       [False],\n",
       "       [False],\n",
       "       [False],\n",
       "       [False],\n",
       "       [False],\n",
       "       [ True],\n",
       "       [False],\n",
       "       [False],\n",
       "       [False],\n",
       "       [False],\n",
       "       [False],\n",
       "       [False],\n",
       "       [False],\n",
       "       [False],\n",
       "       [False],\n",
       "       [False],\n",
       "       [False],\n",
       "       [False],\n",
       "       [False],\n",
       "       [False],\n",
       "       [ True],\n",
       "       [False],\n",
       "       [False],\n",
       "       [False],\n",
       "       [ True],\n",
       "       [False],\n",
       "       [ True],\n",
       "       [False],\n",
       "       [False],\n",
       "       [False],\n",
       "       [ True],\n",
       "       [ True],\n",
       "       [False],\n",
       "       [False],\n",
       "       [False],\n",
       "       [ True],\n",
       "       [False],\n",
       "       [ True],\n",
       "       [False],\n",
       "       [False],\n",
       "       [False],\n",
       "       [False],\n",
       "       [False],\n",
       "       [False],\n",
       "       [False],\n",
       "       [False],\n",
       "       [False],\n",
       "       [False],\n",
       "       [False],\n",
       "       [False],\n",
       "       [False],\n",
       "       [ True],\n",
       "       [False],\n",
       "       [False],\n",
       "       [False],\n",
       "       [False],\n",
       "       [False],\n",
       "       [False],\n",
       "       [False],\n",
       "       [False],\n",
       "       [False],\n",
       "       [False],\n",
       "       [False],\n",
       "       [False],\n",
       "       [False],\n",
       "       [False],\n",
       "       [False],\n",
       "       [False],\n",
       "       [False],\n",
       "       [ True],\n",
       "       [ True],\n",
       "       [False],\n",
       "       [False],\n",
       "       [False],\n",
       "       [False],\n",
       "       [False],\n",
       "       [False],\n",
       "       [False],\n",
       "       [False],\n",
       "       [False],\n",
       "       [False],\n",
       "       [False],\n",
       "       [ True],\n",
       "       [False],\n",
       "       [False],\n",
       "       [ True],\n",
       "       [ True],\n",
       "       [False],\n",
       "       [False],\n",
       "       [False],\n",
       "       [False],\n",
       "       [ True],\n",
       "       [False],\n",
       "       [False],\n",
       "       [ True],\n",
       "       [False],\n",
       "       [False],\n",
       "       [False],\n",
       "       [False],\n",
       "       [False],\n",
       "       [False],\n",
       "       [ True],\n",
       "       [False],\n",
       "       [False],\n",
       "       [False],\n",
       "       [False],\n",
       "       [False],\n",
       "       [ True],\n",
       "       [False],\n",
       "       [False],\n",
       "       [False],\n",
       "       [False],\n",
       "       [False],\n",
       "       [False],\n",
       "       [False],\n",
       "       [False],\n",
       "       [False],\n",
       "       [False],\n",
       "       [False],\n",
       "       [False],\n",
       "       [False],\n",
       "       [False],\n",
       "       [ True],\n",
       "       [False],\n",
       "       [False],\n",
       "       [ True],\n",
       "       [False],\n",
       "       [False],\n",
       "       [ True],\n",
       "       [False],\n",
       "       [False],\n",
       "       [False],\n",
       "       [False],\n",
       "       [False],\n",
       "       [False],\n",
       "       [False],\n",
       "       [False],\n",
       "       [False],\n",
       "       [False],\n",
       "       [ True],\n",
       "       [ True],\n",
       "       [False],\n",
       "       [False],\n",
       "       [False],\n",
       "       [False],\n",
       "       [False],\n",
       "       [False],\n",
       "       [False],\n",
       "       [False],\n",
       "       [False],\n",
       "       [False],\n",
       "       [False],\n",
       "       [ True],\n",
       "       [False],\n",
       "       [ True],\n",
       "       [False],\n",
       "       [False],\n",
       "       [False],\n",
       "       [ True],\n",
       "       [False],\n",
       "       [False],\n",
       "       [False],\n",
       "       [ True],\n",
       "       [False],\n",
       "       [False],\n",
       "       [False],\n",
       "       [False],\n",
       "       [False],\n",
       "       [False],\n",
       "       [ True],\n",
       "       [ True],\n",
       "       [False],\n",
       "       [False],\n",
       "       [False],\n",
       "       [False],\n",
       "       [False],\n",
       "       [False],\n",
       "       [False],\n",
       "       [False],\n",
       "       [False],\n",
       "       [False],\n",
       "       [False],\n",
       "       [ True],\n",
       "       [ True],\n",
       "       [ True],\n",
       "       [False],\n",
       "       [False],\n",
       "       [False],\n",
       "       [False],\n",
       "       [False],\n",
       "       [False],\n",
       "       [False],\n",
       "       [False],\n",
       "       [False],\n",
       "       [False],\n",
       "       [False],\n",
       "       [False],\n",
       "       [ True],\n",
       "       [False],\n",
       "       [ True],\n",
       "       [False],\n",
       "       [False],\n",
       "       [False],\n",
       "       [False],\n",
       "       [False],\n",
       "       [False],\n",
       "       [False],\n",
       "       [False],\n",
       "       [ True],\n",
       "       [False],\n",
       "       [False],\n",
       "       [False],\n",
       "       [False],\n",
       "       [False],\n",
       "       [False],\n",
       "       [False],\n",
       "       [False],\n",
       "       [False],\n",
       "       [False],\n",
       "       [ True],\n",
       "       [False],\n",
       "       [False],\n",
       "       [False],\n",
       "       [False],\n",
       "       [False],\n",
       "       [False],\n",
       "       [False],\n",
       "       [False],\n",
       "       [False],\n",
       "       [False],\n",
       "       [False],\n",
       "       [False],\n",
       "       [False],\n",
       "       [False],\n",
       "       [False],\n",
       "       [False],\n",
       "       [False],\n",
       "       [ True],\n",
       "       [ True],\n",
       "       [ True],\n",
       "       [False],\n",
       "       [ True],\n",
       "       [False],\n",
       "       [ True],\n",
       "       [False],\n",
       "       [False],\n",
       "       [False],\n",
       "       [False],\n",
       "       [False],\n",
       "       [False],\n",
       "       [False],\n",
       "       [False],\n",
       "       [False],\n",
       "       [False],\n",
       "       [False],\n",
       "       [False],\n",
       "       [False],\n",
       "       [False],\n",
       "       [False],\n",
       "       [False],\n",
       "       [False],\n",
       "       [ True],\n",
       "       [False],\n",
       "       [False],\n",
       "       [False],\n",
       "       [ True],\n",
       "       [False],\n",
       "       [False],\n",
       "       [False],\n",
       "       [False],\n",
       "       [False],\n",
       "       [False],\n",
       "       [False],\n",
       "       [False],\n",
       "       [False],\n",
       "       [False],\n",
       "       [ True],\n",
       "       [False],\n",
       "       [False],\n",
       "       [False],\n",
       "       [False],\n",
       "       [ True],\n",
       "       [False],\n",
       "       [False],\n",
       "       [False],\n",
       "       [False],\n",
       "       [False],\n",
       "       [False],\n",
       "       [ True],\n",
       "       [False],\n",
       "       [False],\n",
       "       [False],\n",
       "       [False],\n",
       "       [False],\n",
       "       [False],\n",
       "       [False],\n",
       "       [False],\n",
       "       [False],\n",
       "       [False],\n",
       "       [False],\n",
       "       [False],\n",
       "       [False],\n",
       "       [False],\n",
       "       [False],\n",
       "       [False],\n",
       "       [False],\n",
       "       [ True],\n",
       "       [False],\n",
       "       [False],\n",
       "       [False],\n",
       "       [False],\n",
       "       [False],\n",
       "       [ True],\n",
       "       [False],\n",
       "       [False],\n",
       "       [False],\n",
       "       [False],\n",
       "       [False],\n",
       "       [False],\n",
       "       [ True],\n",
       "       [False],\n",
       "       [False],\n",
       "       [False],\n",
       "       [ True],\n",
       "       [ True],\n",
       "       [False],\n",
       "       [False],\n",
       "       [False],\n",
       "       [ True],\n",
       "       [ True],\n",
       "       [False],\n",
       "       [False],\n",
       "       [False],\n",
       "       [ True],\n",
       "       [False],\n",
       "       [False],\n",
       "       [False],\n",
       "       [False],\n",
       "       [ True],\n",
       "       [False],\n",
       "       [ True],\n",
       "       [ True],\n",
       "       [False],\n",
       "       [ True],\n",
       "       [False],\n",
       "       [False],\n",
       "       [False],\n",
       "       [False],\n",
       "       [False],\n",
       "       [False],\n",
       "       [ True],\n",
       "       [False],\n",
       "       [False],\n",
       "       [False],\n",
       "       [ True],\n",
       "       [False],\n",
       "       [False],\n",
       "       [False],\n",
       "       [False],\n",
       "       [False],\n",
       "       [False],\n",
       "       [False],\n",
       "       [False],\n",
       "       [False],\n",
       "       [False],\n",
       "       [False],\n",
       "       [False],\n",
       "       [False],\n",
       "       [ True],\n",
       "       [False],\n",
       "       [False],\n",
       "       [ True],\n",
       "       [ True],\n",
       "       [False],\n",
       "       [False],\n",
       "       [ True],\n",
       "       [False],\n",
       "       [False],\n",
       "       [False],\n",
       "       [False],\n",
       "       [False],\n",
       "       [False],\n",
       "       [ True],\n",
       "       [False],\n",
       "       [False],\n",
       "       [ True],\n",
       "       [ True],\n",
       "       [False],\n",
       "       [False],\n",
       "       [False],\n",
       "       [False],\n",
       "       [False],\n",
       "       [ True],\n",
       "       [False],\n",
       "       [False],\n",
       "       [False],\n",
       "       [False],\n",
       "       [False],\n",
       "       [False],\n",
       "       [False],\n",
       "       [False],\n",
       "       [False],\n",
       "       [False],\n",
       "       [False],\n",
       "       [False],\n",
       "       [False],\n",
       "       [False],\n",
       "       [False],\n",
       "       [False],\n",
       "       [False],\n",
       "       [ True],\n",
       "       [False],\n",
       "       [False],\n",
       "       [False],\n",
       "       [False],\n",
       "       [ True],\n",
       "       [False],\n",
       "       [False],\n",
       "       [False],\n",
       "       [False],\n",
       "       [False],\n",
       "       [False],\n",
       "       [False],\n",
       "       [False],\n",
       "       [False],\n",
       "       [False],\n",
       "       [False],\n",
       "       [False],\n",
       "       [False],\n",
       "       [ True],\n",
       "       [ True],\n",
       "       [False],\n",
       "       [False],\n",
       "       [False],\n",
       "       [False],\n",
       "       [ True],\n",
       "       [False],\n",
       "       [False],\n",
       "       [ True],\n",
       "       [ True],\n",
       "       [False],\n",
       "       [False],\n",
       "       [False],\n",
       "       [False],\n",
       "       [ True],\n",
       "       [False],\n",
       "       [False],\n",
       "       [False],\n",
       "       [False],\n",
       "       [ True],\n",
       "       [ True],\n",
       "       [False],\n",
       "       [False],\n",
       "       [False],\n",
       "       [ True],\n",
       "       [False],\n",
       "       [False],\n",
       "       [False],\n",
       "       [False],\n",
       "       [False],\n",
       "       [ True],\n",
       "       [False],\n",
       "       [False],\n",
       "       [ True],\n",
       "       [False],\n",
       "       [False],\n",
       "       [False],\n",
       "       [False],\n",
       "       [False],\n",
       "       [False],\n",
       "       [False],\n",
       "       [False],\n",
       "       [False],\n",
       "       [False],\n",
       "       [False],\n",
       "       [False],\n",
       "       [False],\n",
       "       [False],\n",
       "       [False],\n",
       "       [False],\n",
       "       [False],\n",
       "       [False],\n",
       "       [ True],\n",
       "       [False],\n",
       "       [False],\n",
       "       [False],\n",
       "       [False],\n",
       "       [False],\n",
       "       [False],\n",
       "       [False],\n",
       "       [False],\n",
       "       [False],\n",
       "       [False],\n",
       "       [False],\n",
       "       [False],\n",
       "       [False],\n",
       "       [False],\n",
       "       [False],\n",
       "       [False],\n",
       "       [ True],\n",
       "       [ True],\n",
       "       [ True],\n",
       "       [False],\n",
       "       [False],\n",
       "       [False],\n",
       "       [False],\n",
       "       [False],\n",
       "       [False],\n",
       "       [False],\n",
       "       [False],\n",
       "       [False],\n",
       "       [False],\n",
       "       [False],\n",
       "       [False],\n",
       "       [ True],\n",
       "       [False],\n",
       "       [False],\n",
       "       [False],\n",
       "       [False],\n",
       "       [False],\n",
       "       [False],\n",
       "       [False],\n",
       "       [False],\n",
       "       [ True],\n",
       "       [False],\n",
       "       [False],\n",
       "       [False],\n",
       "       [ True],\n",
       "       [False],\n",
       "       [False],\n",
       "       [False],\n",
       "       [False],\n",
       "       [False],\n",
       "       [False],\n",
       "       [False],\n",
       "       [False],\n",
       "       [False],\n",
       "       [False],\n",
       "       [False],\n",
       "       [ True],\n",
       "       [False],\n",
       "       [ True],\n",
       "       [False],\n",
       "       [False],\n",
       "       [False],\n",
       "       [False],\n",
       "       [False],\n",
       "       [False],\n",
       "       [False],\n",
       "       [False],\n",
       "       [False],\n",
       "       [False],\n",
       "       [False],\n",
       "       [False],\n",
       "       [False],\n",
       "       [False],\n",
       "       [False],\n",
       "       [False],\n",
       "       [ True],\n",
       "       [ True],\n",
       "       [False],\n",
       "       [False],\n",
       "       [False],\n",
       "       [False],\n",
       "       [False],\n",
       "       [False],\n",
       "       [ True],\n",
       "       [ True],\n",
       "       [ True],\n",
       "       [False],\n",
       "       [False],\n",
       "       [False],\n",
       "       [False],\n",
       "       [False],\n",
       "       [False],\n",
       "       [ True],\n",
       "       [False],\n",
       "       [False],\n",
       "       [False],\n",
       "       [False],\n",
       "       [False],\n",
       "       [False],\n",
       "       [ True],\n",
       "       [False],\n",
       "       [False],\n",
       "       [False],\n",
       "       [ True],\n",
       "       [False],\n",
       "       [ True],\n",
       "       [False],\n",
       "       [False],\n",
       "       [False],\n",
       "       [ True],\n",
       "       [False],\n",
       "       [False],\n",
       "       [False],\n",
       "       [False],\n",
       "       [False],\n",
       "       [False],\n",
       "       [False],\n",
       "       [False],\n",
       "       [False],\n",
       "       [ True],\n",
       "       [False],\n",
       "       [False],\n",
       "       [False],\n",
       "       [False],\n",
       "       [False],\n",
       "       [False],\n",
       "       [False],\n",
       "       [False],\n",
       "       [False],\n",
       "       [False],\n",
       "       [False],\n",
       "       [False],\n",
       "       [False],\n",
       "       [False],\n",
       "       [False],\n",
       "       [False],\n",
       "       [False],\n",
       "       [False],\n",
       "       [False],\n",
       "       [False],\n",
       "       [ True],\n",
       "       [False],\n",
       "       [False],\n",
       "       [False],\n",
       "       [False],\n",
       "       [False],\n",
       "       [False],\n",
       "       [False],\n",
       "       [False],\n",
       "       [False],\n",
       "       [False],\n",
       "       [False],\n",
       "       [False],\n",
       "       [False],\n",
       "       [False],\n",
       "       [False],\n",
       "       [ True],\n",
       "       [False],\n",
       "       [ True],\n",
       "       [ True],\n",
       "       [False],\n",
       "       [False],\n",
       "       [ True],\n",
       "       [ True],\n",
       "       [False],\n",
       "       [False],\n",
       "       [False],\n",
       "       [ True],\n",
       "       [False],\n",
       "       [False],\n",
       "       [False],\n",
       "       [ True],\n",
       "       [False],\n",
       "       [False],\n",
       "       [False],\n",
       "       [False],\n",
       "       [False],\n",
       "       [False],\n",
       "       [False],\n",
       "       [ True],\n",
       "       [False],\n",
       "       [False],\n",
       "       [False],\n",
       "       [False],\n",
       "       [False],\n",
       "       [ True],\n",
       "       [False],\n",
       "       [False],\n",
       "       [False],\n",
       "       [ True],\n",
       "       [False],\n",
       "       [False],\n",
       "       [False],\n",
       "       [False],\n",
       "       [False],\n",
       "       [False],\n",
       "       [False],\n",
       "       [False],\n",
       "       [False],\n",
       "       [False],\n",
       "       [False],\n",
       "       [False],\n",
       "       [False],\n",
       "       [False],\n",
       "       [False],\n",
       "       [False],\n",
       "       [False],\n",
       "       [False],\n",
       "       [False],\n",
       "       [False],\n",
       "       [False],\n",
       "       [False],\n",
       "       [False],\n",
       "       [ True],\n",
       "       [False],\n",
       "       [False],\n",
       "       [ True],\n",
       "       [ True],\n",
       "       [False],\n",
       "       [ True],\n",
       "       [False],\n",
       "       [ True],\n",
       "       [False],\n",
       "       [ True],\n",
       "       [False],\n",
       "       [ True],\n",
       "       [False],\n",
       "       [False],\n",
       "       [False],\n",
       "       [False],\n",
       "       [False],\n",
       "       [False],\n",
       "       [False],\n",
       "       [False],\n",
       "       [False],\n",
       "       [False],\n",
       "       [False],\n",
       "       [False],\n",
       "       [False],\n",
       "       [False],\n",
       "       [False],\n",
       "       [ True],\n",
       "       [False],\n",
       "       [ True],\n",
       "       [False],\n",
       "       [False],\n",
       "       [ True],\n",
       "       [False],\n",
       "       [False],\n",
       "       [False],\n",
       "       [False],\n",
       "       [False],\n",
       "       [False],\n",
       "       [False],\n",
       "       [ True],\n",
       "       [False],\n",
       "       [ True],\n",
       "       [False],\n",
       "       [False],\n",
       "       [ True],\n",
       "       [False],\n",
       "       [False],\n",
       "       [False],\n",
       "       [False],\n",
       "       [False],\n",
       "       [ True],\n",
       "       [False],\n",
       "       [False],\n",
       "       [False],\n",
       "       [False],\n",
       "       [False],\n",
       "       [False],\n",
       "       [False],\n",
       "       [ True],\n",
       "       [False],\n",
       "       [ True],\n",
       "       [False],\n",
       "       [ True],\n",
       "       [False],\n",
       "       [False],\n",
       "       [False],\n",
       "       [False],\n",
       "       [False],\n",
       "       [False],\n",
       "       [ True],\n",
       "       [ True],\n",
       "       [False],\n",
       "       [False],\n",
       "       [False],\n",
       "       [False],\n",
       "       [False],\n",
       "       [False],\n",
       "       [False],\n",
       "       [False],\n",
       "       [False],\n",
       "       [False],\n",
       "       [False],\n",
       "       [False],\n",
       "       [ True],\n",
       "       [ True],\n",
       "       [False],\n",
       "       [False],\n",
       "       [ True],\n",
       "       [False],\n",
       "       [False],\n",
       "       [False],\n",
       "       [False],\n",
       "       [False],\n",
       "       [False],\n",
       "       [False],\n",
       "       [False],\n",
       "       [False],\n",
       "       [False],\n",
       "       [False],\n",
       "       [False],\n",
       "       [False],\n",
       "       [False],\n",
       "       [False],\n",
       "       [False],\n",
       "       [False],\n",
       "       [ True],\n",
       "       [False],\n",
       "       [False],\n",
       "       [ True],\n",
       "       [ True],\n",
       "       [False],\n",
       "       [False],\n",
       "       [False],\n",
       "       [False],\n",
       "       [False],\n",
       "       [False],\n",
       "       [ True],\n",
       "       [False],\n",
       "       [False],\n",
       "       [False],\n",
       "       [False],\n",
       "       [False],\n",
       "       [False]])"
      ]
     },
     "execution_count": 85,
     "metadata": {},
     "output_type": "execute_result"
    }
   ],
   "source": [
    "(latent_codes ==0.)"
   ]
  },
  {
   "cell_type": "code",
   "execution_count": null,
   "metadata": {},
   "outputs": [],
   "source": []
  }
 ],
 "metadata": {
  "kernelspec": {
   "display_name": "Python 2",
   "language": "python",
   "name": "python2"
  },
  "language_info": {
   "codemirror_mode": {
    "name": "ipython",
    "version": 2
   },
   "file_extension": ".py",
   "mimetype": "text/x-python",
   "name": "python",
   "nbconvert_exporter": "python",
   "pygments_lexer": "ipython2",
   "version": "2.7.12"
  }
 },
 "nbformat": 4,
 "nbformat_minor": 2
}
