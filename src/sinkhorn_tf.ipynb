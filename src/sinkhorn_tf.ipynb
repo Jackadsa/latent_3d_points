{
 "cells": [
  {
   "cell_type": "code",
   "execution_count": 1,
   "metadata": {},
   "outputs": [],
   "source": [
    "import tensorflow as tf\n",
    "import numpy as np\n",
    "import sys\n",
    "import ot as pot\n",
    "\n",
    "from tf_sinkhorn import sinkhorn_knopp_tf, ground_distance_tf"
   ]
  },
  {
   "cell_type": "code",
   "execution_count": null,
   "metadata": {},
   "outputs": [],
   "source": []
  },
  {
   "cell_type": "code",
   "execution_count": 2,
   "metadata": {},
   "outputs": [],
   "source": [
    "def sinkhorn_knopp_tf(a, b, M, reg, numItermax=1000, stopThr=1e-9, verbose=False, **kwargs):\n",
    "    K = tf.exp(-M/reg)\n",
    "    #u = tf.ones(a.shape)/tf.reduce_sum(a,axis=-1,keepdims=True)\n",
    "    u = tf.ones(a.shape)/tf.cast(tf.shape(a)[1],tf.float32)\n",
    "    v = tf.ones(b.shape)/tf.cast(tf.shape(b)[1],tf.float32)\n",
    "    uprev = tf.ones(a.shape)/tf.reduce_sum(a,axis=-1,keepdims=True)\n",
    "    vprev = tf.ones(b.shape)/tf.reduce_sum(b,axis=-1,keepdims=True)\n",
    "    Kp = tf.expand_dims(1/a,-1)*K\n",
    "    \n",
    "    err = tf.Variable(1.)\n",
    "    cpt = tf.Variable(0)\n",
    "    \n",
    "\n",
    "    \n",
    "    mycond = lambda err, cpt, Kp, u, v, uprev, vprev : tf.logical_and(tf.less(cpt, numItermax),tf.greater(err,stopThr))\n",
    "\n",
    "    def loopfn(err, cpt, Kp, u, v, uprev, vprev):\n",
    "        uprev = u\n",
    "        vprev = v\n",
    "        \n",
    "        KtransposeU = tf.squeeze(tf.matmul(K,tf.expand_dims(u,-1),transpose_a=True))\n",
    "        v = b / KtransposeU\n",
    "        u = 1/tf.squeeze(tf.matmul(Kp, tf.expand_dims(v,-1)))\n",
    "        \n",
    "        \n",
    "        error_cond = tf.reduce_any(tf.is_nan(u))\n",
    "        error_cond = tf.logical_or(error_cond, tf.reduce_any(tf.is_nan(v)))\n",
    "        error_cond = tf.logical_or(error_cond, tf.reduce_any(tf.is_inf(u)))\n",
    "        error_cond = tf.logical_or(error_cond, tf.reduce_any(tf.is_inf(v)))\n",
    "        error_cond = tf.logical_or(error_cond, tf.reduce_any(tf.equal(KtransposeU,0)))\n",
    "        \n",
    "        def error_function_true():\n",
    "            if verbose:\n",
    "                print(\"Reached machine precision\")\n",
    "            return tf.Variable(numItermax), uprev, vprev\n",
    "        \n",
    "        def error_function_false():\n",
    "            return tf.Variable(numItermax), u, v\n",
    "        \n",
    "        cpt, u, v = tf.cond(error_cond,error_function_true,error_function_false)\n",
    "        \n",
    "        \n",
    "        return err, cpt, Kp, u, v, uprev, vprev\n",
    "    \n",
    "    this = tf.while_loop(mycond, loopfn,[err, cpt, Kp, u, v, uprev, vprev])\n",
    "\n",
    "    u = this[3]\n",
    "    v = this[4]\n",
    "    \n",
    "    return tf.expand_dims(u,-1)*K*tf.expand_dims(v,-2)"
   ]
  },
  {
   "cell_type": "code",
   "execution_count": 123,
   "metadata": {},
   "outputs": [],
   "source": [
    "def ground_distance_tf(pointsa,pointsb,return_gradients=False,clip=True,epsilon=1e-2):\n",
    "    \n",
    "    a_dim = pointsa.shape[-2]\n",
    "    b_dim = pointsb.shape[-2]\n",
    "    \n",
    "    amat = tf.tile(tf.expand_dims(pointsa,2),[1,1,b_dim,1])\n",
    "    bmat = tf.tile(tf.expand_dims(pointsb,1),[1,a_dim,1,1])\n",
    "    \n",
    "    diffmat = bmat - amat\n",
    "    dist = tf.norm(diffmat,axis=3)\n",
    "\n",
    "    zerogradients = tf.fill(amat.shape,0.)\n",
    "    if clip:\n",
    "        clipentries = tf.tile(tf.greater(epsilon, tf.expand_dims(dist,-1)),[1,1,1,2])\n",
    "        diffmat = tf.where(clipentries,zerogradients,diffmat)\n",
    "        gradients = tf.where(clipentries, zerogradients, diffmat/tf.expand_dims(dist,-1))\n",
    "    elif return_gradients:\n",
    "        gradients = diffmat / tf.expand_dims(dist,-1)\n",
    "\n",
    "    if return_gradients:\n",
    "        return tf.norm(diffmat,axis=3), gradients\n",
    "    else:\n",
    "        return tf.norm(bmat - amat,axis=3)"
   ]
  },
  {
   "cell_type": "code",
   "execution_count": 126,
   "metadata": {},
   "outputs": [
    {
     "name": "stdout",
     "output_type": "stream",
     "text": [
      "[[0.2828427 0.2828427 0.2828427]\n",
      " [0.2828427 0.2828427 0.2828427]\n",
      " [0.2828427 0.2828427 0.2828427]\n",
      " [0.2828427 0.2828427 0.2828427]]\n",
      "[[[0.70710677 0.70710677]\n",
      "  [0.70710677 0.70710677]\n",
      "  [0.70710677 0.70710677]]\n",
      "\n",
      " [[0.70710677 0.70710677]\n",
      "  [0.70710677 0.70710677]\n",
      "  [0.70710677 0.70710677]]\n",
      "\n",
      " [[0.70710677 0.70710677]\n",
      "  [0.70710677 0.70710677]\n",
      "  [0.70710677 0.70710677]]\n",
      "\n",
      " [[0.70710677 0.70710677]\n",
      "  [0.70710677 0.70710677]\n",
      "  [0.70710677 0.70710677]]]\n"
     ]
    }
   ],
   "source": [
    "aval = np.ones((10,4,2))*0.8\n",
    "#aval[:,:,0] = 0\n",
    "bval = np.ones((10,3,2))\n",
    "\n",
    "with tf.Session() as sess:\n",
    "    a = tf.placeholder(tf.float32, shape=(10,4,2))\n",
    "    b = tf.placeholder(tf.float32, shape=(10,3,2))\n",
    "    result = sess.run(ground_distance_tf(a,b,return_gradients=True),feed_dict={a:aval,b:bval})\n",
    "print(result[0][0])\n",
    "print(result[1][0])\n"
   ]
  },
  {
   "cell_type": "code",
   "execution_count": 131,
   "metadata": {},
   "outputs": [],
   "source": [
    "aweights = tf.placeholder(tf.float32, shape=(10,4))\n",
    "bweights = tf.placeholder(tf.float32, shape=(10,3))\n",
    "\n",
    "dist, grads = ground_distance_tf(a,b,return_gradients=True)\n",
    "match = sinkhorn_knopp_tf(aweights,bweights,dist,0.1)\n",
    "tf.matmul"
   ]
  },
  {
   "cell_type": "code",
   "execution_count": 139,
   "metadata": {},
   "outputs": [
    {
     "data": {
      "text/plain": [
       "<tf.Tensor 'norm_119/Squeeze:0' shape=(10, 4, 3) dtype=float32>"
      ]
     },
     "execution_count": 139,
     "metadata": {},
     "output_type": "execute_result"
    }
   ],
   "source": [
    "dist"
   ]
  },
  {
   "cell_type": "code",
   "execution_count": 135,
   "metadata": {},
   "outputs": [
    {
     "data": {
      "text/plain": [
       "<tf.Tensor 'transpose_1:0' shape=(10, 2, 4, 3) dtype=float32>"
      ]
     },
     "execution_count": 135,
     "metadata": {},
     "output_type": "execute_result"
    }
   ],
   "source": [
    "tf.transpose(grads,[0,3,1,2])"
   ]
  },
  {
   "cell_type": "code",
   "execution_count": 133,
   "metadata": {},
   "outputs": [
    {
     "data": {
      "text/plain": [
       "<tf.Tensor 'norm_119/Squeeze:0' shape=(10, 4, 3) dtype=float32>"
      ]
     },
     "execution_count": 133,
     "metadata": {},
     "output_type": "execute_result"
    }
   ],
   "source": [
    "dist"
   ]
  },
  {
   "cell_type": "code",
   "execution_count": 58,
   "metadata": {},
   "outputs": [
    {
     "data": {
      "text/plain": [
       "TensorShape([Dimension(10), Dimension(4)])"
      ]
     },
     "execution_count": 58,
     "metadata": {},
     "output_type": "execute_result"
    }
   ],
   "source": [
    "a.shape"
   ]
  },
  {
   "cell_type": "code",
   "execution_count": 2,
   "metadata": {},
   "outputs": [
    {
     "data": {
      "text/plain": [
       "[None, 100]"
      ]
     },
     "execution_count": 2,
     "metadata": {},
     "output_type": "execute_result"
    }
   ],
   "source": [
    "([None] + [100,1])[:-1]"
   ]
  },
  {
   "cell_type": "code",
   "execution_count": 74,
   "metadata": {},
   "outputs": [
    {
     "ename": "TypeError",
     "evalue": "'Dimension' object is not iterable",
     "output_type": "error",
     "traceback": [
      "\u001b[0;31m\u001b[0m",
      "\u001b[0;31mTypeError\u001b[0mTraceback (most recent call last)",
      "\u001b[0;32m<ipython-input-74-9276594c4e70>\u001b[0m in \u001b[0;36m<module>\u001b[0;34m()\u001b[0m\n\u001b[0;32m----> 1\u001b[0;31m \u001b[0mtf\u001b[0m\u001b[0;34m.\u001b[0m\u001b[0mconstant\u001b[0m\u001b[0;34m(\u001b[0m\u001b[0;36m1\u001b[0m\u001b[0;34m,\u001b[0m\u001b[0mshape\u001b[0m\u001b[0;34m=\u001b[0m\u001b[0;34m(\u001b[0m\u001b[0ma\u001b[0m\u001b[0;34m.\u001b[0m\u001b[0mshape\u001b[0m\u001b[0;34m[\u001b[0m\u001b[0;36m0\u001b[0m\u001b[0;34m]\u001b[0m\u001b[0;34m)\u001b[0m\u001b[0;34m)\u001b[0m\u001b[0;34m\u001b[0m\u001b[0m\n\u001b[0m",
      "\u001b[0;32m/usr/local/lib/python2.7/dist-packages/tensorflow/python/framework/constant_op.pyc\u001b[0m in \u001b[0;36mconstant\u001b[0;34m(value, dtype, shape, name, verify_shape)\u001b[0m\n\u001b[1;32m    212\u001b[0m   tensor_value.tensor.CopyFrom(\n\u001b[1;32m    213\u001b[0m       tensor_util.make_tensor_proto(\n\u001b[0;32m--> 214\u001b[0;31m           value, dtype=dtype, shape=shape, verify_shape=verify_shape))\n\u001b[0m\u001b[1;32m    215\u001b[0m   \u001b[0mdtype_value\u001b[0m \u001b[0;34m=\u001b[0m \u001b[0mattr_value_pb2\u001b[0m\u001b[0;34m.\u001b[0m\u001b[0mAttrValue\u001b[0m\u001b[0;34m(\u001b[0m\u001b[0mtype\u001b[0m\u001b[0;34m=\u001b[0m\u001b[0mtensor_value\u001b[0m\u001b[0;34m.\u001b[0m\u001b[0mtensor\u001b[0m\u001b[0;34m.\u001b[0m\u001b[0mdtype\u001b[0m\u001b[0;34m)\u001b[0m\u001b[0;34m\u001b[0m\u001b[0m\n\u001b[1;32m    216\u001b[0m   const_tensor = g.create_op(\n",
      "\u001b[0;32m/usr/local/lib/python2.7/dist-packages/tensorflow/python/framework/tensor_util.pyc\u001b[0m in \u001b[0;36mmake_tensor_proto\u001b[0;34m(values, dtype, shape, verify_shape)\u001b[0m\n\u001b[1;32m    474\u001b[0m     \u001b[0mshape_size\u001b[0m \u001b[0;34m=\u001b[0m \u001b[0mnparray\u001b[0m\u001b[0;34m.\u001b[0m\u001b[0msize\u001b[0m\u001b[0;34m\u001b[0m\u001b[0m\n\u001b[1;32m    475\u001b[0m   \u001b[0;32melse\u001b[0m\u001b[0;34m:\u001b[0m\u001b[0;34m\u001b[0m\u001b[0m\n\u001b[0;32m--> 476\u001b[0;31m     \u001b[0mshape\u001b[0m \u001b[0;34m=\u001b[0m \u001b[0;34m[\u001b[0m\u001b[0mint\u001b[0m\u001b[0;34m(\u001b[0m\u001b[0mdim\u001b[0m\u001b[0;34m)\u001b[0m \u001b[0;32mfor\u001b[0m \u001b[0mdim\u001b[0m \u001b[0;32min\u001b[0m \u001b[0mshape\u001b[0m\u001b[0;34m]\u001b[0m\u001b[0;34m\u001b[0m\u001b[0m\n\u001b[0m\u001b[1;32m    477\u001b[0m     \u001b[0mshape_size\u001b[0m \u001b[0;34m=\u001b[0m \u001b[0mnp\u001b[0m\u001b[0;34m.\u001b[0m\u001b[0mprod\u001b[0m\u001b[0;34m(\u001b[0m\u001b[0mshape\u001b[0m\u001b[0;34m,\u001b[0m \u001b[0mdtype\u001b[0m\u001b[0;34m=\u001b[0m\u001b[0mnp\u001b[0m\u001b[0;34m.\u001b[0m\u001b[0mint64\u001b[0m\u001b[0;34m)\u001b[0m\u001b[0;34m\u001b[0m\u001b[0m\n\u001b[1;32m    478\u001b[0m     \u001b[0mis_same_size\u001b[0m \u001b[0;34m=\u001b[0m \u001b[0mshape_size\u001b[0m \u001b[0;34m==\u001b[0m \u001b[0mnparray\u001b[0m\u001b[0;34m.\u001b[0m\u001b[0msize\u001b[0m\u001b[0;34m\u001b[0m\u001b[0m\n",
      "\u001b[0;31mTypeError\u001b[0m: 'Dimension' object is not iterable"
     ]
    }
   ],
   "source": [
    "tf.constant(1,shape=(a.shape[0]))"
   ]
  },
  {
   "cell_type": "code",
   "execution_count": 9,
   "metadata": {},
   "outputs": [],
   "source": [
    "aval = np.ones((10,4,2))/4\n",
    "bval = np.ones((10,3,2))/3"
   ]
  },
  {
   "cell_type": "code",
   "execution_count": 12,
   "metadata": {},
   "outputs": [
    {
     "name": "stdout",
     "output_type": "stream",
     "text": [
      "Reached machine precision\n",
      "[[[7.63723180e-02 1.26231074e-01 4.73966151e-02]\n",
      "  [2.97494363e-02 7.21025467e-02 1.48148015e-01]\n",
      "  [9.12804157e-02 1.51159942e-01 7.55964732e-03]\n",
      "  [1.84667572e-01 5.87658361e-02 6.56660274e-03]]\n",
      "\n",
      " [[6.57330547e-03 3.74736525e-02 2.05953062e-01]\n",
      "  [4.06882973e-05 2.49647543e-01 3.11787007e-04]\n",
      "  [2.23503739e-04 2.17766151e-01 3.20103467e-02]\n",
      "  [1.34169832e-01 1.15114786e-02 1.04318686e-01]]\n",
      "\n",
      " [[6.24328069e-02 6.01601265e-02 1.27407059e-01]\n",
      "  [4.94208466e-03 2.41968453e-01 3.08947102e-03]\n",
      "  [2.40276188e-01 9.66886710e-03 5.49369943e-05]\n",
      "  [1.98334143e-01 5.08492328e-02 8.16620421e-04]]\n",
      "\n",
      " [[8.30035657e-02 1.63842797e-01 3.15364660e-03]\n",
      "  [5.62989386e-04 1.00513995e-01 1.48923010e-01]\n",
      "  [7.02500492e-02 4.50111367e-02 1.34738803e-01]\n",
      "  [1.34918287e-01 1.27353165e-02 1.02346413e-01]]\n",
      "\n",
      " [[3.72903980e-02 2.07487777e-01 5.22180554e-03]\n",
      "  [3.73499431e-02 1.65102929e-01 4.75471132e-02]\n",
      "  [1.11016199e-01 3.85640934e-02 1.00419715e-01]\n",
      "  [1.84401567e-03 5.24154678e-02 1.95740506e-01]]\n",
      "\n",
      " [[1.13212895e-02 1.57589763e-01 8.10889527e-02]\n",
      "  [1.60360034e-03 1.31095216e-01 1.17301166e-01]\n",
      "  [1.96570963e-01 5.32018058e-02 2.27223311e-04]\n",
      "  [1.45843074e-01 2.16414081e-03 1.01992801e-01]]\n",
      "\n",
      " [[3.15579586e-04 2.57282006e-03 2.47111589e-01]\n",
      "  [2.26958164e-05 2.49898270e-01 7.90328340e-05]\n",
      "  [6.04744516e-02 4.96450765e-03 1.84561029e-01]\n",
      "  [2.49009937e-01 7.72693165e-05 9.12792515e-04]]\n",
      "\n",
      " [[1.30258337e-01 1.17816322e-01 1.92534178e-03]\n",
      "  [2.10678717e-03 1.04695996e-02 2.37423599e-01]\n",
      "  [9.81072802e-03 9.33880955e-02 1.46801189e-01]\n",
      "  [1.19539775e-01 1.16590098e-01 1.38701610e-02]]\n",
      "\n",
      " [[4.93570566e-02 8.51542801e-02 1.15488663e-01]\n",
      "  [1.07934929e-01 1.39031366e-01 3.03369784e-03]\n",
      "  [8.37789327e-02 8.46099257e-02 8.16111267e-02]\n",
      "  [7.71459192e-02 4.37571667e-02 1.29096895e-01]]\n",
      "\n",
      " [[7.67619163e-02 9.04184952e-02 8.28196034e-02]\n",
      "  [3.72340932e-04 2.19415903e-01 3.02117374e-02]\n",
      "  [2.26969787e-04 1.17068281e-02 2.38066226e-01]\n",
      "  [2.33420178e-01 1.25350794e-04 1.64544694e-02]]]\n",
      "[[0.25       0.25       0.25       0.25000003]\n",
      " [0.25000003 0.25000003 0.25       0.25      ]\n",
      " [0.25       0.25       0.25       0.24999999]\n",
      " [0.25       0.25       0.24999999 0.25000003]\n",
      " [0.24999997 0.24999999 0.25       0.24999999]\n",
      " [0.25       0.24999999 0.25       0.25      ]\n",
      " [0.24999999 0.25       0.24999999 0.24999999]\n",
      " [0.25       0.24999999 0.25       0.25000003]\n",
      " [0.25       0.25       0.24999999 0.24999999]\n",
      " [0.25000003 0.24999997 0.25000003 0.25      ]]\n",
      "[[0.38206977 0.4082594  0.20967087]\n",
      " [0.14100733 0.51639885 0.34259388]\n",
      " [0.5059852  0.36264667 0.13136809]\n",
      " [0.2887349  0.32210323 0.38916188]\n",
      " [0.18750057 0.46357027 0.34892914]\n",
      " [0.35533893 0.3440509  0.30061015]\n",
      " [0.30982268 0.25751287 0.43266445]\n",
      " [0.26171562 0.3382641  0.40002027]\n",
      " [0.31821683 0.35255274 0.32923037]\n",
      " [0.31078142 0.32166657 0.36755204]]\n"
     ]
    }
   ],
   "source": [
    "aval = np.ones((10,4))/4\n",
    "bval = np.ones((10,3))/3\n",
    "Mval = np.random.rand(10,4,3)\n",
    "with tf.Session() as sess:\n",
    "    \n",
    "    a = tf.placeholder(tf.float32, shape=(10,4))\n",
    "    b = tf.placeholder(tf.float32, shape=(10,3))\n",
    "    M = tf.placeholder(tf.float32, shape=(10,4,3))\n",
    "    reg = tf.placeholder(tf.float32, shape=())\n",
    "    mysink = sinkhorn_knopp_tf(a,b,M,reg,verbose=True)\n",
    "\n",
    "    sess.run(tf.global_variables_initializer())\n",
    "    sess.run(tf.local_variables_initializer())\n",
    "    this = sess.run(mysink,feed_dict={a:aval,b:bval,M:Mval,reg:0.1})\n",
    "    print(this)\n",
    "    print(np.sum(this,-1))\n",
    "    print(np.sum(this,-2))"
   ]
  },
  {
   "cell_type": "code",
   "execution_count": 183,
   "metadata": {},
   "outputs": [
    {
     "name": "stdout",
     "output_type": "stream",
     "text": [
      "[[1.16736461e-03 2.13563522e-01 3.52691129e-02]\n",
      " [2.76347778e-03 1.70987247e-02 2.30137798e-01]\n",
      " [6.26421689e-02 1.09084370e-01 7.82734609e-02]\n",
      " [2.48035199e-01 1.91196078e-03 5.28406159e-05]]\n",
      "[0.25 0.25 0.25 0.25]\n",
      "[0.31460821 0.34165858 0.34373321]\n"
     ]
    }
   ],
   "source": [
    "plan = ot.sinkhorn(aval[0],bval[0],Mval[0],0.1,numItermax=10)\n",
    "print(plan)\n",
    "print(np.sum(plan, axis=1))\n",
    "print(np.sum(plan, axis=0))"
   ]
  },
  {
   "cell_type": "code",
   "execution_count": null,
   "metadata": {},
   "outputs": [],
   "source": []
  },
  {
   "cell_type": "code",
   "execution_count": null,
   "metadata": {},
   "outputs": [],
   "source": [
    "this"
   ]
  },
  {
   "cell_type": "code",
   "execution_count": 93,
   "metadata": {},
   "outputs": [
    {
     "data": {
      "text/plain": [
       "(10, 4, 3)"
      ]
     },
     "execution_count": 93,
     "metadata": {},
     "output_type": "execute_result"
    }
   ],
   "source": [
    "this.shape"
   ]
  },
  {
   "cell_type": "code",
   "execution_count": 36,
   "metadata": {},
   "outputs": [
    {
     "data": {
      "text/plain": [
       "array([[0.73399129, 0.8018214 , 0.10227172],\n",
       "       [0.43301417, 0.62922426, 0.25735927],\n",
       "       [0.05989077, 0.96986245, 0.37620816]])"
      ]
     },
     "execution_count": 36,
     "metadata": {},
     "output_type": "execute_result"
    }
   ],
   "source": [
    "np.random.rand(3,3)"
   ]
  },
  {
   "cell_type": "code",
   "execution_count": null,
   "metadata": {},
   "outputs": [],
   "source": []
  }
 ],
 "metadata": {
  "kernelspec": {
   "display_name": "Python 2",
   "language": "python",
   "name": "python2"
  },
  "language_info": {
   "codemirror_mode": {
    "name": "ipython",
    "version": 2
   },
   "file_extension": ".py",
   "mimetype": "text/x-python",
   "name": "python",
   "nbconvert_exporter": "python",
   "pygments_lexer": "ipython2",
   "version": "2.7.12"
  }
 },
 "nbformat": 4,
 "nbformat_minor": 2
}
